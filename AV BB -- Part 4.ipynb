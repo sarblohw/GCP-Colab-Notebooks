{
  "cells":[
    {
      "cell_type":"markdown",
      "source":[
        "#### Dictionaries"
      ],
      "metadata":{
        
      }
    },
    {
      "cell_type":"code",
      "source":[
        "# key value pairs\n",
        "# unordered - much like a set (it actually is with key value pairs)\n",
        "# add a single key value pair using indexing method\n",
        "# update function to add multiple key value pairs - can pass a dict OR a list with tuples of key values pairs\n",
        "# del, pop, popitem -- to remove elements from dict"
      ],
      "execution_count":0,
      "outputs":[
        
      ],
      "metadata":{
        
      }
    },
    {
      "cell_type":"markdown",
      "source":[
        "#### String Manipulation"
      ],
      "metadata":{
        
      }
    },
    {
      "cell_type":"code",
      "source":[
        "# case sensitive property of python\n",
        "# len\n",
        "# indexing to access elements of a string\n",
        "# [::-1] <- reversing string\n",
        "# count('charac')\n",
        "# find('char or substring') vs index('char or substring')\n",
        "# if character or substring doesnt exist in the parent string, find will return '-1' while index will return an error\n",
        "# endswith, startswith\n",
        "# upper, lower, capitalize\n",
        "# isupper, islower\n",
        "# isnumberic, isalpha, isalnum\n",
        "# is aplha will return False if there are spaces in the string\n",
        "# replace\n",
        "# split <- returns a list of splitted substrings\n",
        "# strip, rstrip, lstrip - to remove trailing or prefixed whitespaces"
      ],
      "execution_count":0,
      "outputs":[
        
      ],
      "metadata":{
        
      }
    },
    {
      "cell_type":"markdown",
      "source":[
        "#### Functions"
      ],
      "metadata":{
        
      }
    },
    {
      "cell_type":"code",
      "source":[
        "# reusability\n",
        "# def - define functions\n",
        "# return statement\n",
        "# built in, user defined, lambda, recursion <- Types of functions"
      ],
      "execution_count":0,
      "outputs":[
        
      ],
      "metadata":{
        
      }
    },
    {
      "cell_type":"code",
      "source":[
        "# return statement -- assign the output of a function to a variable for further usability"
      ],
      "execution_count":0,
      "outputs":[
        
      ],
      "metadata":{
        
      }
    },
    {
      "cell_type":"code",
      "source":[
        "def welcome(name):\n",
        "    print(f'Welcome to the python course, {name}.')"
      ],
      "execution_count":0,
      "outputs":[
        
      ],
      "metadata":{
        
      }
    },
    {
      "cell_type":"code",
      "source":[
        "welcome('Deepi')"
      ],
      "execution_count":0,
      "outputs":[
        
      ],
      "metadata":{
        
      }
    },
    {
      "cell_type":"code",
      "source":[
        "welcome('Sam')"
      ],
      "execution_count":0,
      "outputs":[
        
      ],
      "metadata":{
        
      }
    },
    {
      "cell_type":"code",
      "source":[
        "# default values of parameters\n",
        "\n",
        "def welcome(name = 'Sumi'):\n",
        "    print('Welcome to the python course, {}.'.format(name))"
      ],
      "execution_count":0,
      "outputs":[
        
      ],
      "metadata":{
        
      }
    },
    {
      "cell_type":"code",
      "source":[
        "welcome('D')"
      ],
      "execution_count":0,
      "outputs":[
        
      ],
      "metadata":{
        
      }
    },
    {
      "cell_type":"code",
      "source":[
        "welcome()"
      ],
      "execution_count":0,
      "outputs":[
        
      ],
      "metadata":{
        
      }
    },
    {
      "cell_type":"code",
      "source":[
        "# positional arguements, keyword arguements\n",
        "# all positional arguements should preceed keyword arguements"
      ],
      "execution_count":0,
      "outputs":[
        
      ],
      "metadata":{
        
      }
    },
    {
      "cell_type":"code",
      "source":[
        "# variable length arguements\n",
        "# * <- important character to declare variable number of arguements (args word is not imp)\n",
        "# python stores all arguements after the * sign as a tuple\n",
        "\n",
        "def my_func(*args):\n",
        "    for i in args:\n",
        "        print(i)"
      ],
      "execution_count":0,
      "outputs":[
        
      ],
      "metadata":{
        
      }
    },
    {
      "cell_type":"code",
      "source":[
        "my_func(1,2)"
      ],
      "execution_count":0,
      "outputs":[
        
      ],
      "metadata":{
        
      }
    },
    {
      "cell_type":"code",
      "source":[
        "my_func(1,2,3,4,5)"
      ],
      "execution_count":0,
      "outputs":[
        
      ],
      "metadata":{
        
      }
    },
    {
      "cell_type":"code",
      "source":[
        "def my_func_2(*nums):\n",
        "    for i in nums:\n",
        "        print(i)"
      ],
      "execution_count":0,
      "outputs":[
        
      ],
      "metadata":{
        
      }
    },
    {
      "cell_type":"code",
      "source":[
        "my_func_2(1,2,3,5)"
      ],
      "execution_count":0,
      "outputs":[
        
      ],
      "metadata":{
        
      }
    },
    {
      "cell_type":"code",
      "source":[
        "# for unknown number of keyword arguements, use ** to define the same\n",
        "# here python stores the keyword arguements in the form of a dict for further operations\n",
        "\n",
        "def test(**kwargs):\n",
        "    for i, y in kwargs.items():\n",
        "        print(i, y)"
      ],
      "execution_count":0,
      "outputs":[
        
      ],
      "metadata":{
        
      }
    },
    {
      "cell_type":"code",
      "source":[
        "test(a=1, b=2, c=3)"
      ],
      "execution_count":0,
      "outputs":[
        
      ],
      "metadata":{
        
      }
    },
    {
      "cell_type":"code",
      "source":[
        "# global variable vs local variable\n",
        "# Scope - stands for the area of influence of a variable\n",
        "# global keyword can help change the scope of variables in a function\n",
        "\n",
        "var_outside_func = 10\n",
        "\n",
        "def my_func():\n",
        "    var_inside_func = 100\n",
        "    print(var_inside_func)\n",
        "\n",
        "my_func()\n",
        "print(var_outside_func)"
      ],
      "execution_count":5,
      "outputs":[
        {
          "name":"stdout",
          "text":[
            "100\n",
            "10\n"
          ],
          "output_type":"stream"
        }
      ],
      "metadata":{
        
      }
    },
    {
      "cell_type":"code",
      "source":[
        "name = 'Noor'\n",
        "\n",
        "def name_print():\n",
        "    name = 'Sam'\n",
        "    return name\n",
        "\n",
        "print(name)\n",
        "print(name_print())"
      ],
      "execution_count":6,
      "outputs":[
        {
          "name":"stdout",
          "text":[
            "Noor\n",
            "Sam\n"
          ],
          "output_type":"stream"
        }
      ],
      "metadata":{
        
      }
    },
    {
      "cell_type":"code",
      "source":[
        "name = 'Noor'\n",
        "\n",
        "def name_print():\n",
        "    global name\n",
        "    name = 'Sam'\n",
        "    return name\n",
        "\n",
        "name_print()\n",
        "print(name)\n",
        "print(name_print())"
      ],
      "execution_count":1,
      "outputs":[
        {
          "name":"stdout",
          "text":[
            "Sam\n",
            "Sam\n"
          ],
          "output_type":"stream"
        }
      ],
      "metadata":{
        
      }
    }
  ],
  "metadata":{
    
  },
  "nbformat":4,
  "nbformat_minor":0
}