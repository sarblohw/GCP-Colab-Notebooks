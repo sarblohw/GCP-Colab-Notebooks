{
  "cells":[
    {
      "cell_type":"code",
      "source":[
        "# scikit-learn\n",
        "import sklearn"
      ],
      "execution_count":13,
      "outputs":[
        
      ],
      "metadata":{
        
      }
    },
    {
      "cell_type":"code",
      "source":[
        "sklearn.__version__"
      ],
      "execution_count":15,
      "outputs":[
        {
          "data":{
            "text\/plain":[
              "'0.24.1'"
            ]
          },
          "metadata":{
            
          },
          "output_type":"display_data"
        }
      ],
      "metadata":{
        
      }
    },
    {
      "cell_type":"code",
      "source":[
        "import pandas as pd"
      ],
      "execution_count":16,
      "outputs":[
        
      ],
      "metadata":{
        
      }
    },
    {
      "cell_type":"code",
      "source":[
        "data = pd.read_csv('big_mart_sales.csv')"
      ],
      "execution_count":17,
      "outputs":[
        
      ],
      "metadata":{
        
      }
    },
    {
      "cell_type":"code",
      "source":[
        "data.head(3)"
      ],
      "execution_count":18,
      "outputs":[
        {
          "data":{
            "text\/html":[
              "<div>\n",
              "<style scoped>\n",
              "    .dataframe tbody tr th:only-of-type {\n",
              "        vertical-align: middle;\n",
              "    }\n",
              "\n",
              "    .dataframe tbody tr th {\n",
              "        vertical-align: top;\n",
              "    }\n",
              "\n",
              "    .dataframe thead th {\n",
              "        text-align: right;\n",
              "    }\n",
              "<\/style>\n",
              "<table border=\"1\" class=\"dataframe\">\n",
              "  <thead>\n",
              "    <tr style=\"text-align: right;\">\n",
              "      <th><\/th>\n",
              "      <th>Item_Identifier<\/th>\n",
              "      <th>Item_Weight<\/th>\n",
              "      <th>Item_Fat_Content<\/th>\n",
              "      <th>Item_Visibility<\/th>\n",
              "      <th>Item_Type<\/th>\n",
              "      <th>Item_MRP<\/th>\n",
              "      <th>Outlet_Identifier<\/th>\n",
              "      <th>Outlet_Establishment_Year<\/th>\n",
              "      <th>Outlet_Size<\/th>\n",
              "      <th>Outlet_Location_Type<\/th>\n",
              "      <th>Outlet_Type<\/th>\n",
              "      <th>Item_Outlet_Sales<\/th>\n",
              "    <\/tr>\n",
              "  <\/thead>\n",
              "  <tbody>\n",
              "    <tr>\n",
              "      <th>0<\/th>\n",
              "      <td>FDA15<\/td>\n",
              "      <td>9.30<\/td>\n",
              "      <td>Low Fat<\/td>\n",
              "      <td>0.016047<\/td>\n",
              "      <td>Dairy<\/td>\n",
              "      <td>249.8092<\/td>\n",
              "      <td>OUT049<\/td>\n",
              "      <td>1999<\/td>\n",
              "      <td>Medium<\/td>\n",
              "      <td>Tier 1<\/td>\n",
              "      <td>Supermarket Type1<\/td>\n",
              "      <td>3735.1380<\/td>\n",
              "    <\/tr>\n",
              "    <tr>\n",
              "      <th>1<\/th>\n",
              "      <td>DRC01<\/td>\n",
              "      <td>5.92<\/td>\n",
              "      <td>Regular<\/td>\n",
              "      <td>0.019278<\/td>\n",
              "      <td>Soft Drinks<\/td>\n",
              "      <td>48.2692<\/td>\n",
              "      <td>OUT018<\/td>\n",
              "      <td>2009<\/td>\n",
              "      <td>Medium<\/td>\n",
              "      <td>Tier 3<\/td>\n",
              "      <td>Supermarket Type2<\/td>\n",
              "      <td>443.4228<\/td>\n",
              "    <\/tr>\n",
              "    <tr>\n",
              "      <th>2<\/th>\n",
              "      <td>FDN15<\/td>\n",
              "      <td>17.50<\/td>\n",
              "      <td>Low Fat<\/td>\n",
              "      <td>0.016760<\/td>\n",
              "      <td>Meat<\/td>\n",
              "      <td>141.6180<\/td>\n",
              "      <td>OUT049<\/td>\n",
              "      <td>1999<\/td>\n",
              "      <td>Medium<\/td>\n",
              "      <td>Tier 1<\/td>\n",
              "      <td>Supermarket Type1<\/td>\n",
              "      <td>2097.2700<\/td>\n",
              "    <\/tr>\n",
              "  <\/tbody>\n",
              "<\/table>\n",
              "<\/div>"
            ]
          },
          "metadata":{
            
          },
          "output_type":"display_data"
        }
      ],
      "metadata":{
        
      }
    },
    {
      "cell_type":"code",
      "source":[
        "data.isnull().sum()"
      ],
      "execution_count":19,
      "outputs":[
        {
          "data":{
            "text\/plain":[
              "Item_Identifier                 0\n",
              "Item_Weight                  1463\n",
              "Item_Fat_Content                0\n",
              "Item_Visibility                 0\n",
              "Item_Type                       0\n",
              "Item_MRP                        0\n",
              "Outlet_Identifier               0\n",
              "Outlet_Establishment_Year       0\n",
              "Outlet_Size                  2410\n",
              "Outlet_Location_Type            0\n",
              "Outlet_Type                     0\n",
              "Item_Outlet_Sales               0\n",
              "dtype: int64"
            ]
          },
          "metadata":{
            
          },
          "output_type":"display_data"
        }
      ],
      "metadata":{
        
      }
    },
    {
      "cell_type":"code",
      "source":[
        "from sklearn.impute import SimpleImputer"
      ],
      "execution_count":20,
      "outputs":[
        
      ],
      "metadata":{
        
      }
    },
    {
      "cell_type":"code",
      "source":[
        "#imputing weight to null values by mean and max frequency on size"
      ],
      "execution_count":21,
      "outputs":[
        
      ],
      "metadata":{
        
      }
    },
    {
      "cell_type":"code",
      "source":[
        "imputr_weight = SimpleImputer(strategy='mean')\n",
        "imputr_size = SimpleImputer(strategy = 'most_frequent')"
      ],
      "execution_count":22,
      "outputs":[
        
      ],
      "metadata":{
        
      }
    },
    {
      "cell_type":"code",
      "source":[
        "imputr_weight.fit(data[['Item_Weight']])"
      ],
      "execution_count":24,
      "outputs":[
        {
          "data":{
            "text\/plain":[
              "SimpleImputer()"
            ]
          },
          "metadata":{
            
          },
          "output_type":"display_data"
        }
      ],
      "metadata":{
        
      }
    },
    {
      "cell_type":"code",
      "source":[
        "# further research needed on sklearn and statsmodels"
      ],
      "execution_count":1,
      "outputs":[
        
      ],
      "metadata":{
        
      }
    },
    {
      "cell_type":"code",
      "source":[
        
      ],
      "execution_count":0,
      "outputs":[
        
      ],
      "metadata":{
        
      }
    }
  ],
  "metadata":{
    
  },
  "nbformat":4,
  "nbformat_minor":0
}