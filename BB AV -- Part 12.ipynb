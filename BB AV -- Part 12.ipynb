{
  "cells":[
    {
      "cell_type":"markdown",
      "source":[
        "### Module: Reading files with Python"
      ],
      "metadata":{
        
      }
    },
    {
      "cell_type":"markdown",
      "source":[
        "##### CSV"
      ],
      "metadata":{
        
      }
    },
    {
      "cell_type":"code",
      "source":[
        "import pandas as pd\n",
        "pd.__version__\n",
        "pd.options.display.max_columns = 20"
      ],
      "execution_count":4,
      "outputs":[
        
      ],
      "metadata":{
        
      }
    },
    {
      "cell_type":"code",
      "source":[
        "data = pd.read_csv('big_mart_sales.csv')"
      ],
      "execution_count":5,
      "outputs":[
        
      ],
      "metadata":{
        
      }
    },
    {
      "cell_type":"code",
      "source":[
        "data.shape"
      ],
      "execution_count":6,
      "outputs":[
        {
          "data":{
            "text\/plain":[
              "(8523, 12)"
            ]
          },
          "metadata":{
            
          },
          "output_type":"display_data"
        }
      ],
      "metadata":{
        
      }
    },
    {
      "cell_type":"code",
      "source":[
        "data.head()"
      ],
      "execution_count":7,
      "outputs":[
        {
          "data":{
            "text\/html":[
              "<div>\n",
              "<style scoped>\n",
              "    .dataframe tbody tr th:only-of-type {\n",
              "        vertical-align: middle;\n",
              "    }\n",
              "\n",
              "    .dataframe tbody tr th {\n",
              "        vertical-align: top;\n",
              "    }\n",
              "\n",
              "    .dataframe thead th {\n",
              "        text-align: right;\n",
              "    }\n",
              "<\/style>\n",
              "<table border=\"1\" class=\"dataframe\">\n",
              "  <thead>\n",
              "    <tr style=\"text-align: right;\">\n",
              "      <th><\/th>\n",
              "      <th>Item_Identifier<\/th>\n",
              "      <th>Item_Weight<\/th>\n",
              "      <th>Item_Fat_Content<\/th>\n",
              "      <th>Item_Visibility<\/th>\n",
              "      <th>Item_Type<\/th>\n",
              "      <th>Item_MRP<\/th>\n",
              "      <th>Outlet_Identifier<\/th>\n",
              "      <th>Outlet_Establishment_Year<\/th>\n",
              "      <th>Outlet_Size<\/th>\n",
              "      <th>Outlet_Location_Type<\/th>\n",
              "      <th>Outlet_Type<\/th>\n",
              "      <th>Item_Outlet_Sales<\/th>\n",
              "    <\/tr>\n",
              "  <\/thead>\n",
              "  <tbody>\n",
              "    <tr>\n",
              "      <th>0<\/th>\n",
              "      <td>FDA15<\/td>\n",
              "      <td>9.30<\/td>\n",
              "      <td>Low Fat<\/td>\n",
              "      <td>0.016047<\/td>\n",
              "      <td>Dairy<\/td>\n",
              "      <td>249.8092<\/td>\n",
              "      <td>OUT049<\/td>\n",
              "      <td>1999<\/td>\n",
              "      <td>Medium<\/td>\n",
              "      <td>Tier 1<\/td>\n",
              "      <td>Supermarket Type1<\/td>\n",
              "      <td>3735.1380<\/td>\n",
              "    <\/tr>\n",
              "    <tr>\n",
              "      <th>1<\/th>\n",
              "      <td>DRC01<\/td>\n",
              "      <td>5.92<\/td>\n",
              "      <td>Regular<\/td>\n",
              "      <td>0.019278<\/td>\n",
              "      <td>Soft Drinks<\/td>\n",
              "      <td>48.2692<\/td>\n",
              "      <td>OUT018<\/td>\n",
              "      <td>2009<\/td>\n",
              "      <td>Medium<\/td>\n",
              "      <td>Tier 3<\/td>\n",
              "      <td>Supermarket Type2<\/td>\n",
              "      <td>443.4228<\/td>\n",
              "    <\/tr>\n",
              "    <tr>\n",
              "      <th>2<\/th>\n",
              "      <td>FDN15<\/td>\n",
              "      <td>17.50<\/td>\n",
              "      <td>Low Fat<\/td>\n",
              "      <td>0.016760<\/td>\n",
              "      <td>Meat<\/td>\n",
              "      <td>141.6180<\/td>\n",
              "      <td>OUT049<\/td>\n",
              "      <td>1999<\/td>\n",
              "      <td>Medium<\/td>\n",
              "      <td>Tier 1<\/td>\n",
              "      <td>Supermarket Type1<\/td>\n",
              "      <td>2097.2700<\/td>\n",
              "    <\/tr>\n",
              "    <tr>\n",
              "      <th>3<\/th>\n",
              "      <td>FDX07<\/td>\n",
              "      <td>19.20<\/td>\n",
              "      <td>Regular<\/td>\n",
              "      <td>0.000000<\/td>\n",
              "      <td>Fruits and Vegetables<\/td>\n",
              "      <td>182.0950<\/td>\n",
              "      <td>OUT010<\/td>\n",
              "      <td>1998<\/td>\n",
              "      <td>NaN<\/td>\n",
              "      <td>Tier 3<\/td>\n",
              "      <td>Grocery Store<\/td>\n",
              "      <td>732.3800<\/td>\n",
              "    <\/tr>\n",
              "    <tr>\n",
              "      <th>4<\/th>\n",
              "      <td>NCD19<\/td>\n",
              "      <td>8.93<\/td>\n",
              "      <td>Low Fat<\/td>\n",
              "      <td>0.000000<\/td>\n",
              "      <td>Household<\/td>\n",
              "      <td>53.8614<\/td>\n",
              "      <td>OUT013<\/td>\n",
              "      <td>1987<\/td>\n",
              "      <td>High<\/td>\n",
              "      <td>Tier 3<\/td>\n",
              "      <td>Supermarket Type1<\/td>\n",
              "      <td>994.7052<\/td>\n",
              "    <\/tr>\n",
              "  <\/tbody>\n",
              "<\/table>\n",
              "<\/div>"
            ]
          },
          "metadata":{
            
          },
          "output_type":"display_data"
        }
      ],
      "metadata":{
        
      }
    },
    {
      "cell_type":"code",
      "source":[
        "data.columns"
      ],
      "execution_count":9,
      "outputs":[
        {
          "data":{
            "text\/plain":[
              "Index(['Item_Identifier', 'Item_Weight', 'Item_Fat_Content', 'Item_Visibility',\n",
              "       'Item_Type', 'Item_MRP', 'Outlet_Identifier',\n",
              "       'Outlet_Establishment_Year', 'Outlet_Size', 'Outlet_Location_Type',\n",
              "       'Outlet_Type', 'Item_Outlet_Sales'],\n",
              "      dtype='object')"
            ]
          },
          "metadata":{
            
          },
          "output_type":"display_data"
        }
      ],
      "metadata":{
        
      }
    },
    {
      "cell_type":"code",
      "source":[
        "data_with_comments = pd.read_csv('big_mart_sales_top_row_error.csv', skiprows = 5)"
      ],
      "execution_count":10,
      "outputs":[
        
      ],
      "metadata":{
        
      }
    },
    {
      "cell_type":"code",
      "source":[
        "data_with_comments"
      ],
      "execution_count":13,
      "outputs":[
        {
          "data":{
            "text\/html":[
              "<div>\n",
              "<style scoped>\n",
              "    .dataframe tbody tr th:only-of-type {\n",
              "        vertical-align: middle;\n",
              "    }\n",
              "\n",
              "    .dataframe tbody tr th {\n",
              "        vertical-align: top;\n",
              "    }\n",
              "\n",
              "    .dataframe thead th {\n",
              "        text-align: right;\n",
              "    }\n",
              "<\/style>\n",
              "<table border=\"1\" class=\"dataframe\">\n",
              "  <thead>\n",
              "    <tr style=\"text-align: right;\">\n",
              "      <th><\/th>\n",
              "      <th>Item_Identifier<\/th>\n",
              "      <th>Item_Weight<\/th>\n",
              "      <th>Item_Fat_Content<\/th>\n",
              "      <th>Item_Visibility<\/th>\n",
              "      <th>Item_Type<\/th>\n",
              "      <th>Item_MRP<\/th>\n",
              "      <th>Outlet_Identifier<\/th>\n",
              "      <th>Outlet_Establishment_Year<\/th>\n",
              "      <th>Outlet_Size<\/th>\n",
              "      <th>Outlet_Location_Type<\/th>\n",
              "      <th>Outlet_Type<\/th>\n",
              "      <th>Item_Outlet_Sales<\/th>\n",
              "    <\/tr>\n",
              "  <\/thead>\n",
              "  <tbody>\n",
              "    <tr>\n",
              "      <th>0<\/th>\n",
              "      <td>FDA15<\/td>\n",
              "      <td>9.300<\/td>\n",
              "      <td>Low Fat<\/td>\n",
              "      <td>0.016047<\/td>\n",
              "      <td>Dairy<\/td>\n",
              "      <td>249.8092<\/td>\n",
              "      <td>OUT049<\/td>\n",
              "      <td>1999<\/td>\n",
              "      <td>Medium<\/td>\n",
              "      <td>Tier 1<\/td>\n",
              "      <td>Supermarket Type1<\/td>\n",
              "      <td>3735.1380<\/td>\n",
              "    <\/tr>\n",
              "    <tr>\n",
              "      <th>1<\/th>\n",
              "      <td>DRC01<\/td>\n",
              "      <td>5.920<\/td>\n",
              "      <td>Regular<\/td>\n",
              "      <td>0.019278<\/td>\n",
              "      <td>Soft Drinks<\/td>\n",
              "      <td>48.2692<\/td>\n",
              "      <td>OUT018<\/td>\n",
              "      <td>2009<\/td>\n",
              "      <td>Medium<\/td>\n",
              "      <td>Tier 3<\/td>\n",
              "      <td>Supermarket Type2<\/td>\n",
              "      <td>443.4228<\/td>\n",
              "    <\/tr>\n",
              "    <tr>\n",
              "      <th>2<\/th>\n",
              "      <td>FDN15<\/td>\n",
              "      <td>17.500<\/td>\n",
              "      <td>Low Fat<\/td>\n",
              "      <td>0.016760<\/td>\n",
              "      <td>Meat<\/td>\n",
              "      <td>141.6180<\/td>\n",
              "      <td>OUT049<\/td>\n",
              "      <td>1999<\/td>\n",
              "      <td>Medium<\/td>\n",
              "      <td>Tier 1<\/td>\n",
              "      <td>Supermarket Type1<\/td>\n",
              "      <td>2097.2700<\/td>\n",
              "    <\/tr>\n",
              "    <tr>\n",
              "      <th>3<\/th>\n",
              "      <td>FDX07<\/td>\n",
              "      <td>19.200<\/td>\n",
              "      <td>Regular<\/td>\n",
              "      <td>0.000000<\/td>\n",
              "      <td>Fruits and Vegetables<\/td>\n",
              "      <td>182.0950<\/td>\n",
              "      <td>OUT010<\/td>\n",
              "      <td>1998<\/td>\n",
              "      <td>NaN<\/td>\n",
              "      <td>Tier 3<\/td>\n",
              "      <td>Grocery Store<\/td>\n",
              "      <td>732.3800<\/td>\n",
              "    <\/tr>\n",
              "    <tr>\n",
              "      <th>4<\/th>\n",
              "      <td>NCD19<\/td>\n",
              "      <td>8.930<\/td>\n",
              "      <td>Low Fat<\/td>\n",
              "      <td>0.000000<\/td>\n",
              "      <td>Household<\/td>\n",
              "      <td>53.8614<\/td>\n",
              "      <td>OUT013<\/td>\n",
              "      <td>1987<\/td>\n",
              "      <td>High<\/td>\n",
              "      <td>Tier 3<\/td>\n",
              "      <td>Supermarket Type1<\/td>\n",
              "      <td>994.7052<\/td>\n",
              "    <\/tr>\n",
              "    <tr>\n",
              "      <th>...<\/th>\n",
              "      <td>...<\/td>\n",
              "      <td>...<\/td>\n",
              "      <td>...<\/td>\n",
              "      <td>...<\/td>\n",
              "      <td>...<\/td>\n",
              "      <td>...<\/td>\n",
              "      <td>...<\/td>\n",
              "      <td>...<\/td>\n",
              "      <td>...<\/td>\n",
              "      <td>...<\/td>\n",
              "      <td>...<\/td>\n",
              "      <td>...<\/td>\n",
              "    <\/tr>\n",
              "    <tr>\n",
              "      <th>8518<\/th>\n",
              "      <td>FDF22<\/td>\n",
              "      <td>6.865<\/td>\n",
              "      <td>Low Fat<\/td>\n",
              "      <td>0.056783<\/td>\n",
              "      <td>Snack Foods<\/td>\n",
              "      <td>214.5218<\/td>\n",
              "      <td>OUT013<\/td>\n",
              "      <td>1987<\/td>\n",
              "      <td>High<\/td>\n",
              "      <td>Tier 3<\/td>\n",
              "      <td>Supermarket Type1<\/td>\n",
              "      <td>2778.3834<\/td>\n",
              "    <\/tr>\n",
              "    <tr>\n",
              "      <th>8519<\/th>\n",
              "      <td>FDS36<\/td>\n",
              "      <td>8.380<\/td>\n",
              "      <td>Regular<\/td>\n",
              "      <td>0.046982<\/td>\n",
              "      <td>Baking Goods<\/td>\n",
              "      <td>108.1570<\/td>\n",
              "      <td>OUT045<\/td>\n",
              "      <td>2002<\/td>\n",
              "      <td>NaN<\/td>\n",
              "      <td>Tier 2<\/td>\n",
              "      <td>Supermarket Type1<\/td>\n",
              "      <td>549.2850<\/td>\n",
              "    <\/tr>\n",
              "    <tr>\n",
              "      <th>8520<\/th>\n",
              "      <td>NCJ29<\/td>\n",
              "      <td>10.600<\/td>\n",
              "      <td>Low Fat<\/td>\n",
              "      <td>0.035186<\/td>\n",
              "      <td>Health and Hygiene<\/td>\n",
              "      <td>85.1224<\/td>\n",
              "      <td>OUT035<\/td>\n",
              "      <td>2004<\/td>\n",
              "      <td>Small<\/td>\n",
              "      <td>Tier 2<\/td>\n",
              "      <td>Supermarket Type1<\/td>\n",
              "      <td>1193.1136<\/td>\n",
              "    <\/tr>\n",
              "    <tr>\n",
              "      <th>8521<\/th>\n",
              "      <td>FDN46<\/td>\n",
              "      <td>7.210<\/td>\n",
              "      <td>Regular<\/td>\n",
              "      <td>0.145221<\/td>\n",
              "      <td>Snack Foods<\/td>\n",
              "      <td>103.1332<\/td>\n",
              "      <td>OUT018<\/td>\n",
              "      <td>2009<\/td>\n",
              "      <td>Medium<\/td>\n",
              "      <td>Tier 3<\/td>\n",
              "      <td>Supermarket Type2<\/td>\n",
              "      <td>1845.5976<\/td>\n",
              "    <\/tr>\n",
              "    <tr>\n",
              "      <th>8522<\/th>\n",
              "      <td>DRG01<\/td>\n",
              "      <td>14.800<\/td>\n",
              "      <td>Low Fat<\/td>\n",
              "      <td>0.044878<\/td>\n",
              "      <td>Soft Drinks<\/td>\n",
              "      <td>75.4670<\/td>\n",
              "      <td>OUT046<\/td>\n",
              "      <td>1997<\/td>\n",
              "      <td>Small<\/td>\n",
              "      <td>Tier 1<\/td>\n",
              "      <td>Supermarket Type1<\/td>\n",
              "      <td>765.6700<\/td>\n",
              "    <\/tr>\n",
              "  <\/tbody>\n",
              "<\/table>\n",
              "<p>8523 rows × 12 columns<\/p>\n",
              "<\/div>"
            ]
          },
          "metadata":{
            
          },
          "output_type":"display_data"
        }
      ],
      "metadata":{
        
      }
    },
    {
      "cell_type":"code",
      "source":[
        "import glob"
      ],
      "execution_count":14,
      "outputs":[
        
      ],
      "metadata":{
        
      }
    },
    {
      "cell_type":"code",
      "source":[
        "for folder in glob.glob('multi-directory\/*'):\n",
        "    print(folder)"
      ],
      "execution_count":15,
      "outputs":[
        {
          "name":"stdout",
          "text":[
            "multi-directory\/2004\n",
            "multi-directory\/2002\n",
            "multi-directory\/1987\n",
            "multi-directory\/2009\n",
            "multi-directory\/1998\n",
            "multi-directory\/1999\n",
            "multi-directory\/2007\n",
            "multi-directory\/1985\n",
            "multi-directory\/1997\n"
          ],
          "output_type":"stream"
        }
      ],
      "metadata":{
        
      }
    },
    {
      "cell_type":"code",
      "source":[
        "list_of_df = []\n",
        "for folder in glob.glob('multi-directory\/*'):\n",
        "    for file in glob.glob(folder + '\/*'):\n",
        "        df = pd.read_csv(file)\n",
        "        list_of_df.append(df)\n",
        "combined_df = pd.concat(list_of_df)"
      ],
      "execution_count":20,
      "outputs":[
        
      ],
      "metadata":{
        
      }
    },
    {
      "cell_type":"code",
      "source":[
        "len(list_of_df)"
      ],
      "execution_count":23,
      "outputs":[
        {
          "data":{
            "text\/plain":[
              "9"
            ]
          },
          "metadata":{
            
          },
          "output_type":"display_data"
        }
      ],
      "metadata":{
        
      }
    },
    {
      "cell_type":"code",
      "source":[
        "combined_df"
      ],
      "execution_count":24,
      "outputs":[
        {
          "data":{
            "text\/html":[
              "<div>\n",
              "<style scoped>\n",
              "    .dataframe tbody tr th:only-of-type {\n",
              "        vertical-align: middle;\n",
              "    }\n",
              "\n",
              "    .dataframe tbody tr th {\n",
              "        vertical-align: top;\n",
              "    }\n",
              "\n",
              "    .dataframe thead th {\n",
              "        text-align: right;\n",
              "    }\n",
              "<\/style>\n",
              "<table border=\"1\" class=\"dataframe\">\n",
              "  <thead>\n",
              "    <tr style=\"text-align: right;\">\n",
              "      <th><\/th>\n",
              "      <th>Unnamed: 0<\/th>\n",
              "      <th>Item_Identifier<\/th>\n",
              "      <th>Item_Weight<\/th>\n",
              "      <th>Item_Fat_Content<\/th>\n",
              "      <th>Item_Visibility<\/th>\n",
              "      <th>Item_Type<\/th>\n",
              "      <th>Item_MRP<\/th>\n",
              "      <th>Outlet_Identifier<\/th>\n",
              "      <th>Outlet_Establishment_Year<\/th>\n",
              "      <th>Outlet_Size<\/th>\n",
              "      <th>Outlet_Location_Type<\/th>\n",
              "      <th>Outlet_Type<\/th>\n",
              "      <th>Item_Outlet_Sales<\/th>\n",
              "    <\/tr>\n",
              "  <\/thead>\n",
              "  <tbody>\n",
              "    <tr>\n",
              "      <th>0<\/th>\n",
              "      <td>19<\/td>\n",
              "      <td>FDU02<\/td>\n",
              "      <td>13.350<\/td>\n",
              "      <td>Low Fat<\/td>\n",
              "      <td>0.102492<\/td>\n",
              "      <td>Dairy<\/td>\n",
              "      <td>230.5352<\/td>\n",
              "      <td>OUT035<\/td>\n",
              "      <td>2004<\/td>\n",
              "      <td>Small<\/td>\n",
              "      <td>Tier 2<\/td>\n",
              "      <td>Supermarket Type1<\/td>\n",
              "      <td>2748.4224<\/td>\n",
              "    <\/tr>\n",
              "    <tr>\n",
              "      <th>1<\/th>\n",
              "      <td>22<\/td>\n",
              "      <td>NCB30<\/td>\n",
              "      <td>14.600<\/td>\n",
              "      <td>Low Fat<\/td>\n",
              "      <td>0.025698<\/td>\n",
              "      <td>Household<\/td>\n",
              "      <td>196.5084<\/td>\n",
              "      <td>OUT035<\/td>\n",
              "      <td>2004<\/td>\n",
              "      <td>Small<\/td>\n",
              "      <td>Tier 2<\/td>\n",
              "      <td>Supermarket Type1<\/td>\n",
              "      <td>1587.2672<\/td>\n",
              "    <\/tr>\n",
              "    <tr>\n",
              "      <th>2<\/th>\n",
              "      <td>26<\/td>\n",
              "      <td>FDV10<\/td>\n",
              "      <td>7.645<\/td>\n",
              "      <td>Regular<\/td>\n",
              "      <td>0.066693<\/td>\n",
              "      <td>Snack Foods<\/td>\n",
              "      <td>42.3112<\/td>\n",
              "      <td>OUT035<\/td>\n",
              "      <td>2004<\/td>\n",
              "      <td>Small<\/td>\n",
              "      <td>Tier 2<\/td>\n",
              "      <td>Supermarket Type1<\/td>\n",
              "      <td>1065.2800<\/td>\n",
              "    <\/tr>\n",
              "    <tr>\n",
              "      <th>3<\/th>\n",
              "      <td>66<\/td>\n",
              "      <td>FDH19<\/td>\n",
              "      <td>19.350<\/td>\n",
              "      <td>Low Fat<\/td>\n",
              "      <td>0.033082<\/td>\n",
              "      <td>Meat<\/td>\n",
              "      <td>172.5738<\/td>\n",
              "      <td>OUT035<\/td>\n",
              "      <td>2004<\/td>\n",
              "      <td>Small<\/td>\n",
              "      <td>Tier 2<\/td>\n",
              "      <td>Supermarket Type1<\/td>\n",
              "      <td>4865.6664<\/td>\n",
              "    <\/tr>\n",
              "    <tr>\n",
              "      <th>4<\/th>\n",
              "      <td>86<\/td>\n",
              "      <td>FDZ55<\/td>\n",
              "      <td>6.055<\/td>\n",
              "      <td>Low Fat<\/td>\n",
              "      <td>0.025404<\/td>\n",
              "      <td>Fruits and Vegetables<\/td>\n",
              "      <td>160.9920<\/td>\n",
              "      <td>OUT035<\/td>\n",
              "      <td>2004<\/td>\n",
              "      <td>Small<\/td>\n",
              "      <td>Tier 2<\/td>\n",
              "      <td>Supermarket Type1<\/td>\n",
              "      <td>2716.4640<\/td>\n",
              "    <\/tr>\n",
              "    <tr>\n",
              "      <th>...<\/th>\n",
              "      <td>...<\/td>\n",
              "      <td>...<\/td>\n",
              "      <td>...<\/td>\n",
              "      <td>...<\/td>\n",
              "      <td>...<\/td>\n",
              "      <td>...<\/td>\n",
              "      <td>...<\/td>\n",
              "      <td>...<\/td>\n",
              "      <td>...<\/td>\n",
              "      <td>...<\/td>\n",
              "      <td>...<\/td>\n",
              "      <td>...<\/td>\n",
              "      <td>...<\/td>\n",
              "    <\/tr>\n",
              "    <tr>\n",
              "      <th>925<\/th>\n",
              "      <td>8450<\/td>\n",
              "      <td>FDC28<\/td>\n",
              "      <td>7.905<\/td>\n",
              "      <td>Low Fat<\/td>\n",
              "      <td>0.054987<\/td>\n",
              "      <td>Frozen Foods<\/td>\n",
              "      <td>108.6254<\/td>\n",
              "      <td>OUT046<\/td>\n",
              "      <td>1997<\/td>\n",
              "      <td>Small<\/td>\n",
              "      <td>Tier 1<\/td>\n",
              "      <td>Supermarket Type1<\/td>\n",
              "      <td>1844.9318<\/td>\n",
              "    <\/tr>\n",
              "    <tr>\n",
              "      <th>926<\/th>\n",
              "      <td>8461<\/td>\n",
              "      <td>FDB17<\/td>\n",
              "      <td>13.150<\/td>\n",
              "      <td>Low Fat<\/td>\n",
              "      <td>0.036672<\/td>\n",
              "      <td>Frozen Foods<\/td>\n",
              "      <td>182.5976<\/td>\n",
              "      <td>OUT046<\/td>\n",
              "      <td>1997<\/td>\n",
              "      <td>Small<\/td>\n",
              "      <td>Tier 1<\/td>\n",
              "      <td>Supermarket Type1<\/td>\n",
              "      <td>4165.2448<\/td>\n",
              "    <\/tr>\n",
              "    <tr>\n",
              "      <th>927<\/th>\n",
              "      <td>8492<\/td>\n",
              "      <td>FDT34<\/td>\n",
              "      <td>9.300<\/td>\n",
              "      <td>Low Fat<\/td>\n",
              "      <td>0.174350<\/td>\n",
              "      <td>Snack Foods<\/td>\n",
              "      <td>104.4964<\/td>\n",
              "      <td>OUT046<\/td>\n",
              "      <td>1997<\/td>\n",
              "      <td>Small<\/td>\n",
              "      <td>Tier 1<\/td>\n",
              "      <td>Supermarket Type1<\/td>\n",
              "      <td>2419.5172<\/td>\n",
              "    <\/tr>\n",
              "    <tr>\n",
              "      <th>928<\/th>\n",
              "      <td>8517<\/td>\n",
              "      <td>FDF53<\/td>\n",
              "      <td>20.750<\/td>\n",
              "      <td>reg<\/td>\n",
              "      <td>0.083607<\/td>\n",
              "      <td>Frozen Foods<\/td>\n",
              "      <td>178.8318<\/td>\n",
              "      <td>OUT046<\/td>\n",
              "      <td>1997<\/td>\n",
              "      <td>Small<\/td>\n",
              "      <td>Tier 1<\/td>\n",
              "      <td>Supermarket Type1<\/td>\n",
              "      <td>3608.6360<\/td>\n",
              "    <\/tr>\n",
              "    <tr>\n",
              "      <th>929<\/th>\n",
              "      <td>8522<\/td>\n",
              "      <td>DRG01<\/td>\n",
              "      <td>14.800<\/td>\n",
              "      <td>Low Fat<\/td>\n",
              "      <td>0.044878<\/td>\n",
              "      <td>Soft Drinks<\/td>\n",
              "      <td>75.4670<\/td>\n",
              "      <td>OUT046<\/td>\n",
              "      <td>1997<\/td>\n",
              "      <td>Small<\/td>\n",
              "      <td>Tier 1<\/td>\n",
              "      <td>Supermarket Type1<\/td>\n",
              "      <td>765.6700<\/td>\n",
              "    <\/tr>\n",
              "  <\/tbody>\n",
              "<\/table>\n",
              "<p>8523 rows × 13 columns<\/p>\n",
              "<\/div>"
            ]
          },
          "metadata":{
            
          },
          "output_type":"display_data"
        }
      ],
      "metadata":{
        
      }
    },
    {
      "cell_type":"code",
      "source":[
        "combined_df.to_csv('saved_combined.csv', index = False)"
      ],
      "execution_count":25,
      "outputs":[
        
      ],
      "metadata":{
        
      }
    },
    {
      "cell_type":"code",
      "source":[
        "data_tsv = pd.read_csv('big_mart_sales_delimiter.csv', delimiter='\\t')"
      ],
      "execution_count":28,
      "outputs":[
        
      ],
      "metadata":{
        
      }
    },
    {
      "cell_type":"code",
      "source":[
        "data_tsv.shape"
      ],
      "execution_count":33,
      "outputs":[
        {
          "data":{
            "text\/plain":[
              "(101, 12)"
            ]
          },
          "metadata":{
            
          },
          "output_type":"display_data"
        }
      ],
      "metadata":{
        
      }
    },
    {
      "cell_type":"code",
      "source":[
        "# nrows, usecols, skiprows <- some important arguements we can use when reading csv files"
      ],
      "execution_count":31,
      "outputs":[
        
      ],
      "metadata":{
        
      }
    },
    {
      "cell_type":"code",
      "source":[
        "combined_df.shape"
      ],
      "execution_count":37,
      "outputs":[
        {
          "data":{
            "text\/plain":[
              "(8523, 13)"
            ]
          },
          "metadata":{
            
          },
          "output_type":"display_data"
        }
      ],
      "metadata":{
        
      }
    },
    {
      "cell_type":"code",
      "source":[
        "combined_df.index"
      ],
      "execution_count":41,
      "outputs":[
        {
          "data":{
            "text\/plain":[
              "Int64Index([  0,   1,   2,   3,   4,   5,   6,   7,   8,   9,\n",
              "            ...\n",
              "            920, 921, 922, 923, 924, 925, 926, 927, 928, 929],\n",
              "           dtype='int64', length=8523)"
            ]
          },
          "metadata":{
            
          },
          "output_type":"display_data"
        }
      ],
      "metadata":{
        
      }
    },
    {
      "cell_type":"code",
      "source":[
        "rows_count = combined_df.shape[0]\n",
        "def read_through(n):\n",
        "    counter = 0\n",
        "    list_of_df = []\n",
        "    for i in range(rows_count\/n):\n",
        "        chunk = pd.read_csv('big_mart_sales.csv', nrows = n, skiprows = counter)\n",
        "        list_of_df.append(chunk) \n",
        "        counter += n\n",
        "    return pd.concat(list_of_df)"
      ],
      "execution_count":45,
      "outputs":[
        
      ],
      "metadata":{
        
      }
    },
    {
      "cell_type":"code",
      "source":[
        "x = read_through(100)"
      ],
      "execution_count":46,
      "outputs":[
        {
          "ename":"TypeError",
          "evalue":"TypeError: 'float' object cannot be interpreted as an integer",
          "traceback":[
            "\u001b[0;31m---------------------------------------------------------------------------",
            "Traceback (most recent call last)",
            "    at line 1 in <module>",
            "    at line 5 in read_through(n)",
            "TypeError: 'float' object cannot be interpreted as an integer"
          ],
          "output_type":"error"
        }
      ],
      "metadata":{
        
      }
    },
    {
      "cell_type":"code",
      "source":[
        
      ],
      "execution_count":null,
      "outputs":[
        
      ],
      "metadata":{
        
      }
    }
  ],
  "metadata":{
    
  },
  "nbformat":4,
  "nbformat_minor":0
}