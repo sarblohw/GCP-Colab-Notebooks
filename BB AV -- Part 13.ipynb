{
 "cells": [
  {
   "cell_type": "code",
   "execution_count": 4,
   "metadata": {},
   "outputs": [],
   "source": [
    "import json\n",
    "import pandas as pd\n",
    "import numpy as np\n",
    "import pprint # view data in a structured manner using pretty print"
   ]
  },
  {
   "cell_type": "code",
   "execution_count": 5,
   "metadata": {},
   "outputs": [],
   "source": [
    "df = pd.read_json('simple.json') # simple json with dict type structure defined in one list"
   ]
  },
  {
   "cell_type": "code",
   "execution_count": 6,
   "metadata": {},
   "outputs": [
    {
     "output_type": "execute_result",
     "data": {
      "text/plain": [
       "       name  age grade\n",
       "0     Andew   12     A\n",
       "1    Bhuvan   18     B\n",
       "2   Clinton   11     A\n",
       "3     Drake   12     C\n",
       "4     Eisha   13     B\n",
       "5    Farhan   22     C\n",
       "6    Garima   11     A\n",
       "7  Himanshu   19     A\n",
       "8    Ishaan   10     D\n",
       "9     Jason    9     B"
      ],
      "text/html": "<div>\n<style scoped>\n    .dataframe tbody tr th:only-of-type {\n        vertical-align: middle;\n    }\n\n    .dataframe tbody tr th {\n        vertical-align: top;\n    }\n\n    .dataframe thead th {\n        text-align: right;\n    }\n</style>\n<table border=\"1\" class=\"dataframe\">\n  <thead>\n    <tr style=\"text-align: right;\">\n      <th></th>\n      <th>name</th>\n      <th>age</th>\n      <th>grade</th>\n    </tr>\n  </thead>\n  <tbody>\n    <tr>\n      <th>0</th>\n      <td>Andew</td>\n      <td>12</td>\n      <td>A</td>\n    </tr>\n    <tr>\n      <th>1</th>\n      <td>Bhuvan</td>\n      <td>18</td>\n      <td>B</td>\n    </tr>\n    <tr>\n      <th>2</th>\n      <td>Clinton</td>\n      <td>11</td>\n      <td>A</td>\n    </tr>\n    <tr>\n      <th>3</th>\n      <td>Drake</td>\n      <td>12</td>\n      <td>C</td>\n    </tr>\n    <tr>\n      <th>4</th>\n      <td>Eisha</td>\n      <td>13</td>\n      <td>B</td>\n    </tr>\n    <tr>\n      <th>5</th>\n      <td>Farhan</td>\n      <td>22</td>\n      <td>C</td>\n    </tr>\n    <tr>\n      <th>6</th>\n      <td>Garima</td>\n      <td>11</td>\n      <td>A</td>\n    </tr>\n    <tr>\n      <th>7</th>\n      <td>Himanshu</td>\n      <td>19</td>\n      <td>A</td>\n    </tr>\n    <tr>\n      <th>8</th>\n      <td>Ishaan</td>\n      <td>10</td>\n      <td>D</td>\n    </tr>\n    <tr>\n      <th>9</th>\n      <td>Jason</td>\n      <td>9</td>\n      <td>B</td>\n    </tr>\n  </tbody>\n</table>\n</div>"
     },
     "metadata": {},
     "execution_count": 6
    }
   ],
   "source": [
    "df"
   ]
  },
  {
   "cell_type": "code",
   "execution_count": 7,
   "metadata": {},
   "outputs": [],
   "source": [
    "df = pd.read_json('simple_records.json', lines=True) # in this file, each row is a json in itself"
   ]
  },
  {
   "cell_type": "code",
   "execution_count": 8,
   "metadata": {},
   "outputs": [
    {
     "output_type": "execute_result",
     "data": {
      "text/plain": [
       "       name  age grade\n",
       "0     Andew   12     A\n",
       "1    Bhuvan   18     B\n",
       "2   Clinton   11     A\n",
       "3     Drake   12     C\n",
       "4     Eisha   13     B\n",
       "5    Farhan   22     C\n",
       "6    Garima   11     A\n",
       "7  Himanshu   19     A\n",
       "8    Ishaan   10     D\n",
       "9     Jason    9     B"
      ],
      "text/html": "<div>\n<style scoped>\n    .dataframe tbody tr th:only-of-type {\n        vertical-align: middle;\n    }\n\n    .dataframe tbody tr th {\n        vertical-align: top;\n    }\n\n    .dataframe thead th {\n        text-align: right;\n    }\n</style>\n<table border=\"1\" class=\"dataframe\">\n  <thead>\n    <tr style=\"text-align: right;\">\n      <th></th>\n      <th>name</th>\n      <th>age</th>\n      <th>grade</th>\n    </tr>\n  </thead>\n  <tbody>\n    <tr>\n      <th>0</th>\n      <td>Andew</td>\n      <td>12</td>\n      <td>A</td>\n    </tr>\n    <tr>\n      <th>1</th>\n      <td>Bhuvan</td>\n      <td>18</td>\n      <td>B</td>\n    </tr>\n    <tr>\n      <th>2</th>\n      <td>Clinton</td>\n      <td>11</td>\n      <td>A</td>\n    </tr>\n    <tr>\n      <th>3</th>\n      <td>Drake</td>\n      <td>12</td>\n      <td>C</td>\n    </tr>\n    <tr>\n      <th>4</th>\n      <td>Eisha</td>\n      <td>13</td>\n      <td>B</td>\n    </tr>\n    <tr>\n      <th>5</th>\n      <td>Farhan</td>\n      <td>22</td>\n      <td>C</td>\n    </tr>\n    <tr>\n      <th>6</th>\n      <td>Garima</td>\n      <td>11</td>\n      <td>A</td>\n    </tr>\n    <tr>\n      <th>7</th>\n      <td>Himanshu</td>\n      <td>19</td>\n      <td>A</td>\n    </tr>\n    <tr>\n      <th>8</th>\n      <td>Ishaan</td>\n      <td>10</td>\n      <td>D</td>\n    </tr>\n    <tr>\n      <th>9</th>\n      <td>Jason</td>\n      <td>9</td>\n      <td>B</td>\n    </tr>\n  </tbody>\n</table>\n</div>"
     },
     "metadata": {},
     "execution_count": 8
    }
   ],
   "source": [
    "df"
   ]
  },
  {
   "cell_type": "code",
   "execution_count": 11,
   "metadata": {},
   "outputs": [],
   "source": [
    "# working with the standard python library json to read nested jsons\n",
    "\n",
    "with open('nested.json') as f:\n",
    "    data = json.load(f)"
   ]
  },
  {
   "cell_type": "code",
   "execution_count": 12,
   "metadata": {},
   "outputs": [
    {
     "output_type": "execute_result",
     "data": {
      "text/plain": [
       "[{'student_roll_no': 101,\n",
       "  'details': {'name': 'Andew', 'age': 12, 'grade': 'A'}},\n",
       " {'student_roll_no': 102,\n",
       "  'details': {'name': 'Bhuvan', 'age': 18, 'grade': 'B'}},\n",
       " {'student_roll_no': 103,\n",
       "  'details': {'name': 'Clinton', 'age': 11, 'grade': 'A'}},\n",
       " {'student_roll_no': 104,\n",
       "  'details': {'name': 'Drake', 'age': 12, 'grade': 'C'}},\n",
       " {'student_roll_no': 105,\n",
       "  'details': {'name': 'Eisha', 'age': 13, 'grade': 'B'}},\n",
       " {'student_roll_no': 106,\n",
       "  'details': {'name': 'Farhan', 'age': 22, 'grade': 'C'}},\n",
       " {'student_roll_no': 107,\n",
       "  'details': {'name': 'Garima', 'age': 11, 'grade': 'A'}},\n",
       " {'student_roll_no': 108,\n",
       "  'details': {'name': 'Himanshu', 'age': 19, 'grade': 'A'}},\n",
       " {'student_roll_no': 109,\n",
       "  'details': {'name': 'Ishaan', 'age': 10, 'grade': 'D'}},\n",
       " {'student_roll_no': 110,\n",
       "  'details': {'name': 'Jason', 'age': 9, 'grade': 'B'}}]"
      ]
     },
     "metadata": {},
     "execution_count": 12
    }
   ],
   "source": [
    "data"
   ]
  },
  {
   "cell_type": "code",
   "execution_count": null,
   "metadata": {},
   "outputs": [],
   "source": []
  }
 ],
 "metadata": {
  "kernelspec": {
   "name": "pythonjvsc74a57bd05af9480598a1819ce94d824d2a72f1e549fbb93b0aa477353265d55d0861f1e5",
   "display_name": "Python 2020.11 64-bit"
  },
  "metadata": {
   "interpreter": {
    "hash": "5af9480598a1819ce94d824d2a72f1e549fbb93b0aa477353265d55d0861f1e5"
   }
  }
 },
 "nbformat": 4,
 "nbformat_minor": 4
}