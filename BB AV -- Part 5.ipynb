{
  "cells":[
    {
      "cell_type":"markdown",
      "source":[
        "#### Lambda Functions\/Expressions\n",
        "- can have multiple arguements but one expression\n",
        "- when function task is small, it is more efficient to use lambda\n",
        "- avoid lambda functions when task is complex\n",
        "- do not have to define a return statement, lambda automatically assumes return"
      ],
      "metadata":{
        
      }
    },
    {
      "cell_type":"code",
      "source":[
        "def add(a):\n",
        "    return a + 20\n",
        "add(5)"
      ],
      "execution_count":5,
      "outputs":[
        {
          "data":{
            "text\/plain":[
              "25"
            ]
          },
          "metadata":{
            
          },
          "output_type":"display_data"
        }
      ],
      "metadata":{
        
      }
    },
    {
      "cell_type":"markdown",
      "source":[
        "#### Socratica\n",
        "< https:\/\/www.youtube.com\/watch?v=25ovCm9jKfA >\n",
        "\n",
        "- Anonymous Functions = Lambda Expressions\n",
        "- One odd use... use and throw function\n",
        "- Can have 0 or more arguements\n",
        "- Common applications are sorting and filtering data"
      ],
      "metadata":{
        
      }
    },
    {
      "cell_type":"code",
      "source":[
        "def f(x):\n",
        "    return 3*x + 1"
      ],
      "execution_count":22,
      "outputs":[
        
      ],
      "metadata":{
        
      }
    },
    {
      "cell_type":"code",
      "source":[
        "f(2)"
      ],
      "execution_count":23,
      "outputs":[
        {
          "data":{
            "text\/plain":[
              "7"
            ]
          },
          "metadata":{
            
          },
          "output_type":"display_data"
        }
      ],
      "metadata":{
        
      }
    },
    {
      "cell_type":"code",
      "source":[
        "lambda x: 3*x + 1"
      ],
      "execution_count":24,
      "outputs":[
        {
          "data":{
            "text\/plain":[
              "<function __main__.<lambda>(x)>"
            ]
          },
          "metadata":{
            
          },
          "output_type":"display_data"
        }
      ],
      "metadata":{
        
      }
    },
    {
      "cell_type":"code",
      "source":[
        "g = lambda x: 3*x + 1\n",
        "g(2)"
      ],
      "execution_count":25,
      "outputs":[
        {
          "data":{
            "text\/plain":[
              "7"
            ]
          },
          "metadata":{
            
          },
          "output_type":"display_data"
        }
      ],
      "metadata":{
        
      }
    },
    {
      "cell_type":"code",
      "source":[
        "# combine first and last names using lambda"
      ],
      "execution_count":26,
      "outputs":[
        
      ],
      "metadata":{
        
      }
    },
    {
      "cell_type":"code",
      "source":[
        "#lambda version\n",
        "\n",
        "full_name = lambda fname, lname: fname.strip().title() + ' ' + lname.strip().title()"
      ],
      "execution_count":27,
      "outputs":[
        
      ],
      "metadata":{
        
      }
    },
    {
      "cell_type":"code",
      "source":[
        "full_name('Suminder', 'Singh')"
      ],
      "execution_count":28,
      "outputs":[
        {
          "data":{
            "text\/plain":[
              "'Suminder Singh'"
            ]
          },
          "metadata":{
            
          },
          "output_type":"display_data"
        }
      ],
      "metadata":{
        
      }
    },
    {
      "cell_type":"code",
      "source":[
        "#regular function\n",
        "\n",
        "def fname(first_name, last_name):\n",
        "    return f'{first_name.strip().title()} {last_name.strip().title()}'"
      ],
      "execution_count":29,
      "outputs":[
        
      ],
      "metadata":{
        
      }
    },
    {
      "cell_type":"code",
      "source":[
        "fname('Suminder', 'Singh')"
      ],
      "execution_count":30,
      "outputs":[
        {
          "data":{
            "text\/plain":[
              "'Suminder Singh'"
            ]
          },
          "metadata":{
            
          },
          "output_type":"display_data"
        }
      ],
      "metadata":{
        
      }
    },
    {
      "cell_type":"code",
      "source":[
        "# sort list of names by last name\n",
        "\n",
        "names = ['Suminder Singh', 'deepinder kaur', 'MANIL MITTAL', 'Ujjwal Seth', 'Gursharan Singh', 'Surjit kaur']"
      ],
      "execution_count":34,
      "outputs":[
        
      ],
      "metadata":{
        
      }
    },
    {
      "cell_type":"code",
      "source":[
        "names.sort(key = lambda name: name.split (\" \")[-1].lower())"
      ],
      "execution_count":38,
      "outputs":[
        
      ],
      "metadata":{
        
      }
    },
    {
      "cell_type":"code",
      "source":[
        "names"
      ],
      "execution_count":39,
      "outputs":[
        {
          "data":{
            "text\/plain":[
              "['Surjit kaur',\n",
              " 'deepinder kaur',\n",
              " 'MANIL MITTAL',\n",
              " 'Ujjwal Seth',\n",
              " 'Gursharan Singh',\n",
              " 'Suminder Singh']"
            ]
          },
          "metadata":{
            
          },
          "output_type":"display_data"
        }
      ],
      "metadata":{
        
      }
    },
    {
      "cell_type":"code",
      "source":[
        "# Function that makes functions\n",
        "# example: quadratic function"
      ],
      "execution_count":40,
      "outputs":[
        
      ],
      "metadata":{
        
      }
    },
    {
      "cell_type":"code",
      "source":[
        "def build_quad_functions(a, b, c):\n",
        "    \"\"\"returns the function f(x) = a*x**2 + b*x + c\"\"\"\n",
        "    return lambda x: a*x**2 + b*x + c"
      ],
      "execution_count":44,
      "outputs":[
        
      ],
      "metadata":{
        
      }
    },
    {
      "cell_type":"code",
      "source":[
        "build_quad_functions(2,3,5)(1)"
      ],
      "execution_count":45,
      "outputs":[
        {
          "data":{
            "text\/plain":[
              "10"
            ]
          },
          "metadata":{
            
          },
          "output_type":"display_data"
        }
      ],
      "metadata":{
        
      }
    },
    {
      "cell_type":"code",
      "source":[
        " test = build_quad_functions(2,3,5)\n",
        " test(1)"
      ],
      "execution_count":46,
      "outputs":[
        {
          "data":{
            "text\/plain":[
              "10"
            ]
          },
          "metadata":{
            
          },
          "output_type":"display_data"
        }
      ],
      "metadata":{
        
      }
    },
    {
      "cell_type":"markdown",
      "source":[
        "#### Telusko\n",
        "<https:\/\/www.youtube.com\/watch?v=hYzwCsKGRrg>"
      ],
      "metadata":{
        
      }
    },
    {
      "cell_type":"code",
      "source":[
        "def square_num(x):\n",
        "    return x*x\n",
        "\n",
        "print(square_num(2))\n",
        "\n",
        "sqr = lambda x: x*x\n",
        "sqr(2)"
      ],
      "execution_count":5,
      "outputs":[
        {
          "name":"stdout",
          "text":[
            "4\n"
          ],
          "output_type":"stream"
        },
        {
          "data":{
            "text\/plain":[
              "4"
            ]
          },
          "metadata":{
            
          },
          "output_type":"display_data"
        }
      ],
      "metadata":{
        
      }
    },
    {
      "cell_type":"code",
      "source":[
        "# AV BB"
      ],
      "execution_count":2,
      "outputs":[
        
      ],
      "metadata":{
        
      }
    },
    {
      "cell_type":"code",
      "source":[
        "list_1 = [2,3,4,1,4,5,6,43,4,45,1,223,46,111,56]"
      ],
      "execution_count":3,
      "outputs":[
        
      ],
      "metadata":{
        
      }
    },
    {
      "cell_type":"code",
      "source":[
        "def normal_even(x):\n",
        "    if x%2 == 0:\n",
        "        return True\n",
        "    else:\n",
        "        return False"
      ],
      "execution_count":4,
      "outputs":[
        
      ],
      "metadata":{
        
      }
    },
    {
      "cell_type":"code",
      "source":[
        "filtered_list = list(filter(normal_even, list_1))\n",
        "filtered_list"
      ],
      "execution_count":5,
      "outputs":[
        {
          "data":{
            "text\/plain":[
              "[2, 4, 4, 6, 4, 46, 56]"
            ]
          },
          "metadata":{
            
          },
          "output_type":"display_data"
        }
      ],
      "metadata":{
        
      }
    },
    {
      "cell_type":"code",
      "source":[
        "filtered = list(filter(lambda x: (x%2 ==0), list_1))\n",
        "filtered"
      ],
      "execution_count":6,
      "outputs":[
        {
          "data":{
            "text\/plain":[
              "[2, 4, 4, 6, 4, 46, 56]"
            ]
          },
          "metadata":{
            
          },
          "output_type":"display_data"
        }
      ],
      "metadata":{
        
      }
    },
    {
      "cell_type":"markdown",
      "source":[
        "#### Corey Schafer - sorting in lists, tuples, dicts"
      ],
      "metadata":{
        
      }
    },
    {
      "cell_type":"code",
      "source":[
        "filtered.sort()"
      ],
      "execution_count":7,
      "outputs":[
        
      ],
      "metadata":{
        
      }
    },
    {
      "cell_type":"code",
      "source":[
        "filtered"
      ],
      "execution_count":8,
      "outputs":[
        {
          "data":{
            "text\/plain":[
              "[2, 4, 4, 4, 6, 46, 56]"
            ]
          },
          "metadata":{
            
          },
          "output_type":"display_data"
        }
      ],
      "metadata":{
        
      }
    },
    {
      "cell_type":"code",
      "source":[
        "# sort function applies to only lists, does it inplace\n",
        "# sorted - needs to assigned to a new var, works with any iterable"
      ],
      "execution_count":17,
      "outputs":[
        
      ],
      "metadata":{
        
      }
    },
    {
      "cell_type":"code",
      "source":[
        "# using the 'key' arguement in the 'sorted' function\n",
        "\n",
        "li = [-3, -2, -4, -7, 2, 1, 3, 5, 6]\n",
        "\n",
        "# noinspection PyTypeChecker \n",
        "# disregard pytypechecker sentence\n",
        "\n",
        "li.sort(key = abs, reverse = True) \n",
        "# here the key aruguement is a function which will be run on each element before sorting\n",
        "li"
      ],
      "execution_count":16,
      "outputs":[
        {
          "data":{
            "text\/plain":[
              "[-7, 6, 5, -4, -3, 3, -2, 2, 1]"
            ]
          },
          "metadata":{
            
          },
          "output_type":"display_data"
        }
      ],
      "metadata":{
        
      }
    },
    {
      "cell_type":"code",
      "source":[
        "# understanding the 'key' parameter\n",
        "\n",
        "class Employee:\n",
        "\n",
        "    def __init__(self, fname, lname, pay):\n",
        "        self.first = fname\n",
        "        self.last = lname\n",
        "        self.salary = pay\n",
        "\n",
        "emp_tst = Employee('Sam', 'SS', '100000')\n",
        "emp_tst\n",
        "emp_tst.first"
      ],
      "execution_count":22,
      "outputs":[
        {
          "data":{
            "text\/plain":[
              "'Sam'"
            ]
          },
          "metadata":{
            
          },
          "output_type":"display_data"
        }
      ],
      "metadata":{
        
      }
    },
    {
      "cell_type":"code",
      "source":[
        "class Employee:\n",
        "\n",
        "    def __init__(self, fname, lname, pay):\n",
        "        self.first = fname\n",
        "        self.last = lname\n",
        "        self.salary = pay\n",
        "\n",
        "    def __repr__(self):\n",
        "        return '({}, {}, ${})'.format(self.first, self.last, self.salary)"
      ],
      "execution_count":23,
      "outputs":[
        
      ],
      "metadata":{
        
      }
    },
    {
      "cell_type":"code",
      "source":[
        "emp_1 = Employee('Suminder', 'Singh', 125000)"
      ],
      "execution_count":24,
      "outputs":[
        
      ],
      "metadata":{
        
      }
    },
    {
      "cell_type":"code",
      "source":[
        "emp_1\n",
        "# the '__repr__' class function suggests how to represent a class Employee's object when called"
      ],
      "execution_count":26,
      "outputs":[
        {
          "data":{
            "text\/plain":[
              "(Suminder, Singh, $125000)"
            ]
          },
          "metadata":{
            
          },
          "output_type":"display_data"
        }
      ],
      "metadata":{
        
      }
    },
    {
      "cell_type":"code",
      "source":[
        "# Using key to sort 3 different class employee objects in a list\n",
        "\n",
        "emp_1 = Employee('Suminder', 'Singh', 125000)\n",
        "emp_2 = Employee('Corey', 'Schafer', 100000)\n",
        "emp_3 = Employee('Manil', 'Mittal', 89000)\n",
        "\n",
        "lstt = [emp_1, emp_2, emp_3]"
      ],
      "execution_count":45,
      "outputs":[
        
      ],
      "metadata":{
        
      }
    },
    {
      "cell_type":"code",
      "source":[
        "sorted_lstt = sorted(lstt) # this will return an error since it doenst know how to sort this employee object"
      ],
      "execution_count":46,
      "outputs":[
        {
          "ename":"TypeError",
          "evalue":"TypeError: '<' not supported between instances of 'Employee' and 'Employee'",
          "traceback":[
            "\u001b[0;31m---------------------------------------------------------------------------",
            "Traceback (most recent call last)",
            "    at line 1 in <module>",
            "TypeError: '<' not supported between instances of 'Employee' and 'Employee'"
          ],
          "output_type":"error"
        }
      ],
      "metadata":{
        
      }
    },
    {
      "cell_type":"code",
      "source":[
        "def e_sort(x):\n",
        "    return x.first\n",
        "# here x can be called anything, just stands for individual elements that will be passed for evaluation before sorting\n",
        "\n",
        "sorted_lstt = sorted(lstt, key = e_sort)\n",
        "# can further use reverse param to define sort order"
      ],
      "execution_count":49,
      "outputs":[
        
      ],
      "metadata":{
        
      }
    },
    {
      "cell_type":"code",
      "source":[
        "sorted_lstt # sorted by first name attribute of class employee"
      ],
      "execution_count":50,
      "outputs":[
        {
          "data":{
            "text\/plain":[
              "[(Corey, Schafer, $100000),\n",
              " (Manil, Mittal, $89000),\n",
              " (Suminder, Singh, $125000)]"
            ]
          },
          "metadata":{
            
          },
          "output_type":"display_data"
        }
      ],
      "metadata":{
        
      }
    },
    {
      "cell_type":"code",
      "source":[
        "# using lambda function to achieve the same thing\n",
        "\n",
        "sorted_lstt = sorted(lstt, key = lambda x: x.first)\n",
        "sorted_lstt"
      ],
      "execution_count":51,
      "outputs":[
        {
          "data":{
            "text\/plain":[
              "[(Corey, Schafer, $100000),\n",
              " (Manil, Mittal, $89000),\n",
              " (Suminder, Singh, $125000)]"
            ]
          },
          "metadata":{
            
          },
          "output_type":"display_data"
        }
      ],
      "metadata":{
        
      }
    },
    {
      "cell_type":"code",
      "source":[
        "sorted_lstt = sorted(lstt, key = lambda x: x.first, reverse = True)\n",
        "sorted_lstt"
      ],
      "execution_count":52,
      "outputs":[
        {
          "data":{
            "text\/plain":[
              "[(Suminder, Singh, $125000),\n",
              " (Manil, Mittal, $89000),\n",
              " (Corey, Schafer, $100000)]"
            ]
          },
          "metadata":{
            
          },
          "output_type":"display_data"
        }
      ],
      "metadata":{
        
      }
    },
    {
      "cell_type":"code",
      "source":[
        "# attribute getter OR attrgetter - can fetch a class attribute\n",
        "# import using the operator module"
      ],
      "execution_count":54,
      "outputs":[
        
      ],
      "metadata":{
        
      }
    },
    {
      "cell_type":"code",
      "source":[
        "from operator import attrgetter\n",
        "\n",
        "sorted_lstt_test = sorted(lstt, key = attrgetter('last'))\n",
        "\n",
        "sorted_lstt_test"
      ],
      "execution_count":56,
      "outputs":[
        {
          "data":{
            "text\/plain":[
              "[(Manil, Mittal, $89000),\n",
              " (Corey, Schafer, $100000),\n",
              " (Suminder, Singh, $125000)]"
            ]
          },
          "metadata":{
            
          },
          "output_type":"display_data"
        }
      ],
      "metadata":{
        
      }
    },
    {
      "cell_type":"code",
      "source":[
        "sorted_lstt_test2 = sorted(lstt, key = attrgetter('last'), reverse=True)\n",
        "\n",
        "sorted_lstt_test2"
      ],
      "execution_count":58,
      "outputs":[
        {
          "data":{
            "text\/plain":[
              "[(Suminder, Singh, $125000),\n",
              " (Corey, Schafer, $100000),\n",
              " (Manil, Mittal, $89000)]"
            ]
          },
          "metadata":{
            
          },
          "output_type":"display_data"
        }
      ],
      "metadata":{
        
      }
    },
    {
      "cell_type":"code",
      "source":[
        "# resume AV BB\n",
        "# contd in part 6"
      ],
      "execution_count":59,
      "outputs":[
        
      ],
      "metadata":{
        
      }
    }
  ],
  "metadata":{
    
  },
  "nbformat":4,
  "nbformat_minor":0
}