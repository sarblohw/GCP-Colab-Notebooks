{
 "cells": [
  {
   "cell_type": "markdown",
   "metadata": {},
   "source": [
    "## String Functions\n",
    "\n",
    "- Indexing\n",
    "- Slicing\n",
    "- Multiline comment using \"\"\"xxx\"\"\"\n",
    "- len(str)\n",
    "- str.lower(), str.upper(), str.count(x), str.find(x), str.replace(x, y)\n",
    "- concatenating strings using + operator\n",
    "- string formatting using format strings and f strings\n",
    "\n",
    "#### Additional\n",
    "- dir(x) - lists all available methods and attr of a python object\n",
    "- help(x) - additional info on classes or methods"
   ]
  },
  {
   "cell_type": "markdown",
   "metadata": {},
   "source": [
    "## Integers & Floats\n",
    "\n",
    "- Mathematical Operators: +, -, /, *, // floor division, % modulus, ** exponent\n",
    "- PEMDAS - order of operations\n",
    "- abs()\n",
    "- round(num, digits after decimal)\n",
    "- Comparison Operators (Return Booleans): ==, !=, >, < , <>, >=, <="
   ]
  },
  {
   "cell_type": "markdown",
   "metadata": {},
   "source": [
    "## Lists\n",
    "\n",
    "- Mutable, Ordered\n",
    "- Square Brackets\n",
    "- len()\n",
    "- Slicing for lists using indexing\n",
    "- .append(value/s)\n",
    "- .insert(index, value)\n",
    "- .extend(value/s)\n",
    "- append vs extend\n",
    "- .pop() - removes a random or specified member of list, can be assigned to a var\n",
    "- .reverse()\n",
    "- .sort(reverse = False) - sorts inplace\n",
    "- .sorted(list) - returns a new sorted list, not inplace\n",
    "- min(list), max(list), sum(list)\n",
    "- .index(value)\n",
    "- in - operator to check if a value is in a list, in operator is also used for looping\n",
    "- for value in list: print(value)\n",
    "- for index, value in enumerate(list, start=0): print(index, value)\n",
    "- (separator).join(list) - list to string\n",
    "- str.split(separator) - string to list"
   ]
  },
  {
   "cell_type": "markdown",
   "metadata": {},
   "source": [
    "## Tuples\n",
    "\n",
    "- Immutable, Ordered\n",
    "- Can use methods like a list, can iterate through... Anything causing a change in the Tuple will not work since its immutable\n",
    "- Round Brackets"
   ]
  },
  {
   "cell_type": "markdown",
   "metadata": {},
   "source": [
    "## Sets\n",
    "\n",
    "- Mutable, Unordered, Unique\n",
    "- Curly Brackets\n",
    "- Common uses to drop duplicates, Used to check membership of a certain value\n",
    "- set1.intersection(set2)\n",
    "- set1.difference(set2)\n",
    "- set1.union(set2)\n",
    "\n",
    "#### Additional\n",
    "\n",
    "- empty_list = []\n",
    "- empty_list = list()\n",
    "- empty_tuple = ()\n",
    "- empty_tuple = tuple()\n",
    "- {} -- this will create a dict not a set\n",
    "- empty_set = set()"
   ]
  },
  {
   "cell_type": "markdown",
   "metadata": {},
   "source": [
    "## Dictionaries\n",
    "\n",
    "- Key, Value pairs\n",
    "- Keys - can be any immutable dtype\n",
    "- dict['key'] - retrieves value for the key\n",
    "- .get(key, error message if not found) - retrieves value for key, doesnt retuen error in case second arg is blank\n",
    "- dict1.update(dict with key-value pairs to update to dict1)\n",
    "- .pop(key) - removes value for the key, returns popped value\n",
    "- len(dict)\n",
    "- .keys(), .values(), .items()\n",
    "-  .items - can be used to loop through keys and values\n",
    "- for key, value in dictL print(key, value)"
   ]
  },
  {
   "cell_type": "markdown",
   "metadata": {},
   "source": [
    "## Conditionals"
   ]
  },
  {
   "cell_type": "code",
   "execution_count": 2,
   "metadata": {},
   "outputs": [
    {
     "name": "stdout",
     "output_type": "stream",
     "text": [
      "Conditional True\n"
     ]
    }
   ],
   "source": [
    "if True: print('Conditional True')"
   ]
  },
  {
   "cell_type": "code",
   "execution_count": 3,
   "metadata": {},
   "outputs": [],
   "source": [
    "if False: print('Conditional False')"
   ]
  },
  {
   "cell_type": "code",
   "execution_count": 4,
   "metadata": {},
   "outputs": [
    {
     "name": "stdout",
     "output_type": "stream",
     "text": [
      "Condition True\n"
     ]
    }
   ],
   "source": [
    "lang = 'Python'\n",
    "\n",
    "if lang == 'Python':\n",
    "    print('Condition True')"
   ]
  },
  {
   "cell_type": "markdown",
   "metadata": {},
   "source": [
    "#### Comparison Operators\n",
    "==, !=, >, <, >=, <=, is"
   ]
  },
  {
   "cell_type": "code",
   "execution_count": 6,
   "metadata": {},
   "outputs": [
    {
     "name": "stdout",
     "output_type": "stream",
     "text": [
      "False\n"
     ]
    }
   ],
   "source": [
    "lang = 'Python'\n",
    "\n",
    "if lang == 'Java':\n",
    "    print('Condition True')\n",
    "else:\n",
    "    print('False')"
   ]
  },
  {
   "cell_type": "code",
   "execution_count": null,
   "metadata": {},
   "outputs": [],
   "source": []
  }
 ],
 "metadata": {
  "interpreter": {
   "hash": "f50bd5474255f82aa829301912ce59e29110123be660cf8d7583f66a20371684"
  },
  "kernelspec": {
   "display_name": "Python 3.8.8 64-bit ('base': conda)",
   "name": "python3"
  },
  "language_info": {
   "codemirror_mode": {
    "name": "ipython",
    "version": 3
   },
   "file_extension": ".py",
   "mimetype": "text/x-python",
   "name": "python",
   "nbconvert_exporter": "python",
   "pygments_lexer": "ipython3",
   "version": "3.8.8"
  },
  "orig_nbformat": 4
 },
 "nbformat": 4,
 "nbformat_minor": 2
}