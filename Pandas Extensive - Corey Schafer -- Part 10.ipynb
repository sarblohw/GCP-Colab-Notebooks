{
 "cells": [
  {
   "cell_type": "code",
   "execution_count": 1,
   "metadata": {},
   "outputs": [],
   "source": [
    "import numpy as np\n",
    "import pandas as pd"
   ]
  },
  {
   "cell_type": "code",
   "execution_count": 2,
   "metadata": {},
   "outputs": [],
   "source": [
    "df = pd.read_csv('survey_results_public.csv', index_col = 'Respondent')\n",
    "df_schema = pd.read_csv('survey_results_schema.csv', index_col = 'Column')"
   ]
  },
  {
   "cell_type": "code",
   "execution_count": 3,
   "metadata": {},
   "outputs": [
    {
     "data": {
      "text/html": "<div>\n<style scoped>\n    .dataframe tbody tr th:only-of-type {\n        vertical-align: middle;\n    }\n\n    .dataframe tbody tr th {\n        vertical-align: top;\n    }\n\n    .dataframe thead th {\n        text-align: right;\n    }\n</style>\n<table border=\"1\" class=\"dataframe\">\n  <thead>\n    <tr style=\"text-align: right;\">\n      <th></th>\n      <th>MainBranch</th>\n      <th>Hobbyist</th>\n      <th>OpenSourcer</th>\n      <th>OpenSource</th>\n      <th>Employment</th>\n      <th>Country</th>\n      <th>Student</th>\n      <th>EdLevel</th>\n      <th>UndergradMajor</th>\n      <th>EduOther</th>\n      <th>...</th>\n      <th>WelcomeChange</th>\n      <th>SONewContent</th>\n      <th>Age</th>\n      <th>Gender</th>\n      <th>Trans</th>\n      <th>Sexuality</th>\n      <th>Ethnicity</th>\n      <th>Dependents</th>\n      <th>SurveyLength</th>\n      <th>SurveyEase</th>\n    </tr>\n    <tr>\n      <th>Respondent</th>\n      <th></th>\n      <th></th>\n      <th></th>\n      <th></th>\n      <th></th>\n      <th></th>\n      <th></th>\n      <th></th>\n      <th></th>\n      <th></th>\n      <th></th>\n      <th></th>\n      <th></th>\n      <th></th>\n      <th></th>\n      <th></th>\n      <th></th>\n      <th></th>\n      <th></th>\n      <th></th>\n      <th></th>\n    </tr>\n  </thead>\n  <tbody>\n    <tr>\n      <th>1</th>\n      <td>I am a student who is learning to code</td>\n      <td>Yes</td>\n      <td>Never</td>\n      <td>The quality of OSS and closed source software ...</td>\n      <td>Not employed, and not looking for work</td>\n      <td>United Kingdom</td>\n      <td>No</td>\n      <td>Primary/elementary school</td>\n      <td>NaN</td>\n      <td>Taught yourself a new language, framework, or ...</td>\n      <td>...</td>\n      <td>Just as welcome now as I felt last year</td>\n      <td>Tech articles written by other developers;Indu...</td>\n      <td>14.0</td>\n      <td>Man</td>\n      <td>No</td>\n      <td>Straight / Heterosexual</td>\n      <td>NaN</td>\n      <td>No</td>\n      <td>Appropriate in length</td>\n      <td>Neither easy nor difficult</td>\n    </tr>\n    <tr>\n      <th>2</th>\n      <td>I am a student who is learning to code</td>\n      <td>No</td>\n      <td>Less than once per year</td>\n      <td>The quality of OSS and closed source software ...</td>\n      <td>Not employed, but looking for work</td>\n      <td>Bosnia and Herzegovina</td>\n      <td>Yes, full-time</td>\n      <td>Secondary school (e.g. American high school, G...</td>\n      <td>NaN</td>\n      <td>Taken an online course in programming or softw...</td>\n      <td>...</td>\n      <td>Just as welcome now as I felt last year</td>\n      <td>Tech articles written by other developers;Indu...</td>\n      <td>19.0</td>\n      <td>Man</td>\n      <td>No</td>\n      <td>Straight / Heterosexual</td>\n      <td>NaN</td>\n      <td>No</td>\n      <td>Appropriate in length</td>\n      <td>Neither easy nor difficult</td>\n    </tr>\n    <tr>\n      <th>3</th>\n      <td>I am not primarily a developer, but I write co...</td>\n      <td>Yes</td>\n      <td>Never</td>\n      <td>The quality of OSS and closed source software ...</td>\n      <td>Employed full-time</td>\n      <td>Thailand</td>\n      <td>No</td>\n      <td>Bachelor’s degree (BA, BS, B.Eng., etc.)</td>\n      <td>Web development or web design</td>\n      <td>Taught yourself a new language, framework, or ...</td>\n      <td>...</td>\n      <td>Just as welcome now as I felt last year</td>\n      <td>Tech meetups or events in your area;Courses on...</td>\n      <td>28.0</td>\n      <td>Man</td>\n      <td>No</td>\n      <td>Straight / Heterosexual</td>\n      <td>NaN</td>\n      <td>Yes</td>\n      <td>Appropriate in length</td>\n      <td>Neither easy nor difficult</td>\n    </tr>\n  </tbody>\n</table>\n<p>3 rows × 84 columns</p>\n</div>",
      "text/plain": "                                                   MainBranch Hobbyist  \\\nRespondent                                                               \n1                      I am a student who is learning to code      Yes   \n2                      I am a student who is learning to code       No   \n3           I am not primarily a developer, but I write co...      Yes   \n\n                        OpenSourcer  \\\nRespondent                            \n1                             Never   \n2           Less than once per year   \n3                             Never   \n\n                                                   OpenSource  \\\nRespondent                                                      \n1           The quality of OSS and closed source software ...   \n2           The quality of OSS and closed source software ...   \n3           The quality of OSS and closed source software ...   \n\n                                        Employment                 Country  \\\nRespondent                                                                   \n1           Not employed, and not looking for work          United Kingdom   \n2               Not employed, but looking for work  Bosnia and Herzegovina   \n3                               Employed full-time                Thailand   \n\n                   Student                                            EdLevel  \\\nRespondent                                                                      \n1                       No                          Primary/elementary school   \n2           Yes, full-time  Secondary school (e.g. American high school, G...   \n3                       No           Bachelor’s degree (BA, BS, B.Eng., etc.)   \n\n                           UndergradMajor  \\\nRespondent                                  \n1                                     NaN   \n2                                     NaN   \n3           Web development or web design   \n\n                                                     EduOther  ...  \\\nRespondent                                                     ...   \n1           Taught yourself a new language, framework, or ...  ...   \n2           Taken an online course in programming or softw...  ...   \n3           Taught yourself a new language, framework, or ...  ...   \n\n                                      WelcomeChange  \\\nRespondent                                            \n1           Just as welcome now as I felt last year   \n2           Just as welcome now as I felt last year   \n3           Just as welcome now as I felt last year   \n\n                                                 SONewContent   Age Gender  \\\nRespondent                                                                   \n1           Tech articles written by other developers;Indu...  14.0    Man   \n2           Tech articles written by other developers;Indu...  19.0    Man   \n3           Tech meetups or events in your area;Courses on...  28.0    Man   \n\n           Trans                Sexuality Ethnicity Dependents  \\\nRespondent                                                       \n1             No  Straight / Heterosexual       NaN         No   \n2             No  Straight / Heterosexual       NaN         No   \n3             No  Straight / Heterosexual       NaN        Yes   \n\n                     SurveyLength                  SurveyEase  \nRespondent                                                     \n1           Appropriate in length  Neither easy nor difficult  \n2           Appropriate in length  Neither easy nor difficult  \n3           Appropriate in length  Neither easy nor difficult  \n\n[3 rows x 84 columns]"
     },
     "execution_count": 3,
     "metadata": {},
     "output_type": "execute_result"
    }
   ],
   "source": [
    "df.head(3)"
   ]
  },
  {
   "cell_type": "code",
   "execution_count": 6,
   "metadata": {},
   "outputs": [],
   "source": [
    "filt = df.Country == 'India'\n",
    "india_df = df.loc[filt]"
   ]
  },
  {
   "cell_type": "code",
   "execution_count": 7,
   "metadata": {},
   "outputs": [],
   "source": [
    "india_df.to_csv('india_df_tst.csv')"
   ]
  },
  {
   "cell_type": "code",
   "execution_count": 9,
   "metadata": {},
   "outputs": [],
   "source": [
    "india_df.to_csv('india_df_tst.tsv', sep = '\\t')"
   ]
  },
  {
   "cell_type": "code",
   "execution_count": 10,
   "metadata": {},
   "outputs": [],
   "source": [
    "ind = pd.read_csv('india_df_tst.tsv', sep = '\\t')"
   ]
  },
  {
   "cell_type": "code",
   "execution_count": 12,
   "metadata": {},
   "outputs": [
    {
     "data": {
      "text/html": "<div>\n<style scoped>\n    .dataframe tbody tr th:only-of-type {\n        vertical-align: middle;\n    }\n\n    .dataframe tbody tr th {\n        vertical-align: top;\n    }\n\n    .dataframe thead th {\n        text-align: right;\n    }\n</style>\n<table border=\"1\" class=\"dataframe\">\n  <thead>\n    <tr style=\"text-align: right;\">\n      <th></th>\n      <th>Respondent</th>\n      <th>MainBranch</th>\n      <th>Hobbyist</th>\n      <th>OpenSourcer</th>\n      <th>OpenSource</th>\n      <th>Employment</th>\n      <th>Country</th>\n      <th>Student</th>\n      <th>EdLevel</th>\n      <th>UndergradMajor</th>\n      <th>...</th>\n      <th>WelcomeChange</th>\n      <th>SONewContent</th>\n      <th>Age</th>\n      <th>Gender</th>\n      <th>Trans</th>\n      <th>Sexuality</th>\n      <th>Ethnicity</th>\n      <th>Dependents</th>\n      <th>SurveyLength</th>\n      <th>SurveyEase</th>\n    </tr>\n  </thead>\n  <tbody>\n    <tr>\n      <th>0</th>\n      <td>8</td>\n      <td>I code primarily as a hobby</td>\n      <td>Yes</td>\n      <td>Less than once per year</td>\n      <td>OSS is, on average, of HIGHER quality than pro...</td>\n      <td>Not employed, but looking for work</td>\n      <td>India</td>\n      <td>NaN</td>\n      <td>Bachelor’s degree (BA, BS, B.Eng., etc.)</td>\n      <td>Computer science, computer engineering, or sof...</td>\n      <td>...</td>\n      <td>A lot more welcome now than last year</td>\n      <td>Tech articles written by other developers;Indu...</td>\n      <td>24.0</td>\n      <td>Man</td>\n      <td>No</td>\n      <td>Straight / Heterosexual</td>\n      <td>NaN</td>\n      <td>NaN</td>\n      <td>Appropriate in length</td>\n      <td>Neither easy nor difficult</td>\n    </tr>\n    <tr>\n      <th>1</th>\n      <td>10</td>\n      <td>I am a developer by profession</td>\n      <td>Yes</td>\n      <td>Once a month or more often</td>\n      <td>OSS is, on average, of HIGHER quality than pro...</td>\n      <td>Employed full-time</td>\n      <td>India</td>\n      <td>No</td>\n      <td>Master’s degree (MA, MS, M.Eng., MBA, etc.)</td>\n      <td>NaN</td>\n      <td>...</td>\n      <td>Somewhat less welcome now than last year</td>\n      <td>Tech articles written by other developers;Tech...</td>\n      <td>NaN</td>\n      <td>NaN</td>\n      <td>NaN</td>\n      <td>NaN</td>\n      <td>NaN</td>\n      <td>Yes</td>\n      <td>Too long</td>\n      <td>Difficult</td>\n    </tr>\n    <tr>\n      <th>2</th>\n      <td>15</td>\n      <td>I am a student who is learning to code</td>\n      <td>Yes</td>\n      <td>Never</td>\n      <td>OSS is, on average, of HIGHER quality than pro...</td>\n      <td>Not employed, but looking for work</td>\n      <td>India</td>\n      <td>Yes, full-time</td>\n      <td>Secondary school (e.g. American high school, G...</td>\n      <td>NaN</td>\n      <td>...</td>\n      <td>Just as welcome now as I felt last year</td>\n      <td>Tech articles written by other developers;Indu...</td>\n      <td>20.0</td>\n      <td>Man</td>\n      <td>No</td>\n      <td>NaN</td>\n      <td>NaN</td>\n      <td>Yes</td>\n      <td>Too long</td>\n      <td>Neither easy nor difficult</td>\n    </tr>\n  </tbody>\n</table>\n<p>3 rows × 85 columns</p>\n</div>",
      "text/plain": "   Respondent                              MainBranch Hobbyist  \\\n0           8             I code primarily as a hobby      Yes   \n1          10          I am a developer by profession      Yes   \n2          15  I am a student who is learning to code      Yes   \n\n                  OpenSourcer  \\\n0     Less than once per year   \n1  Once a month or more often   \n2                       Never   \n\n                                          OpenSource  \\\n0  OSS is, on average, of HIGHER quality than pro...   \n1  OSS is, on average, of HIGHER quality than pro...   \n2  OSS is, on average, of HIGHER quality than pro...   \n\n                           Employment Country         Student  \\\n0  Not employed, but looking for work   India             NaN   \n1                  Employed full-time   India              No   \n2  Not employed, but looking for work   India  Yes, full-time   \n\n                                             EdLevel  \\\n0           Bachelor’s degree (BA, BS, B.Eng., etc.)   \n1        Master’s degree (MA, MS, M.Eng., MBA, etc.)   \n2  Secondary school (e.g. American high school, G...   \n\n                                      UndergradMajor  ...  \\\n0  Computer science, computer engineering, or sof...  ...   \n1                                                NaN  ...   \n2                                                NaN  ...   \n\n                              WelcomeChange  \\\n0     A lot more welcome now than last year   \n1  Somewhat less welcome now than last year   \n2   Just as welcome now as I felt last year   \n\n                                        SONewContent   Age Gender Trans  \\\n0  Tech articles written by other developers;Indu...  24.0    Man    No   \n1  Tech articles written by other developers;Tech...   NaN    NaN   NaN   \n2  Tech articles written by other developers;Indu...  20.0    Man    No   \n\n                 Sexuality Ethnicity Dependents           SurveyLength  \\\n0  Straight / Heterosexual       NaN        NaN  Appropriate in length   \n1                      NaN       NaN        Yes               Too long   \n2                      NaN       NaN        Yes               Too long   \n\n                   SurveyEase  \n0  Neither easy nor difficult  \n1                   Difficult  \n2  Neither easy nor difficult  \n\n[3 rows x 85 columns]"
     },
     "execution_count": 12,
     "metadata": {},
     "output_type": "execute_result"
    }
   ],
   "source": [
    "ind.head(3)"
   ]
  },
  {
   "cell_type": "code",
   "execution_count": 13,
   "metadata": {},
   "outputs": [],
   "source": [
    "# modules to extract to excel\n",
    "# xlwt\n",
    "# openpyxl\n",
    "# xlrd"
   ]
  },
  {
   "cell_type": "code",
   "execution_count": 14,
   "metadata": {},
   "outputs": [],
   "source": [
    "india_df.to_excel('india_df_tst.xlsx')\n",
    "# sheet can be defined as an arguement"
   ]
  },
  {
   "cell_type": "code",
   "execution_count": 15,
   "metadata": {},
   "outputs": [],
   "source": [
    "test = pd.read_excel('india_df_tst.xlsx', index_col = 'Respondent')"
   ]
  },
  {
   "cell_type": "code",
   "execution_count": 16,
   "metadata": {},
   "outputs": [
    {
     "data": {
      "text/html": "<div>\n<style scoped>\n    .dataframe tbody tr th:only-of-type {\n        vertical-align: middle;\n    }\n\n    .dataframe tbody tr th {\n        vertical-align: top;\n    }\n\n    .dataframe thead th {\n        text-align: right;\n    }\n</style>\n<table border=\"1\" class=\"dataframe\">\n  <thead>\n    <tr style=\"text-align: right;\">\n      <th></th>\n      <th>MainBranch</th>\n      <th>Hobbyist</th>\n      <th>OpenSourcer</th>\n      <th>OpenSource</th>\n      <th>Employment</th>\n      <th>Country</th>\n      <th>Student</th>\n      <th>EdLevel</th>\n      <th>UndergradMajor</th>\n      <th>EduOther</th>\n      <th>...</th>\n      <th>WelcomeChange</th>\n      <th>SONewContent</th>\n      <th>Age</th>\n      <th>Gender</th>\n      <th>Trans</th>\n      <th>Sexuality</th>\n      <th>Ethnicity</th>\n      <th>Dependents</th>\n      <th>SurveyLength</th>\n      <th>SurveyEase</th>\n    </tr>\n    <tr>\n      <th>Respondent</th>\n      <th></th>\n      <th></th>\n      <th></th>\n      <th></th>\n      <th></th>\n      <th></th>\n      <th></th>\n      <th></th>\n      <th></th>\n      <th></th>\n      <th></th>\n      <th></th>\n      <th></th>\n      <th></th>\n      <th></th>\n      <th></th>\n      <th></th>\n      <th></th>\n      <th></th>\n      <th></th>\n      <th></th>\n    </tr>\n  </thead>\n  <tbody>\n    <tr>\n      <th>8</th>\n      <td>I code primarily as a hobby</td>\n      <td>Yes</td>\n      <td>Less than once per year</td>\n      <td>OSS is, on average, of HIGHER quality than pro...</td>\n      <td>Not employed, but looking for work</td>\n      <td>India</td>\n      <td>NaN</td>\n      <td>Bachelor’s degree (BA, BS, B.Eng., etc.)</td>\n      <td>Computer science, computer engineering, or sof...</td>\n      <td>Taught yourself a new language, framework, or ...</td>\n      <td>...</td>\n      <td>A lot more welcome now than last year</td>\n      <td>Tech articles written by other developers;Indu...</td>\n      <td>24.0</td>\n      <td>Man</td>\n      <td>No</td>\n      <td>Straight / Heterosexual</td>\n      <td>NaN</td>\n      <td>NaN</td>\n      <td>Appropriate in length</td>\n      <td>Neither easy nor difficult</td>\n    </tr>\n    <tr>\n      <th>10</th>\n      <td>I am a developer by profession</td>\n      <td>Yes</td>\n      <td>Once a month or more often</td>\n      <td>OSS is, on average, of HIGHER quality than pro...</td>\n      <td>Employed full-time</td>\n      <td>India</td>\n      <td>No</td>\n      <td>Master’s degree (MA, MS, M.Eng., MBA, etc.)</td>\n      <td>NaN</td>\n      <td>NaN</td>\n      <td>...</td>\n      <td>Somewhat less welcome now than last year</td>\n      <td>Tech articles written by other developers;Tech...</td>\n      <td>NaN</td>\n      <td>NaN</td>\n      <td>NaN</td>\n      <td>NaN</td>\n      <td>NaN</td>\n      <td>Yes</td>\n      <td>Too long</td>\n      <td>Difficult</td>\n    </tr>\n    <tr>\n      <th>15</th>\n      <td>I am a student who is learning to code</td>\n      <td>Yes</td>\n      <td>Never</td>\n      <td>OSS is, on average, of HIGHER quality than pro...</td>\n      <td>Not employed, but looking for work</td>\n      <td>India</td>\n      <td>Yes, full-time</td>\n      <td>Secondary school (e.g. American high school, G...</td>\n      <td>NaN</td>\n      <td>Taken an online course in programming or softw...</td>\n      <td>...</td>\n      <td>Just as welcome now as I felt last year</td>\n      <td>Tech articles written by other developers;Indu...</td>\n      <td>20.0</td>\n      <td>Man</td>\n      <td>No</td>\n      <td>NaN</td>\n      <td>NaN</td>\n      <td>Yes</td>\n      <td>Too long</td>\n      <td>Neither easy nor difficult</td>\n    </tr>\n  </tbody>\n</table>\n<p>3 rows × 84 columns</p>\n</div>",
      "text/plain": "                                        MainBranch Hobbyist  \\\nRespondent                                                    \n8                      I code primarily as a hobby      Yes   \n10                  I am a developer by profession      Yes   \n15          I am a student who is learning to code      Yes   \n\n                           OpenSourcer  \\\nRespondent                               \n8              Less than once per year   \n10          Once a month or more often   \n15                               Never   \n\n                                                   OpenSource  \\\nRespondent                                                      \n8           OSS is, on average, of HIGHER quality than pro...   \n10          OSS is, on average, of HIGHER quality than pro...   \n15          OSS is, on average, of HIGHER quality than pro...   \n\n                                    Employment Country         Student  \\\nRespondent                                                               \n8           Not employed, but looking for work   India             NaN   \n10                          Employed full-time   India              No   \n15          Not employed, but looking for work   India  Yes, full-time   \n\n                                                      EdLevel  \\\nRespondent                                                      \n8                    Bachelor’s degree (BA, BS, B.Eng., etc.)   \n10                Master’s degree (MA, MS, M.Eng., MBA, etc.)   \n15          Secondary school (e.g. American high school, G...   \n\n                                               UndergradMajor  \\\nRespondent                                                      \n8           Computer science, computer engineering, or sof...   \n10                                                        NaN   \n15                                                        NaN   \n\n                                                     EduOther  ...  \\\nRespondent                                                     ...   \n8           Taught yourself a new language, framework, or ...  ...   \n10                                                        NaN  ...   \n15          Taken an online course in programming or softw...  ...   \n\n                                       WelcomeChange  \\\nRespondent                                             \n8              A lot more welcome now than last year   \n10          Somewhat less welcome now than last year   \n15           Just as welcome now as I felt last year   \n\n                                                 SONewContent   Age Gender  \\\nRespondent                                                                   \n8           Tech articles written by other developers;Indu...  24.0    Man   \n10          Tech articles written by other developers;Tech...   NaN    NaN   \n15          Tech articles written by other developers;Indu...  20.0    Man   \n\n           Trans                Sexuality Ethnicity Dependents  \\\nRespondent                                                       \n8             No  Straight / Heterosexual       NaN        NaN   \n10           NaN                      NaN       NaN        Yes   \n15            No                      NaN       NaN        Yes   \n\n                     SurveyLength                  SurveyEase  \nRespondent                                                     \n8           Appropriate in length  Neither easy nor difficult  \n10                       Too long                   Difficult  \n15                       Too long  Neither easy nor difficult  \n\n[3 rows x 84 columns]"
     },
     "execution_count": 16,
     "metadata": {},
     "output_type": "execute_result"
    }
   ],
   "source": [
    "test.head(3)"
   ]
  },
  {
   "cell_type": "code",
   "execution_count": 17,
   "metadata": {},
   "outputs": [],
   "source": [
    "india_df.to_json('india_df.json')"
   ]
  },
  {
   "cell_type": "code",
   "execution_count": 18,
   "metadata": {},
   "outputs": [],
   "source": [
    "india_df.to_json('india_df_2.json', orient = 'records', lines = True)"
   ]
  },
  {
   "cell_type": "code",
   "execution_count": 19,
   "metadata": {},
   "outputs": [],
   "source": [
    "tst_json = pd.read_json('india_df_2.json', orient = 'records', lines = True)"
   ]
  },
  {
   "cell_type": "code",
   "execution_count": 20,
   "metadata": {},
   "outputs": [
    {
     "data": {
      "text/html": "<div>\n<style scoped>\n    .dataframe tbody tr th:only-of-type {\n        vertical-align: middle;\n    }\n\n    .dataframe tbody tr th {\n        vertical-align: top;\n    }\n\n    .dataframe thead th {\n        text-align: right;\n    }\n</style>\n<table border=\"1\" class=\"dataframe\">\n  <thead>\n    <tr style=\"text-align: right;\">\n      <th></th>\n      <th>MainBranch</th>\n      <th>Hobbyist</th>\n      <th>OpenSourcer</th>\n      <th>OpenSource</th>\n      <th>Employment</th>\n      <th>Country</th>\n      <th>Student</th>\n      <th>EdLevel</th>\n      <th>UndergradMajor</th>\n      <th>EduOther</th>\n      <th>...</th>\n      <th>WelcomeChange</th>\n      <th>SONewContent</th>\n      <th>Age</th>\n      <th>Gender</th>\n      <th>Trans</th>\n      <th>Sexuality</th>\n      <th>Ethnicity</th>\n      <th>Dependents</th>\n      <th>SurveyLength</th>\n      <th>SurveyEase</th>\n    </tr>\n  </thead>\n  <tbody>\n    <tr>\n      <th>0</th>\n      <td>I code primarily as a hobby</td>\n      <td>Yes</td>\n      <td>Less than once per year</td>\n      <td>OSS is, on average, of HIGHER quality than pro...</td>\n      <td>Not employed, but looking for work</td>\n      <td>India</td>\n      <td>None</td>\n      <td>Bachelor’s degree (BA, BS, B.Eng., etc.)</td>\n      <td>Computer science, computer engineering, or sof...</td>\n      <td>Taught yourself a new language, framework, or ...</td>\n      <td>...</td>\n      <td>A lot more welcome now than last year</td>\n      <td>Tech articles written by other developers;Indu...</td>\n      <td>24.0</td>\n      <td>Man</td>\n      <td>No</td>\n      <td>Straight / Heterosexual</td>\n      <td>None</td>\n      <td>None</td>\n      <td>Appropriate in length</td>\n      <td>Neither easy nor difficult</td>\n    </tr>\n    <tr>\n      <th>1</th>\n      <td>I am a developer by profession</td>\n      <td>Yes</td>\n      <td>Once a month or more often</td>\n      <td>OSS is, on average, of HIGHER quality than pro...</td>\n      <td>Employed full-time</td>\n      <td>India</td>\n      <td>No</td>\n      <td>Master’s degree (MA, MS, M.Eng., MBA, etc.)</td>\n      <td>None</td>\n      <td>None</td>\n      <td>...</td>\n      <td>Somewhat less welcome now than last year</td>\n      <td>Tech articles written by other developers;Tech...</td>\n      <td>NaN</td>\n      <td>None</td>\n      <td>None</td>\n      <td>None</td>\n      <td>None</td>\n      <td>Yes</td>\n      <td>Too long</td>\n      <td>Difficult</td>\n    </tr>\n    <tr>\n      <th>2</th>\n      <td>I am a student who is learning to code</td>\n      <td>Yes</td>\n      <td>Never</td>\n      <td>OSS is, on average, of HIGHER quality than pro...</td>\n      <td>Not employed, but looking for work</td>\n      <td>India</td>\n      <td>Yes, full-time</td>\n      <td>Secondary school (e.g. American high school, G...</td>\n      <td>None</td>\n      <td>Taken an online course in programming or softw...</td>\n      <td>...</td>\n      <td>Just as welcome now as I felt last year</td>\n      <td>Tech articles written by other developers;Indu...</td>\n      <td>20.0</td>\n      <td>Man</td>\n      <td>No</td>\n      <td>None</td>\n      <td>None</td>\n      <td>Yes</td>\n      <td>Too long</td>\n      <td>Neither easy nor difficult</td>\n    </tr>\n  </tbody>\n</table>\n<p>3 rows × 84 columns</p>\n</div>",
      "text/plain": "                               MainBranch Hobbyist  \\\n0             I code primarily as a hobby      Yes   \n1          I am a developer by profession      Yes   \n2  I am a student who is learning to code      Yes   \n\n                  OpenSourcer  \\\n0     Less than once per year   \n1  Once a month or more often   \n2                       Never   \n\n                                          OpenSource  \\\n0  OSS is, on average, of HIGHER quality than pro...   \n1  OSS is, on average, of HIGHER quality than pro...   \n2  OSS is, on average, of HIGHER quality than pro...   \n\n                           Employment Country         Student  \\\n0  Not employed, but looking for work   India            None   \n1                  Employed full-time   India              No   \n2  Not employed, but looking for work   India  Yes, full-time   \n\n                                             EdLevel  \\\n0           Bachelor’s degree (BA, BS, B.Eng., etc.)   \n1        Master’s degree (MA, MS, M.Eng., MBA, etc.)   \n2  Secondary school (e.g. American high school, G...   \n\n                                      UndergradMajor  \\\n0  Computer science, computer engineering, or sof...   \n1                                               None   \n2                                               None   \n\n                                            EduOther  ...  \\\n0  Taught yourself a new language, framework, or ...  ...   \n1                                               None  ...   \n2  Taken an online course in programming or softw...  ...   \n\n                              WelcomeChange  \\\n0     A lot more welcome now than last year   \n1  Somewhat less welcome now than last year   \n2   Just as welcome now as I felt last year   \n\n                                        SONewContent   Age Gender Trans  \\\n0  Tech articles written by other developers;Indu...  24.0    Man    No   \n1  Tech articles written by other developers;Tech...   NaN   None  None   \n2  Tech articles written by other developers;Indu...  20.0    Man    No   \n\n                 Sexuality Ethnicity Dependents           SurveyLength  \\\n0  Straight / Heterosexual      None       None  Appropriate in length   \n1                     None      None        Yes               Too long   \n2                     None      None        Yes               Too long   \n\n                   SurveyEase  \n0  Neither easy nor difficult  \n1                   Difficult  \n2  Neither easy nor difficult  \n\n[3 rows x 84 columns]"
     },
     "execution_count": 20,
     "metadata": {},
     "output_type": "execute_result"
    }
   ],
   "source": [
    "tst_json.head(3)"
   ]
  },
  {
   "cell_type": "code",
   "execution_count": null,
   "metadata": {},
   "outputs": [],
   "source": [
    "#postgresSQL\n",
    "#modules needed - "
   ]
  }
 ],
 "metadata": {
  "kernelspec": {
   "display_name": "Python 3.9.5 64-bit ('py39': conda)",
   "name": "python395jvsc74a57bd0ce669b1ba2047c160fc1d3d4af30333e47dfbab10acf13e5d92699a559b99d3c"
  },
  "language_info": {
   "codemirror_mode": {
    "name": "ipython",
    "version": 3
   },
   "file_extension": ".py",
   "mimetype": "text/x-python",
   "name": "python",
   "nbconvert_exporter": "python",
   "pygments_lexer": "ipython3",
   "version": "3.9.5"
  },
  "metadata": {
   "interpreter": {
    "hash": "ce669b1ba2047c160fc1d3d4af30333e47dfbab10acf13e5d92699a559b99d3c"
   }
  },
  "orig_nbformat": 2
 },
 "nbformat": 4,
 "nbformat_minor": 2
}