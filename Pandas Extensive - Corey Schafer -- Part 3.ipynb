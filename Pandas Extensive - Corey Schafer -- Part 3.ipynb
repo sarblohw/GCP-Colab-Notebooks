{
 "metadata": {
  "language_info": {
   "codemirror_mode": {
    "name": "ipython",
    "version": 3
   },
   "file_extension": ".py",
   "mimetype": "text/x-python",
   "name": "python",
   "nbconvert_exporter": "python",
   "pygments_lexer": "ipython3",
   "version": "2020.11"
  },
  "orig_nbformat": 2,
  "kernelspec": {
   "name": "pythonjvsc74a57bd05af9480598a1819ce94d824d2a72f1e549fbb93b0aa477353265d55d0861f1e5",
   "display_name": "Python 2020.11 64-bit"
  },
  "metadata": {
   "interpreter": {
    "hash": "5af9480598a1819ce94d824d2a72f1e549fbb93b0aa477353265d55d0861f1e5"
   }
  }
 },
 "nbformat": 4,
 "nbformat_minor": 2,
 "cells": [
  {
   "source": [
    "#### Part 5: Corey Schafer Pandas Extensive"
   ],
   "cell_type": "markdown",
   "metadata": {}
  },
  {
   "cell_type": "code",
   "execution_count": 1,
   "metadata": {},
   "outputs": [],
   "source": [
    "import pandas as pd"
   ]
  },
  {
   "cell_type": "code",
   "execution_count": 2,
   "metadata": {},
   "outputs": [],
   "source": [
    "# recap"
   ]
  },
  {
   "cell_type": "code",
   "execution_count": 3,
   "metadata": {},
   "outputs": [],
   "source": [
    "people = {\n",
    "    'fname' : ['Suminder', 'Deepinder', 'Nimrat'],\n",
    "    'lname' : ['Singh', 'Kaur', 'Kaur'],\n",
    "    'email' : ['suminder.singh@ex.com', 'dkaur@ex.com', 'nkaur@ex.com']\n",
    "}\n",
    "\n",
    "df_ppl = pd.DataFrame(people)"
   ]
  },
  {
   "cell_type": "code",
   "execution_count": 4,
   "metadata": {},
   "outputs": [
    {
     "output_type": "execute_result",
     "data": {
      "text/plain": [
       "       fname  lname                  email\n",
       "0   Suminder  Singh  suminder.singh@ex.com\n",
       "1  Deepinder   Kaur           dkaur@ex.com\n",
       "2     Nimrat   Kaur           nkaur@ex.com"
      ],
      "text/html": "<div>\n<style scoped>\n    .dataframe tbody tr th:only-of-type {\n        vertical-align: middle;\n    }\n\n    .dataframe tbody tr th {\n        vertical-align: top;\n    }\n\n    .dataframe thead th {\n        text-align: right;\n    }\n</style>\n<table border=\"1\" class=\"dataframe\">\n  <thead>\n    <tr style=\"text-align: right;\">\n      <th></th>\n      <th>fname</th>\n      <th>lname</th>\n      <th>email</th>\n    </tr>\n  </thead>\n  <tbody>\n    <tr>\n      <th>0</th>\n      <td>Suminder</td>\n      <td>Singh</td>\n      <td>suminder.singh@ex.com</td>\n    </tr>\n    <tr>\n      <th>1</th>\n      <td>Deepinder</td>\n      <td>Kaur</td>\n      <td>dkaur@ex.com</td>\n    </tr>\n    <tr>\n      <th>2</th>\n      <td>Nimrat</td>\n      <td>Kaur</td>\n      <td>nkaur@ex.com</td>\n    </tr>\n  </tbody>\n</table>\n</div>"
     },
     "metadata": {},
     "execution_count": 4
    }
   ],
   "source": [
    "df_ppl"
   ]
  },
  {
   "cell_type": "code",
   "execution_count": 5,
   "metadata": {},
   "outputs": [],
   "source": [
    "df_ppl.columns = [x.capitalize() for x in df_ppl.columns]"
   ]
  },
  {
   "cell_type": "code",
   "execution_count": 6,
   "metadata": {},
   "outputs": [
    {
     "output_type": "execute_result",
     "data": {
      "text/plain": [
       "       Fname  Lname                  Email\n",
       "0   Suminder  Singh  suminder.singh@ex.com\n",
       "1  Deepinder   Kaur           dkaur@ex.com\n",
       "2     Nimrat   Kaur           nkaur@ex.com"
      ],
      "text/html": "<div>\n<style scoped>\n    .dataframe tbody tr th:only-of-type {\n        vertical-align: middle;\n    }\n\n    .dataframe tbody tr th {\n        vertical-align: top;\n    }\n\n    .dataframe thead th {\n        text-align: right;\n    }\n</style>\n<table border=\"1\" class=\"dataframe\">\n  <thead>\n    <tr style=\"text-align: right;\">\n      <th></th>\n      <th>Fname</th>\n      <th>Lname</th>\n      <th>Email</th>\n    </tr>\n  </thead>\n  <tbody>\n    <tr>\n      <th>0</th>\n      <td>Suminder</td>\n      <td>Singh</td>\n      <td>suminder.singh@ex.com</td>\n    </tr>\n    <tr>\n      <th>1</th>\n      <td>Deepinder</td>\n      <td>Kaur</td>\n      <td>dkaur@ex.com</td>\n    </tr>\n    <tr>\n      <th>2</th>\n      <td>Nimrat</td>\n      <td>Kaur</td>\n      <td>nkaur@ex.com</td>\n    </tr>\n  </tbody>\n</table>\n</div>"
     },
     "metadata": {},
     "execution_count": 6
    }
   ],
   "source": [
    "df_ppl"
   ]
  },
  {
   "cell_type": "code",
   "execution_count": 7,
   "metadata": {},
   "outputs": [],
   "source": [
    "df_ppl['1'] = [x.split('@')[0] for x in df_ppl.loc[:,'Email']]"
   ]
  },
  {
   "cell_type": "code",
   "execution_count": 15,
   "metadata": {},
   "outputs": [
    {
     "output_type": "execute_result",
     "data": {
      "text/plain": [
       "       Fname  Lname                  Email                    (1, 2)  \\\n",
       "0   Suminder  Singh  suminder.singh@ex.com  [suminder.singh, ex.com]   \n",
       "1  Deepinder   Kaur           dkaur@ex.com           [dkaur, ex.com]   \n",
       "2     Nimrat   Kaur           nkaur@ex.com           [nkaur, ex.com]   \n",
       "\n",
       "                1  \n",
       "0  suminder.singh  \n",
       "1           dkaur  \n",
       "2           nkaur  "
      ],
      "text/html": "<div>\n<style scoped>\n    .dataframe tbody tr th:only-of-type {\n        vertical-align: middle;\n    }\n\n    .dataframe tbody tr th {\n        vertical-align: top;\n    }\n\n    .dataframe thead th {\n        text-align: right;\n    }\n</style>\n<table border=\"1\" class=\"dataframe\">\n  <thead>\n    <tr style=\"text-align: right;\">\n      <th></th>\n      <th>Fname</th>\n      <th>Lname</th>\n      <th>Email</th>\n      <th>(1, 2)</th>\n      <th>1</th>\n    </tr>\n  </thead>\n  <tbody>\n    <tr>\n      <th>0</th>\n      <td>Suminder</td>\n      <td>Singh</td>\n      <td>suminder.singh@ex.com</td>\n      <td>[suminder.singh, ex.com]</td>\n      <td>suminder.singh</td>\n    </tr>\n    <tr>\n      <th>1</th>\n      <td>Deepinder</td>\n      <td>Kaur</td>\n      <td>dkaur@ex.com</td>\n      <td>[dkaur, ex.com]</td>\n      <td>dkaur</td>\n    </tr>\n    <tr>\n      <th>2</th>\n      <td>Nimrat</td>\n      <td>Kaur</td>\n      <td>nkaur@ex.com</td>\n      <td>[nkaur, ex.com]</td>\n      <td>nkaur</td>\n    </tr>\n  </tbody>\n</table>\n</div>"
     },
     "metadata": {},
     "execution_count": 15
    }
   ],
   "source": [
    "df_ppl"
   ]
  },
  {
   "cell_type": "code",
   "execution_count": 10,
   "metadata": {},
   "outputs": [
    {
     "output_type": "execute_result",
     "data": {
      "text/plain": [
       "       Fname  Lname                  Email               1\n",
       "0   Suminder  Singh  suminder.singh@ex.com  suminder.singh\n",
       "1  Deepinder   Kaur           dkaur@ex.com           dkaur\n",
       "2     Nimrat   Kaur           nkaur@ex.com           nkaur"
      ],
      "text/html": "<div>\n<style scoped>\n    .dataframe tbody tr th:only-of-type {\n        vertical-align: middle;\n    }\n\n    .dataframe tbody tr th {\n        vertical-align: top;\n    }\n\n    .dataframe thead th {\n        text-align: right;\n    }\n</style>\n<table border=\"1\" class=\"dataframe\">\n  <thead>\n    <tr style=\"text-align: right;\">\n      <th></th>\n      <th>Fname</th>\n      <th>Lname</th>\n      <th>Email</th>\n      <th>1</th>\n    </tr>\n  </thead>\n  <tbody>\n    <tr>\n      <th>0</th>\n      <td>Suminder</td>\n      <td>Singh</td>\n      <td>suminder.singh@ex.com</td>\n      <td>suminder.singh</td>\n    </tr>\n    <tr>\n      <th>1</th>\n      <td>Deepinder</td>\n      <td>Kaur</td>\n      <td>dkaur@ex.com</td>\n      <td>dkaur</td>\n    </tr>\n    <tr>\n      <th>2</th>\n      <td>Nimrat</td>\n      <td>Kaur</td>\n      <td>nkaur@ex.com</td>\n      <td>nkaur</td>\n    </tr>\n  </tbody>\n</table>\n</div>"
     },
     "metadata": {},
     "execution_count": 10
    }
   ],
   "source": [
    "df_ppl"
   ]
  },
  {
   "cell_type": "code",
   "execution_count": 11,
   "metadata": {},
   "outputs": [],
   "source": [
    "df_ppl.drop(columns = '1', inplace=True)"
   ]
  },
  {
   "cell_type": "code",
   "execution_count": 12,
   "metadata": {},
   "outputs": [
    {
     "output_type": "execute_result",
     "data": {
      "text/plain": [
       "       Fname  Lname                  Email\n",
       "0   Suminder  Singh  suminder.singh@ex.com\n",
       "1  Deepinder   Kaur           dkaur@ex.com\n",
       "2     Nimrat   Kaur           nkaur@ex.com"
      ],
      "text/html": "<div>\n<style scoped>\n    .dataframe tbody tr th:only-of-type {\n        vertical-align: middle;\n    }\n\n    .dataframe tbody tr th {\n        vertical-align: top;\n    }\n\n    .dataframe thead th {\n        text-align: right;\n    }\n</style>\n<table border=\"1\" class=\"dataframe\">\n  <thead>\n    <tr style=\"text-align: right;\">\n      <th></th>\n      <th>Fname</th>\n      <th>Lname</th>\n      <th>Email</th>\n    </tr>\n  </thead>\n  <tbody>\n    <tr>\n      <th>0</th>\n      <td>Suminder</td>\n      <td>Singh</td>\n      <td>suminder.singh@ex.com</td>\n    </tr>\n    <tr>\n      <th>1</th>\n      <td>Deepinder</td>\n      <td>Kaur</td>\n      <td>dkaur@ex.com</td>\n    </tr>\n    <tr>\n      <th>2</th>\n      <td>Nimrat</td>\n      <td>Kaur</td>\n      <td>nkaur@ex.com</td>\n    </tr>\n  </tbody>\n</table>\n</div>"
     },
     "metadata": {},
     "execution_count": 12
    }
   ],
   "source": [
    "df_ppl"
   ]
  },
  {
   "cell_type": "code",
   "execution_count": 14,
   "metadata": {},
   "outputs": [
    {
     "output_type": "execute_result",
     "data": {
      "text/plain": [
       "       Fname  Lname                  Email\n",
       "0   Suminder  Singh  suminder.singh@ex.com\n",
       "1  Deepinder   Kaur           dkaur@ex.com\n",
       "2     Nimrat   Kaur           nkaur@ex.com\n",
       "3        tst   tst1                    NaN"
      ],
      "text/html": "<div>\n<style scoped>\n    .dataframe tbody tr th:only-of-type {\n        vertical-align: middle;\n    }\n\n    .dataframe tbody tr th {\n        vertical-align: top;\n    }\n\n    .dataframe thead th {\n        text-align: right;\n    }\n</style>\n<table border=\"1\" class=\"dataframe\">\n  <thead>\n    <tr style=\"text-align: right;\">\n      <th></th>\n      <th>Fname</th>\n      <th>Lname</th>\n      <th>Email</th>\n    </tr>\n  </thead>\n  <tbody>\n    <tr>\n      <th>0</th>\n      <td>Suminder</td>\n      <td>Singh</td>\n      <td>suminder.singh@ex.com</td>\n    </tr>\n    <tr>\n      <th>1</th>\n      <td>Deepinder</td>\n      <td>Kaur</td>\n      <td>dkaur@ex.com</td>\n    </tr>\n    <tr>\n      <th>2</th>\n      <td>Nimrat</td>\n      <td>Kaur</td>\n      <td>nkaur@ex.com</td>\n    </tr>\n    <tr>\n      <th>3</th>\n      <td>tst</td>\n      <td>tst1</td>\n      <td>NaN</td>\n    </tr>\n  </tbody>\n</table>\n</div>"
     },
     "metadata": {},
     "execution_count": 14
    }
   ],
   "source": [
    "df_ppl.append({'Fname': 'tst', 'Lname': 'tst1'}, ignore_index=True, sort=False)"
   ]
  },
  {
   "cell_type": "code",
   "execution_count": 15,
   "metadata": {},
   "outputs": [],
   "source": [
    "new = {\n",
    "    'Fname' : ['Ankit', 'Reena', 'Vicky'],\n",
    "    'Lname' : ['Chopra', 'Sidhu', 'Bedi']\n",
    "}\n",
    "\n",
    "df2 = pd.DataFrame(new)"
   ]
  },
  {
   "cell_type": "code",
   "execution_count": 16,
   "metadata": {},
   "outputs": [
    {
     "output_type": "execute_result",
     "data": {
      "text/plain": [
       "   Fname   Lname\n",
       "0  Ankit  Chopra\n",
       "1  Reena   Sidhu\n",
       "2  Vicky    Bedi"
      ],
      "text/html": "<div>\n<style scoped>\n    .dataframe tbody tr th:only-of-type {\n        vertical-align: middle;\n    }\n\n    .dataframe tbody tr th {\n        vertical-align: top;\n    }\n\n    .dataframe thead th {\n        text-align: right;\n    }\n</style>\n<table border=\"1\" class=\"dataframe\">\n  <thead>\n    <tr style=\"text-align: right;\">\n      <th></th>\n      <th>Fname</th>\n      <th>Lname</th>\n    </tr>\n  </thead>\n  <tbody>\n    <tr>\n      <th>0</th>\n      <td>Ankit</td>\n      <td>Chopra</td>\n    </tr>\n    <tr>\n      <th>1</th>\n      <td>Reena</td>\n      <td>Sidhu</td>\n    </tr>\n    <tr>\n      <th>2</th>\n      <td>Vicky</td>\n      <td>Bedi</td>\n    </tr>\n  </tbody>\n</table>\n</div>"
     },
     "metadata": {},
     "execution_count": 16
    }
   ],
   "source": [
    "df2"
   ]
  },
  {
   "cell_type": "code",
   "execution_count": 23,
   "metadata": {},
   "outputs": [],
   "source": [
    "df_ppl = df_ppl.append(df2).reset_index().set_index('index')"
   ]
  },
  {
   "cell_type": "code",
   "execution_count": 24,
   "metadata": {},
   "outputs": [
    {
     "output_type": "execute_result",
     "data": {
      "text/plain": [
       "       level_0      Fname   Lname                  Email\n",
       "index                                                   \n",
       "0.0          0   Suminder   Singh  suminder.singh@ex.com\n",
       "1.0          1  Deepinder    Kaur           dkaur@ex.com\n",
       "2.0          2     Nimrat    Kaur           nkaur@ex.com\n",
       "0.0          3      Ankit  Chopra                    NaN\n",
       "1.0          4      Reena   Sidhu                    NaN\n",
       "2.0          5      Vicky    Bedi                    NaN\n",
       "0.0          6      Ankit  Chopra                    NaN\n",
       "1.0          7      Reena   Sidhu                    NaN\n",
       "2.0          8      Vicky    Bedi                    NaN\n",
       "NaN          0      Ankit  Chopra                    NaN\n",
       "NaN          1      Reena   Sidhu                    NaN\n",
       "NaN          2      Vicky    Bedi                    NaN"
      ],
      "text/html": "<div>\n<style scoped>\n    .dataframe tbody tr th:only-of-type {\n        vertical-align: middle;\n    }\n\n    .dataframe tbody tr th {\n        vertical-align: top;\n    }\n\n    .dataframe thead th {\n        text-align: right;\n    }\n</style>\n<table border=\"1\" class=\"dataframe\">\n  <thead>\n    <tr style=\"text-align: right;\">\n      <th></th>\n      <th>level_0</th>\n      <th>Fname</th>\n      <th>Lname</th>\n      <th>Email</th>\n    </tr>\n    <tr>\n      <th>index</th>\n      <th></th>\n      <th></th>\n      <th></th>\n      <th></th>\n    </tr>\n  </thead>\n  <tbody>\n    <tr>\n      <th>0.0</th>\n      <td>0</td>\n      <td>Suminder</td>\n      <td>Singh</td>\n      <td>suminder.singh@ex.com</td>\n    </tr>\n    <tr>\n      <th>1.0</th>\n      <td>1</td>\n      <td>Deepinder</td>\n      <td>Kaur</td>\n      <td>dkaur@ex.com</td>\n    </tr>\n    <tr>\n      <th>2.0</th>\n      <td>2</td>\n      <td>Nimrat</td>\n      <td>Kaur</td>\n      <td>nkaur@ex.com</td>\n    </tr>\n    <tr>\n      <th>0.0</th>\n      <td>3</td>\n      <td>Ankit</td>\n      <td>Chopra</td>\n      <td>NaN</td>\n    </tr>\n    <tr>\n      <th>1.0</th>\n      <td>4</td>\n      <td>Reena</td>\n      <td>Sidhu</td>\n      <td>NaN</td>\n    </tr>\n    <tr>\n      <th>2.0</th>\n      <td>5</td>\n      <td>Vicky</td>\n      <td>Bedi</td>\n      <td>NaN</td>\n    </tr>\n    <tr>\n      <th>0.0</th>\n      <td>6</td>\n      <td>Ankit</td>\n      <td>Chopra</td>\n      <td>NaN</td>\n    </tr>\n    <tr>\n      <th>1.0</th>\n      <td>7</td>\n      <td>Reena</td>\n      <td>Sidhu</td>\n      <td>NaN</td>\n    </tr>\n    <tr>\n      <th>2.0</th>\n      <td>8</td>\n      <td>Vicky</td>\n      <td>Bedi</td>\n      <td>NaN</td>\n    </tr>\n    <tr>\n      <th>NaN</th>\n      <td>0</td>\n      <td>Ankit</td>\n      <td>Chopra</td>\n      <td>NaN</td>\n    </tr>\n    <tr>\n      <th>NaN</th>\n      <td>1</td>\n      <td>Reena</td>\n      <td>Sidhu</td>\n      <td>NaN</td>\n    </tr>\n    <tr>\n      <th>NaN</th>\n      <td>2</td>\n      <td>Vicky</td>\n      <td>Bedi</td>\n      <td>NaN</td>\n    </tr>\n  </tbody>\n</table>\n</div>"
     },
     "metadata": {},
     "execution_count": 24
    }
   ],
   "source": [
    "df_ppl"
   ]
  },
  {
   "cell_type": "code",
   "execution_count": 26,
   "metadata": {},
   "outputs": [],
   "source": [
    "df_ppl.drop(columns='level_0', inplace=True)"
   ]
  },
  {
   "cell_type": "code",
   "execution_count": 36,
   "metadata": {},
   "outputs": [],
   "source": [
    "people = {\n",
    "    'fname' : ['Suminder', 'Deepinder', 'Nimrat'],\n",
    "    'lname' : ['Singh', 'Kaur', 'Kaur'],\n",
    "    'email' : ['suminder.singh@ex.com', 'dkaur@ex.com', 'nkaur@ex.com']\n",
    "}\n",
    "\n",
    "new = {\n",
    "    'Fname' : ['Ankit', 'Reena', 'Vicky'],\n",
    "    'Lname' : ['Chopra', 'Sidhu', 'Bedi']\n",
    "}\n",
    "\n",
    "df1 = pd.DataFrame(people)\n",
    "df2 = pd.DataFrame(new)\n"
   ]
  },
  {
   "cell_type": "code",
   "execution_count": 38,
   "metadata": {},
   "outputs": [
    {
     "output_type": "execute_result",
     "data": {
      "text/plain": [
       "       fname  lname                  email\n",
       "0   Suminder  Singh  suminder.singh@ex.com\n",
       "1  Deepinder   Kaur           dkaur@ex.com\n",
       "2     Nimrat   Kaur           nkaur@ex.com"
      ],
      "text/html": "<div>\n<style scoped>\n    .dataframe tbody tr th:only-of-type {\n        vertical-align: middle;\n    }\n\n    .dataframe tbody tr th {\n        vertical-align: top;\n    }\n\n    .dataframe thead th {\n        text-align: right;\n    }\n</style>\n<table border=\"1\" class=\"dataframe\">\n  <thead>\n    <tr style=\"text-align: right;\">\n      <th></th>\n      <th>fname</th>\n      <th>lname</th>\n      <th>email</th>\n    </tr>\n  </thead>\n  <tbody>\n    <tr>\n      <th>0</th>\n      <td>Suminder</td>\n      <td>Singh</td>\n      <td>suminder.singh@ex.com</td>\n    </tr>\n    <tr>\n      <th>1</th>\n      <td>Deepinder</td>\n      <td>Kaur</td>\n      <td>dkaur@ex.com</td>\n    </tr>\n    <tr>\n      <th>2</th>\n      <td>Nimrat</td>\n      <td>Kaur</td>\n      <td>nkaur@ex.com</td>\n    </tr>\n  </tbody>\n</table>\n</div>"
     },
     "metadata": {},
     "execution_count": 38
    }
   ],
   "source": [
    "df1"
   ]
  },
  {
   "cell_type": "code",
   "execution_count": 39,
   "metadata": {},
   "outputs": [
    {
     "output_type": "execute_result",
     "data": {
      "text/plain": [
       "   Fname   Lname\n",
       "0  Ankit  Chopra\n",
       "1  Reena   Sidhu\n",
       "2  Vicky    Bedi"
      ],
      "text/html": "<div>\n<style scoped>\n    .dataframe tbody tr th:only-of-type {\n        vertical-align: middle;\n    }\n\n    .dataframe tbody tr th {\n        vertical-align: top;\n    }\n\n    .dataframe thead th {\n        text-align: right;\n    }\n</style>\n<table border=\"1\" class=\"dataframe\">\n  <thead>\n    <tr style=\"text-align: right;\">\n      <th></th>\n      <th>Fname</th>\n      <th>Lname</th>\n    </tr>\n  </thead>\n  <tbody>\n    <tr>\n      <th>0</th>\n      <td>Ankit</td>\n      <td>Chopra</td>\n    </tr>\n    <tr>\n      <th>1</th>\n      <td>Reena</td>\n      <td>Sidhu</td>\n    </tr>\n    <tr>\n      <th>2</th>\n      <td>Vicky</td>\n      <td>Bedi</td>\n    </tr>\n  </tbody>\n</table>\n</div>"
     },
     "metadata": {},
     "execution_count": 39
    }
   ],
   "source": [
    "df2"
   ]
  },
  {
   "cell_type": "code",
   "execution_count": 42,
   "metadata": {},
   "outputs": [],
   "source": [
    "df1.columns = [x.capitalize() for x in df1.columns]"
   ]
  },
  {
   "cell_type": "code",
   "execution_count": 43,
   "metadata": {},
   "outputs": [
    {
     "output_type": "execute_result",
     "data": {
      "text/plain": [
       "       Fname  Lname                  Email\n",
       "0   Suminder  Singh  suminder.singh@ex.com\n",
       "1  Deepinder   Kaur           dkaur@ex.com\n",
       "2     Nimrat   Kaur           nkaur@ex.com"
      ],
      "text/html": "<div>\n<style scoped>\n    .dataframe tbody tr th:only-of-type {\n        vertical-align: middle;\n    }\n\n    .dataframe tbody tr th {\n        vertical-align: top;\n    }\n\n    .dataframe thead th {\n        text-align: right;\n    }\n</style>\n<table border=\"1\" class=\"dataframe\">\n  <thead>\n    <tr style=\"text-align: right;\">\n      <th></th>\n      <th>Fname</th>\n      <th>Lname</th>\n      <th>Email</th>\n    </tr>\n  </thead>\n  <tbody>\n    <tr>\n      <th>0</th>\n      <td>Suminder</td>\n      <td>Singh</td>\n      <td>suminder.singh@ex.com</td>\n    </tr>\n    <tr>\n      <th>1</th>\n      <td>Deepinder</td>\n      <td>Kaur</td>\n      <td>dkaur@ex.com</td>\n    </tr>\n    <tr>\n      <th>2</th>\n      <td>Nimrat</td>\n      <td>Kaur</td>\n      <td>nkaur@ex.com</td>\n    </tr>\n  </tbody>\n</table>\n</div>"
     },
     "metadata": {},
     "execution_count": 43
    }
   ],
   "source": [
    "df1"
   ]
  },
  {
   "cell_type": "code",
   "execution_count": 45,
   "metadata": {},
   "outputs": [],
   "source": [
    "df1.rename(columns = {'Email': 'Email_Add'}, inplace=True)"
   ]
  },
  {
   "cell_type": "code",
   "execution_count": 46,
   "metadata": {},
   "outputs": [
    {
     "output_type": "execute_result",
     "data": {
      "text/plain": [
       "       Fname  Lname              Email_Add\n",
       "0   Suminder  Singh  suminder.singh@ex.com\n",
       "1  Deepinder   Kaur           dkaur@ex.com\n",
       "2     Nimrat   Kaur           nkaur@ex.com"
      ],
      "text/html": "<div>\n<style scoped>\n    .dataframe tbody tr th:only-of-type {\n        vertical-align: middle;\n    }\n\n    .dataframe tbody tr th {\n        vertical-align: top;\n    }\n\n    .dataframe thead th {\n        text-align: right;\n    }\n</style>\n<table border=\"1\" class=\"dataframe\">\n  <thead>\n    <tr style=\"text-align: right;\">\n      <th></th>\n      <th>Fname</th>\n      <th>Lname</th>\n      <th>Email_Add</th>\n    </tr>\n  </thead>\n  <tbody>\n    <tr>\n      <th>0</th>\n      <td>Suminder</td>\n      <td>Singh</td>\n      <td>suminder.singh@ex.com</td>\n    </tr>\n    <tr>\n      <th>1</th>\n      <td>Deepinder</td>\n      <td>Kaur</td>\n      <td>dkaur@ex.com</td>\n    </tr>\n    <tr>\n      <th>2</th>\n      <td>Nimrat</td>\n      <td>Kaur</td>\n      <td>nkaur@ex.com</td>\n    </tr>\n  </tbody>\n</table>\n</div>"
     },
     "metadata": {},
     "execution_count": 46
    }
   ],
   "source": [
    "df1\n"
   ]
  },
  {
   "cell_type": "code",
   "execution_count": 47,
   "metadata": {},
   "outputs": [
    {
     "output_type": "execute_result",
     "data": {
      "text/plain": [
       "Fname              Nimrat\n",
       "Lname                Kaur\n",
       "Email_Add    nkaur@ex.com\n",
       "Name: 2, dtype: object"
      ]
     },
     "metadata": {},
     "execution_count": 47
    }
   ],
   "source": [
    "df1.loc[2]"
   ]
  },
  {
   "cell_type": "code",
   "execution_count": 48,
   "metadata": {},
   "outputs": [],
   "source": [
    "filt = df1['Email_Add'] == 'suminder.singh@ex.com'\n",
    "df1.loc[filt, ['Fname', 'Lname']] = ['Sumi', 'Sammy']"
   ]
  },
  {
   "cell_type": "code",
   "execution_count": 49,
   "metadata": {},
   "outputs": [
    {
     "output_type": "execute_result",
     "data": {
      "text/plain": [
       "       Fname  Lname              Email_Add\n",
       "0       Sumi  Sammy  suminder.singh@ex.com\n",
       "1  Deepinder   Kaur           dkaur@ex.com\n",
       "2     Nimrat   Kaur           nkaur@ex.com"
      ],
      "text/html": "<div>\n<style scoped>\n    .dataframe tbody tr th:only-of-type {\n        vertical-align: middle;\n    }\n\n    .dataframe tbody tr th {\n        vertical-align: top;\n    }\n\n    .dataframe thead th {\n        text-align: right;\n    }\n</style>\n<table border=\"1\" class=\"dataframe\">\n  <thead>\n    <tr style=\"text-align: right;\">\n      <th></th>\n      <th>Fname</th>\n      <th>Lname</th>\n      <th>Email_Add</th>\n    </tr>\n  </thead>\n  <tbody>\n    <tr>\n      <th>0</th>\n      <td>Sumi</td>\n      <td>Sammy</td>\n      <td>suminder.singh@ex.com</td>\n    </tr>\n    <tr>\n      <th>1</th>\n      <td>Deepinder</td>\n      <td>Kaur</td>\n      <td>dkaur@ex.com</td>\n    </tr>\n    <tr>\n      <th>2</th>\n      <td>Nimrat</td>\n      <td>Kaur</td>\n      <td>nkaur@ex.com</td>\n    </tr>\n  </tbody>\n</table>\n</div>"
     },
     "metadata": {},
     "execution_count": 49
    }
   ],
   "source": [
    "df1"
   ]
  },
  {
   "cell_type": "code",
   "execution_count": null,
   "metadata": {},
   "outputs": [],
   "source": []
  }
 ]
}