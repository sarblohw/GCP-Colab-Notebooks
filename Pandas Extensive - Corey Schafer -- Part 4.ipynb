{
 "cells": [
  {
   "cell_type": "code",
   "execution_count": 3,
   "metadata": {},
   "outputs": [],
   "source": [
    "import pandas as pd"
   ]
  },
  {
   "cell_type": "code",
   "execution_count": 4,
   "metadata": {},
   "outputs": [],
   "source": [
    "people = {\n",
    "    'fname' : ['Suminder', 'Deepinder', 'Nimrat'],\n",
    "    'lname' : ['Singh', 'Kaur', 'Kaur'],\n",
    "    'email' : ['suminder.singh@ex.com', 'dkaur@ex.com', 'nkaur@ex.com']\n",
    "}\n",
    "\n",
    "new = {\n",
    "    'Fname' : ['Ankit', 'Reena', 'Vicky'],\n",
    "    'Lname' : ['Chopra', 'Sidhu', 'Bedi']\n",
    "}\n",
    "\n",
    "df1 = pd.DataFrame(people)\n",
    "df2 = pd.DataFrame(new)"
   ]
  },
  {
   "cell_type": "code",
   "execution_count": 5,
   "metadata": {},
   "outputs": [
    {
     "output_type": "execute_result",
     "data": {
      "text/plain": [
       "       fname  lname                  email\n",
       "0   Suminder  Singh  suminder.singh@ex.com\n",
       "1  Deepinder   Kaur           dkaur@ex.com\n",
       "2     Nimrat   Kaur           nkaur@ex.com"
      ],
      "text/html": "<div>\n<style scoped>\n    .dataframe tbody tr th:only-of-type {\n        vertical-align: middle;\n    }\n\n    .dataframe tbody tr th {\n        vertical-align: top;\n    }\n\n    .dataframe thead th {\n        text-align: right;\n    }\n</style>\n<table border=\"1\" class=\"dataframe\">\n  <thead>\n    <tr style=\"text-align: right;\">\n      <th></th>\n      <th>fname</th>\n      <th>lname</th>\n      <th>email</th>\n    </tr>\n  </thead>\n  <tbody>\n    <tr>\n      <th>0</th>\n      <td>Suminder</td>\n      <td>Singh</td>\n      <td>suminder.singh@ex.com</td>\n    </tr>\n    <tr>\n      <th>1</th>\n      <td>Deepinder</td>\n      <td>Kaur</td>\n      <td>dkaur@ex.com</td>\n    </tr>\n    <tr>\n      <th>2</th>\n      <td>Nimrat</td>\n      <td>Kaur</td>\n      <td>nkaur@ex.com</td>\n    </tr>\n  </tbody>\n</table>\n</div>"
     },
     "metadata": {},
     "execution_count": 5
    }
   ],
   "source": [
    "df1"
   ]
  },
  {
   "cell_type": "code",
   "execution_count": 6,
   "metadata": {},
   "outputs": [],
   "source": [
    "df1[['tst1', 'tst2']] = df1['email'].str.split('@', expand = True)"
   ]
  },
  {
   "cell_type": "code",
   "execution_count": 7,
   "metadata": {},
   "outputs": [
    {
     "output_type": "execute_result",
     "data": {
      "text/plain": [
       "       fname  lname                  email            tst1    tst2\n",
       "0   Suminder  Singh  suminder.singh@ex.com  suminder.singh  ex.com\n",
       "1  Deepinder   Kaur           dkaur@ex.com           dkaur  ex.com\n",
       "2     Nimrat   Kaur           nkaur@ex.com           nkaur  ex.com"
      ],
      "text/html": "<div>\n<style scoped>\n    .dataframe tbody tr th:only-of-type {\n        vertical-align: middle;\n    }\n\n    .dataframe tbody tr th {\n        vertical-align: top;\n    }\n\n    .dataframe thead th {\n        text-align: right;\n    }\n</style>\n<table border=\"1\" class=\"dataframe\">\n  <thead>\n    <tr style=\"text-align: right;\">\n      <th></th>\n      <th>fname</th>\n      <th>lname</th>\n      <th>email</th>\n      <th>tst1</th>\n      <th>tst2</th>\n    </tr>\n  </thead>\n  <tbody>\n    <tr>\n      <th>0</th>\n      <td>Suminder</td>\n      <td>Singh</td>\n      <td>suminder.singh@ex.com</td>\n      <td>suminder.singh</td>\n      <td>ex.com</td>\n    </tr>\n    <tr>\n      <th>1</th>\n      <td>Deepinder</td>\n      <td>Kaur</td>\n      <td>dkaur@ex.com</td>\n      <td>dkaur</td>\n      <td>ex.com</td>\n    </tr>\n    <tr>\n      <th>2</th>\n      <td>Nimrat</td>\n      <td>Kaur</td>\n      <td>nkaur@ex.com</td>\n      <td>nkaur</td>\n      <td>ex.com</td>\n    </tr>\n  </tbody>\n</table>\n</div>"
     },
     "metadata": {},
     "execution_count": 7
    }
   ],
   "source": [
    "df1"
   ]
  },
  {
   "cell_type": "code",
   "execution_count": 8,
   "metadata": {},
   "outputs": [],
   "source": [
    "df1.columns = df1.columns.str.capitalize()"
   ]
  },
  {
   "cell_type": "code",
   "execution_count": 9,
   "metadata": {},
   "outputs": [
    {
     "output_type": "execute_result",
     "data": {
      "text/plain": [
       "       Fname  Lname                  Email            Tst1    Tst2\n",
       "0   Suminder  Singh  suminder.singh@ex.com  suminder.singh  ex.com\n",
       "1  Deepinder   Kaur           dkaur@ex.com           dkaur  ex.com\n",
       "2     Nimrat   Kaur           nkaur@ex.com           nkaur  ex.com"
      ],
      "text/html": "<div>\n<style scoped>\n    .dataframe tbody tr th:only-of-type {\n        vertical-align: middle;\n    }\n\n    .dataframe tbody tr th {\n        vertical-align: top;\n    }\n\n    .dataframe thead th {\n        text-align: right;\n    }\n</style>\n<table border=\"1\" class=\"dataframe\">\n  <thead>\n    <tr style=\"text-align: right;\">\n      <th></th>\n      <th>Fname</th>\n      <th>Lname</th>\n      <th>Email</th>\n      <th>Tst1</th>\n      <th>Tst2</th>\n    </tr>\n  </thead>\n  <tbody>\n    <tr>\n      <th>0</th>\n      <td>Suminder</td>\n      <td>Singh</td>\n      <td>suminder.singh@ex.com</td>\n      <td>suminder.singh</td>\n      <td>ex.com</td>\n    </tr>\n    <tr>\n      <th>1</th>\n      <td>Deepinder</td>\n      <td>Kaur</td>\n      <td>dkaur@ex.com</td>\n      <td>dkaur</td>\n      <td>ex.com</td>\n    </tr>\n    <tr>\n      <th>2</th>\n      <td>Nimrat</td>\n      <td>Kaur</td>\n      <td>nkaur@ex.com</td>\n      <td>nkaur</td>\n      <td>ex.com</td>\n    </tr>\n  </tbody>\n</table>\n</div>"
     },
     "metadata": {},
     "execution_count": 9
    }
   ],
   "source": [
    "df1"
   ]
  },
  {
   "cell_type": "code",
   "execution_count": 10,
   "metadata": {},
   "outputs": [],
   "source": [
    "df1 = df1.append(df2, ignore_index=True, sort=False)"
   ]
  },
  {
   "cell_type": "code",
   "execution_count": 11,
   "metadata": {},
   "outputs": [
    {
     "output_type": "execute_result",
     "data": {
      "text/plain": [
       "       Fname   Lname                  Email            Tst1    Tst2\n",
       "0   Suminder   Singh  suminder.singh@ex.com  suminder.singh  ex.com\n",
       "1  Deepinder    Kaur           dkaur@ex.com           dkaur  ex.com\n",
       "2     Nimrat    Kaur           nkaur@ex.com           nkaur  ex.com\n",
       "3      Ankit  Chopra                    NaN             NaN     NaN\n",
       "4      Reena   Sidhu                    NaN             NaN     NaN\n",
       "5      Vicky    Bedi                    NaN             NaN     NaN"
      ],
      "text/html": "<div>\n<style scoped>\n    .dataframe tbody tr th:only-of-type {\n        vertical-align: middle;\n    }\n\n    .dataframe tbody tr th {\n        vertical-align: top;\n    }\n\n    .dataframe thead th {\n        text-align: right;\n    }\n</style>\n<table border=\"1\" class=\"dataframe\">\n  <thead>\n    <tr style=\"text-align: right;\">\n      <th></th>\n      <th>Fname</th>\n      <th>Lname</th>\n      <th>Email</th>\n      <th>Tst1</th>\n      <th>Tst2</th>\n    </tr>\n  </thead>\n  <tbody>\n    <tr>\n      <th>0</th>\n      <td>Suminder</td>\n      <td>Singh</td>\n      <td>suminder.singh@ex.com</td>\n      <td>suminder.singh</td>\n      <td>ex.com</td>\n    </tr>\n    <tr>\n      <th>1</th>\n      <td>Deepinder</td>\n      <td>Kaur</td>\n      <td>dkaur@ex.com</td>\n      <td>dkaur</td>\n      <td>ex.com</td>\n    </tr>\n    <tr>\n      <th>2</th>\n      <td>Nimrat</td>\n      <td>Kaur</td>\n      <td>nkaur@ex.com</td>\n      <td>nkaur</td>\n      <td>ex.com</td>\n    </tr>\n    <tr>\n      <th>3</th>\n      <td>Ankit</td>\n      <td>Chopra</td>\n      <td>NaN</td>\n      <td>NaN</td>\n      <td>NaN</td>\n    </tr>\n    <tr>\n      <th>4</th>\n      <td>Reena</td>\n      <td>Sidhu</td>\n      <td>NaN</td>\n      <td>NaN</td>\n      <td>NaN</td>\n    </tr>\n    <tr>\n      <th>5</th>\n      <td>Vicky</td>\n      <td>Bedi</td>\n      <td>NaN</td>\n      <td>NaN</td>\n      <td>NaN</td>\n    </tr>\n  </tbody>\n</table>\n</div>"
     },
     "metadata": {},
     "execution_count": 11
    }
   ],
   "source": [
    "df1"
   ]
  },
  {
   "cell_type": "code",
   "execution_count": 12,
   "metadata": {},
   "outputs": [
    {
     "output_type": "execute_result",
     "data": {
      "text/plain": [
       "       Fname   Lname                  Email            Tst1    Tst2\n",
       "0   Suminder   Singh  suminder.singh@ex.com  suminder.singh  ex.com\n",
       "1  Deepinder    Kaur           dkaur@ex.com           dkaur  ex.com\n",
       "2     Nimrat    Kaur           nkaur@ex.com           nkaur  ex.com\n",
       "3      Ankit  Chopra                    NaN             NaN     NaN\n",
       "5      Vicky    Bedi                    NaN             NaN     NaN"
      ],
      "text/html": "<div>\n<style scoped>\n    .dataframe tbody tr th:only-of-type {\n        vertical-align: middle;\n    }\n\n    .dataframe tbody tr th {\n        vertical-align: top;\n    }\n\n    .dataframe thead th {\n        text-align: right;\n    }\n</style>\n<table border=\"1\" class=\"dataframe\">\n  <thead>\n    <tr style=\"text-align: right;\">\n      <th></th>\n      <th>Fname</th>\n      <th>Lname</th>\n      <th>Email</th>\n      <th>Tst1</th>\n      <th>Tst2</th>\n    </tr>\n  </thead>\n  <tbody>\n    <tr>\n      <th>0</th>\n      <td>Suminder</td>\n      <td>Singh</td>\n      <td>suminder.singh@ex.com</td>\n      <td>suminder.singh</td>\n      <td>ex.com</td>\n    </tr>\n    <tr>\n      <th>1</th>\n      <td>Deepinder</td>\n      <td>Kaur</td>\n      <td>dkaur@ex.com</td>\n      <td>dkaur</td>\n      <td>ex.com</td>\n    </tr>\n    <tr>\n      <th>2</th>\n      <td>Nimrat</td>\n      <td>Kaur</td>\n      <td>nkaur@ex.com</td>\n      <td>nkaur</td>\n      <td>ex.com</td>\n    </tr>\n    <tr>\n      <th>3</th>\n      <td>Ankit</td>\n      <td>Chopra</td>\n      <td>NaN</td>\n      <td>NaN</td>\n      <td>NaN</td>\n    </tr>\n    <tr>\n      <th>5</th>\n      <td>Vicky</td>\n      <td>Bedi</td>\n      <td>NaN</td>\n      <td>NaN</td>\n      <td>NaN</td>\n    </tr>\n  </tbody>\n</table>\n</div>"
     },
     "metadata": {},
     "execution_count": 12
    }
   ],
   "source": [
    "df1.drop(index = df1.loc[df1['Lname']=='Sidhu'].index)"
   ]
  },
  {
   "cell_type": "code",
   "execution_count": 13,
   "metadata": {},
   "outputs": [
    {
     "output_type": "execute_result",
     "data": {
      "text/plain": [
       "Fname    6\n",
       "Lname    6\n",
       "Email    6\n",
       "Tst1     6\n",
       "Tst2     6\n",
       "dtype: int64"
      ]
     },
     "metadata": {},
     "execution_count": 13
    }
   ],
   "source": [
    "df1.apply(len, axis=0)"
   ]
  },
  {
   "cell_type": "code",
   "execution_count": 14,
   "metadata": {},
   "outputs": [],
   "source": [
    "df1['Tst3'] = df1['Tst2'].apply(lambda x: str(x)+'fuddu')"
   ]
  },
  {
   "cell_type": "code",
   "execution_count": 15,
   "metadata": {},
   "outputs": [
    {
     "output_type": "execute_result",
     "data": {
      "text/plain": [
       "       Fname   Lname                  Email            Tst1    Tst2  \\\n",
       "0   Suminder   Singh  suminder.singh@ex.com  suminder.singh  ex.com   \n",
       "1  Deepinder    Kaur           dkaur@ex.com           dkaur  ex.com   \n",
       "2     Nimrat    Kaur           nkaur@ex.com           nkaur  ex.com   \n",
       "3      Ankit  Chopra                    NaN             NaN     NaN   \n",
       "4      Reena   Sidhu                    NaN             NaN     NaN   \n",
       "5      Vicky    Bedi                    NaN             NaN     NaN   \n",
       "\n",
       "          Tst3  \n",
       "0  ex.comfuddu  \n",
       "1  ex.comfuddu  \n",
       "2  ex.comfuddu  \n",
       "3     nanfuddu  \n",
       "4     nanfuddu  \n",
       "5     nanfuddu  "
      ],
      "text/html": "<div>\n<style scoped>\n    .dataframe tbody tr th:only-of-type {\n        vertical-align: middle;\n    }\n\n    .dataframe tbody tr th {\n        vertical-align: top;\n    }\n\n    .dataframe thead th {\n        text-align: right;\n    }\n</style>\n<table border=\"1\" class=\"dataframe\">\n  <thead>\n    <tr style=\"text-align: right;\">\n      <th></th>\n      <th>Fname</th>\n      <th>Lname</th>\n      <th>Email</th>\n      <th>Tst1</th>\n      <th>Tst2</th>\n      <th>Tst3</th>\n    </tr>\n  </thead>\n  <tbody>\n    <tr>\n      <th>0</th>\n      <td>Suminder</td>\n      <td>Singh</td>\n      <td>suminder.singh@ex.com</td>\n      <td>suminder.singh</td>\n      <td>ex.com</td>\n      <td>ex.comfuddu</td>\n    </tr>\n    <tr>\n      <th>1</th>\n      <td>Deepinder</td>\n      <td>Kaur</td>\n      <td>dkaur@ex.com</td>\n      <td>dkaur</td>\n      <td>ex.com</td>\n      <td>ex.comfuddu</td>\n    </tr>\n    <tr>\n      <th>2</th>\n      <td>Nimrat</td>\n      <td>Kaur</td>\n      <td>nkaur@ex.com</td>\n      <td>nkaur</td>\n      <td>ex.com</td>\n      <td>ex.comfuddu</td>\n    </tr>\n    <tr>\n      <th>3</th>\n      <td>Ankit</td>\n      <td>Chopra</td>\n      <td>NaN</td>\n      <td>NaN</td>\n      <td>NaN</td>\n      <td>nanfuddu</td>\n    </tr>\n    <tr>\n      <th>4</th>\n      <td>Reena</td>\n      <td>Sidhu</td>\n      <td>NaN</td>\n      <td>NaN</td>\n      <td>NaN</td>\n      <td>nanfuddu</td>\n    </tr>\n    <tr>\n      <th>5</th>\n      <td>Vicky</td>\n      <td>Bedi</td>\n      <td>NaN</td>\n      <td>NaN</td>\n      <td>NaN</td>\n      <td>nanfuddu</td>\n    </tr>\n  </tbody>\n</table>\n</div>"
     },
     "metadata": {},
     "execution_count": 15
    }
   ],
   "source": [
    "df1"
   ]
  },
  {
   "cell_type": "code",
   "execution_count": 24,
   "metadata": {},
   "outputs": [],
   "source": [
    "import numpy as np\n",
    "\n",
    "df1[['col1', ' col2']] = np.random.randint(1,1000,12).reshape(len(df1.index), 2)"
   ]
  },
  {
   "cell_type": "code",
   "execution_count": 25,
   "metadata": {},
   "outputs": [
    {
     "output_type": "execute_result",
     "data": {
      "text/plain": [
       "       Fname   Lname                  Email            Tst1    Tst2  \\\n",
       "0   Suminder   Singh  suminder.singh@ex.com  suminder.singh  ex.com   \n",
       "1  Deepinder    Kaur           dkaur@ex.com           dkaur  ex.com   \n",
       "2     Nimrat    Kaur           nkaur@ex.com           nkaur  ex.com   \n",
       "3      Ankit  Chopra                    NaN             NaN     NaN   \n",
       "4      Reena   Sidhu                    NaN             NaN     NaN   \n",
       "5      Vicky    Bedi                    NaN             NaN     NaN   \n",
       "\n",
       "          Tst3  num1  num2  col1   col2  \n",
       "0  ex.comfuddu   320   320   249    336  \n",
       "1  ex.comfuddu   320   320   891    848  \n",
       "2  ex.comfuddu   320   320   742    290  \n",
       "3     nanfuddu   320   320   231    818  \n",
       "4     nanfuddu   320   320   592    311  \n",
       "5     nanfuddu   320   320   145    981  "
      ],
      "text/html": "<div>\n<style scoped>\n    .dataframe tbody tr th:only-of-type {\n        vertical-align: middle;\n    }\n\n    .dataframe tbody tr th {\n        vertical-align: top;\n    }\n\n    .dataframe thead th {\n        text-align: right;\n    }\n</style>\n<table border=\"1\" class=\"dataframe\">\n  <thead>\n    <tr style=\"text-align: right;\">\n      <th></th>\n      <th>Fname</th>\n      <th>Lname</th>\n      <th>Email</th>\n      <th>Tst1</th>\n      <th>Tst2</th>\n      <th>Tst3</th>\n      <th>num1</th>\n      <th>num2</th>\n      <th>col1</th>\n      <th>col2</th>\n    </tr>\n  </thead>\n  <tbody>\n    <tr>\n      <th>0</th>\n      <td>Suminder</td>\n      <td>Singh</td>\n      <td>suminder.singh@ex.com</td>\n      <td>suminder.singh</td>\n      <td>ex.com</td>\n      <td>ex.comfuddu</td>\n      <td>320</td>\n      <td>320</td>\n      <td>249</td>\n      <td>336</td>\n    </tr>\n    <tr>\n      <th>1</th>\n      <td>Deepinder</td>\n      <td>Kaur</td>\n      <td>dkaur@ex.com</td>\n      <td>dkaur</td>\n      <td>ex.com</td>\n      <td>ex.comfuddu</td>\n      <td>320</td>\n      <td>320</td>\n      <td>891</td>\n      <td>848</td>\n    </tr>\n    <tr>\n      <th>2</th>\n      <td>Nimrat</td>\n      <td>Kaur</td>\n      <td>nkaur@ex.com</td>\n      <td>nkaur</td>\n      <td>ex.com</td>\n      <td>ex.comfuddu</td>\n      <td>320</td>\n      <td>320</td>\n      <td>742</td>\n      <td>290</td>\n    </tr>\n    <tr>\n      <th>3</th>\n      <td>Ankit</td>\n      <td>Chopra</td>\n      <td>NaN</td>\n      <td>NaN</td>\n      <td>NaN</td>\n      <td>nanfuddu</td>\n      <td>320</td>\n      <td>320</td>\n      <td>231</td>\n      <td>818</td>\n    </tr>\n    <tr>\n      <th>4</th>\n      <td>Reena</td>\n      <td>Sidhu</td>\n      <td>NaN</td>\n      <td>NaN</td>\n      <td>NaN</td>\n      <td>nanfuddu</td>\n      <td>320</td>\n      <td>320</td>\n      <td>592</td>\n      <td>311</td>\n    </tr>\n    <tr>\n      <th>5</th>\n      <td>Vicky</td>\n      <td>Bedi</td>\n      <td>NaN</td>\n      <td>NaN</td>\n      <td>NaN</td>\n      <td>nanfuddu</td>\n      <td>320</td>\n      <td>320</td>\n      <td>145</td>\n      <td>981</td>\n    </tr>\n  </tbody>\n</table>\n</div>"
     },
     "metadata": {},
     "execution_count": 25
    }
   ],
   "source": [
    "df1"
   ]
  },
  {
   "cell_type": "code",
   "execution_count": 28,
   "metadata": {},
   "outputs": [],
   "source": [
    "df1.drop(columns = ['num1'], inplace=True)"
   ]
  },
  {
   "cell_type": "code",
   "execution_count": 29,
   "metadata": {},
   "outputs": [
    {
     "output_type": "execute_result",
     "data": {
      "text/plain": [
       "       Fname   Lname                  Email            Tst1    Tst2  \\\n",
       "0   Suminder   Singh  suminder.singh@ex.com  suminder.singh  ex.com   \n",
       "1  Deepinder    Kaur           dkaur@ex.com           dkaur  ex.com   \n",
       "2     Nimrat    Kaur           nkaur@ex.com           nkaur  ex.com   \n",
       "3      Ankit  Chopra                    NaN             NaN     NaN   \n",
       "4      Reena   Sidhu                    NaN             NaN     NaN   \n",
       "5      Vicky    Bedi                    NaN             NaN     NaN   \n",
       "\n",
       "          Tst3  num2  col1   col2  \n",
       "0  ex.comfuddu   320   249    336  \n",
       "1  ex.comfuddu   320   891    848  \n",
       "2  ex.comfuddu   320   742    290  \n",
       "3     nanfuddu   320   231    818  \n",
       "4     nanfuddu   320   592    311  \n",
       "5     nanfuddu   320   145    981  "
      ],
      "text/html": "<div>\n<style scoped>\n    .dataframe tbody tr th:only-of-type {\n        vertical-align: middle;\n    }\n\n    .dataframe tbody tr th {\n        vertical-align: top;\n    }\n\n    .dataframe thead th {\n        text-align: right;\n    }\n</style>\n<table border=\"1\" class=\"dataframe\">\n  <thead>\n    <tr style=\"text-align: right;\">\n      <th></th>\n      <th>Fname</th>\n      <th>Lname</th>\n      <th>Email</th>\n      <th>Tst1</th>\n      <th>Tst2</th>\n      <th>Tst3</th>\n      <th>num2</th>\n      <th>col1</th>\n      <th>col2</th>\n    </tr>\n  </thead>\n  <tbody>\n    <tr>\n      <th>0</th>\n      <td>Suminder</td>\n      <td>Singh</td>\n      <td>suminder.singh@ex.com</td>\n      <td>suminder.singh</td>\n      <td>ex.com</td>\n      <td>ex.comfuddu</td>\n      <td>320</td>\n      <td>249</td>\n      <td>336</td>\n    </tr>\n    <tr>\n      <th>1</th>\n      <td>Deepinder</td>\n      <td>Kaur</td>\n      <td>dkaur@ex.com</td>\n      <td>dkaur</td>\n      <td>ex.com</td>\n      <td>ex.comfuddu</td>\n      <td>320</td>\n      <td>891</td>\n      <td>848</td>\n    </tr>\n    <tr>\n      <th>2</th>\n      <td>Nimrat</td>\n      <td>Kaur</td>\n      <td>nkaur@ex.com</td>\n      <td>nkaur</td>\n      <td>ex.com</td>\n      <td>ex.comfuddu</td>\n      <td>320</td>\n      <td>742</td>\n      <td>290</td>\n    </tr>\n    <tr>\n      <th>3</th>\n      <td>Ankit</td>\n      <td>Chopra</td>\n      <td>NaN</td>\n      <td>NaN</td>\n      <td>NaN</td>\n      <td>nanfuddu</td>\n      <td>320</td>\n      <td>231</td>\n      <td>818</td>\n    </tr>\n    <tr>\n      <th>4</th>\n      <td>Reena</td>\n      <td>Sidhu</td>\n      <td>NaN</td>\n      <td>NaN</td>\n      <td>NaN</td>\n      <td>nanfuddu</td>\n      <td>320</td>\n      <td>592</td>\n      <td>311</td>\n    </tr>\n    <tr>\n      <th>5</th>\n      <td>Vicky</td>\n      <td>Bedi</td>\n      <td>NaN</td>\n      <td>NaN</td>\n      <td>NaN</td>\n      <td>nanfuddu</td>\n      <td>320</td>\n      <td>145</td>\n      <td>981</td>\n    </tr>\n  </tbody>\n</table>\n</div>"
     },
     "metadata": {},
     "execution_count": 29
    }
   ],
   "source": [
    "df1"
   ]
  },
  {
   "cell_type": "code",
   "execution_count": 30,
   "metadata": {},
   "outputs": [
    {
     "output_type": "execute_result",
     "data": {
      "text/plain": [
       "       Fname   Lname                  Email            Tst1    Tst2  \\\n",
       "0   Suminder   Singh  suminder.singh@ex.com  suminder.singh  ex.com   \n",
       "1  Deepinder    Kaur           dkaur@ex.com           dkaur  ex.com   \n",
       "2     Nimrat    Kaur           nkaur@ex.com           nkaur  ex.com   \n",
       "3      Ankit  Chopra                    NaN             NaN     NaN   \n",
       "5      Vicky    Bedi                    NaN             NaN     NaN   \n",
       "\n",
       "          Tst3  num2  col1   col2  \n",
       "0  ex.comfuddu   320   249    336  \n",
       "1  ex.comfuddu   320   891    848  \n",
       "2  ex.comfuddu   320   742    290  \n",
       "3     nanfuddu   320   231    818  \n",
       "5     nanfuddu   320   145    981  "
      ],
      "text/html": "<div>\n<style scoped>\n    .dataframe tbody tr th:only-of-type {\n        vertical-align: middle;\n    }\n\n    .dataframe tbody tr th {\n        vertical-align: top;\n    }\n\n    .dataframe thead th {\n        text-align: right;\n    }\n</style>\n<table border=\"1\" class=\"dataframe\">\n  <thead>\n    <tr style=\"text-align: right;\">\n      <th></th>\n      <th>Fname</th>\n      <th>Lname</th>\n      <th>Email</th>\n      <th>Tst1</th>\n      <th>Tst2</th>\n      <th>Tst3</th>\n      <th>num2</th>\n      <th>col1</th>\n      <th>col2</th>\n    </tr>\n  </thead>\n  <tbody>\n    <tr>\n      <th>0</th>\n      <td>Suminder</td>\n      <td>Singh</td>\n      <td>suminder.singh@ex.com</td>\n      <td>suminder.singh</td>\n      <td>ex.com</td>\n      <td>ex.comfuddu</td>\n      <td>320</td>\n      <td>249</td>\n      <td>336</td>\n    </tr>\n    <tr>\n      <th>1</th>\n      <td>Deepinder</td>\n      <td>Kaur</td>\n      <td>dkaur@ex.com</td>\n      <td>dkaur</td>\n      <td>ex.com</td>\n      <td>ex.comfuddu</td>\n      <td>320</td>\n      <td>891</td>\n      <td>848</td>\n    </tr>\n    <tr>\n      <th>2</th>\n      <td>Nimrat</td>\n      <td>Kaur</td>\n      <td>nkaur@ex.com</td>\n      <td>nkaur</td>\n      <td>ex.com</td>\n      <td>ex.comfuddu</td>\n      <td>320</td>\n      <td>742</td>\n      <td>290</td>\n    </tr>\n    <tr>\n      <th>3</th>\n      <td>Ankit</td>\n      <td>Chopra</td>\n      <td>NaN</td>\n      <td>NaN</td>\n      <td>NaN</td>\n      <td>nanfuddu</td>\n      <td>320</td>\n      <td>231</td>\n      <td>818</td>\n    </tr>\n    <tr>\n      <th>5</th>\n      <td>Vicky</td>\n      <td>Bedi</td>\n      <td>NaN</td>\n      <td>NaN</td>\n      <td>NaN</td>\n      <td>nanfuddu</td>\n      <td>320</td>\n      <td>145</td>\n      <td>981</td>\n    </tr>\n  </tbody>\n</table>\n</div>"
     },
     "metadata": {},
     "execution_count": 30
    }
   ],
   "source": [
    "df1.drop(index=df1[df1['Lname'] == 'Sidhu'].index)"
   ]
  },
  {
   "cell_type": "code",
   "execution_count": 32,
   "metadata": {},
   "outputs": [
    {
     "output_type": "execute_result",
     "data": {
      "text/plain": [
       "Fname    6\n",
       "Lname    6\n",
       "Email    6\n",
       "Tst1     6\n",
       "Tst2     6\n",
       "Tst3     6\n",
       "num2     6\n",
       "col1     6\n",
       " col2    6\n",
       "dtype: int64"
      ]
     },
     "metadata": {},
     "execution_count": 32
    }
   ],
   "source": [
    "df1.apply(len, axis='rows')"
   ]
  },
  {
   "cell_type": "code",
   "execution_count": 33,
   "metadata": {},
   "outputs": [
    {
     "output_type": "execute_result",
     "data": {
      "text/plain": [
       "0    9\n",
       "1    9\n",
       "2    9\n",
       "3    9\n",
       "4    9\n",
       "5    9\n",
       "dtype: int64"
      ]
     },
     "metadata": {},
     "execution_count": 33
    }
   ],
   "source": [
    "df1.apply(len, axis='columns')"
   ]
  },
  {
   "cell_type": "code",
   "execution_count": 40,
   "metadata": {},
   "outputs": [],
   "source": [
    "tst = np.random.randint(1,100,24).reshape(2,2,2,3)"
   ]
  },
  {
   "cell_type": "code",
   "execution_count": 41,
   "metadata": {},
   "outputs": [
    {
     "output_type": "execute_result",
     "data": {
      "text/plain": [
       "array([[[[38, 18, 87],\n",
       "         [17, 75, 98]],\n",
       "\n",
       "        [[48, 65, 64],\n",
       "         [59, 56, 12]]],\n",
       "\n",
       "\n",
       "       [[[36, 82, 19],\n",
       "         [91, 83, 37]],\n",
       "\n",
       "        [[16,  6, 55],\n",
       "         [31,  2, 47]]]])"
      ]
     },
     "metadata": {},
     "execution_count": 41
    }
   ],
   "source": [
    "tst"
   ]
  },
  {
   "cell_type": "code",
   "execution_count": null,
   "metadata": {},
   "outputs": [],
   "source": []
  }
 ],
 "metadata": {
  "kernelspec": {
   "name": "pythonjvsc74a57bd05af9480598a1819ce94d824d2a72f1e549fbb93b0aa477353265d55d0861f1e5",
   "display_name": "Python 2020.11 64-bit"
  },
  "metadata": {
   "interpreter": {
    "hash": "5af9480598a1819ce94d824d2a72f1e549fbb93b0aa477353265d55d0861f1e5"
   }
  }
 },
 "nbformat": 4,
 "nbformat_minor": 4
}