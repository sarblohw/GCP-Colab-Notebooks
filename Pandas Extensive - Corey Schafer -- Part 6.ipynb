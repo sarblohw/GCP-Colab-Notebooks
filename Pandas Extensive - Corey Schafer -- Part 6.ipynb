{
 "cells": [
  {
   "cell_type": "markdown",
   "metadata": {},
   "source": [
    "## Grouping, Aggregating"
   ]
  },
  {
   "cell_type": "code",
   "execution_count": 2,
   "metadata": {},
   "outputs": [],
   "source": [
    "import pandas as pd"
   ]
  },
  {
   "cell_type": "code",
   "execution_count": 11,
   "metadata": {},
   "outputs": [],
   "source": [
    "df = pd.read_csv('survey_results_public.csv')\n",
    "df_schema = pd.read_csv('survey_results_schema.csv', index_col='Column')"
   ]
  },
  {
   "cell_type": "code",
   "execution_count": 12,
   "metadata": {},
   "outputs": [
    {
     "data": {
      "text/html": "<div>\n<style scoped>\n    .dataframe tbody tr th:only-of-type {\n        vertical-align: middle;\n    }\n\n    .dataframe tbody tr th {\n        vertical-align: top;\n    }\n\n    .dataframe thead th {\n        text-align: right;\n    }\n</style>\n<table border=\"1\" class=\"dataframe\">\n  <thead>\n    <tr style=\"text-align: right;\">\n      <th></th>\n      <th>QuestionText</th>\n    </tr>\n    <tr>\n      <th>Column</th>\n      <th></th>\n    </tr>\n  </thead>\n  <tbody>\n    <tr>\n      <th>Respondent</th>\n      <td>Randomized respondent ID number (not in order ...</td>\n    </tr>\n    <tr>\n      <th>MainBranch</th>\n      <td>Which of the following options best describes ...</td>\n    </tr>\n    <tr>\n      <th>Hobbyist</th>\n      <td>Do you code as a hobby?</td>\n    </tr>\n    <tr>\n      <th>OpenSourcer</th>\n      <td>How often do you contribute to open source?</td>\n    </tr>\n    <tr>\n      <th>OpenSource</th>\n      <td>How do you feel about the quality of open sour...</td>\n    </tr>\n  </tbody>\n</table>\n</div>",
      "text/plain": "                                                  QuestionText\nColumn                                                        \nRespondent   Randomized respondent ID number (not in order ...\nMainBranch   Which of the following options best describes ...\nHobbyist                               Do you code as a hobby?\nOpenSourcer        How often do you contribute to open source?\nOpenSource   How do you feel about the quality of open sour..."
     },
     "execution_count": 12,
     "metadata": {},
     "output_type": "execute_result"
    }
   ],
   "source": [
    "df_schema.head()"
   ]
  },
  {
   "cell_type": "code",
   "execution_count": 13,
   "metadata": {},
   "outputs": [
    {
     "data": {
      "text/plain": "(88883, 85)"
     },
     "execution_count": 13,
     "metadata": {},
     "output_type": "execute_result"
    }
   ],
   "source": [
    "df.shape"
   ]
  },
  {
   "cell_type": "code",
   "execution_count": 21,
   "metadata": {},
   "outputs": [
    {
     "data": {
      "text/plain": "[40708,\n 39093,\n 33060,\n 32938,\n 29297,\n 28718,\n 27775,\n 27726,\n 27724,\n 27651,\n 26854,\n 26215,\n 25939,\n 25615,\n 24380,\n 24372,\n 23861,\n 21728,\n 20742,\n 20505,\n 19969,\n 19736,\n 19323,\n 18828,\n 18599,\n 18493,\n 17895,\n 17539,\n 17491,\n 17491,\n 17104,\n 17092,\n 16036,\n 14552,\n 14191,\n 13269,\n 12857,\n 12736,\n 12215,\n 11440,\n 11006,\n 9673,\n 9512,\n 9029,\n 8397,\n 8328,\n 8169,\n 7548,\n 5824,\n 5276,\n 5006,\n 4795,\n 4623,\n 4446,\n 3517,\n 3477,\n 3028,\n 2614,\n 2539,\n 2493,\n 2220,\n 2041,\n 1899,\n 1869,\n 1802,\n 1742,\n 1702,\n 1578,\n 1566,\n 1314,\n 1249,\n 1067,\n 1055,\n 1042,\n 1032,\n 945,\n 817,\n 797,\n 752,\n 620,\n 552,\n 132,\n 0,\n 0,\n 0]"
     },
     "execution_count": 21,
     "metadata": {},
     "output_type": "execute_result"
    }
   ],
   "source": [
    "sorted(df.isnull().sum(), reverse=True)"
   ]
  },
  {
   "cell_type": "code",
   "execution_count": 22,
   "metadata": {},
   "outputs": [
    {
     "data": {
      "text/plain": "Respondent      88883\nMainBranch      88331\nHobbyist        88883\nOpenSourcer     88883\nOpenSource      86842\n                ...  \nSexuality       76147\nEthnicity       76668\nDependents      83059\nSurveyLength    86984\nSurveyEase      87081\nLength: 85, dtype: int64"
     },
     "execution_count": 22,
     "metadata": {},
     "output_type": "execute_result"
    }
   ],
   "source": [
    "df.count()"
   ]
  },
  {
   "cell_type": "code",
   "execution_count": 23,
   "metadata": {},
   "outputs": [
    {
     "data": {
      "text/plain": "127110.73842323056"
     },
     "execution_count": 23,
     "metadata": {},
     "output_type": "execute_result"
    }
   ],
   "source": [
    "df['ConvertedComp'].mean()"
   ]
  },
  {
   "cell_type": "code",
   "execution_count": 24,
   "metadata": {},
   "outputs": [
    {
     "data": {
      "text/plain": "57287.0"
     },
     "execution_count": 24,
     "metadata": {},
     "output_type": "execute_result"
    }
   ],
   "source": [
    "df['ConvertedComp'].median()"
   ]
  },
  {
   "cell_type": "code",
   "execution_count": 25,
   "metadata": {},
   "outputs": [
    {
     "data": {
      "text/plain": "Yes    71257\nNo     17626\nName: Hobbyist, dtype: int64"
     },
     "execution_count": 25,
     "metadata": {},
     "output_type": "execute_result"
    }
   ],
   "source": [
    "df.Hobbyist.value_counts()"
   ]
  },
  {
   "cell_type": "code",
   "execution_count": 26,
   "metadata": {},
   "outputs": [
    {
     "data": {
      "text/plain": "0          Twitter\n1        Instagram\n2           Reddit\n3           Reddit\n4         Facebook\n           ...    \n88878      YouTube\n88879          NaN\n88880          NaN\n88881          NaN\n88882     WhatsApp\nName: SocialMedia, Length: 88883, dtype: object"
     },
     "execution_count": 26,
     "metadata": {},
     "output_type": "execute_result"
    }
   ],
   "source": [
    "df.SocialMedia"
   ]
  },
  {
   "cell_type": "code",
   "execution_count": 27,
   "metadata": {},
   "outputs": [
    {
     "data": {
      "text/plain": "0          Twitter\n1        Instagram\n2           Reddit\n3           Reddit\n4         Facebook\n           ...    \n88878      YouTube\n88879          NaN\n88880          NaN\n88881          NaN\n88882     WhatsApp\nName: SocialMedia, Length: 88883, dtype: object"
     },
     "execution_count": 27,
     "metadata": {},
     "output_type": "execute_result"
    }
   ],
   "source": [
    "df.loc[:, 'SocialMedia']"
   ]
  },
  {
   "cell_type": "code",
   "execution_count": 29,
   "metadata": {},
   "outputs": [
    {
     "data": {
      "text/plain": "11398"
     },
     "execution_count": 29,
     "metadata": {},
     "output_type": "execute_result"
    }
   ],
   "source": [
    "df.loc[df.SocialMedia == 'Twitter', 'Respondent'].count()"
   ]
  },
  {
   "cell_type": "code",
   "execution_count": 30,
   "metadata": {},
   "outputs": [
    {
     "data": {
      "text/plain": "QuestionText    Do you code as a hobby?\nName: Hobbyist, dtype: object"
     },
     "execution_count": 30,
     "metadata": {},
     "output_type": "execute_result"
    }
   ],
   "source": [
    "df_schema.loc['Hobbyist']"
   ]
  },
  {
   "cell_type": "code",
   "execution_count": 31,
   "metadata": {},
   "outputs": [
    {
     "data": {
      "text/plain": "Reddit                      14374\nYouTube                     13830\nWhatsApp                    13347\nFacebook                    13178\nTwitter                     11398\nInstagram                    6261\nI don't use social media     5554\nLinkedIn                     4501\nWeChat 微信                     667\nSnapchat                      628\nVK ВКонта́кте                 603\nWeibo 新浪微博                     56\nYouku Tudou 优酷                 21\nHello                          19\nName: SocialMedia, dtype: int64"
     },
     "execution_count": 31,
     "metadata": {},
     "output_type": "execute_result"
    }
   ],
   "source": [
    "df.SocialMedia.value_counts()"
   ]
  },
  {
   "cell_type": "code",
   "execution_count": 32,
   "metadata": {},
   "outputs": [
    {
     "data": {
      "text/plain": "Reddit                      0.170233\nYouTube                     0.163791\nWhatsApp                    0.158071\nFacebook                    0.156069\nTwitter                     0.134988\nInstagram                   0.074150\nI don't use social media    0.065777\nLinkedIn                    0.053306\nWeChat 微信                   0.007899\nSnapchat                    0.007437\nVK ВКонта́кте               0.007141\nWeibo 新浪微博                  0.000663\nYouku Tudou 优酷              0.000249\nHello                       0.000225\nName: SocialMedia, dtype: float64"
     },
     "execution_count": 32,
     "metadata": {},
     "output_type": "execute_result"
    }
   ],
   "source": [
    "df.SocialMedia.value_counts(normalize=True)"
   ]
  },
  {
   "cell_type": "code",
   "execution_count": 33,
   "metadata": {},
   "outputs": [],
   "source": [
    "x = df.SocialMedia.value_counts(normalize=True)"
   ]
  },
  {
   "cell_type": "code",
   "execution_count": 35,
   "metadata": {},
   "outputs": [
    {
     "data": {
      "text/plain": "(14,)"
     },
     "execution_count": 35,
     "metadata": {},
     "output_type": "execute_result"
    }
   ],
   "source": [
    "x.shape"
   ]
  },
  {
   "cell_type": "code",
   "execution_count": 42,
   "metadata": {},
   "outputs": [],
   "source": [
    "import numpy as np\n",
    "c = np.random.randint(0,100,[14,])\n",
    "c = pd.Series(c)"
   ]
  },
  {
   "cell_type": "code",
   "execution_count": 43,
   "metadata": {},
   "outputs": [
    {
     "data": {
      "text/html": "<div>\n<style scoped>\n    .dataframe tbody tr th:only-of-type {\n        vertical-align: middle;\n    }\n\n    .dataframe tbody tr th {\n        vertical-align: top;\n    }\n\n    .dataframe thead th {\n        text-align: right;\n    }\n</style>\n<table border=\"1\" class=\"dataframe\">\n  <thead>\n    <tr style=\"text-align: right;\">\n      <th></th>\n      <th>SocialMedia</th>\n      <th>0</th>\n    </tr>\n  </thead>\n  <tbody>\n    <tr>\n      <th>0</th>\n      <td>NaN</td>\n      <td>28.0</td>\n    </tr>\n    <tr>\n      <th>1</th>\n      <td>NaN</td>\n      <td>25.0</td>\n    </tr>\n    <tr>\n      <th>2</th>\n      <td>NaN</td>\n      <td>97.0</td>\n    </tr>\n    <tr>\n      <th>3</th>\n      <td>NaN</td>\n      <td>79.0</td>\n    </tr>\n    <tr>\n      <th>4</th>\n      <td>NaN</td>\n      <td>63.0</td>\n    </tr>\n    <tr>\n      <th>5</th>\n      <td>NaN</td>\n      <td>7.0</td>\n    </tr>\n    <tr>\n      <th>6</th>\n      <td>NaN</td>\n      <td>76.0</td>\n    </tr>\n    <tr>\n      <th>7</th>\n      <td>NaN</td>\n      <td>35.0</td>\n    </tr>\n    <tr>\n      <th>8</th>\n      <td>NaN</td>\n      <td>52.0</td>\n    </tr>\n    <tr>\n      <th>9</th>\n      <td>NaN</td>\n      <td>14.0</td>\n    </tr>\n    <tr>\n      <th>10</th>\n      <td>NaN</td>\n      <td>50.0</td>\n    </tr>\n    <tr>\n      <th>11</th>\n      <td>NaN</td>\n      <td>65.0</td>\n    </tr>\n    <tr>\n      <th>12</th>\n      <td>NaN</td>\n      <td>31.0</td>\n    </tr>\n    <tr>\n      <th>13</th>\n      <td>NaN</td>\n      <td>24.0</td>\n    </tr>\n    <tr>\n      <th>Facebook</th>\n      <td>0.156069</td>\n      <td>NaN</td>\n    </tr>\n    <tr>\n      <th>Hello</th>\n      <td>0.000225</td>\n      <td>NaN</td>\n    </tr>\n    <tr>\n      <th>I don't use social media</th>\n      <td>0.065777</td>\n      <td>NaN</td>\n    </tr>\n    <tr>\n      <th>Instagram</th>\n      <td>0.074150</td>\n      <td>NaN</td>\n    </tr>\n    <tr>\n      <th>LinkedIn</th>\n      <td>0.053306</td>\n      <td>NaN</td>\n    </tr>\n    <tr>\n      <th>Reddit</th>\n      <td>0.170233</td>\n      <td>NaN</td>\n    </tr>\n    <tr>\n      <th>Snapchat</th>\n      <td>0.007437</td>\n      <td>NaN</td>\n    </tr>\n    <tr>\n      <th>Twitter</th>\n      <td>0.134988</td>\n      <td>NaN</td>\n    </tr>\n    <tr>\n      <th>VK ВКонта́кте</th>\n      <td>0.007141</td>\n      <td>NaN</td>\n    </tr>\n    <tr>\n      <th>WeChat 微信</th>\n      <td>0.007899</td>\n      <td>NaN</td>\n    </tr>\n    <tr>\n      <th>Weibo 新浪微博</th>\n      <td>0.000663</td>\n      <td>NaN</td>\n    </tr>\n    <tr>\n      <th>WhatsApp</th>\n      <td>0.158071</td>\n      <td>NaN</td>\n    </tr>\n    <tr>\n      <th>YouTube</th>\n      <td>0.163791</td>\n      <td>NaN</td>\n    </tr>\n    <tr>\n      <th>Youku Tudou 优酷</th>\n      <td>0.000249</td>\n      <td>NaN</td>\n    </tr>\n  </tbody>\n</table>\n</div>",
      "text/plain": "                          SocialMedia     0\n0                                 NaN  28.0\n1                                 NaN  25.0\n2                                 NaN  97.0\n3                                 NaN  79.0\n4                                 NaN  63.0\n5                                 NaN   7.0\n6                                 NaN  76.0\n7                                 NaN  35.0\n8                                 NaN  52.0\n9                                 NaN  14.0\n10                                NaN  50.0\n11                                NaN  65.0\n12                                NaN  31.0\n13                                NaN  24.0\nFacebook                     0.156069   NaN\nHello                        0.000225   NaN\nI don't use social media     0.065777   NaN\nInstagram                    0.074150   NaN\nLinkedIn                     0.053306   NaN\nReddit                       0.170233   NaN\nSnapchat                     0.007437   NaN\nTwitter                      0.134988   NaN\nVK ВКонта́кте                0.007141   NaN\nWeChat 微信                    0.007899   NaN\nWeibo 新浪微博                   0.000663   NaN\nWhatsApp                     0.158071   NaN\nYouTube                      0.163791   NaN\nYouku Tudou 优酷               0.000249   NaN"
     },
     "execution_count": 43,
     "metadata": {},
     "output_type": "execute_result"
    }
   ],
   "source": [
    "pd.concat([x, c], axis='columns')"
   ]
  },
  {
   "cell_type": "code",
   "execution_count": 44,
   "metadata": {},
   "outputs": [
    {
     "data": {
      "text/plain": "United States       20949\nIndia                9061\nGermany              5866\nUnited Kingdom       5737\nCanada               3395\n                    ...  \nChad                    1\nTimor-Leste             1\nTonga                   1\nPapua New Guinea        1\nDominica                1\nName: Country, Length: 179, dtype: int64"
     },
     "execution_count": 44,
     "metadata": {},
     "output_type": "execute_result"
    }
   ],
   "source": [
    "df['Country'].value_counts()"
   ]
  },
  {
   "cell_type": "markdown",
   "metadata": {},
   "source": [
    "#### grouping has three steps to it --- Splitting Object, Applying Function, Combining Results"
   ]
  },
  {
   "cell_type": "code",
   "execution_count": 45,
   "metadata": {},
   "outputs": [
    {
     "data": {
      "text/plain": "<pandas.core.groupby.generic.DataFrameGroupBy object at 0x7efcec397bb0>"
     },
     "execution_count": 45,
     "metadata": {},
     "output_type": "execute_result"
    }
   ],
   "source": [
    "df.groupby(['Country'])"
   ]
  },
  {
   "cell_type": "code",
   "execution_count": 49,
   "metadata": {},
   "outputs": [
    {
     "data": {
      "text/plain": "<pandas.core.groupby.generic.DataFrameGroupBy object at 0x7efcf6dcfeb0>"
     },
     "execution_count": 49,
     "metadata": {},
     "output_type": "execute_result"
    }
   ],
   "source": [
    "df.groupby(['Country']) # creates a groupby object -- can be considered a group of splitted dataframes - This is step 1 -- splitting the object"
   ]
  },
  {
   "cell_type": "code",
   "execution_count": 50,
   "metadata": {},
   "outputs": [],
   "source": [
    "country_grp = df.groupby(['Country'])"
   ]
  },
  {
   "cell_type": "code",
   "execution_count": 53,
   "metadata": {},
   "outputs": [
    {
     "data": {
      "text/html": "<div>\n<style scoped>\n    .dataframe tbody tr th:only-of-type {\n        vertical-align: middle;\n    }\n\n    .dataframe tbody tr th {\n        vertical-align: top;\n    }\n\n    .dataframe thead th {\n        text-align: right;\n    }\n</style>\n<table border=\"1\" class=\"dataframe\">\n  <thead>\n    <tr style=\"text-align: right;\">\n      <th></th>\n      <th>Respondent</th>\n      <th>MainBranch</th>\n      <th>Hobbyist</th>\n      <th>OpenSourcer</th>\n      <th>OpenSource</th>\n      <th>Employment</th>\n      <th>Country</th>\n      <th>Student</th>\n      <th>EdLevel</th>\n      <th>UndergradMajor</th>\n      <th>...</th>\n      <th>WelcomeChange</th>\n      <th>SONewContent</th>\n      <th>Age</th>\n      <th>Gender</th>\n      <th>Trans</th>\n      <th>Sexuality</th>\n      <th>Ethnicity</th>\n      <th>Dependents</th>\n      <th>SurveyLength</th>\n      <th>SurveyEase</th>\n    </tr>\n  </thead>\n  <tbody>\n    <tr>\n      <th>3</th>\n      <td>4</td>\n      <td>I am a developer by profession</td>\n      <td>No</td>\n      <td>Never</td>\n      <td>The quality of OSS and closed source software ...</td>\n      <td>Employed full-time</td>\n      <td>United States</td>\n      <td>No</td>\n      <td>Bachelor’s degree (BA, BS, B.Eng., etc.)</td>\n      <td>Computer science, computer engineering, or sof...</td>\n      <td>...</td>\n      <td>Just as welcome now as I felt last year</td>\n      <td>Tech articles written by other developers;Indu...</td>\n      <td>22.0</td>\n      <td>Man</td>\n      <td>No</td>\n      <td>Straight / Heterosexual</td>\n      <td>White or of European descent</td>\n      <td>No</td>\n      <td>Appropriate in length</td>\n      <td>Easy</td>\n    </tr>\n    <tr>\n      <th>12</th>\n      <td>13</td>\n      <td>I am a developer by profession</td>\n      <td>Yes</td>\n      <td>Less than once a month but more than once per ...</td>\n      <td>OSS is, on average, of HIGHER quality than pro...</td>\n      <td>Employed full-time</td>\n      <td>United States</td>\n      <td>No</td>\n      <td>Master’s degree (MA, MS, M.Eng., MBA, etc.)</td>\n      <td>Computer science, computer engineering, or sof...</td>\n      <td>...</td>\n      <td>Somewhat more welcome now than last year</td>\n      <td>Tech articles written by other developers;Cour...</td>\n      <td>28.0</td>\n      <td>Man</td>\n      <td>No</td>\n      <td>Straight / Heterosexual</td>\n      <td>White or of European descent</td>\n      <td>Yes</td>\n      <td>Appropriate in length</td>\n      <td>Easy</td>\n    </tr>\n    <tr>\n      <th>21</th>\n      <td>22</td>\n      <td>I am a developer by profession</td>\n      <td>Yes</td>\n      <td>Less than once per year</td>\n      <td>OSS is, on average, of HIGHER quality than pro...</td>\n      <td>Employed full-time</td>\n      <td>United States</td>\n      <td>No</td>\n      <td>Some college/university study without earning ...</td>\n      <td>NaN</td>\n      <td>...</td>\n      <td>Just as welcome now as I felt last year</td>\n      <td>Tech articles written by other developers;Indu...</td>\n      <td>47.0</td>\n      <td>Man</td>\n      <td>No</td>\n      <td>Straight / Heterosexual</td>\n      <td>White or of European descent</td>\n      <td>Yes</td>\n      <td>Appropriate in length</td>\n      <td>Easy</td>\n    </tr>\n  </tbody>\n</table>\n<p>3 rows × 85 columns</p>\n</div>",
      "text/plain": "    Respondent                      MainBranch Hobbyist  \\\n3            4  I am a developer by profession       No   \n12          13  I am a developer by profession      Yes   \n21          22  I am a developer by profession      Yes   \n\n                                          OpenSourcer  \\\n3                                               Never   \n12  Less than once a month but more than once per ...   \n21                            Less than once per year   \n\n                                           OpenSource          Employment  \\\n3   The quality of OSS and closed source software ...  Employed full-time   \n12  OSS is, on average, of HIGHER quality than pro...  Employed full-time   \n21  OSS is, on average, of HIGHER quality than pro...  Employed full-time   \n\n          Country Student                                            EdLevel  \\\n3   United States      No           Bachelor’s degree (BA, BS, B.Eng., etc.)   \n12  United States      No        Master’s degree (MA, MS, M.Eng., MBA, etc.)   \n21  United States      No  Some college/university study without earning ...   \n\n                                       UndergradMajor  ...  \\\n3   Computer science, computer engineering, or sof...  ...   \n12  Computer science, computer engineering, or sof...  ...   \n21                                                NaN  ...   \n\n                               WelcomeChange  \\\n3    Just as welcome now as I felt last year   \n12  Somewhat more welcome now than last year   \n21   Just as welcome now as I felt last year   \n\n                                         SONewContent   Age Gender Trans  \\\n3   Tech articles written by other developers;Indu...  22.0    Man    No   \n12  Tech articles written by other developers;Cour...  28.0    Man    No   \n21  Tech articles written by other developers;Indu...  47.0    Man    No   \n\n                  Sexuality                     Ethnicity Dependents  \\\n3   Straight / Heterosexual  White or of European descent         No   \n12  Straight / Heterosexual  White or of European descent        Yes   \n21  Straight / Heterosexual  White or of European descent        Yes   \n\n             SurveyLength SurveyEase  \n3   Appropriate in length       Easy  \n12  Appropriate in length       Easy  \n21  Appropriate in length       Easy  \n\n[3 rows x 85 columns]"
     },
     "execution_count": 53,
     "metadata": {},
     "output_type": "execute_result"
    }
   ],
   "source": [
    "country_grp.get_group('United States').head(3) #here we access the united stated mini df from the group of dfs"
   ]
  },
  {
   "cell_type": "code",
   "execution_count": 56,
   "metadata": {},
   "outputs": [
    {
     "data": {
      "text/html": "<div>\n<style scoped>\n    .dataframe tbody tr th:only-of-type {\n        vertical-align: middle;\n    }\n\n    .dataframe tbody tr th {\n        vertical-align: top;\n    }\n\n    .dataframe thead th {\n        text-align: right;\n    }\n</style>\n<table border=\"1\" class=\"dataframe\">\n  <thead>\n    <tr style=\"text-align: right;\">\n      <th></th>\n      <th>Respondent</th>\n      <th>MainBranch</th>\n      <th>Hobbyist</th>\n      <th>OpenSourcer</th>\n      <th>OpenSource</th>\n      <th>Employment</th>\n      <th>Country</th>\n      <th>Student</th>\n      <th>EdLevel</th>\n      <th>UndergradMajor</th>\n      <th>...</th>\n      <th>WelcomeChange</th>\n      <th>SONewContent</th>\n      <th>Age</th>\n      <th>Gender</th>\n      <th>Trans</th>\n      <th>Sexuality</th>\n      <th>Ethnicity</th>\n      <th>Dependents</th>\n      <th>SurveyLength</th>\n      <th>SurveyEase</th>\n    </tr>\n  </thead>\n  <tbody>\n    <tr>\n      <th>7</th>\n      <td>8</td>\n      <td>I code primarily as a hobby</td>\n      <td>Yes</td>\n      <td>Less than once per year</td>\n      <td>OSS is, on average, of HIGHER quality than pro...</td>\n      <td>Not employed, but looking for work</td>\n      <td>India</td>\n      <td>NaN</td>\n      <td>Bachelor’s degree (BA, BS, B.Eng., etc.)</td>\n      <td>Computer science, computer engineering, or sof...</td>\n      <td>...</td>\n      <td>A lot more welcome now than last year</td>\n      <td>Tech articles written by other developers;Indu...</td>\n      <td>24.0</td>\n      <td>Man</td>\n      <td>No</td>\n      <td>Straight / Heterosexual</td>\n      <td>NaN</td>\n      <td>NaN</td>\n      <td>Appropriate in length</td>\n      <td>Neither easy nor difficult</td>\n    </tr>\n    <tr>\n      <th>9</th>\n      <td>10</td>\n      <td>I am a developer by profession</td>\n      <td>Yes</td>\n      <td>Once a month or more often</td>\n      <td>OSS is, on average, of HIGHER quality than pro...</td>\n      <td>Employed full-time</td>\n      <td>India</td>\n      <td>No</td>\n      <td>Master’s degree (MA, MS, M.Eng., MBA, etc.)</td>\n      <td>NaN</td>\n      <td>...</td>\n      <td>Somewhat less welcome now than last year</td>\n      <td>Tech articles written by other developers;Tech...</td>\n      <td>NaN</td>\n      <td>NaN</td>\n      <td>NaN</td>\n      <td>NaN</td>\n      <td>NaN</td>\n      <td>Yes</td>\n      <td>Too long</td>\n      <td>Difficult</td>\n    </tr>\n    <tr>\n      <th>14</th>\n      <td>15</td>\n      <td>I am a student who is learning to code</td>\n      <td>Yes</td>\n      <td>Never</td>\n      <td>OSS is, on average, of HIGHER quality than pro...</td>\n      <td>Not employed, but looking for work</td>\n      <td>India</td>\n      <td>Yes, full-time</td>\n      <td>Secondary school (e.g. American high school, G...</td>\n      <td>NaN</td>\n      <td>...</td>\n      <td>Just as welcome now as I felt last year</td>\n      <td>Tech articles written by other developers;Indu...</td>\n      <td>20.0</td>\n      <td>Man</td>\n      <td>No</td>\n      <td>NaN</td>\n      <td>NaN</td>\n      <td>Yes</td>\n      <td>Too long</td>\n      <td>Neither easy nor difficult</td>\n    </tr>\n  </tbody>\n</table>\n<p>3 rows × 85 columns</p>\n</div>",
      "text/plain": "    Respondent                              MainBranch Hobbyist  \\\n7            8             I code primarily as a hobby      Yes   \n9           10          I am a developer by profession      Yes   \n14          15  I am a student who is learning to code      Yes   \n\n                   OpenSourcer  \\\n7      Less than once per year   \n9   Once a month or more often   \n14                       Never   \n\n                                           OpenSource  \\\n7   OSS is, on average, of HIGHER quality than pro...   \n9   OSS is, on average, of HIGHER quality than pro...   \n14  OSS is, on average, of HIGHER quality than pro...   \n\n                            Employment Country         Student  \\\n7   Not employed, but looking for work   India             NaN   \n9                   Employed full-time   India              No   \n14  Not employed, but looking for work   India  Yes, full-time   \n\n                                              EdLevel  \\\n7            Bachelor’s degree (BA, BS, B.Eng., etc.)   \n9         Master’s degree (MA, MS, M.Eng., MBA, etc.)   \n14  Secondary school (e.g. American high school, G...   \n\n                                       UndergradMajor  ...  \\\n7   Computer science, computer engineering, or sof...  ...   \n9                                                 NaN  ...   \n14                                                NaN  ...   \n\n                               WelcomeChange  \\\n7      A lot more welcome now than last year   \n9   Somewhat less welcome now than last year   \n14   Just as welcome now as I felt last year   \n\n                                         SONewContent   Age Gender Trans  \\\n7   Tech articles written by other developers;Indu...  24.0    Man    No   \n9   Tech articles written by other developers;Tech...   NaN    NaN   NaN   \n14  Tech articles written by other developers;Indu...  20.0    Man    No   \n\n                  Sexuality Ethnicity Dependents           SurveyLength  \\\n7   Straight / Heterosexual       NaN        NaN  Appropriate in length   \n9                       NaN       NaN        Yes               Too long   \n14                      NaN       NaN        Yes               Too long   \n\n                    SurveyEase  \n7   Neither easy nor difficult  \n9                    Difficult  \n14  Neither easy nor difficult  \n\n[3 rows x 85 columns]"
     },
     "execution_count": 56,
     "metadata": {},
     "output_type": "execute_result"
    }
   ],
   "source": [
    "df.groupby(['Country']).get_group('India').head(3)"
   ]
  },
  {
   "cell_type": "code",
   "execution_count": 59,
   "metadata": {},
   "outputs": [
    {
     "data": {
      "text/plain": "WhatsApp                    2990\nYouTube                     1820\nLinkedIn                     955\nFacebook                     841\nInstagram                    822\nTwitter                      542\nReddit                       473\nI don't use social media     250\nSnapchat                      23\nWeChat 微信                      5\nHello                          5\nVK ВКонта́кте                  4\nYouku Tudou 优酷                 2\nWeibo 新浪微博                     1\nName: SocialMedia, dtype: int64"
     },
     "execution_count": 59,
     "metadata": {},
     "output_type": "execute_result"
    }
   ],
   "source": [
    "df.loc[df.Country == \"India\"]['SocialMedia'].value_counts()"
   ]
  },
  {
   "cell_type": "code",
   "execution_count": 65,
   "metadata": {},
   "outputs": [
    {
     "data": {
      "text/plain": "21895    2000000.0\n28080    2000000.0\nName: ConvertedComp, dtype: float64"
     },
     "execution_count": 65,
     "metadata": {},
     "output_type": "execute_result"
    }
   ],
   "source": [
    "df[df.Country == 'India'].nlargest(2,'ConvertedComp')['ConvertedComp']"
   ]
  },
  {
   "cell_type": "code",
   "execution_count": 68,
   "metadata": {},
   "outputs": [
    {
     "data": {
      "text/plain": "Reddit                      5700\nTwitter                     3468\nFacebook                    2844\nYouTube                     2463\nI don't use social media    1851\nInstagram                   1652\nLinkedIn                    1020\nWhatsApp                     609\nSnapchat                     326\nWeChat 微信                     93\nVK ВКонта́кте                  9\nWeibo 新浪微博                     8\nHello                          2\nYouku Tudou 优酷                 1\nName: SocialMedia, dtype: int64"
     },
     "execution_count": 68,
     "metadata": {},
     "output_type": "execute_result"
    }
   ],
   "source": [
    "df.groupby('Country').get_group('United States')['SocialMedia'].value_counts()"
   ]
  },
  {
   "cell_type": "code",
   "execution_count": 69,
   "metadata": {},
   "outputs": [
    {
     "data": {
      "text/plain": "<pandas.core.groupby.generic.DataFrameGroupBy object at 0x7efcf2a33940>"
     },
     "execution_count": 69,
     "metadata": {},
     "output_type": "execute_result"
    }
   ],
   "source": [
    "df.groupby(['Country', 'Gender'])"
   ]
  },
  {
   "cell_type": "code",
   "execution_count": 74,
   "metadata": {},
   "outputs": [
    {
     "data": {
      "text/html": "<div>\n<style scoped>\n    .dataframe tbody tr th:only-of-type {\n        vertical-align: middle;\n    }\n\n    .dataframe tbody tr th {\n        vertical-align: top;\n    }\n\n    .dataframe thead th {\n        text-align: right;\n    }\n</style>\n<table border=\"1\" class=\"dataframe\">\n  <thead>\n    <tr style=\"text-align: right;\">\n      <th></th>\n      <th>Respondent</th>\n      <th>MainBranch</th>\n      <th>Hobbyist</th>\n      <th>OpenSourcer</th>\n      <th>OpenSource</th>\n      <th>Employment</th>\n      <th>Country</th>\n      <th>Student</th>\n      <th>EdLevel</th>\n      <th>UndergradMajor</th>\n      <th>...</th>\n      <th>WelcomeChange</th>\n      <th>SONewContent</th>\n      <th>Age</th>\n      <th>Gender</th>\n      <th>Trans</th>\n      <th>Sexuality</th>\n      <th>Ethnicity</th>\n      <th>Dependents</th>\n      <th>SurveyLength</th>\n      <th>SurveyEase</th>\n    </tr>\n  </thead>\n  <tbody>\n    <tr>\n      <th>7</th>\n      <td>8</td>\n      <td>I code primarily as a hobby</td>\n      <td>Yes</td>\n      <td>Less than once per year</td>\n      <td>OSS is, on average, of HIGHER quality than pro...</td>\n      <td>Not employed, but looking for work</td>\n      <td>India</td>\n      <td>NaN</td>\n      <td>Bachelor’s degree (BA, BS, B.Eng., etc.)</td>\n      <td>Computer science, computer engineering, or sof...</td>\n      <td>...</td>\n      <td>A lot more welcome now than last year</td>\n      <td>Tech articles written by other developers;Indu...</td>\n      <td>24.0</td>\n      <td>Man</td>\n      <td>No</td>\n      <td>Straight / Heterosexual</td>\n      <td>NaN</td>\n      <td>NaN</td>\n      <td>Appropriate in length</td>\n      <td>Neither easy nor difficult</td>\n    </tr>\n    <tr>\n      <th>14</th>\n      <td>15</td>\n      <td>I am a student who is learning to code</td>\n      <td>Yes</td>\n      <td>Never</td>\n      <td>OSS is, on average, of HIGHER quality than pro...</td>\n      <td>Not employed, but looking for work</td>\n      <td>India</td>\n      <td>Yes, full-time</td>\n      <td>Secondary school (e.g. American high school, G...</td>\n      <td>NaN</td>\n      <td>...</td>\n      <td>Just as welcome now as I felt last year</td>\n      <td>Tech articles written by other developers;Indu...</td>\n      <td>20.0</td>\n      <td>Man</td>\n      <td>No</td>\n      <td>NaN</td>\n      <td>NaN</td>\n      <td>Yes</td>\n      <td>Too long</td>\n      <td>Neither easy nor difficult</td>\n    </tr>\n    <tr>\n      <th>49</th>\n      <td>50</td>\n      <td>I am a developer by profession</td>\n      <td>Yes</td>\n      <td>Once a month or more often</td>\n      <td>OSS is, on average, of LOWER quality than prop...</td>\n      <td>Employed full-time</td>\n      <td>India</td>\n      <td>No</td>\n      <td>Bachelor’s degree (BA, BS, B.Eng., etc.)</td>\n      <td>Another engineering discipline (ex. civil, ele...</td>\n      <td>...</td>\n      <td>Just as welcome now as I felt last year</td>\n      <td>Tech articles written by other developers;Tech...</td>\n      <td>23.0</td>\n      <td>Man</td>\n      <td>No</td>\n      <td>NaN</td>\n      <td>South Asian</td>\n      <td>No</td>\n      <td>Too long</td>\n      <td>Easy</td>\n    </tr>\n    <tr>\n      <th>64</th>\n      <td>65</td>\n      <td>I am a developer by profession</td>\n      <td>Yes</td>\n      <td>Never</td>\n      <td>NaN</td>\n      <td>Employed full-time</td>\n      <td>India</td>\n      <td>No</td>\n      <td>Bachelor’s degree (BA, BS, B.Eng., etc.)</td>\n      <td>Information systems, information technology, o...</td>\n      <td>...</td>\n      <td>A lot more welcome now than last year</td>\n      <td>NaN</td>\n      <td>21.0</td>\n      <td>Man</td>\n      <td>No</td>\n      <td>NaN</td>\n      <td>NaN</td>\n      <td>Yes</td>\n      <td>Appropriate in length</td>\n      <td>Neither easy nor difficult</td>\n    </tr>\n    <tr>\n      <th>67</th>\n      <td>68</td>\n      <td>I am a developer by profession</td>\n      <td>Yes</td>\n      <td>Less than once a month but more than once per ...</td>\n      <td>OSS is, on average, of LOWER quality than prop...</td>\n      <td>Employed full-time</td>\n      <td>India</td>\n      <td>No</td>\n      <td>Bachelor’s degree (BA, BS, B.Eng., etc.)</td>\n      <td>Web development or web design</td>\n      <td>...</td>\n      <td>Somewhat more welcome now than last year</td>\n      <td>Tech articles written by other developers;Indu...</td>\n      <td>29.0</td>\n      <td>Man</td>\n      <td>No</td>\n      <td>Straight / Heterosexual</td>\n      <td>South Asian</td>\n      <td>No</td>\n      <td>Appropriate in length</td>\n      <td>Easy</td>\n    </tr>\n  </tbody>\n</table>\n<p>5 rows × 85 columns</p>\n</div>",
      "text/plain": "    Respondent                              MainBranch Hobbyist  \\\n7            8             I code primarily as a hobby      Yes   \n14          15  I am a student who is learning to code      Yes   \n49          50          I am a developer by profession      Yes   \n64          65          I am a developer by profession      Yes   \n67          68          I am a developer by profession      Yes   \n\n                                          OpenSourcer  \\\n7                             Less than once per year   \n14                                              Never   \n49                         Once a month or more often   \n64                                              Never   \n67  Less than once a month but more than once per ...   \n\n                                           OpenSource  \\\n7   OSS is, on average, of HIGHER quality than pro...   \n14  OSS is, on average, of HIGHER quality than pro...   \n49  OSS is, on average, of LOWER quality than prop...   \n64                                                NaN   \n67  OSS is, on average, of LOWER quality than prop...   \n\n                            Employment Country         Student  \\\n7   Not employed, but looking for work   India             NaN   \n14  Not employed, but looking for work   India  Yes, full-time   \n49                  Employed full-time   India              No   \n64                  Employed full-time   India              No   \n67                  Employed full-time   India              No   \n\n                                              EdLevel  \\\n7            Bachelor’s degree (BA, BS, B.Eng., etc.)   \n14  Secondary school (e.g. American high school, G...   \n49           Bachelor’s degree (BA, BS, B.Eng., etc.)   \n64           Bachelor’s degree (BA, BS, B.Eng., etc.)   \n67           Bachelor’s degree (BA, BS, B.Eng., etc.)   \n\n                                       UndergradMajor  ...  \\\n7   Computer science, computer engineering, or sof...  ...   \n14                                                NaN  ...   \n49  Another engineering discipline (ex. civil, ele...  ...   \n64  Information systems, information technology, o...  ...   \n67                      Web development or web design  ...   \n\n                               WelcomeChange  \\\n7      A lot more welcome now than last year   \n14   Just as welcome now as I felt last year   \n49   Just as welcome now as I felt last year   \n64     A lot more welcome now than last year   \n67  Somewhat more welcome now than last year   \n\n                                         SONewContent   Age Gender Trans  \\\n7   Tech articles written by other developers;Indu...  24.0    Man    No   \n14  Tech articles written by other developers;Indu...  20.0    Man    No   \n49  Tech articles written by other developers;Tech...  23.0    Man    No   \n64                                                NaN  21.0    Man    No   \n67  Tech articles written by other developers;Indu...  29.0    Man    No   \n\n                  Sexuality    Ethnicity Dependents           SurveyLength  \\\n7   Straight / Heterosexual          NaN        NaN  Appropriate in length   \n14                      NaN          NaN        Yes               Too long   \n49                      NaN  South Asian         No               Too long   \n64                      NaN          NaN        Yes  Appropriate in length   \n67  Straight / Heterosexual  South Asian         No  Appropriate in length   \n\n                    SurveyEase  \n7   Neither easy nor difficult  \n14  Neither easy nor difficult  \n49                        Easy  \n64  Neither easy nor difficult  \n67                        Easy  \n\n[5 rows x 85 columns]"
     },
     "execution_count": 74,
     "metadata": {},
     "output_type": "execute_result"
    }
   ],
   "source": [
    "df.groupby(['Country', 'Gender']).get_group(('India', 'Man')).head()"
   ]
  },
  {
   "cell_type": "code",
   "execution_count": 75,
   "metadata": {},
   "outputs": [
    {
     "data": {
      "text/plain": "Country      Gender                                                     \nAfghanistan  Man                                                             26\n             Woman                                                            2\n             Non-binary, genderqueer, or gender non-conforming                1\n             Woman;Man;Non-binary, genderqueer, or gender non-conforming      1\nAlbania      Man                                                             70\n             Woman                                                           12\n             Non-binary, genderqueer, or gender non-conforming                1\nAlgeria      Man                                                            107\n             Woman                                                           12\n             Man;Non-binary, genderqueer, or gender non-conforming            1\nName: Gender, dtype: int64"
     },
     "execution_count": 75,
     "metadata": {},
     "output_type": "execute_result"
    }
   ],
   "source": [
    "df.groupby('Country')['Gender'].value_counts().head(10)"
   ]
  },
  {
   "cell_type": "code",
   "execution_count": 79,
   "metadata": {},
   "outputs": [
    {
     "data": {
      "text/plain": "Country      Gender                                                     \nAfghanistan  Man                                                            0.866667\n             Woman                                                          0.066667\n             Non-binary, genderqueer, or gender non-conforming              0.033333\n             Woman;Man;Non-binary, genderqueer, or gender non-conforming    0.033333\nAlbania      Man                                                            0.843373\n                                                                              ...   \nYemen        Woman;Man                                                      0.052632\nZambia       Man                                                            0.916667\n             Woman                                                          0.083333\nZimbabwe     Man                                                            0.948718\n             Woman                                                          0.051282\nName: Gender, Length: 539, dtype: float64"
     },
     "execution_count": 79,
     "metadata": {},
     "output_type": "execute_result"
    }
   ],
   "source": [
    "df.groupby('Country')['Gender'].value_counts(normalize=True) # here a series with multiple indexes is being returned"
   ]
  },
  {
   "cell_type": "code",
   "execution_count": 80,
   "metadata": {},
   "outputs": [
    {
     "data": {
      "text/plain": "pandas.core.series.Series"
     },
     "execution_count": 80,
     "metadata": {},
     "output_type": "execute_result"
    }
   ],
   "source": [
    "s = df.groupby('Country')['Gender'].value_counts(normalize=True)\n",
    "type(s)"
   ]
  },
  {
   "cell_type": "code",
   "execution_count": 82,
   "metadata": {},
   "outputs": [
    {
     "data": {
      "text/plain": "Gender\nMan                                                            0.924846\nWoman                                                          0.067568\nWoman;Man                                                      0.003082\nNon-binary, genderqueer, or gender non-conforming              0.002252\nWoman;Man;Non-binary, genderqueer, or gender non-conforming    0.001304\nMan;Non-binary, genderqueer, or gender non-conforming          0.000711\nWoman;Non-binary, genderqueer, or gender non-conforming        0.000237\nName: Gender, dtype: float64"
     },
     "execution_count": 82,
     "metadata": {},
     "output_type": "execute_result"
    }
   ],
   "source": [
    "#here we can use .loc for series to get to a desired value\n",
    "\n",
    "s.loc['India']"
   ]
  },
  {
   "cell_type": "code",
   "execution_count": 85,
   "metadata": {},
   "outputs": [
    {
     "data": {
      "text/plain": "Gender\nMan                                                            0.924846\nWoman                                                          0.067568\nWoman;Man                                                      0.003082\nNon-binary, genderqueer, or gender non-conforming              0.002252\nWoman;Man;Non-binary, genderqueer, or gender non-conforming    0.001304\nMan;Non-binary, genderqueer, or gender non-conforming          0.000711\nWoman;Non-binary, genderqueer, or gender non-conforming        0.000237\nName: Gender, dtype: float64"
     },
     "execution_count": 85,
     "metadata": {},
     "output_type": "execute_result"
    }
   ],
   "source": [
    "df.groupby('Country')['Gender'].value_counts(normalize = True).loc['India']"
   ]
  },
  {
   "cell_type": "code",
   "execution_count": 90,
   "metadata": {},
   "outputs": [
    {
     "data": {
      "text/plain": "Country      Gender                                                     \nAfghanistan  Man                                                            0.866667\n             Woman                                                          0.066667\n             Non-binary, genderqueer, or gender non-conforming              0.033333\n             Woman;Man;Non-binary, genderqueer, or gender non-conforming    0.033333\nAlbania      Man                                                            0.843373\n                                                                              ...   \nYemen        Woman;Man                                                      0.052632\nZambia       Man                                                            0.916667\n             Woman                                                          0.083333\nZimbabwe     Man                                                            0.948718\n             Woman                                                          0.051282\nName: Gender, Length: 539, dtype: float64"
     },
     "execution_count": 90,
     "metadata": {},
     "output_type": "execute_result"
    }
   ],
   "source": [
    "df.groupby('Country')['Gender'].value_counts(normalize=True)"
   ]
  },
  {
   "cell_type": "code",
   "execution_count": 95,
   "metadata": {},
   "outputs": [
    {
     "data": {
      "text/plain": "Country\nBrunei Darussalam                         6096.0\nChad                                      6288.0\nSaint Vincent and the Grenadines         16281.0\nTimor-Leste                             229500.0\nSan Marino                              301788.0\n                                          ...   \nVenezuela, Bolivarian Republic of...         NaN\nViet Nam                                     NaN\nYemen                                        NaN\nZambia                                       NaN\nZimbabwe                                     NaN\nName: ConvertedComp, Length: 179, dtype: float64"
     },
     "execution_count": 95,
     "metadata": {},
     "output_type": "execute_result"
    }
   ],
   "source": [
    "df.groupby('Country')['ConvertedComp'].apply(np.median).sort_values()"
   ]
  },
  {
   "cell_type": "code",
   "execution_count": 96,
   "metadata": {},
   "outputs": [
    {
     "data": {
      "text/plain": "Country         Gender                                                     \nUnited States   Man                                                            17700\nIndia           Man                                                             7802\nGermany         Man                                                             5289\nUnited Kingdom  Man                                                             5060\nCanada          Man                                                             2916\n                                                                               ...  \nSlovakia        Non-binary, genderqueer, or gender non-conforming                  1\nMorocco         Woman;Man;Non-binary, genderqueer, or gender non-conforming        1\n                Woman;Man                                                          1\nBulgaria        Man;Non-binary, genderqueer, or gender non-conforming              1\nPortugal        Woman;Man                                                          1\nLength: 539, dtype: int64"
     },
     "execution_count": 96,
     "metadata": {},
     "output_type": "execute_result"
    }
   ],
   "source": [
    "df[['Country', 'Gender']].value_counts()"
   ]
  },
  {
   "cell_type": "code",
   "execution_count": 97,
   "metadata": {},
   "outputs": [
    {
     "data": {
      "text/html": "<div>\n<style scoped>\n    .dataframe tbody tr th:only-of-type {\n        vertical-align: middle;\n    }\n\n    .dataframe tbody tr th {\n        vertical-align: top;\n    }\n\n    .dataframe thead th {\n        text-align: right;\n    }\n</style>\n<table border=\"1\" class=\"dataframe\">\n  <thead>\n    <tr style=\"text-align: right;\">\n      <th></th>\n      <th>Respondent</th>\n      <th>CompTotal</th>\n      <th>ConvertedComp</th>\n      <th>WorkWeekHrs</th>\n      <th>CodeRevHrs</th>\n      <th>Age</th>\n    </tr>\n    <tr>\n      <th>Country</th>\n      <th></th>\n      <th></th>\n      <th></th>\n      <th></th>\n      <th></th>\n      <th></th>\n    </tr>\n  </thead>\n  <tbody>\n    <tr>\n      <th>Afghanistan</th>\n      <td>47441.431818</td>\n      <td>5.418654e+07</td>\n      <td>101953.333333</td>\n      <td>55.352941</td>\n      <td>14.062500</td>\n      <td>27.913043</td>\n    </tr>\n    <tr>\n      <th>Albania</th>\n      <td>41695.546512</td>\n      <td>1.707424e+05</td>\n      <td>21833.700000</td>\n      <td>40.121212</td>\n      <td>5.781818</td>\n      <td>25.145833</td>\n    </tr>\n    <tr>\n      <th>Algeria</th>\n      <td>43010.126866</td>\n      <td>7.544398e+04</td>\n      <td>34924.047619</td>\n      <td>38.220930</td>\n      <td>6.413793</td>\n      <td>27.284404</td>\n    </tr>\n    <tr>\n      <th>Andorra</th>\n      <td>50079.857143</td>\n      <td>7.650000e+04</td>\n      <td>160931.000000</td>\n      <td>42.000000</td>\n      <td>2.500000</td>\n      <td>28.000000</td>\n    </tr>\n    <tr>\n      <th>Angola</th>\n      <td>50569.400000</td>\n      <td>2.020000e+05</td>\n      <td>7764.000000</td>\n      <td>45.000000</td>\n      <td>10.000000</td>\n      <td>26.666667</td>\n    </tr>\n    <tr>\n      <th>...</th>\n      <td>...</td>\n      <td>...</td>\n      <td>...</td>\n      <td>...</td>\n      <td>...</td>\n      <td>...</td>\n    </tr>\n    <tr>\n      <th>Venezuela, Bolivarian Republic of...</th>\n      <td>43461.170455</td>\n      <td>1.174443e+05</td>\n      <td>14581.627907</td>\n      <td>40.444444</td>\n      <td>6.717949</td>\n      <td>28.301205</td>\n    </tr>\n    <tr>\n      <th>Viet Nam</th>\n      <td>43895.337662</td>\n      <td>2.613438e+07</td>\n      <td>17233.436782</td>\n      <td>44.602679</td>\n      <td>8.407767</td>\n      <td>26.739884</td>\n    </tr>\n    <tr>\n      <th>Yemen</th>\n      <td>45331.157895</td>\n      <td>1.375000e+05</td>\n      <td>16909.166667</td>\n      <td>41.250000</td>\n      <td>12.800000</td>\n      <td>28.117647</td>\n    </tr>\n    <tr>\n      <th>Zambia</th>\n      <td>42096.833333</td>\n      <td>2.774375e+04</td>\n      <td>10075.375000</td>\n      <td>48.125000</td>\n      <td>18.400000</td>\n      <td>28.000000</td>\n    </tr>\n    <tr>\n      <th>Zimbabwe</th>\n      <td>37455.410256</td>\n      <td>7.841667e+03</td>\n      <td>34046.666667</td>\n      <td>43.666667</td>\n      <td>10.636364</td>\n      <td>27.371429</td>\n    </tr>\n  </tbody>\n</table>\n<p>179 rows × 6 columns</p>\n</div>",
      "text/plain": "                                        Respondent     CompTotal  \\\nCountry                                                            \nAfghanistan                           47441.431818  5.418654e+07   \nAlbania                               41695.546512  1.707424e+05   \nAlgeria                               43010.126866  7.544398e+04   \nAndorra                               50079.857143  7.650000e+04   \nAngola                                50569.400000  2.020000e+05   \n...                                            ...           ...   \nVenezuela, Bolivarian Republic of...  43461.170455  1.174443e+05   \nViet Nam                              43895.337662  2.613438e+07   \nYemen                                 45331.157895  1.375000e+05   \nZambia                                42096.833333  2.774375e+04   \nZimbabwe                              37455.410256  7.841667e+03   \n\n                                      ConvertedComp  WorkWeekHrs  CodeRevHrs  \\\nCountry                                                                        \nAfghanistan                           101953.333333    55.352941   14.062500   \nAlbania                                21833.700000    40.121212    5.781818   \nAlgeria                                34924.047619    38.220930    6.413793   \nAndorra                               160931.000000    42.000000    2.500000   \nAngola                                  7764.000000    45.000000   10.000000   \n...                                             ...          ...         ...   \nVenezuela, Bolivarian Republic of...   14581.627907    40.444444    6.717949   \nViet Nam                               17233.436782    44.602679    8.407767   \nYemen                                  16909.166667    41.250000   12.800000   \nZambia                                 10075.375000    48.125000   18.400000   \nZimbabwe                               34046.666667    43.666667   10.636364   \n\n                                            Age  \nCountry                                          \nAfghanistan                           27.913043  \nAlbania                               25.145833  \nAlgeria                               27.284404  \nAndorra                               28.000000  \nAngola                                26.666667  \n...                                         ...  \nVenezuela, Bolivarian Republic of...  28.301205  \nViet Nam                              26.739884  \nYemen                                 28.117647  \nZambia                                28.000000  \nZimbabwe                              27.371429  \n\n[179 rows x 6 columns]"
     },
     "execution_count": 97,
     "metadata": {},
     "output_type": "execute_result"
    }
   ],
   "source": [
    "df.groupby('Country').mean()"
   ]
  },
  {
   "cell_type": "code",
   "execution_count": 98,
   "metadata": {},
   "outputs": [
    {
     "data": {
      "text/plain": "Country\nAfghanistan                               6222.0\nAlbania                                  10818.0\nAlgeria                                   7878.0\nAndorra                                 160931.0\nAngola                                    7764.0\n                                          ...   \nVenezuela, Bolivarian Republic of...      6384.0\nViet Nam                                 11892.0\nYemen                                    11940.0\nZambia                                    5040.0\nZimbabwe                                 19200.0\nName: ConvertedComp, Length: 179, dtype: float64"
     },
     "execution_count": 98,
     "metadata": {},
     "output_type": "execute_result"
    }
   ],
   "source": [
    "df.groupby('Country')['ConvertedComp'].median()"
   ]
  },
  {
   "cell_type": "code",
   "execution_count": 100,
   "metadata": {},
   "outputs": [
    {
     "data": {
      "text/html": "<div>\n<style scoped>\n    .dataframe tbody tr th:only-of-type {\n        vertical-align: middle;\n    }\n\n    .dataframe tbody tr th {\n        vertical-align: top;\n    }\n\n    .dataframe thead th {\n        text-align: right;\n    }\n</style>\n<table border=\"1\" class=\"dataframe\">\n  <thead>\n    <tr style=\"text-align: right;\">\n      <th></th>\n      <th>ConvertedComp</th>\n      <th>CompTotal</th>\n    </tr>\n    <tr>\n      <th>Country</th>\n      <th></th>\n      <th></th>\n    </tr>\n  </thead>\n  <tbody>\n    <tr>\n      <th>Afghanistan</th>\n      <td>6222.0</td>\n      <td>39000.0</td>\n    </tr>\n    <tr>\n      <th>Albania</th>\n      <td>10818.0</td>\n      <td>65000.0</td>\n    </tr>\n    <tr>\n      <th>Algeria</th>\n      <td>7878.0</td>\n      <td>55000.0</td>\n    </tr>\n    <tr>\n      <th>Andorra</th>\n      <td>160931.0</td>\n      <td>76500.0</td>\n    </tr>\n    <tr>\n      <th>Angola</th>\n      <td>7764.0</td>\n      <td>202000.0</td>\n    </tr>\n    <tr>\n      <th>...</th>\n      <td>...</td>\n      <td>...</td>\n    </tr>\n    <tr>\n      <th>Venezuela, Bolivarian Republic of...</th>\n      <td>6384.0</td>\n      <td>1000.0</td>\n    </tr>\n    <tr>\n      <th>Viet Nam</th>\n      <td>11892.0</td>\n      <td>15000000.0</td>\n    </tr>\n    <tr>\n      <th>Yemen</th>\n      <td>11940.0</td>\n      <td>125000.0</td>\n    </tr>\n    <tr>\n      <th>Zambia</th>\n      <td>5040.0</td>\n      <td>5000.0</td>\n    </tr>\n    <tr>\n      <th>Zimbabwe</th>\n      <td>19200.0</td>\n      <td>1600.0</td>\n    </tr>\n  </tbody>\n</table>\n<p>179 rows × 2 columns</p>\n</div>",
      "text/plain": "                                      ConvertedComp   CompTotal\nCountry                                                        \nAfghanistan                                  6222.0     39000.0\nAlbania                                     10818.0     65000.0\nAlgeria                                      7878.0     55000.0\nAndorra                                    160931.0     76500.0\nAngola                                       7764.0    202000.0\n...                                             ...         ...\nVenezuela, Bolivarian Republic of...         6384.0      1000.0\nViet Nam                                    11892.0  15000000.0\nYemen                                       11940.0    125000.0\nZambia                                       5040.0      5000.0\nZimbabwe                                    19200.0      1600.0\n\n[179 rows x 2 columns]"
     },
     "execution_count": 100,
     "metadata": {},
     "output_type": "execute_result"
    }
   ],
   "source": [
    "df.groupby('Country')[['ConvertedComp', 'CompTotal']].median()"
   ]
  },
  {
   "cell_type": "code",
   "execution_count": 101,
   "metadata": {},
   "outputs": [
    {
     "data": {
      "text/plain": "ConvertedComp    63016.0\nCompTotal        49000.0\nName: Germany, dtype: float64"
     },
     "execution_count": 101,
     "metadata": {},
     "output_type": "execute_result"
    }
   ],
   "source": [
    "df.groupby('Country')[['ConvertedComp', 'CompTotal']].median().loc['Germany']"
   ]
  },
  {
   "cell_type": "code",
   "execution_count": 102,
   "metadata": {},
   "outputs": [
    {
     "data": {
      "text/plain": "pandas.core.series.Series"
     },
     "execution_count": 102,
     "metadata": {},
     "output_type": "execute_result"
    }
   ],
   "source": [
    "type(df.groupby('Country')[['ConvertedComp', 'CompTotal']].median().loc['Germany'])"
   ]
  },
  {
   "cell_type": "code",
   "execution_count": 103,
   "metadata": {},
   "outputs": [],
   "source": [
    "x = {'Name': 'Sumi', 'Age' : '34'}\n",
    "srs = pd.Series(x)"
   ]
  },
  {
   "cell_type": "code",
   "execution_count": 104,
   "metadata": {},
   "outputs": [
    {
     "data": {
      "text/plain": "Name    Sumi\nAge       34\ndtype: object"
     },
     "execution_count": 104,
     "metadata": {},
     "output_type": "execute_result"
    }
   ],
   "source": [
    "srs"
   ]
  },
  {
   "cell_type": "code",
   "execution_count": 108,
   "metadata": {},
   "outputs": [
    {
     "data": {
      "text/html": "<div>\n<style scoped>\n    .dataframe tbody tr th:only-of-type {\n        vertical-align: middle;\n    }\n\n    .dataframe tbody tr th {\n        vertical-align: top;\n    }\n\n    .dataframe thead th {\n        text-align: right;\n    }\n</style>\n<table border=\"1\" class=\"dataframe\">\n  <thead>\n    <tr style=\"text-align: right;\">\n      <th></th>\n      <th>Name</th>\n      <th>Age</th>\n    </tr>\n  </thead>\n  <tbody>\n    <tr>\n      <th>2</th>\n      <td>Sumi</td>\n      <td>34</td>\n    </tr>\n  </tbody>\n</table>\n</div>",
      "text/plain": "   Name Age\n2  Sumi  34"
     },
     "execution_count": 108,
     "metadata": {},
     "output_type": "execute_result"
    }
   ],
   "source": [
    "tdf = pd.DataFrame(x, index=[np.random.randint(0, 1+len(x.values()))])\n",
    "tdf"
   ]
  },
  {
   "cell_type": "code",
   "execution_count": 109,
   "metadata": {},
   "outputs": [
    {
     "data": {
      "text/html": "<div>\n<style scoped>\n    .dataframe tbody tr th:only-of-type {\n        vertical-align: middle;\n    }\n\n    .dataframe tbody tr th {\n        vertical-align: top;\n    }\n\n    .dataframe thead th {\n        text-align: right;\n    }\n</style>\n<table border=\"1\" class=\"dataframe\">\n  <thead>\n    <tr style=\"text-align: right;\">\n      <th></th>\n      <th>median</th>\n      <th>mean</th>\n    </tr>\n    <tr>\n      <th>Country</th>\n      <th></th>\n      <th></th>\n    </tr>\n  </thead>\n  <tbody>\n    <tr>\n      <th>Afghanistan</th>\n      <td>6222.0</td>\n      <td>101953.333333</td>\n    </tr>\n    <tr>\n      <th>Albania</th>\n      <td>10818.0</td>\n      <td>21833.700000</td>\n    </tr>\n    <tr>\n      <th>Algeria</th>\n      <td>7878.0</td>\n      <td>34924.047619</td>\n    </tr>\n    <tr>\n      <th>Andorra</th>\n      <td>160931.0</td>\n      <td>160931.000000</td>\n    </tr>\n    <tr>\n      <th>Angola</th>\n      <td>7764.0</td>\n      <td>7764.000000</td>\n    </tr>\n    <tr>\n      <th>...</th>\n      <td>...</td>\n      <td>...</td>\n    </tr>\n    <tr>\n      <th>Venezuela, Bolivarian Republic of...</th>\n      <td>6384.0</td>\n      <td>14581.627907</td>\n    </tr>\n    <tr>\n      <th>Viet Nam</th>\n      <td>11892.0</td>\n      <td>17233.436782</td>\n    </tr>\n    <tr>\n      <th>Yemen</th>\n      <td>11940.0</td>\n      <td>16909.166667</td>\n    </tr>\n    <tr>\n      <th>Zambia</th>\n      <td>5040.0</td>\n      <td>10075.375000</td>\n    </tr>\n    <tr>\n      <th>Zimbabwe</th>\n      <td>19200.0</td>\n      <td>34046.666667</td>\n    </tr>\n  </tbody>\n</table>\n<p>179 rows × 2 columns</p>\n</div>",
      "text/plain": "                                        median           mean\nCountry                                                      \nAfghanistan                             6222.0  101953.333333\nAlbania                                10818.0   21833.700000\nAlgeria                                 7878.0   34924.047619\nAndorra                               160931.0  160931.000000\nAngola                                  7764.0    7764.000000\n...                                        ...            ...\nVenezuela, Bolivarian Republic of...    6384.0   14581.627907\nViet Nam                               11892.0   17233.436782\nYemen                                  11940.0   16909.166667\nZambia                                  5040.0   10075.375000\nZimbabwe                               19200.0   34046.666667\n\n[179 rows x 2 columns]"
     },
     "execution_count": 109,
     "metadata": {},
     "output_type": "execute_result"
    }
   ],
   "source": [
    "df.groupby('Country')['ConvertedComp'].agg(['median', 'mean'])"
   ]
  },
  {
   "cell_type": "code",
   "execution_count": 110,
   "metadata": {},
   "outputs": [
    {
     "data": {
      "text/html": "<div>\n<style scoped>\n    .dataframe tbody tr th:only-of-type {\n        vertical-align: middle;\n    }\n\n    .dataframe tbody tr th {\n        vertical-align: top;\n    }\n\n    .dataframe thead tr th {\n        text-align: left;\n    }\n\n    .dataframe thead tr:last-of-type th {\n        text-align: right;\n    }\n</style>\n<table border=\"1\" class=\"dataframe\">\n  <thead>\n    <tr>\n      <th></th>\n      <th colspan=\"2\" halign=\"left\">ConvertedComp</th>\n      <th colspan=\"2\" halign=\"left\">CompTotal</th>\n    </tr>\n    <tr>\n      <th></th>\n      <th>median</th>\n      <th>mean</th>\n      <th>median</th>\n      <th>mean</th>\n    </tr>\n    <tr>\n      <th>Country</th>\n      <th></th>\n      <th></th>\n      <th></th>\n      <th></th>\n    </tr>\n  </thead>\n  <tbody>\n    <tr>\n      <th>Afghanistan</th>\n      <td>6222.0</td>\n      <td>101953.333333</td>\n      <td>39000.0</td>\n      <td>5.418654e+07</td>\n    </tr>\n    <tr>\n      <th>Albania</th>\n      <td>10818.0</td>\n      <td>21833.700000</td>\n      <td>65000.0</td>\n      <td>1.707424e+05</td>\n    </tr>\n    <tr>\n      <th>Algeria</th>\n      <td>7878.0</td>\n      <td>34924.047619</td>\n      <td>55000.0</td>\n      <td>7.544398e+04</td>\n    </tr>\n    <tr>\n      <th>Andorra</th>\n      <td>160931.0</td>\n      <td>160931.000000</td>\n      <td>76500.0</td>\n      <td>7.650000e+04</td>\n    </tr>\n    <tr>\n      <th>Angola</th>\n      <td>7764.0</td>\n      <td>7764.000000</td>\n      <td>202000.0</td>\n      <td>2.020000e+05</td>\n    </tr>\n    <tr>\n      <th>...</th>\n      <td>...</td>\n      <td>...</td>\n      <td>...</td>\n      <td>...</td>\n    </tr>\n    <tr>\n      <th>Venezuela, Bolivarian Republic of...</th>\n      <td>6384.0</td>\n      <td>14581.627907</td>\n      <td>1000.0</td>\n      <td>1.174443e+05</td>\n    </tr>\n    <tr>\n      <th>Viet Nam</th>\n      <td>11892.0</td>\n      <td>17233.436782</td>\n      <td>15000000.0</td>\n      <td>2.613438e+07</td>\n    </tr>\n    <tr>\n      <th>Yemen</th>\n      <td>11940.0</td>\n      <td>16909.166667</td>\n      <td>125000.0</td>\n      <td>1.375000e+05</td>\n    </tr>\n    <tr>\n      <th>Zambia</th>\n      <td>5040.0</td>\n      <td>10075.375000</td>\n      <td>5000.0</td>\n      <td>2.774375e+04</td>\n    </tr>\n    <tr>\n      <th>Zimbabwe</th>\n      <td>19200.0</td>\n      <td>34046.666667</td>\n      <td>1600.0</td>\n      <td>7.841667e+03</td>\n    </tr>\n  </tbody>\n</table>\n<p>179 rows × 4 columns</p>\n</div>",
      "text/plain": "                                     ConvertedComp                  CompTotal  \\\n                                            median           mean      median   \nCountry                                                                         \nAfghanistan                                 6222.0  101953.333333     39000.0   \nAlbania                                    10818.0   21833.700000     65000.0   \nAlgeria                                     7878.0   34924.047619     55000.0   \nAndorra                                   160931.0  160931.000000     76500.0   \nAngola                                      7764.0    7764.000000    202000.0   \n...                                            ...            ...         ...   \nVenezuela, Bolivarian Republic of...        6384.0   14581.627907      1000.0   \nViet Nam                                   11892.0   17233.436782  15000000.0   \nYemen                                      11940.0   16909.166667    125000.0   \nZambia                                      5040.0   10075.375000      5000.0   \nZimbabwe                                   19200.0   34046.666667      1600.0   \n\n                                                    \n                                              mean  \nCountry                                             \nAfghanistan                           5.418654e+07  \nAlbania                               1.707424e+05  \nAlgeria                               7.544398e+04  \nAndorra                               7.650000e+04  \nAngola                                2.020000e+05  \n...                                            ...  \nVenezuela, Bolivarian Republic of...  1.174443e+05  \nViet Nam                              2.613438e+07  \nYemen                                 1.375000e+05  \nZambia                                2.774375e+04  \nZimbabwe                              7.841667e+03  \n\n[179 rows x 4 columns]"
     },
     "execution_count": 110,
     "metadata": {},
     "output_type": "execute_result"
    }
   ],
   "source": [
    "df.groupby('Country')[['ConvertedComp', 'CompTotal']].agg(['median', 'mean'])"
   ]
  },
  {
   "cell_type": "code",
   "execution_count": 111,
   "metadata": {},
   "outputs": [
    {
     "data": {
      "text/html": "<div>\n<style scoped>\n    .dataframe tbody tr th:only-of-type {\n        vertical-align: middle;\n    }\n\n    .dataframe tbody tr th {\n        vertical-align: top;\n    }\n\n    .dataframe thead th {\n        text-align: right;\n    }\n</style>\n<table border=\"1\" class=\"dataframe\">\n  <thead>\n    <tr style=\"text-align: right;\">\n      <th></th>\n      <th>ConvertedComp</th>\n      <th>CompTotal</th>\n    </tr>\n    <tr>\n      <th>Country</th>\n      <th></th>\n      <th></th>\n    </tr>\n  </thead>\n  <tbody>\n    <tr>\n      <th>Afghanistan</th>\n      <td>6222.0</td>\n      <td>39000.0</td>\n    </tr>\n    <tr>\n      <th>Albania</th>\n      <td>10818.0</td>\n      <td>65000.0</td>\n    </tr>\n    <tr>\n      <th>Algeria</th>\n      <td>7878.0</td>\n      <td>55000.0</td>\n    </tr>\n    <tr>\n      <th>Andorra</th>\n      <td>160931.0</td>\n      <td>76500.0</td>\n    </tr>\n    <tr>\n      <th>Angola</th>\n      <td>7764.0</td>\n      <td>202000.0</td>\n    </tr>\n    <tr>\n      <th>...</th>\n      <td>...</td>\n      <td>...</td>\n    </tr>\n    <tr>\n      <th>Venezuela, Bolivarian Republic of...</th>\n      <td>6384.0</td>\n      <td>1000.0</td>\n    </tr>\n    <tr>\n      <th>Viet Nam</th>\n      <td>11892.0</td>\n      <td>15000000.0</td>\n    </tr>\n    <tr>\n      <th>Yemen</th>\n      <td>11940.0</td>\n      <td>125000.0</td>\n    </tr>\n    <tr>\n      <th>Zambia</th>\n      <td>5040.0</td>\n      <td>5000.0</td>\n    </tr>\n    <tr>\n      <th>Zimbabwe</th>\n      <td>19200.0</td>\n      <td>1600.0</td>\n    </tr>\n  </tbody>\n</table>\n<p>179 rows × 2 columns</p>\n</div>",
      "text/plain": "                                      ConvertedComp   CompTotal\nCountry                                                        \nAfghanistan                                  6222.0     39000.0\nAlbania                                     10818.0     65000.0\nAlgeria                                      7878.0     55000.0\nAndorra                                    160931.0     76500.0\nAngola                                       7764.0    202000.0\n...                                             ...         ...\nVenezuela, Bolivarian Republic of...         6384.0      1000.0\nViet Nam                                    11892.0  15000000.0\nYemen                                       11940.0    125000.0\nZambia                                       5040.0      5000.0\nZimbabwe                                    19200.0      1600.0\n\n[179 rows x 2 columns]"
     },
     "execution_count": 111,
     "metadata": {},
     "output_type": "execute_result"
    }
   ],
   "source": [
    "df.groupby('Country')[['ConvertedComp', 'CompTotal']].agg('median')"
   ]
  },
  {
   "cell_type": "code",
   "execution_count": 117,
   "metadata": {},
   "outputs": [
    {
     "data": {
      "text/plain": "28057.664916229056"
     },
     "execution_count": 117,
     "metadata": {},
     "output_type": "execute_result"
    }
   ],
   "source": [
    "df.groupby('Country')[['ConvertedComp', 'CompTotal']].agg(['mean', 'median']).loc['India'].loc['ConvertedComp'].loc['mean']"
   ]
  },
  {
   "cell_type": "code",
   "execution_count": 126,
   "metadata": {},
   "outputs": [
    {
     "data": {
      "text/plain": "Country\nUnited States    20949\nIndia             9061\nGermany           5866\nName: Respondent, dtype: int64"
     },
     "execution_count": 126,
     "metadata": {},
     "output_type": "execute_result"
    }
   ],
   "source": [
    "df.groupby('Country')['Respondent'].count().nlargest(3)"
   ]
  },
  {
   "cell_type": "code",
   "execution_count": 127,
   "metadata": {},
   "outputs": [
    {
     "data": {
      "text/html": "<div>\n<style scoped>\n    .dataframe tbody tr th:only-of-type {\n        vertical-align: middle;\n    }\n\n    .dataframe tbody tr th {\n        vertical-align: top;\n    }\n\n    .dataframe thead th {\n        text-align: right;\n    }\n</style>\n<table border=\"1\" class=\"dataframe\">\n  <thead>\n    <tr style=\"text-align: right;\">\n      <th></th>\n      <th>Respondent</th>\n      <th>MainBranch</th>\n      <th>Hobbyist</th>\n      <th>OpenSourcer</th>\n      <th>OpenSource</th>\n      <th>Employment</th>\n      <th>Student</th>\n      <th>EdLevel</th>\n      <th>UndergradMajor</th>\n      <th>EduOther</th>\n      <th>...</th>\n      <th>WelcomeChange</th>\n      <th>SONewContent</th>\n      <th>Age</th>\n      <th>Gender</th>\n      <th>Trans</th>\n      <th>Sexuality</th>\n      <th>Ethnicity</th>\n      <th>Dependents</th>\n      <th>SurveyLength</th>\n      <th>SurveyEase</th>\n    </tr>\n    <tr>\n      <th>Country</th>\n      <th></th>\n      <th></th>\n      <th></th>\n      <th></th>\n      <th></th>\n      <th></th>\n      <th></th>\n      <th></th>\n      <th></th>\n      <th></th>\n      <th></th>\n      <th></th>\n      <th></th>\n      <th></th>\n      <th></th>\n      <th></th>\n      <th></th>\n      <th></th>\n      <th></th>\n      <th></th>\n      <th></th>\n    </tr>\n  </thead>\n  <tbody>\n    <tr>\n      <th>United States</th>\n      <td>20949</td>\n      <td>20877</td>\n      <td>20949</td>\n      <td>20949</td>\n      <td>20543</td>\n      <td>20663</td>\n      <td>20755</td>\n      <td>20605</td>\n      <td>18753</td>\n      <td>20461</td>\n      <td>...</td>\n      <td>20543</td>\n      <td>15259</td>\n      <td>18864</td>\n      <td>20177</td>\n      <td>20018</td>\n      <td>18944</td>\n      <td>19238</td>\n      <td>20088</td>\n      <td>20627</td>\n      <td>20684</td>\n    </tr>\n    <tr>\n      <th>India</th>\n      <td>9061</td>\n      <td>9035</td>\n      <td>9061</td>\n      <td>9061</td>\n      <td>8772</td>\n      <td>8808</td>\n      <td>8705</td>\n      <td>8699</td>\n      <td>7967</td>\n      <td>7930</td>\n      <td>...</td>\n      <td>8580</td>\n      <td>8012</td>\n      <td>7307</td>\n      <td>8436</td>\n      <td>7961</td>\n      <td>6228</td>\n      <td>5449</td>\n      <td>7843</td>\n      <td>8703</td>\n      <td>8688</td>\n    </tr>\n    <tr>\n      <th>Germany</th>\n      <td>5866</td>\n      <td>5838</td>\n      <td>5866</td>\n      <td>5866</td>\n      <td>5756</td>\n      <td>5723</td>\n      <td>5768</td>\n      <td>5674</td>\n      <td>4465</td>\n      <td>5649</td>\n      <td>...</td>\n      <td>5629</td>\n      <td>4317</td>\n      <td>5370</td>\n      <td>5667</td>\n      <td>5608</td>\n      <td>5045</td>\n      <td>5252</td>\n      <td>5465</td>\n      <td>5766</td>\n      <td>5777</td>\n    </tr>\n  </tbody>\n</table>\n<p>3 rows × 84 columns</p>\n</div>",
      "text/plain": "               Respondent  MainBranch  Hobbyist  OpenSourcer  OpenSource  \\\nCountry                                                                    \nUnited States       20949       20877     20949        20949       20543   \nIndia                9061        9035      9061         9061        8772   \nGermany              5866        5838      5866         5866        5756   \n\n               Employment  Student  EdLevel  UndergradMajor  EduOther  ...  \\\nCountry                                                                ...   \nUnited States       20663    20755    20605           18753     20461  ...   \nIndia                8808     8705     8699            7967      7930  ...   \nGermany              5723     5768     5674            4465      5649  ...   \n\n               WelcomeChange  SONewContent    Age  Gender  Trans  Sexuality  \\\nCountry                                                                       \nUnited States          20543         15259  18864   20177  20018      18944   \nIndia                   8580          8012   7307    8436   7961       6228   \nGermany                 5629          4317   5370    5667   5608       5045   \n\n               Ethnicity  Dependents  SurveyLength  SurveyEase  \nCountry                                                         \nUnited States      19238       20088         20627       20684  \nIndia               5449        7843          8703        8688  \nGermany             5252        5465          5766        5777  \n\n[3 rows x 84 columns]"
     },
     "execution_count": 127,
     "metadata": {},
     "output_type": "execute_result"
    }
   ],
   "source": [
    "df.groupby('Country').count().nlargest(3, 'Respondent')"
   ]
  },
  {
   "cell_type": "code",
   "execution_count": 139,
   "metadata": {},
   "outputs": [
    {
     "data": {
      "text/plain": "39000.0"
     },
     "execution_count": 139,
     "metadata": {},
     "output_type": "execute_result"
    }
   ],
   "source": [
    "df.groupby(['Country', 'Gender'])[['ConvertedComp', 'CompTotal']].agg(['mean', 'median']).loc['Afghanistan', 'CompTotal'].loc['Man', 'median']"
   ]
  },
  {
   "cell_type": "code",
   "execution_count": 142,
   "metadata": {},
   "outputs": [
    {
     "data": {
      "text/html": "<div>\n<style scoped>\n    .dataframe tbody tr th:only-of-type {\n        vertical-align: middle;\n    }\n\n    .dataframe tbody tr th {\n        vertical-align: top;\n    }\n\n    .dataframe thead th {\n        text-align: right;\n    }\n</style>\n<table border=\"1\" class=\"dataframe\">\n  <thead>\n    <tr style=\"text-align: right;\">\n      <th></th>\n      <th>Respondent</th>\n      <th>MainBranch</th>\n      <th>Hobbyist</th>\n      <th>OpenSourcer</th>\n      <th>OpenSource</th>\n      <th>Employment</th>\n      <th>Country</th>\n      <th>Student</th>\n      <th>EdLevel</th>\n      <th>UndergradMajor</th>\n      <th>...</th>\n      <th>WelcomeChange</th>\n      <th>SONewContent</th>\n      <th>Age</th>\n      <th>Gender</th>\n      <th>Trans</th>\n      <th>Sexuality</th>\n      <th>Ethnicity</th>\n      <th>Dependents</th>\n      <th>SurveyLength</th>\n      <th>SurveyEase</th>\n    </tr>\n  </thead>\n  <tbody>\n    <tr>\n      <th>7</th>\n      <td>8</td>\n      <td>I code primarily as a hobby</td>\n      <td>Yes</td>\n      <td>Less than once per year</td>\n      <td>OSS is, on average, of HIGHER quality than pro...</td>\n      <td>Not employed, but looking for work</td>\n      <td>India</td>\n      <td>NaN</td>\n      <td>Bachelor’s degree (BA, BS, B.Eng., etc.)</td>\n      <td>Computer science, computer engineering, or sof...</td>\n      <td>...</td>\n      <td>A lot more welcome now than last year</td>\n      <td>Tech articles written by other developers;Indu...</td>\n      <td>24.0</td>\n      <td>Man</td>\n      <td>No</td>\n      <td>Straight / Heterosexual</td>\n      <td>NaN</td>\n      <td>NaN</td>\n      <td>Appropriate in length</td>\n      <td>Neither easy nor difficult</td>\n    </tr>\n    <tr>\n      <th>9</th>\n      <td>10</td>\n      <td>I am a developer by profession</td>\n      <td>Yes</td>\n      <td>Once a month or more often</td>\n      <td>OSS is, on average, of HIGHER quality than pro...</td>\n      <td>Employed full-time</td>\n      <td>India</td>\n      <td>No</td>\n      <td>Master’s degree (MA, MS, M.Eng., MBA, etc.)</td>\n      <td>NaN</td>\n      <td>...</td>\n      <td>Somewhat less welcome now than last year</td>\n      <td>Tech articles written by other developers;Tech...</td>\n      <td>NaN</td>\n      <td>NaN</td>\n      <td>NaN</td>\n      <td>NaN</td>\n      <td>NaN</td>\n      <td>Yes</td>\n      <td>Too long</td>\n      <td>Difficult</td>\n    </tr>\n    <tr>\n      <th>49</th>\n      <td>50</td>\n      <td>I am a developer by profession</td>\n      <td>Yes</td>\n      <td>Once a month or more often</td>\n      <td>OSS is, on average, of LOWER quality than prop...</td>\n      <td>Employed full-time</td>\n      <td>India</td>\n      <td>No</td>\n      <td>Bachelor’s degree (BA, BS, B.Eng., etc.)</td>\n      <td>Another engineering discipline (ex. civil, ele...</td>\n      <td>...</td>\n      <td>Just as welcome now as I felt last year</td>\n      <td>Tech articles written by other developers;Tech...</td>\n      <td>23.0</td>\n      <td>Man</td>\n      <td>No</td>\n      <td>NaN</td>\n      <td>South Asian</td>\n      <td>No</td>\n      <td>Too long</td>\n      <td>Easy</td>\n    </tr>\n  </tbody>\n</table>\n<p>3 rows × 85 columns</p>\n</div>",
      "text/plain": "    Respondent                      MainBranch Hobbyist  \\\n7            8     I code primarily as a hobby      Yes   \n9           10  I am a developer by profession      Yes   \n49          50  I am a developer by profession      Yes   \n\n                   OpenSourcer  \\\n7      Less than once per year   \n9   Once a month or more often   \n49  Once a month or more often   \n\n                                           OpenSource  \\\n7   OSS is, on average, of HIGHER quality than pro...   \n9   OSS is, on average, of HIGHER quality than pro...   \n49  OSS is, on average, of LOWER quality than prop...   \n\n                            Employment Country Student  \\\n7   Not employed, but looking for work   India     NaN   \n9                   Employed full-time   India      No   \n49                  Employed full-time   India      No   \n\n                                        EdLevel  \\\n7      Bachelor’s degree (BA, BS, B.Eng., etc.)   \n9   Master’s degree (MA, MS, M.Eng., MBA, etc.)   \n49     Bachelor’s degree (BA, BS, B.Eng., etc.)   \n\n                                       UndergradMajor  ...  \\\n7   Computer science, computer engineering, or sof...  ...   \n9                                                 NaN  ...   \n49  Another engineering discipline (ex. civil, ele...  ...   \n\n                               WelcomeChange  \\\n7      A lot more welcome now than last year   \n9   Somewhat less welcome now than last year   \n49   Just as welcome now as I felt last year   \n\n                                         SONewContent   Age Gender Trans  \\\n7   Tech articles written by other developers;Indu...  24.0    Man    No   \n9   Tech articles written by other developers;Tech...   NaN    NaN   NaN   \n49  Tech articles written by other developers;Tech...  23.0    Man    No   \n\n                  Sexuality    Ethnicity Dependents           SurveyLength  \\\n7   Straight / Heterosexual          NaN        NaN  Appropriate in length   \n9                       NaN          NaN        Yes               Too long   \n49                      NaN  South Asian         No               Too long   \n\n                    SurveyEase  \n7   Neither easy nor difficult  \n9                    Difficult  \n49                        Easy  \n\n[3 rows x 85 columns]"
     },
     "execution_count": 142,
     "metadata": {},
     "output_type": "execute_result"
    }
   ],
   "source": [
    "df.loc[(df.Country == 'India') & (df.LanguageWorkedWith.str.contains('Python'))].head(3)"
   ]
  },
  {
   "cell_type": "code",
   "execution_count": 144,
   "metadata": {},
   "outputs": [
    {
     "data": {
      "text/plain": "3105"
     },
     "execution_count": 144,
     "metadata": {},
     "output_type": "execute_result"
    }
   ],
   "source": [
    "df.loc[df.Country == 'India']['LanguageWorkedWith'].str.contains('Python').sum()"
   ]
  },
  {
   "cell_type": "code",
   "execution_count": 157,
   "metadata": {},
   "outputs": [
    {
     "data": {
      "text/plain": "Country\nAfghanistan                              8\nAlbania                                 23\nAlgeria                                 40\nAndorra                                  0\nAngola                                   2\n                                        ..\nVenezuela, Bolivarian Republic of...    28\nViet Nam                                78\nYemen                                    3\nZambia                                   4\nZimbabwe                                14\nName: LanguageWorkedWith, Length: 179, dtype: int64"
     },
     "execution_count": 157,
     "metadata": {},
     "output_type": "execute_result"
    }
   ],
   "source": [
    "df.groupby('Country')['LanguageWorkedWith'].apply(lambda x: x.str.contains('Python').sum())\n",
    "#here the object is broken into a group of series, hence the need to use apply"
   ]
  },
  {
   "cell_type": "code",
   "execution_count": 155,
   "metadata": {},
   "outputs": [
    {
     "data": {
      "text/plain": "3105"
     },
     "execution_count": 155,
     "metadata": {},
     "output_type": "execute_result"
    }
   ],
   "source": [
    "df.groupby('Country').get_group('India')['LanguageWorkedWith'].str.contains('Python').sum() \n",
    "#here getting the group returns a single series when asked for 1 col"
   ]
  },
  {
   "cell_type": "markdown",
   "metadata": {},
   "source": [
    "#### Q> Calculate the % of developers in a country that have worked with Python?"
   ]
  },
  {
   "cell_type": "code",
   "execution_count": 160,
   "metadata": {},
   "outputs": [
    {
     "data": {
      "text/plain": "Country           \nAfghanistan  False    0.794872\n             True     0.205128\nAlbania      False    0.722892\n             True     0.277108\nAlgeria      False    0.682540\n                        ...   \nYemen        True     0.176471\nZambia       False    0.666667\n             True     0.333333\nZimbabwe     False    0.641026\n             True     0.358974\nName: LanguageWorkedWith, Length: 335, dtype: float64"
     },
     "execution_count": 160,
     "metadata": {},
     "output_type": "execute_result"
    }
   ],
   "source": [
    "#MySoln::\n",
    "\n",
    "df.groupby('Country')['LanguageWorkedWith'].apply(lambda x: x.str.contains('Python').value_counts(normalize = True))"
   ]
  },
  {
   "cell_type": "code",
   "execution_count": 165,
   "metadata": {},
   "outputs": [],
   "source": [
    "#CoreysSoln::\n",
    "\n",
    "country_respondents = df['Country'].value_counts()\n",
    "country_uses_python = df.groupby('Country')['LanguageWorkedWith'].apply(lambda x: x.str.contains('Python').sum())\n"
   ]
  },
  {
   "cell_type": "code",
   "execution_count": 167,
   "metadata": {},
   "outputs": [
    {
     "data": {
      "text/html": "<div>\n<style scoped>\n    .dataframe tbody tr th:only-of-type {\n        vertical-align: middle;\n    }\n\n    .dataframe tbody tr th {\n        vertical-align: top;\n    }\n\n    .dataframe thead th {\n        text-align: right;\n    }\n</style>\n<table border=\"1\" class=\"dataframe\">\n  <thead>\n    <tr style=\"text-align: right;\">\n      <th></th>\n      <th>Country</th>\n      <th>LanguageWorkedWith</th>\n    </tr>\n  </thead>\n  <tbody>\n    <tr>\n      <th>United States</th>\n      <td>20949</td>\n      <td>10083</td>\n    </tr>\n    <tr>\n      <th>India</th>\n      <td>9061</td>\n      <td>3105</td>\n    </tr>\n    <tr>\n      <th>Germany</th>\n      <td>5866</td>\n      <td>2451</td>\n    </tr>\n    <tr>\n      <th>United Kingdom</th>\n      <td>5737</td>\n      <td>2384</td>\n    </tr>\n    <tr>\n      <th>Canada</th>\n      <td>3395</td>\n      <td>1558</td>\n    </tr>\n    <tr>\n      <th>...</th>\n      <td>...</td>\n      <td>...</td>\n    </tr>\n    <tr>\n      <th>Chad</th>\n      <td>1</td>\n      <td>0</td>\n    </tr>\n    <tr>\n      <th>Timor-Leste</th>\n      <td>1</td>\n      <td>1</td>\n    </tr>\n    <tr>\n      <th>Tonga</th>\n      <td>1</td>\n      <td>0</td>\n    </tr>\n    <tr>\n      <th>Papua New Guinea</th>\n      <td>1</td>\n      <td>0</td>\n    </tr>\n    <tr>\n      <th>Dominica</th>\n      <td>1</td>\n      <td>1</td>\n    </tr>\n  </tbody>\n</table>\n<p>179 rows × 2 columns</p>\n</div>",
      "text/plain": "                  Country  LanguageWorkedWith\nUnited States       20949               10083\nIndia                9061                3105\nGermany              5866                2451\nUnited Kingdom       5737                2384\nCanada               3395                1558\n...                   ...                 ...\nChad                    1                   0\nTimor-Leste             1                   1\nTonga                   1                   0\nPapua New Guinea        1                   0\nDominica                1                   1\n\n[179 rows x 2 columns]"
     },
     "execution_count": 167,
     "metadata": {},
     "output_type": "execute_result"
    }
   ],
   "source": [
    "pd.concat([country_respondents, country_uses_python],  axis = 'columns', sort = False)"
   ]
  },
  {
   "cell_type": "code",
   "execution_count": 171,
   "metadata": {},
   "outputs": [],
   "source": [
    "df_t = pd.concat([country_respondents, country_uses_python],  axis = 'columns', sort = False)\n",
    "df_t.rename(columns = {'Country': 'num_respondents', 'LanguageWorkedWith': 'num_pythons'}, inplace=True)"
   ]
  },
  {
   "cell_type": "code",
   "execution_count": 172,
   "metadata": {},
   "outputs": [
    {
     "data": {
      "text/html": "<div>\n<style scoped>\n    .dataframe tbody tr th:only-of-type {\n        vertical-align: middle;\n    }\n\n    .dataframe tbody tr th {\n        vertical-align: top;\n    }\n\n    .dataframe thead th {\n        text-align: right;\n    }\n</style>\n<table border=\"1\" class=\"dataframe\">\n  <thead>\n    <tr style=\"text-align: right;\">\n      <th></th>\n      <th>num_respondents</th>\n      <th>num_pythons</th>\n    </tr>\n  </thead>\n  <tbody>\n    <tr>\n      <th>United States</th>\n      <td>20949</td>\n      <td>10083</td>\n    </tr>\n    <tr>\n      <th>India</th>\n      <td>9061</td>\n      <td>3105</td>\n    </tr>\n    <tr>\n      <th>Germany</th>\n      <td>5866</td>\n      <td>2451</td>\n    </tr>\n    <tr>\n      <th>United Kingdom</th>\n      <td>5737</td>\n      <td>2384</td>\n    </tr>\n    <tr>\n      <th>Canada</th>\n      <td>3395</td>\n      <td>1558</td>\n    </tr>\n  </tbody>\n</table>\n</div>",
      "text/plain": "                num_respondents  num_pythons\nUnited States             20949        10083\nIndia                      9061         3105\nGermany                    5866         2451\nUnited Kingdom             5737         2384\nCanada                     3395         1558"
     },
     "execution_count": 172,
     "metadata": {},
     "output_type": "execute_result"
    }
   ],
   "source": [
    "df_t.head()"
   ]
  },
  {
   "cell_type": "code",
   "execution_count": 173,
   "metadata": {},
   "outputs": [],
   "source": [
    "df_t['percentage_ppl_python_country'] = (df_t.num_pythons/df_t.num_respondents) * 100"
   ]
  },
  {
   "cell_type": "code",
   "execution_count": 174,
   "metadata": {},
   "outputs": [
    {
     "data": {
      "text/html": "<div>\n<style scoped>\n    .dataframe tbody tr th:only-of-type {\n        vertical-align: middle;\n    }\n\n    .dataframe tbody tr th {\n        vertical-align: top;\n    }\n\n    .dataframe thead th {\n        text-align: right;\n    }\n</style>\n<table border=\"1\" class=\"dataframe\">\n  <thead>\n    <tr style=\"text-align: right;\">\n      <th></th>\n      <th>num_respondents</th>\n      <th>num_pythons</th>\n      <th>percentage_ppl_python_country</th>\n    </tr>\n  </thead>\n  <tbody>\n    <tr>\n      <th>United States</th>\n      <td>20949</td>\n      <td>10083</td>\n      <td>48.131176</td>\n    </tr>\n    <tr>\n      <th>India</th>\n      <td>9061</td>\n      <td>3105</td>\n      <td>34.267741</td>\n    </tr>\n    <tr>\n      <th>Germany</th>\n      <td>5866</td>\n      <td>2451</td>\n      <td>41.783157</td>\n    </tr>\n    <tr>\n      <th>United Kingdom</th>\n      <td>5737</td>\n      <td>2384</td>\n      <td>41.554820</td>\n    </tr>\n    <tr>\n      <th>Canada</th>\n      <td>3395</td>\n      <td>1558</td>\n      <td>45.891016</td>\n    </tr>\n  </tbody>\n</table>\n</div>",
      "text/plain": "                num_respondents  num_pythons  percentage_ppl_python_country\nUnited States             20949        10083                      48.131176\nIndia                      9061         3105                      34.267741\nGermany                    5866         2451                      41.783157\nUnited Kingdom             5737         2384                      41.554820\nCanada                     3395         1558                      45.891016"
     },
     "execution_count": 174,
     "metadata": {},
     "output_type": "execute_result"
    }
   ],
   "source": [
    "df_t.head()"
   ]
  },
  {
   "cell_type": "code",
   "execution_count": 175,
   "metadata": {},
   "outputs": [
    {
     "data": {
      "text/html": "<div>\n<style scoped>\n    .dataframe tbody tr th:only-of-type {\n        vertical-align: middle;\n    }\n\n    .dataframe tbody tr th {\n        vertical-align: top;\n    }\n\n    .dataframe thead th {\n        text-align: right;\n    }\n</style>\n<table border=\"1\" class=\"dataframe\">\n  <thead>\n    <tr style=\"text-align: right;\">\n      <th></th>\n      <th>num_respondents</th>\n      <th>num_pythons</th>\n      <th>percentage_ppl_python_country</th>\n    </tr>\n  </thead>\n  <tbody>\n    <tr>\n      <th>Dominica</th>\n      <td>1</td>\n      <td>1</td>\n      <td>100.000000</td>\n    </tr>\n    <tr>\n      <th>Timor-Leste</th>\n      <td>1</td>\n      <td>1</td>\n      <td>100.000000</td>\n    </tr>\n    <tr>\n      <th>Niger</th>\n      <td>1</td>\n      <td>1</td>\n      <td>100.000000</td>\n    </tr>\n    <tr>\n      <th>Sao Tome and Principe</th>\n      <td>1</td>\n      <td>1</td>\n      <td>100.000000</td>\n    </tr>\n    <tr>\n      <th>Turkmenistan</th>\n      <td>7</td>\n      <td>6</td>\n      <td>85.714286</td>\n    </tr>\n    <tr>\n      <th>...</th>\n      <td>...</td>\n      <td>...</td>\n      <td>...</td>\n    </tr>\n    <tr>\n      <th>Lao People's Democratic Republic</th>\n      <td>3</td>\n      <td>0</td>\n      <td>0.000000</td>\n    </tr>\n    <tr>\n      <th>Liberia</th>\n      <td>2</td>\n      <td>0</td>\n      <td>0.000000</td>\n    </tr>\n    <tr>\n      <th>Cape Verde</th>\n      <td>3</td>\n      <td>0</td>\n      <td>0.000000</td>\n    </tr>\n    <tr>\n      <th>Gabon</th>\n      <td>2</td>\n      <td>0</td>\n      <td>0.000000</td>\n    </tr>\n    <tr>\n      <th>Antigua and Barbuda</th>\n      <td>9</td>\n      <td>0</td>\n      <td>0.000000</td>\n    </tr>\n  </tbody>\n</table>\n<p>179 rows × 3 columns</p>\n</div>",
      "text/plain": "                                  num_respondents  num_pythons  \\\nDominica                                        1            1   \nTimor-Leste                                     1            1   \nNiger                                           1            1   \nSao Tome and Principe                           1            1   \nTurkmenistan                                    7            6   \n...                                           ...          ...   \nLao People's Democratic Republic                3            0   \nLiberia                                         2            0   \nCape Verde                                      3            0   \nGabon                                           2            0   \nAntigua and Barbuda                             9            0   \n\n                                  percentage_ppl_python_country  \nDominica                                             100.000000  \nTimor-Leste                                          100.000000  \nNiger                                                100.000000  \nSao Tome and Principe                                100.000000  \nTurkmenistan                                          85.714286  \n...                                                         ...  \nLao People's Democratic Republic                       0.000000  \nLiberia                                                0.000000  \nCape Verde                                             0.000000  \nGabon                                                  0.000000  \nAntigua and Barbuda                                    0.000000  \n\n[179 rows x 3 columns]"
     },
     "execution_count": 175,
     "metadata": {},
     "output_type": "execute_result"
    }
   ],
   "source": [
    "df_t.sort_values(by='percentage_ppl_python_country', ascending=False)"
   ]
  },
  {
   "cell_type": "code",
   "execution_count": 184,
   "metadata": {},
   "outputs": [
    {
     "data": {
      "text/html": "<div>\n<style scoped>\n    .dataframe tbody tr th:only-of-type {\n        vertical-align: middle;\n    }\n\n    .dataframe tbody tr th {\n        vertical-align: top;\n    }\n\n    .dataframe thead th {\n        text-align: right;\n    }\n</style>\n<table border=\"1\" class=\"dataframe\">\n  <thead>\n    <tr style=\"text-align: right;\">\n      <th></th>\n      <th>num_respondents</th>\n      <th>num_pythons</th>\n      <th>percentage_ppl_python_country</th>\n    </tr>\n  </thead>\n  <tbody>\n    <tr>\n      <th>South Korea</th>\n      <td>160</td>\n      <td>80</td>\n      <td>50.000000</td>\n    </tr>\n    <tr>\n      <th>Chile</th>\n      <td>206</td>\n      <td>102</td>\n      <td>49.514563</td>\n    </tr>\n    <tr>\n      <th>Finland</th>\n      <td>546</td>\n      <td>266</td>\n      <td>48.717949</td>\n    </tr>\n    <tr>\n      <th>Kenya</th>\n      <td>249</td>\n      <td>120</td>\n      <td>48.192771</td>\n    </tr>\n    <tr>\n      <th>United States</th>\n      <td>20949</td>\n      <td>10083</td>\n      <td>48.131176</td>\n    </tr>\n    <tr>\n      <th>...</th>\n      <td>...</td>\n      <td>...</td>\n      <td>...</td>\n    </tr>\n    <tr>\n      <th>Ukraine</th>\n      <td>868</td>\n      <td>246</td>\n      <td>28.341014</td>\n    </tr>\n    <tr>\n      <th>Bulgaria</th>\n      <td>659</td>\n      <td>181</td>\n      <td>27.465857</td>\n    </tr>\n    <tr>\n      <th>Other Country (Not Listed Above)</th>\n      <td>136</td>\n      <td>37</td>\n      <td>27.205882</td>\n    </tr>\n    <tr>\n      <th>Pakistan</th>\n      <td>923</td>\n      <td>251</td>\n      <td>27.193933</td>\n    </tr>\n    <tr>\n      <th>Bosnia and Herzegovina</th>\n      <td>108</td>\n      <td>29</td>\n      <td>26.851852</td>\n    </tr>\n  </tbody>\n</table>\n<p>72 rows × 3 columns</p>\n</div>",
      "text/plain": "                                  num_respondents  num_pythons  \\\nSouth Korea                                   160           80   \nChile                                         206          102   \nFinland                                       546          266   \nKenya                                         249          120   \nUnited States                               20949        10083   \n...                                           ...          ...   \nUkraine                                       868          246   \nBulgaria                                      659          181   \nOther Country (Not Listed Above)              136           37   \nPakistan                                      923          251   \nBosnia and Herzegovina                        108           29   \n\n                                  percentage_ppl_python_country  \nSouth Korea                                           50.000000  \nChile                                                 49.514563  \nFinland                                               48.717949  \nKenya                                                 48.192771  \nUnited States                                         48.131176  \n...                                                         ...  \nUkraine                                               28.341014  \nBulgaria                                              27.465857  \nOther Country (Not Listed Above)                      27.205882  \nPakistan                                              27.193933  \nBosnia and Herzegovina                                26.851852  \n\n[72 rows x 3 columns]"
     },
     "execution_count": 184,
     "metadata": {},
     "output_type": "execute_result"
    }
   ],
   "source": [
    "df_t[df_t.num_respondents > 100].sort_values(by=['percentage_ppl_python_country', 'num_respondents'], ascending=[False, False])"
   ]
  },
  {
   "cell_type": "code",
   "execution_count": 181,
   "metadata": {},
   "outputs": [
    {
     "data": {
      "text/plain": "num_respondents                  5866.000000\nnum_pythons                      2451.000000\npercentage_ppl_python_country      41.783157\nName: Germany, dtype: float64"
     },
     "execution_count": 181,
     "metadata": {},
     "output_type": "execute_result"
    }
   ],
   "source": [
    "df_t[df_t.num_respondents > 100].sort_values(by=['percentage_ppl_python_country', 'num_respondents'], ascending=[False, False]).loc['Germany']"
   ]
  }
 ],
 "metadata": {
  "kernelspec": {
   "display_name": "Python 3.8.8 64-bit ('anaconda3': virtualenv)",
   "name": "python388jvsc74a57bd0ef25b5bd2495e792f4151b6c1a8e3930e92655275e53ec36ac79d5f55427d1db"
  },
  "language_info": {
   "codemirror_mode": {
    "name": "ipython",
    "version": 3
   },
   "file_extension": ".py",
   "mimetype": "text/x-python",
   "name": "python",
   "nbconvert_exporter": "python",
   "pygments_lexer": "ipython3",
   "version": "3.8.8"
  },
  "metadata": {
   "interpreter": {
    "hash": "ef25b5bd2495e792f4151b6c1a8e3930e92655275e53ec36ac79d5f55427d1db"
   }
  },
  "orig_nbformat": 2
 },
 "nbformat": 4,
 "nbformat_minor": 2
}