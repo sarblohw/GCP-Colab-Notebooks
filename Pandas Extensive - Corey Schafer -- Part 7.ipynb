{
 "cells": [
  {
   "cell_type": "markdown",
   "metadata": {},
   "source": [
    "### Video Part - 9 -- Cleaning Data -  Casting Data Types and Handling Missing Values"
   ]
  },
  {
   "cell_type": "code",
   "execution_count": 12,
   "metadata": {},
   "outputs": [],
   "source": [
    "import pandas as pd\n",
    "import numpy as np"
   ]
  },
  {
   "cell_type": "code",
   "execution_count": 34,
   "metadata": {},
   "outputs": [],
   "source": [
    "people = {\n",
    "    'fname' : ['Corey', 'Suminder', 'Ankit', 'Ujjwal', np.nan, None, 'NA'],\n",
    "    'lname' : ['Schafer', 'Singh', 'Bhola', np.nan, None, 'Missing', np.nan],\n",
    "    'age' : [23, 34, 54, 12, np.nan, None, None]\n",
    "}"
   ]
  },
  {
   "cell_type": "code",
   "execution_count": 35,
   "metadata": {},
   "outputs": [],
   "source": [
    "ppl_df = pd.DataFrame(people)"
   ]
  },
  {
   "cell_type": "code",
   "execution_count": 36,
   "metadata": {},
   "outputs": [],
   "source": [
    "ppl_df['email'] = ppl_df['fname'].str.lower() + ' ' + ppl_df['lname'].str.lower() + ' ' + '@company.org'"
   ]
  },
  {
   "cell_type": "code",
   "execution_count": 37,
   "metadata": {},
   "outputs": [
    {
     "data": {
      "text/html": "<div>\n<style scoped>\n    .dataframe tbody tr th:only-of-type {\n        vertical-align: middle;\n    }\n\n    .dataframe tbody tr th {\n        vertical-align: top;\n    }\n\n    .dataframe thead th {\n        text-align: right;\n    }\n</style>\n<table border=\"1\" class=\"dataframe\">\n  <thead>\n    <tr style=\"text-align: right;\">\n      <th></th>\n      <th>fname</th>\n      <th>lname</th>\n      <th>age</th>\n      <th>email</th>\n    </tr>\n  </thead>\n  <tbody>\n    <tr>\n      <th>0</th>\n      <td>Corey</td>\n      <td>Schafer</td>\n      <td>23.0</td>\n      <td>corey schafer @company.org</td>\n    </tr>\n    <tr>\n      <th>1</th>\n      <td>Suminder</td>\n      <td>Singh</td>\n      <td>34.0</td>\n      <td>suminder singh @company.org</td>\n    </tr>\n    <tr>\n      <th>2</th>\n      <td>Ankit</td>\n      <td>Bhola</td>\n      <td>54.0</td>\n      <td>ankit bhola @company.org</td>\n    </tr>\n    <tr>\n      <th>3</th>\n      <td>Ujjwal</td>\n      <td>NaN</td>\n      <td>12.0</td>\n      <td>NaN</td>\n    </tr>\n    <tr>\n      <th>4</th>\n      <td>NaN</td>\n      <td>None</td>\n      <td>NaN</td>\n      <td>NaN</td>\n    </tr>\n    <tr>\n      <th>5</th>\n      <td>None</td>\n      <td>Missing</td>\n      <td>NaN</td>\n      <td>NaN</td>\n    </tr>\n    <tr>\n      <th>6</th>\n      <td>NA</td>\n      <td>NaN</td>\n      <td>NaN</td>\n      <td>NaN</td>\n    </tr>\n  </tbody>\n</table>\n</div>",
      "text/plain": "      fname    lname   age                        email\n0     Corey  Schafer  23.0   corey schafer @company.org\n1  Suminder    Singh  34.0  suminder singh @company.org\n2     Ankit    Bhola  54.0     ankit bhola @company.org\n3    Ujjwal      NaN  12.0                          NaN\n4       NaN     None   NaN                          NaN\n5      None  Missing   NaN                          NaN\n6        NA      NaN   NaN                          NaN"
     },
     "execution_count": 37,
     "metadata": {},
     "output_type": "execute_result"
    }
   ],
   "source": [
    "ppl_df"
   ]
  },
  {
   "cell_type": "code",
   "execution_count": 38,
   "metadata": {},
   "outputs": [],
   "source": [
    "ppl_df['salary'] = [np.random.randint(35000, 75000, len(ppl_df['fname'])) for x in range(len(ppl_df['fname']))]"
   ]
  },
  {
   "cell_type": "code",
   "execution_count": 39,
   "metadata": {},
   "outputs": [
    {
     "data": {
      "text/html": "<div>\n<style scoped>\n    .dataframe tbody tr th:only-of-type {\n        vertical-align: middle;\n    }\n\n    .dataframe tbody tr th {\n        vertical-align: top;\n    }\n\n    .dataframe thead th {\n        text-align: right;\n    }\n</style>\n<table border=\"1\" class=\"dataframe\">\n  <thead>\n    <tr style=\"text-align: right;\">\n      <th></th>\n      <th>fname</th>\n      <th>lname</th>\n      <th>age</th>\n      <th>email</th>\n      <th>salary</th>\n    </tr>\n  </thead>\n  <tbody>\n    <tr>\n      <th>0</th>\n      <td>Corey</td>\n      <td>Schafer</td>\n      <td>23.0</td>\n      <td>corey schafer @company.org</td>\n      <td>[37467, 66832, 72234, 52338, 45646, 38544, 63304]</td>\n    </tr>\n    <tr>\n      <th>1</th>\n      <td>Suminder</td>\n      <td>Singh</td>\n      <td>34.0</td>\n      <td>suminder singh @company.org</td>\n      <td>[46156, 45957, 70353, 65740, 36400, 49019, 46215]</td>\n    </tr>\n    <tr>\n      <th>2</th>\n      <td>Ankit</td>\n      <td>Bhola</td>\n      <td>54.0</td>\n      <td>ankit bhola @company.org</td>\n      <td>[70786, 42713, 62581, 44055, 39015, 60026, 35210]</td>\n    </tr>\n    <tr>\n      <th>3</th>\n      <td>Ujjwal</td>\n      <td>NaN</td>\n      <td>12.0</td>\n      <td>NaN</td>\n      <td>[59511, 73701, 66869, 49219, 41642, 71813, 44352]</td>\n    </tr>\n    <tr>\n      <th>4</th>\n      <td>NaN</td>\n      <td>None</td>\n      <td>NaN</td>\n      <td>NaN</td>\n      <td>[42009, 38206, 39477, 64186, 46457, 37111, 41056]</td>\n    </tr>\n    <tr>\n      <th>5</th>\n      <td>None</td>\n      <td>Missing</td>\n      <td>NaN</td>\n      <td>NaN</td>\n      <td>[74495, 36318, 51930, 44901, 41582, 57533, 40581]</td>\n    </tr>\n    <tr>\n      <th>6</th>\n      <td>NA</td>\n      <td>NaN</td>\n      <td>NaN</td>\n      <td>NaN</td>\n      <td>[42576, 52519, 48997, 67618, 47710, 72600, 35522]</td>\n    </tr>\n  </tbody>\n</table>\n</div>",
      "text/plain": "      fname    lname   age                        email  \\\n0     Corey  Schafer  23.0   corey schafer @company.org   \n1  Suminder    Singh  34.0  suminder singh @company.org   \n2     Ankit    Bhola  54.0     ankit bhola @company.org   \n3    Ujjwal      NaN  12.0                          NaN   \n4       NaN     None   NaN                          NaN   \n5      None  Missing   NaN                          NaN   \n6        NA      NaN   NaN                          NaN   \n\n                                              salary  \n0  [37467, 66832, 72234, 52338, 45646, 38544, 63304]  \n1  [46156, 45957, 70353, 65740, 36400, 49019, 46215]  \n2  [70786, 42713, 62581, 44055, 39015, 60026, 35210]  \n3  [59511, 73701, 66869, 49219, 41642, 71813, 44352]  \n4  [42009, 38206, 39477, 64186, 46457, 37111, 41056]  \n5  [74495, 36318, 51930, 44901, 41582, 57533, 40581]  \n6  [42576, 52519, 48997, 67618, 47710, 72600, 35522]  "
     },
     "execution_count": 39,
     "metadata": {},
     "output_type": "execute_result"
    }
   ],
   "source": [
    "ppl_df"
   ]
  },
  {
   "cell_type": "code",
   "execution_count": 40,
   "metadata": {},
   "outputs": [],
   "source": [
    "ppl_df['salary'] = [x for x in np.random.randint(35000, 75000, len(ppl_df['fname']))]"
   ]
  },
  {
   "cell_type": "code",
   "execution_count": 41,
   "metadata": {},
   "outputs": [
    {
     "data": {
      "text/html": "<div>\n<style scoped>\n    .dataframe tbody tr th:only-of-type {\n        vertical-align: middle;\n    }\n\n    .dataframe tbody tr th {\n        vertical-align: top;\n    }\n\n    .dataframe thead th {\n        text-align: right;\n    }\n</style>\n<table border=\"1\" class=\"dataframe\">\n  <thead>\n    <tr style=\"text-align: right;\">\n      <th></th>\n      <th>fname</th>\n      <th>lname</th>\n      <th>age</th>\n      <th>email</th>\n      <th>salary</th>\n    </tr>\n  </thead>\n  <tbody>\n    <tr>\n      <th>0</th>\n      <td>Corey</td>\n      <td>Schafer</td>\n      <td>23.0</td>\n      <td>corey schafer @company.org</td>\n      <td>56561</td>\n    </tr>\n    <tr>\n      <th>1</th>\n      <td>Suminder</td>\n      <td>Singh</td>\n      <td>34.0</td>\n      <td>suminder singh @company.org</td>\n      <td>57390</td>\n    </tr>\n    <tr>\n      <th>2</th>\n      <td>Ankit</td>\n      <td>Bhola</td>\n      <td>54.0</td>\n      <td>ankit bhola @company.org</td>\n      <td>69051</td>\n    </tr>\n    <tr>\n      <th>3</th>\n      <td>Ujjwal</td>\n      <td>NaN</td>\n      <td>12.0</td>\n      <td>NaN</td>\n      <td>41406</td>\n    </tr>\n    <tr>\n      <th>4</th>\n      <td>NaN</td>\n      <td>None</td>\n      <td>NaN</td>\n      <td>NaN</td>\n      <td>71101</td>\n    </tr>\n    <tr>\n      <th>5</th>\n      <td>None</td>\n      <td>Missing</td>\n      <td>NaN</td>\n      <td>NaN</td>\n      <td>53794</td>\n    </tr>\n    <tr>\n      <th>6</th>\n      <td>NA</td>\n      <td>NaN</td>\n      <td>NaN</td>\n      <td>NaN</td>\n      <td>43632</td>\n    </tr>\n  </tbody>\n</table>\n</div>",
      "text/plain": "      fname    lname   age                        email  salary\n0     Corey  Schafer  23.0   corey schafer @company.org   56561\n1  Suminder    Singh  34.0  suminder singh @company.org   57390\n2     Ankit    Bhola  54.0     ankit bhola @company.org   69051\n3    Ujjwal      NaN  12.0                          NaN   41406\n4       NaN     None   NaN                          NaN   71101\n5      None  Missing   NaN                          NaN   53794\n6        NA      NaN   NaN                          NaN   43632"
     },
     "execution_count": 41,
     "metadata": {},
     "output_type": "execute_result"
    }
   ],
   "source": [
    "ppl_df"
   ]
  },
  {
   "cell_type": "code",
   "execution_count": 42,
   "metadata": {},
   "outputs": [],
   "source": [
    "ppl_df.loc[ppl_df['fname'] == 'Ujjwal','salary'] = None"
   ]
  },
  {
   "cell_type": "code",
   "execution_count": 43,
   "metadata": {},
   "outputs": [
    {
     "data": {
      "text/html": "<div>\n<style scoped>\n    .dataframe tbody tr th:only-of-type {\n        vertical-align: middle;\n    }\n\n    .dataframe tbody tr th {\n        vertical-align: top;\n    }\n\n    .dataframe thead th {\n        text-align: right;\n    }\n</style>\n<table border=\"1\" class=\"dataframe\">\n  <thead>\n    <tr style=\"text-align: right;\">\n      <th></th>\n      <th>fname</th>\n      <th>lname</th>\n      <th>age</th>\n      <th>email</th>\n      <th>salary</th>\n    </tr>\n  </thead>\n  <tbody>\n    <tr>\n      <th>0</th>\n      <td>Corey</td>\n      <td>Schafer</td>\n      <td>23.0</td>\n      <td>corey schafer @company.org</td>\n      <td>56561.0</td>\n    </tr>\n    <tr>\n      <th>1</th>\n      <td>Suminder</td>\n      <td>Singh</td>\n      <td>34.0</td>\n      <td>suminder singh @company.org</td>\n      <td>57390.0</td>\n    </tr>\n    <tr>\n      <th>2</th>\n      <td>Ankit</td>\n      <td>Bhola</td>\n      <td>54.0</td>\n      <td>ankit bhola @company.org</td>\n      <td>69051.0</td>\n    </tr>\n    <tr>\n      <th>3</th>\n      <td>Ujjwal</td>\n      <td>NaN</td>\n      <td>12.0</td>\n      <td>NaN</td>\n      <td>NaN</td>\n    </tr>\n    <tr>\n      <th>4</th>\n      <td>NaN</td>\n      <td>None</td>\n      <td>NaN</td>\n      <td>NaN</td>\n      <td>71101.0</td>\n    </tr>\n    <tr>\n      <th>5</th>\n      <td>None</td>\n      <td>Missing</td>\n      <td>NaN</td>\n      <td>NaN</td>\n      <td>53794.0</td>\n    </tr>\n    <tr>\n      <th>6</th>\n      <td>NA</td>\n      <td>NaN</td>\n      <td>NaN</td>\n      <td>NaN</td>\n      <td>43632.0</td>\n    </tr>\n  </tbody>\n</table>\n</div>",
      "text/plain": "      fname    lname   age                        email   salary\n0     Corey  Schafer  23.0   corey schafer @company.org  56561.0\n1  Suminder    Singh  34.0  suminder singh @company.org  57390.0\n2     Ankit    Bhola  54.0     ankit bhola @company.org  69051.0\n3    Ujjwal      NaN  12.0                          NaN      NaN\n4       NaN     None   NaN                          NaN  71101.0\n5      None  Missing   NaN                          NaN  53794.0\n6        NA      NaN   NaN                          NaN  43632.0"
     },
     "execution_count": 43,
     "metadata": {},
     "output_type": "execute_result"
    }
   ],
   "source": [
    "ppl_df"
   ]
  },
  {
   "cell_type": "code",
   "execution_count": 44,
   "metadata": {},
   "outputs": [
    {
     "data": {
      "text/html": "<div>\n<style scoped>\n    .dataframe tbody tr th:only-of-type {\n        vertical-align: middle;\n    }\n\n    .dataframe tbody tr th {\n        vertical-align: top;\n    }\n\n    .dataframe thead th {\n        text-align: right;\n    }\n</style>\n<table border=\"1\" class=\"dataframe\">\n  <thead>\n    <tr style=\"text-align: right;\">\n      <th></th>\n      <th>fname</th>\n      <th>lname</th>\n      <th>age</th>\n      <th>email</th>\n      <th>salary</th>\n    </tr>\n  </thead>\n  <tbody>\n    <tr>\n      <th>0</th>\n      <td>Corey</td>\n      <td>Schafer</td>\n      <td>23.0</td>\n      <td>corey schafer @company.org</td>\n      <td>56561.0</td>\n    </tr>\n    <tr>\n      <th>1</th>\n      <td>Suminder</td>\n      <td>Singh</td>\n      <td>34.0</td>\n      <td>suminder singh @company.org</td>\n      <td>57390.0</td>\n    </tr>\n    <tr>\n      <th>2</th>\n      <td>Ankit</td>\n      <td>Bhola</td>\n      <td>54.0</td>\n      <td>ankit bhola @company.org</td>\n      <td>69051.0</td>\n    </tr>\n    <tr>\n      <th>3</th>\n      <td>Ujjwal</td>\n      <td>NaN</td>\n      <td>12.0</td>\n      <td>NaN</td>\n      <td>NaN</td>\n    </tr>\n    <tr>\n      <th>4</th>\n      <td>NaN</td>\n      <td>None</td>\n      <td>NaN</td>\n      <td>NaN</td>\n      <td>71101.0</td>\n    </tr>\n    <tr>\n      <th>5</th>\n      <td>None</td>\n      <td>Missing</td>\n      <td>NaN</td>\n      <td>NaN</td>\n      <td>53794.0</td>\n    </tr>\n    <tr>\n      <th>6</th>\n      <td>NA</td>\n      <td>NaN</td>\n      <td>NaN</td>\n      <td>NaN</td>\n      <td>43632.0</td>\n    </tr>\n  </tbody>\n</table>\n</div>",
      "text/plain": "      fname    lname   age                        email   salary\n0     Corey  Schafer  23.0   corey schafer @company.org  56561.0\n1  Suminder    Singh  34.0  suminder singh @company.org  57390.0\n2     Ankit    Bhola  54.0     ankit bhola @company.org  69051.0\n3    Ujjwal      NaN  12.0                          NaN      NaN\n4       NaN     None   NaN                          NaN  71101.0\n5      None  Missing   NaN                          NaN  53794.0\n6        NA      NaN   NaN                          NaN  43632.0"
     },
     "execution_count": 44,
     "metadata": {},
     "output_type": "execute_result"
    }
   ],
   "source": [
    "ppl_df.dropna(axis = 'index', how = 'all')"
   ]
  },
  {
   "cell_type": "code",
   "execution_count": 45,
   "metadata": {},
   "outputs": [
    {
     "data": {
      "text/html": "<div>\n<style scoped>\n    .dataframe tbody tr th:only-of-type {\n        vertical-align: middle;\n    }\n\n    .dataframe tbody tr th {\n        vertical-align: top;\n    }\n\n    .dataframe thead th {\n        text-align: right;\n    }\n</style>\n<table border=\"1\" class=\"dataframe\">\n  <thead>\n    <tr style=\"text-align: right;\">\n      <th></th>\n      <th>fname</th>\n      <th>lname</th>\n      <th>age</th>\n      <th>email</th>\n      <th>salary</th>\n    </tr>\n  </thead>\n  <tbody>\n    <tr>\n      <th>0</th>\n      <td>Corey</td>\n      <td>Schafer</td>\n      <td>23.0</td>\n      <td>corey schafer @company.org</td>\n      <td>56561.0</td>\n    </tr>\n    <tr>\n      <th>1</th>\n      <td>Suminder</td>\n      <td>Singh</td>\n      <td>34.0</td>\n      <td>suminder singh @company.org</td>\n      <td>57390.0</td>\n    </tr>\n    <tr>\n      <th>2</th>\n      <td>Ankit</td>\n      <td>Bhola</td>\n      <td>54.0</td>\n      <td>ankit bhola @company.org</td>\n      <td>69051.0</td>\n    </tr>\n  </tbody>\n</table>\n</div>",
      "text/plain": "      fname    lname   age                        email   salary\n0     Corey  Schafer  23.0   corey schafer @company.org  56561.0\n1  Suminder    Singh  34.0  suminder singh @company.org  57390.0\n2     Ankit    Bhola  54.0     ankit bhola @company.org  69051.0"
     },
     "execution_count": 45,
     "metadata": {},
     "output_type": "execute_result"
    }
   ],
   "source": [
    "ppl_df.dropna(axis = 'index', how = 'any')"
   ]
  },
  {
   "cell_type": "code",
   "execution_count": 46,
   "metadata": {},
   "outputs": [
    {
     "data": {
      "text/html": "<div>\n<style scoped>\n    .dataframe tbody tr th:only-of-type {\n        vertical-align: middle;\n    }\n\n    .dataframe tbody tr th {\n        vertical-align: top;\n    }\n\n    .dataframe thead th {\n        text-align: right;\n    }\n</style>\n<table border=\"1\" class=\"dataframe\">\n  <thead>\n    <tr style=\"text-align: right;\">\n      <th></th>\n    </tr>\n  </thead>\n  <tbody>\n    <tr>\n      <th>0</th>\n    </tr>\n    <tr>\n      <th>1</th>\n    </tr>\n    <tr>\n      <th>2</th>\n    </tr>\n    <tr>\n      <th>3</th>\n    </tr>\n    <tr>\n      <th>4</th>\n    </tr>\n    <tr>\n      <th>5</th>\n    </tr>\n    <tr>\n      <th>6</th>\n    </tr>\n  </tbody>\n</table>\n</div>",
      "text/plain": "Empty DataFrame\nColumns: []\nIndex: [0, 1, 2, 3, 4, 5, 6]"
     },
     "execution_count": 46,
     "metadata": {},
     "output_type": "execute_result"
    }
   ],
   "source": [
    "ppl_df.dropna(axis = 'columns', how = 'any')"
   ]
  },
  {
   "cell_type": "code",
   "execution_count": 47,
   "metadata": {},
   "outputs": [
    {
     "data": {
      "text/html": "<div>\n<style scoped>\n    .dataframe tbody tr th:only-of-type {\n        vertical-align: middle;\n    }\n\n    .dataframe tbody tr th {\n        vertical-align: top;\n    }\n\n    .dataframe thead th {\n        text-align: right;\n    }\n</style>\n<table border=\"1\" class=\"dataframe\">\n  <thead>\n    <tr style=\"text-align: right;\">\n      <th></th>\n      <th>fname</th>\n      <th>lname</th>\n      <th>age</th>\n      <th>email</th>\n      <th>salary</th>\n    </tr>\n  </thead>\n  <tbody>\n    <tr>\n      <th>0</th>\n      <td>Corey</td>\n      <td>Schafer</td>\n      <td>23.0</td>\n      <td>corey schafer @company.org</td>\n      <td>56561.0</td>\n    </tr>\n    <tr>\n      <th>1</th>\n      <td>Suminder</td>\n      <td>Singh</td>\n      <td>34.0</td>\n      <td>suminder singh @company.org</td>\n      <td>57390.0</td>\n    </tr>\n    <tr>\n      <th>2</th>\n      <td>Ankit</td>\n      <td>Bhola</td>\n      <td>54.0</td>\n      <td>ankit bhola @company.org</td>\n      <td>69051.0</td>\n    </tr>\n    <tr>\n      <th>3</th>\n      <td>Ujjwal</td>\n      <td>NaN</td>\n      <td>12.0</td>\n      <td>NaN</td>\n      <td>NaN</td>\n    </tr>\n    <tr>\n      <th>4</th>\n      <td>NaN</td>\n      <td>None</td>\n      <td>NaN</td>\n      <td>NaN</td>\n      <td>71101.0</td>\n    </tr>\n    <tr>\n      <th>5</th>\n      <td>None</td>\n      <td>Missing</td>\n      <td>NaN</td>\n      <td>NaN</td>\n      <td>53794.0</td>\n    </tr>\n    <tr>\n      <th>6</th>\n      <td>NA</td>\n      <td>NaN</td>\n      <td>NaN</td>\n      <td>NaN</td>\n      <td>43632.0</td>\n    </tr>\n  </tbody>\n</table>\n</div>",
      "text/plain": "      fname    lname   age                        email   salary\n0     Corey  Schafer  23.0   corey schafer @company.org  56561.0\n1  Suminder    Singh  34.0  suminder singh @company.org  57390.0\n2     Ankit    Bhola  54.0     ankit bhola @company.org  69051.0\n3    Ujjwal      NaN  12.0                          NaN      NaN\n4       NaN     None   NaN                          NaN  71101.0\n5      None  Missing   NaN                          NaN  53794.0\n6        NA      NaN   NaN                          NaN  43632.0"
     },
     "execution_count": 47,
     "metadata": {},
     "output_type": "execute_result"
    }
   ],
   "source": [
    "ppl_df.dropna(axis = 'columns', how = 'all')"
   ]
  },
  {
   "cell_type": "code",
   "execution_count": 48,
   "metadata": {},
   "outputs": [
    {
     "data": {
      "text/html": "<div>\n<style scoped>\n    .dataframe tbody tr th:only-of-type {\n        vertical-align: middle;\n    }\n\n    .dataframe tbody tr th {\n        vertical-align: top;\n    }\n\n    .dataframe thead th {\n        text-align: right;\n    }\n</style>\n<table border=\"1\" class=\"dataframe\">\n  <thead>\n    <tr style=\"text-align: right;\">\n      <th></th>\n      <th>fname</th>\n      <th>lname</th>\n      <th>age</th>\n      <th>email</th>\n      <th>salary</th>\n    </tr>\n  </thead>\n  <tbody>\n    <tr>\n      <th>0</th>\n      <td>Corey</td>\n      <td>Schafer</td>\n      <td>23.0</td>\n      <td>corey schafer @company.org</td>\n      <td>56561.0</td>\n    </tr>\n    <tr>\n      <th>1</th>\n      <td>Suminder</td>\n      <td>Singh</td>\n      <td>34.0</td>\n      <td>suminder singh @company.org</td>\n      <td>57390.0</td>\n    </tr>\n    <tr>\n      <th>2</th>\n      <td>Ankit</td>\n      <td>Bhola</td>\n      <td>54.0</td>\n      <td>ankit bhola @company.org</td>\n      <td>69051.0</td>\n    </tr>\n  </tbody>\n</table>\n</div>",
      "text/plain": "      fname    lname   age                        email   salary\n0     Corey  Schafer  23.0   corey schafer @company.org  56561.0\n1  Suminder    Singh  34.0  suminder singh @company.org  57390.0\n2     Ankit    Bhola  54.0     ankit bhola @company.org  69051.0"
     },
     "execution_count": 48,
     "metadata": {},
     "output_type": "execute_result"
    }
   ],
   "source": [
    "ppl_df.dropna(axis = 'index', how = 'any', subset=['email']) \n",
    "# here all or any will not be any different, since it is a singlr column subset that we are using"
   ]
  },
  {
   "cell_type": "code",
   "execution_count": 51,
   "metadata": {},
   "outputs": [
    {
     "data": {
      "text/html": "<div>\n<style scoped>\n    .dataframe tbody tr th:only-of-type {\n        vertical-align: middle;\n    }\n\n    .dataframe tbody tr th {\n        vertical-align: top;\n    }\n\n    .dataframe thead th {\n        text-align: right;\n    }\n</style>\n<table border=\"1\" class=\"dataframe\">\n  <thead>\n    <tr style=\"text-align: right;\">\n      <th></th>\n      <th>fname</th>\n      <th>lname</th>\n      <th>age</th>\n      <th>email</th>\n      <th>salary</th>\n    </tr>\n  </thead>\n  <tbody>\n    <tr>\n      <th>0</th>\n      <td>Corey</td>\n      <td>Schafer</td>\n      <td>23.0</td>\n      <td>corey schafer @company.org</td>\n      <td>56561.0</td>\n    </tr>\n    <tr>\n      <th>1</th>\n      <td>Suminder</td>\n      <td>Singh</td>\n      <td>34.0</td>\n      <td>suminder singh @company.org</td>\n      <td>57390.0</td>\n    </tr>\n    <tr>\n      <th>2</th>\n      <td>Ankit</td>\n      <td>Bhola</td>\n      <td>54.0</td>\n      <td>ankit bhola @company.org</td>\n      <td>69051.0</td>\n    </tr>\n    <tr>\n      <th>5</th>\n      <td>None</td>\n      <td>Missing</td>\n      <td>NaN</td>\n      <td>NaN</td>\n      <td>53794.0</td>\n    </tr>\n  </tbody>\n</table>\n</div>",
      "text/plain": "      fname    lname   age                        email   salary\n0     Corey  Schafer  23.0   corey schafer @company.org  56561.0\n1  Suminder    Singh  34.0  suminder singh @company.org  57390.0\n2     Ankit    Bhola  54.0     ankit bhola @company.org  69051.0\n5      None  Missing   NaN                          NaN  53794.0"
     },
     "execution_count": 51,
     "metadata": {},
     "output_type": "execute_result"
    }
   ],
   "source": [
    "ppl_df.dropna(axis = 'index', how = 'all', subset=['email', 'lname'])\n",
    "#here all will check for the listed columns in the subset arguement and if a row is found with both columns as none, it will be dropped"
   ]
  },
  {
   "cell_type": "code",
   "execution_count": 53,
   "metadata": {},
   "outputs": [
    {
     "data": {
      "text/html": "<div>\n<style scoped>\n    .dataframe tbody tr th:only-of-type {\n        vertical-align: middle;\n    }\n\n    .dataframe tbody tr th {\n        vertical-align: top;\n    }\n\n    .dataframe thead th {\n        text-align: right;\n    }\n</style>\n<table border=\"1\" class=\"dataframe\">\n  <thead>\n    <tr style=\"text-align: right;\">\n      <th></th>\n      <th>fname</th>\n      <th>lname</th>\n      <th>age</th>\n      <th>email</th>\n      <th>salary</th>\n    </tr>\n  </thead>\n  <tbody>\n    <tr>\n      <th>0</th>\n      <td>Corey</td>\n      <td>Schafer</td>\n      <td>23.0</td>\n      <td>corey schafer @company.org</td>\n      <td>56561.0</td>\n    </tr>\n    <tr>\n      <th>1</th>\n      <td>Suminder</td>\n      <td>Singh</td>\n      <td>34.0</td>\n      <td>suminder singh @company.org</td>\n      <td>57390.0</td>\n    </tr>\n    <tr>\n      <th>2</th>\n      <td>Ankit</td>\n      <td>Bhola</td>\n      <td>54.0</td>\n      <td>ankit bhola @company.org</td>\n      <td>69051.0</td>\n    </tr>\n  </tbody>\n</table>\n</div>",
      "text/plain": "      fname    lname   age                        email   salary\n0     Corey  Schafer  23.0   corey schafer @company.org  56561.0\n1  Suminder    Singh  34.0  suminder singh @company.org  57390.0\n2     Ankit    Bhola  54.0     ankit bhola @company.org  69051.0"
     },
     "execution_count": 53,
     "metadata": {},
     "output_type": "execute_result"
    }
   ],
   "source": [
    "ppl_df.dropna(axis = 'index', how = 'any', subset=['email', 'lname'])\n",
    "#will drop the rows if any of the subset columns has a null"
   ]
  },
  {
   "cell_type": "code",
   "execution_count": 54,
   "metadata": {},
   "outputs": [],
   "source": [
    "ppl_df.replace('NA', np.nan, inplace=True)\n",
    "ppl_df.replace('Missing', np.nan, inplace=True)"
   ]
  },
  {
   "cell_type": "code",
   "execution_count": 55,
   "metadata": {},
   "outputs": [
    {
     "data": {
      "text/html": "<div>\n<style scoped>\n    .dataframe tbody tr th:only-of-type {\n        vertical-align: middle;\n    }\n\n    .dataframe tbody tr th {\n        vertical-align: top;\n    }\n\n    .dataframe thead th {\n        text-align: right;\n    }\n</style>\n<table border=\"1\" class=\"dataframe\">\n  <thead>\n    <tr style=\"text-align: right;\">\n      <th></th>\n      <th>fname</th>\n      <th>lname</th>\n      <th>age</th>\n      <th>email</th>\n      <th>salary</th>\n    </tr>\n  </thead>\n  <tbody>\n    <tr>\n      <th>0</th>\n      <td>Corey</td>\n      <td>Schafer</td>\n      <td>23.0</td>\n      <td>corey schafer @company.org</td>\n      <td>56561.0</td>\n    </tr>\n    <tr>\n      <th>1</th>\n      <td>Suminder</td>\n      <td>Singh</td>\n      <td>34.0</td>\n      <td>suminder singh @company.org</td>\n      <td>57390.0</td>\n    </tr>\n    <tr>\n      <th>2</th>\n      <td>Ankit</td>\n      <td>Bhola</td>\n      <td>54.0</td>\n      <td>ankit bhola @company.org</td>\n      <td>69051.0</td>\n    </tr>\n    <tr>\n      <th>3</th>\n      <td>Ujjwal</td>\n      <td>NaN</td>\n      <td>12.0</td>\n      <td>NaN</td>\n      <td>NaN</td>\n    </tr>\n    <tr>\n      <th>4</th>\n      <td>NaN</td>\n      <td>None</td>\n      <td>NaN</td>\n      <td>NaN</td>\n      <td>71101.0</td>\n    </tr>\n    <tr>\n      <th>5</th>\n      <td>None</td>\n      <td>NaN</td>\n      <td>NaN</td>\n      <td>NaN</td>\n      <td>53794.0</td>\n    </tr>\n    <tr>\n      <th>6</th>\n      <td>NaN</td>\n      <td>NaN</td>\n      <td>NaN</td>\n      <td>NaN</td>\n      <td>43632.0</td>\n    </tr>\n  </tbody>\n</table>\n</div>",
      "text/plain": "      fname    lname   age                        email   salary\n0     Corey  Schafer  23.0   corey schafer @company.org  56561.0\n1  Suminder    Singh  34.0  suminder singh @company.org  57390.0\n2     Ankit    Bhola  54.0     ankit bhola @company.org  69051.0\n3    Ujjwal      NaN  12.0                          NaN      NaN\n4       NaN     None   NaN                          NaN  71101.0\n5      None      NaN   NaN                          NaN  53794.0\n6       NaN      NaN   NaN                          NaN  43632.0"
     },
     "execution_count": 55,
     "metadata": {},
     "output_type": "execute_result"
    }
   ],
   "source": [
    "ppl_df"
   ]
  },
  {
   "cell_type": "code",
   "execution_count": 57,
   "metadata": {},
   "outputs": [
    {
     "data": {
      "text/html": "<div>\n<style scoped>\n    .dataframe tbody tr th:only-of-type {\n        vertical-align: middle;\n    }\n\n    .dataframe tbody tr th {\n        vertical-align: top;\n    }\n\n    .dataframe thead th {\n        text-align: right;\n    }\n</style>\n<table border=\"1\" class=\"dataframe\">\n  <thead>\n    <tr style=\"text-align: right;\">\n      <th></th>\n      <th>fname</th>\n      <th>lname</th>\n      <th>age</th>\n      <th>email</th>\n      <th>salary</th>\n    </tr>\n  </thead>\n  <tbody>\n    <tr>\n      <th>0</th>\n      <td>False</td>\n      <td>False</td>\n      <td>False</td>\n      <td>False</td>\n      <td>False</td>\n    </tr>\n    <tr>\n      <th>1</th>\n      <td>False</td>\n      <td>False</td>\n      <td>False</td>\n      <td>False</td>\n      <td>False</td>\n    </tr>\n    <tr>\n      <th>2</th>\n      <td>False</td>\n      <td>False</td>\n      <td>False</td>\n      <td>False</td>\n      <td>False</td>\n    </tr>\n    <tr>\n      <th>3</th>\n      <td>False</td>\n      <td>True</td>\n      <td>False</td>\n      <td>True</td>\n      <td>True</td>\n    </tr>\n    <tr>\n      <th>4</th>\n      <td>True</td>\n      <td>True</td>\n      <td>True</td>\n      <td>True</td>\n      <td>False</td>\n    </tr>\n    <tr>\n      <th>5</th>\n      <td>True</td>\n      <td>True</td>\n      <td>True</td>\n      <td>True</td>\n      <td>False</td>\n    </tr>\n    <tr>\n      <th>6</th>\n      <td>True</td>\n      <td>True</td>\n      <td>True</td>\n      <td>True</td>\n      <td>False</td>\n    </tr>\n  </tbody>\n</table>\n</div>",
      "text/plain": "   fname  lname    age  email  salary\n0  False  False  False  False   False\n1  False  False  False  False   False\n2  False  False  False  False   False\n3  False   True  False   True    True\n4   True   True   True   True   False\n5   True   True   True   True   False\n6   True   True   True   True   False"
     },
     "execution_count": 57,
     "metadata": {},
     "output_type": "execute_result"
    }
   ],
   "source": [
    "ppl_df.isna()"
   ]
  },
  {
   "cell_type": "code",
   "execution_count": 58,
   "metadata": {},
   "outputs": [
    {
     "data": {
      "text/html": "<div>\n<style scoped>\n    .dataframe tbody tr th:only-of-type {\n        vertical-align: middle;\n    }\n\n    .dataframe tbody tr th {\n        vertical-align: top;\n    }\n\n    .dataframe thead th {\n        text-align: right;\n    }\n</style>\n<table border=\"1\" class=\"dataframe\">\n  <thead>\n    <tr style=\"text-align: right;\">\n      <th></th>\n      <th>fname</th>\n      <th>lname</th>\n      <th>age</th>\n      <th>email</th>\n      <th>salary</th>\n    </tr>\n  </thead>\n  <tbody>\n    <tr>\n      <th>0</th>\n      <td>Corey</td>\n      <td>Schafer</td>\n      <td>23.0</td>\n      <td>corey schafer @company.org</td>\n      <td>56561.0</td>\n    </tr>\n    <tr>\n      <th>1</th>\n      <td>Suminder</td>\n      <td>Singh</td>\n      <td>34.0</td>\n      <td>suminder singh @company.org</td>\n      <td>57390.0</td>\n    </tr>\n    <tr>\n      <th>2</th>\n      <td>Ankit</td>\n      <td>Bhola</td>\n      <td>54.0</td>\n      <td>ankit bhola @company.org</td>\n      <td>69051.0</td>\n    </tr>\n    <tr>\n      <th>3</th>\n      <td>Ujjwal</td>\n      <td>MISSING</td>\n      <td>12.0</td>\n      <td>MISSING</td>\n      <td>MISSING</td>\n    </tr>\n    <tr>\n      <th>4</th>\n      <td>MISSING</td>\n      <td>MISSING</td>\n      <td>MISSING</td>\n      <td>MISSING</td>\n      <td>71101.0</td>\n    </tr>\n    <tr>\n      <th>5</th>\n      <td>MISSING</td>\n      <td>MISSING</td>\n      <td>MISSING</td>\n      <td>MISSING</td>\n      <td>53794.0</td>\n    </tr>\n    <tr>\n      <th>6</th>\n      <td>MISSING</td>\n      <td>MISSING</td>\n      <td>MISSING</td>\n      <td>MISSING</td>\n      <td>43632.0</td>\n    </tr>\n  </tbody>\n</table>\n</div>",
      "text/plain": "      fname    lname      age                        email   salary\n0     Corey  Schafer     23.0   corey schafer @company.org  56561.0\n1  Suminder    Singh     34.0  suminder singh @company.org  57390.0\n2     Ankit    Bhola     54.0     ankit bhola @company.org  69051.0\n3    Ujjwal  MISSING     12.0                      MISSING  MISSING\n4   MISSING  MISSING  MISSING                      MISSING  71101.0\n5   MISSING  MISSING  MISSING                      MISSING  53794.0\n6   MISSING  MISSING  MISSING                      MISSING  43632.0"
     },
     "execution_count": 58,
     "metadata": {},
     "output_type": "execute_result"
    }
   ],
   "source": [
    "ppl_df.fillna('MISSING')"
   ]
  },
  {
   "cell_type": "code",
   "execution_count": 59,
   "metadata": {},
   "outputs": [
    {
     "data": {
      "text/html": "<div>\n<style scoped>\n    .dataframe tbody tr th:only-of-type {\n        vertical-align: middle;\n    }\n\n    .dataframe tbody tr th {\n        vertical-align: top;\n    }\n\n    .dataframe thead th {\n        text-align: right;\n    }\n</style>\n<table border=\"1\" class=\"dataframe\">\n  <thead>\n    <tr style=\"text-align: right;\">\n      <th></th>\n      <th>fname</th>\n      <th>lname</th>\n      <th>age</th>\n      <th>email</th>\n      <th>salary</th>\n    </tr>\n  </thead>\n  <tbody>\n    <tr>\n      <th>0</th>\n      <td>Corey</td>\n      <td>Schafer</td>\n      <td>23.0</td>\n      <td>corey schafer @company.org</td>\n      <td>56561.0</td>\n    </tr>\n    <tr>\n      <th>1</th>\n      <td>Suminder</td>\n      <td>Singh</td>\n      <td>34.0</td>\n      <td>suminder singh @company.org</td>\n      <td>57390.0</td>\n    </tr>\n    <tr>\n      <th>2</th>\n      <td>Ankit</td>\n      <td>Bhola</td>\n      <td>54.0</td>\n      <td>ankit bhola @company.org</td>\n      <td>69051.0</td>\n    </tr>\n    <tr>\n      <th>3</th>\n      <td>Ujjwal</td>\n      <td>Bhola</td>\n      <td>12.0</td>\n      <td>ankit bhola @company.org</td>\n      <td>69051.0</td>\n    </tr>\n    <tr>\n      <th>4</th>\n      <td>Ujjwal</td>\n      <td>Bhola</td>\n      <td>12.0</td>\n      <td>ankit bhola @company.org</td>\n      <td>71101.0</td>\n    </tr>\n    <tr>\n      <th>5</th>\n      <td>Ujjwal</td>\n      <td>Bhola</td>\n      <td>12.0</td>\n      <td>ankit bhola @company.org</td>\n      <td>53794.0</td>\n    </tr>\n    <tr>\n      <th>6</th>\n      <td>Ujjwal</td>\n      <td>Bhola</td>\n      <td>12.0</td>\n      <td>ankit bhola @company.org</td>\n      <td>43632.0</td>\n    </tr>\n  </tbody>\n</table>\n</div>",
      "text/plain": "      fname    lname   age                        email   salary\n0     Corey  Schafer  23.0   corey schafer @company.org  56561.0\n1  Suminder    Singh  34.0  suminder singh @company.org  57390.0\n2     Ankit    Bhola  54.0     ankit bhola @company.org  69051.0\n3    Ujjwal    Bhola  12.0     ankit bhola @company.org  69051.0\n4    Ujjwal    Bhola  12.0     ankit bhola @company.org  71101.0\n5    Ujjwal    Bhola  12.0     ankit bhola @company.org  53794.0\n6    Ujjwal    Bhola  12.0     ankit bhola @company.org  43632.0"
     },
     "execution_count": 59,
     "metadata": {},
     "output_type": "execute_result"
    }
   ],
   "source": [
    "ppl_df.fillna(method='ffill')"
   ]
  },
  {
   "cell_type": "code",
   "execution_count": 60,
   "metadata": {},
   "outputs": [
    {
     "data": {
      "text/html": "<div>\n<style scoped>\n    .dataframe tbody tr th:only-of-type {\n        vertical-align: middle;\n    }\n\n    .dataframe tbody tr th {\n        vertical-align: top;\n    }\n\n    .dataframe thead th {\n        text-align: right;\n    }\n</style>\n<table border=\"1\" class=\"dataframe\">\n  <thead>\n    <tr style=\"text-align: right;\">\n      <th></th>\n      <th>fname</th>\n      <th>lname</th>\n      <th>age</th>\n      <th>email</th>\n      <th>salary</th>\n    </tr>\n  </thead>\n  <tbody>\n    <tr>\n      <th>0</th>\n      <td>Corey</td>\n      <td>Schafer</td>\n      <td>23.0</td>\n      <td>corey schafer @company.org</td>\n      <td>56561.0</td>\n    </tr>\n    <tr>\n      <th>1</th>\n      <td>Suminder</td>\n      <td>Singh</td>\n      <td>34.0</td>\n      <td>suminder singh @company.org</td>\n      <td>57390.0</td>\n    </tr>\n    <tr>\n      <th>2</th>\n      <td>Ankit</td>\n      <td>Bhola</td>\n      <td>54.0</td>\n      <td>ankit bhola @company.org</td>\n      <td>69051.0</td>\n    </tr>\n    <tr>\n      <th>3</th>\n      <td>Ujjwal</td>\n      <td>0</td>\n      <td>12.0</td>\n      <td>0</td>\n      <td>0.0</td>\n    </tr>\n    <tr>\n      <th>4</th>\n      <td>0</td>\n      <td>0</td>\n      <td>0.0</td>\n      <td>0</td>\n      <td>71101.0</td>\n    </tr>\n    <tr>\n      <th>5</th>\n      <td>0</td>\n      <td>0</td>\n      <td>0.0</td>\n      <td>0</td>\n      <td>53794.0</td>\n    </tr>\n    <tr>\n      <th>6</th>\n      <td>0</td>\n      <td>0</td>\n      <td>0.0</td>\n      <td>0</td>\n      <td>43632.0</td>\n    </tr>\n  </tbody>\n</table>\n</div>",
      "text/plain": "      fname    lname   age                        email   salary\n0     Corey  Schafer  23.0   corey schafer @company.org  56561.0\n1  Suminder    Singh  34.0  suminder singh @company.org  57390.0\n2     Ankit    Bhola  54.0     ankit bhola @company.org  69051.0\n3    Ujjwal        0  12.0                            0      0.0\n4         0        0   0.0                            0  71101.0\n5         0        0   0.0                            0  53794.0\n6         0        0   0.0                            0  43632.0"
     },
     "execution_count": 60,
     "metadata": {},
     "output_type": "execute_result"
    }
   ],
   "source": [
    "ppl_df.fillna(0)"
   ]
  },
  {
   "cell_type": "code",
   "execution_count": 62,
   "metadata": {},
   "outputs": [
    {
     "data": {
      "text/html": "<div>\n<style scoped>\n    .dataframe tbody tr th:only-of-type {\n        vertical-align: middle;\n    }\n\n    .dataframe tbody tr th {\n        vertical-align: top;\n    }\n\n    .dataframe thead th {\n        text-align: right;\n    }\n</style>\n<table border=\"1\" class=\"dataframe\">\n  <thead>\n    <tr style=\"text-align: right;\">\n      <th></th>\n      <th>fname</th>\n      <th>lname</th>\n      <th>age</th>\n      <th>email</th>\n      <th>salary</th>\n    </tr>\n  </thead>\n  <tbody>\n    <tr>\n      <th>0</th>\n      <td>Corey</td>\n      <td>Schafer</td>\n      <td>23.0</td>\n      <td>corey schafer @company.org</td>\n      <td>56561.0</td>\n    </tr>\n    <tr>\n      <th>1</th>\n      <td>Suminder</td>\n      <td>Singh</td>\n      <td>34.0</td>\n      <td>suminder singh @company.org</td>\n      <td>57390.0</td>\n    </tr>\n    <tr>\n      <th>2</th>\n      <td>Ankit</td>\n      <td>Bhola</td>\n      <td>54.0</td>\n      <td>ankit bhola @company.org</td>\n      <td>69051.0</td>\n    </tr>\n    <tr>\n      <th>3</th>\n      <td>Ujjwal</td>\n      <td>YYY</td>\n      <td>12.0</td>\n      <td>NaN</td>\n      <td>NaN</td>\n    </tr>\n    <tr>\n      <th>4</th>\n      <td>XXX</td>\n      <td>YYY</td>\n      <td>NaN</td>\n      <td>NaN</td>\n      <td>71101.0</td>\n    </tr>\n    <tr>\n      <th>5</th>\n      <td>XXX</td>\n      <td>YYY</td>\n      <td>NaN</td>\n      <td>NaN</td>\n      <td>53794.0</td>\n    </tr>\n    <tr>\n      <th>6</th>\n      <td>XXX</td>\n      <td>YYY</td>\n      <td>NaN</td>\n      <td>NaN</td>\n      <td>43632.0</td>\n    </tr>\n  </tbody>\n</table>\n</div>",
      "text/plain": "      fname    lname   age                        email   salary\n0     Corey  Schafer  23.0   corey schafer @company.org  56561.0\n1  Suminder    Singh  34.0  suminder singh @company.org  57390.0\n2     Ankit    Bhola  54.0     ankit bhola @company.org  69051.0\n3    Ujjwal      YYY  12.0                          NaN      NaN\n4       XXX      YYY   NaN                          NaN  71101.0\n5       XXX      YYY   NaN                          NaN  53794.0\n6       XXX      YYY   NaN                          NaN  43632.0"
     },
     "execution_count": 62,
     "metadata": {},
     "output_type": "execute_result"
    }
   ],
   "source": [
    "ppl_df.fillna({'fname' : 'XXX', 'lname' : 'YYY'})"
   ]
  },
  {
   "cell_type": "code",
   "execution_count": 64,
   "metadata": {},
   "outputs": [
    {
     "data": {
      "text/plain": "0    23.0\n1    34.0\n2    54.0\n3    12.0\n4    12.0\n5     NaN\n6     NaN\nName: age, dtype: float64"
     },
     "execution_count": 64,
     "metadata": {},
     "output_type": "execute_result"
    }
   ],
   "source": [
    "ppl_df['age'].fillna(method = 'ffill', limit = 1)"
   ]
  },
  {
   "cell_type": "code",
   "execution_count": 65,
   "metadata": {},
   "outputs": [
    {
     "data": {
      "text/plain": "fname      object\nlname      object\nage       float64\nemail      object\nsalary    float64\ndtype: object"
     },
     "execution_count": 65,
     "metadata": {},
     "output_type": "execute_result"
    }
   ],
   "source": [
    "ppl_df.dtypes"
   ]
  },
  {
   "cell_type": "code",
   "execution_count": 66,
   "metadata": {},
   "outputs": [
    {
     "data": {
      "text/plain": "float"
     },
     "execution_count": 66,
     "metadata": {},
     "output_type": "execute_result"
    }
   ],
   "source": [
    "type(np.nan)"
   ]
  },
  {
   "cell_type": "code",
   "execution_count": 70,
   "metadata": {},
   "outputs": [],
   "source": [
    "ppl_df['age'] = ppl_df.age.astype(float)\n",
    "# if df or series contains nan values, typecasting to a numerical variable will be possible only to a float value"
   ]
  },
  {
   "cell_type": "code",
   "execution_count": 71,
   "metadata": {},
   "outputs": [
    {
     "data": {
      "text/html": "<div>\n<style scoped>\n    .dataframe tbody tr th:only-of-type {\n        vertical-align: middle;\n    }\n\n    .dataframe tbody tr th {\n        vertical-align: top;\n    }\n\n    .dataframe thead th {\n        text-align: right;\n    }\n</style>\n<table border=\"1\" class=\"dataframe\">\n  <thead>\n    <tr style=\"text-align: right;\">\n      <th></th>\n      <th>fname</th>\n      <th>lname</th>\n      <th>age</th>\n      <th>email</th>\n      <th>salary</th>\n    </tr>\n  </thead>\n  <tbody>\n    <tr>\n      <th>0</th>\n      <td>Corey</td>\n      <td>Schafer</td>\n      <td>23.0</td>\n      <td>corey schafer @company.org</td>\n      <td>56561.0</td>\n    </tr>\n    <tr>\n      <th>1</th>\n      <td>Suminder</td>\n      <td>Singh</td>\n      <td>34.0</td>\n      <td>suminder singh @company.org</td>\n      <td>57390.0</td>\n    </tr>\n    <tr>\n      <th>2</th>\n      <td>Ankit</td>\n      <td>Bhola</td>\n      <td>54.0</td>\n      <td>ankit bhola @company.org</td>\n      <td>69051.0</td>\n    </tr>\n    <tr>\n      <th>3</th>\n      <td>Ujjwal</td>\n      <td>NaN</td>\n      <td>12.0</td>\n      <td>NaN</td>\n      <td>NaN</td>\n    </tr>\n    <tr>\n      <th>4</th>\n      <td>NaN</td>\n      <td>None</td>\n      <td>NaN</td>\n      <td>NaN</td>\n      <td>71101.0</td>\n    </tr>\n    <tr>\n      <th>5</th>\n      <td>None</td>\n      <td>NaN</td>\n      <td>NaN</td>\n      <td>NaN</td>\n      <td>53794.0</td>\n    </tr>\n    <tr>\n      <th>6</th>\n      <td>NaN</td>\n      <td>NaN</td>\n      <td>NaN</td>\n      <td>NaN</td>\n      <td>43632.0</td>\n    </tr>\n  </tbody>\n</table>\n</div>",
      "text/plain": "      fname    lname   age                        email   salary\n0     Corey  Schafer  23.0   corey schafer @company.org  56561.0\n1  Suminder    Singh  34.0  suminder singh @company.org  57390.0\n2     Ankit    Bhola  54.0     ankit bhola @company.org  69051.0\n3    Ujjwal      NaN  12.0                          NaN      NaN\n4       NaN     None   NaN                          NaN  71101.0\n5      None      NaN   NaN                          NaN  53794.0\n6       NaN      NaN   NaN                          NaN  43632.0"
     },
     "execution_count": 71,
     "metadata": {},
     "output_type": "execute_result"
    }
   ],
   "source": [
    "ppl_df"
   ]
  },
  {
   "cell_type": "code",
   "execution_count": 73,
   "metadata": {},
   "outputs": [
    {
     "data": {
      "text/plain": "30.75"
     },
     "execution_count": 73,
     "metadata": {},
     "output_type": "execute_result"
    }
   ],
   "source": [
    "ppl_df.age.mean()"
   ]
  },
  {
   "cell_type": "code",
   "execution_count": 74,
   "metadata": {},
   "outputs": [],
   "source": [
    "df = pd.read_csv('survey_results_public.csv')"
   ]
  },
  {
   "cell_type": "code",
   "execution_count": 75,
   "metadata": {},
   "outputs": [
    {
     "data": {
      "text/plain": "Respondent          0\nMainBranch        552\nHobbyist            0\nOpenSourcer         0\nOpenSource       2041\n                ...  \nSexuality       12736\nEthnicity       12215\nDependents       5824\nSurveyLength     1899\nSurveyEase       1802\nLength: 85, dtype: int64"
     },
     "execution_count": 75,
     "metadata": {},
     "output_type": "execute_result"
    }
   ],
   "source": [
    "df.isnull().sum()"
   ]
  },
  {
   "cell_type": "code",
   "execution_count": 76,
   "metadata": {},
   "outputs": [],
   "source": [
    "people = {\n",
    "    'fname' : ['Corey', 'Suminder', 'Ankit', 'Ujjwal', np.nan, None, 'NA'],\n",
    "    'lname' : ['Schafer', 'Singh', 'Bhola', np.nan, None, 'Missing', np.nan],\n",
    "    'age' : [23, 34, 54, 12, np.nan, None, None]\n",
    "}\n",
    "\n",
    "df_tst2 = pd.DataFrame(people)"
   ]
  },
  {
   "cell_type": "code",
   "execution_count": 78,
   "metadata": {},
   "outputs": [
    {
     "data": {
      "text/html": "<div>\n<style scoped>\n    .dataframe tbody tr th:only-of-type {\n        vertical-align: middle;\n    }\n\n    .dataframe tbody tr th {\n        vertical-align: top;\n    }\n\n    .dataframe thead th {\n        text-align: right;\n    }\n</style>\n<table border=\"1\" class=\"dataframe\">\n  <thead>\n    <tr style=\"text-align: right;\">\n      <th></th>\n      <th>fname</th>\n      <th>lname</th>\n      <th>age</th>\n    </tr>\n  </thead>\n  <tbody>\n    <tr>\n      <th>0</th>\n      <td>Corey</td>\n      <td>Schafer</td>\n      <td>23.0</td>\n    </tr>\n    <tr>\n      <th>1</th>\n      <td>Suminder</td>\n      <td>Singh</td>\n      <td>34.0</td>\n    </tr>\n    <tr>\n      <th>2</th>\n      <td>Ankit</td>\n      <td>Bhola</td>\n      <td>54.0</td>\n    </tr>\n    <tr>\n      <th>3</th>\n      <td>Ujjwal</td>\n      <td>0</td>\n      <td>12.0</td>\n    </tr>\n    <tr>\n      <th>4</th>\n      <td>0</td>\n      <td>0</td>\n      <td>0.0</td>\n    </tr>\n    <tr>\n      <th>5</th>\n      <td>0</td>\n      <td>Missing</td>\n      <td>0.0</td>\n    </tr>\n    <tr>\n      <th>6</th>\n      <td>NA</td>\n      <td>0</td>\n      <td>0.0</td>\n    </tr>\n  </tbody>\n</table>\n</div>",
      "text/plain": "      fname    lname   age\n0     Corey  Schafer  23.0\n1  Suminder    Singh  34.0\n2     Ankit    Bhola  54.0\n3    Ujjwal        0  12.0\n4         0        0   0.0\n5         0  Missing   0.0\n6        NA        0   0.0"
     },
     "execution_count": 78,
     "metadata": {},
     "output_type": "execute_result"
    }
   ],
   "source": [
    "df_tst2.replace(np.nan, 0)"
   ]
  },
  {
   "cell_type": "code",
   "execution_count": 80,
   "metadata": {},
   "outputs": [],
   "source": [
    "df_tst2.to_csv('df_tst2.csv')"
   ]
  },
  {
   "cell_type": "code",
   "execution_count": 83,
   "metadata": {},
   "outputs": [],
   "source": [
    "df2 = pd.read_csv('df_tst2.csv', na_values = ['NA', 'Missing'])"
   ]
  },
  {
   "cell_type": "code",
   "execution_count": 84,
   "metadata": {},
   "outputs": [
    {
     "data": {
      "text/html": "<div>\n<style scoped>\n    .dataframe tbody tr th:only-of-type {\n        vertical-align: middle;\n    }\n\n    .dataframe tbody tr th {\n        vertical-align: top;\n    }\n\n    .dataframe thead th {\n        text-align: right;\n    }\n</style>\n<table border=\"1\" class=\"dataframe\">\n  <thead>\n    <tr style=\"text-align: right;\">\n      <th></th>\n      <th>Unnamed: 0</th>\n      <th>fname</th>\n      <th>lname</th>\n      <th>age</th>\n    </tr>\n  </thead>\n  <tbody>\n    <tr>\n      <th>0</th>\n      <td>0</td>\n      <td>Corey</td>\n      <td>Schafer</td>\n      <td>23.0</td>\n    </tr>\n    <tr>\n      <th>1</th>\n      <td>1</td>\n      <td>Suminder</td>\n      <td>Singh</td>\n      <td>34.0</td>\n    </tr>\n    <tr>\n      <th>2</th>\n      <td>2</td>\n      <td>Ankit</td>\n      <td>Bhola</td>\n      <td>54.0</td>\n    </tr>\n    <tr>\n      <th>3</th>\n      <td>3</td>\n      <td>Ujjwal</td>\n      <td>NaN</td>\n      <td>12.0</td>\n    </tr>\n    <tr>\n      <th>4</th>\n      <td>4</td>\n      <td>NaN</td>\n      <td>NaN</td>\n      <td>NaN</td>\n    </tr>\n    <tr>\n      <th>5</th>\n      <td>5</td>\n      <td>NaN</td>\n      <td>NaN</td>\n      <td>NaN</td>\n    </tr>\n    <tr>\n      <th>6</th>\n      <td>6</td>\n      <td>NaN</td>\n      <td>NaN</td>\n      <td>NaN</td>\n    </tr>\n  </tbody>\n</table>\n</div>",
      "text/plain": "   Unnamed: 0     fname    lname   age\n0           0     Corey  Schafer  23.0\n1           1  Suminder    Singh  34.0\n2           2     Ankit    Bhola  54.0\n3           3    Ujjwal      NaN  12.0\n4           4       NaN      NaN   NaN\n5           5       NaN      NaN   NaN\n6           6       NaN      NaN   NaN"
     },
     "execution_count": 84,
     "metadata": {},
     "output_type": "execute_result"
    }
   ],
   "source": [
    "df2"
   ]
  },
  {
   "cell_type": "code",
   "execution_count": 85,
   "metadata": {},
   "outputs": [],
   "source": [
    "df2.reset_index(inplace=True)"
   ]
  },
  {
   "cell_type": "code",
   "execution_count": 86,
   "metadata": {},
   "outputs": [
    {
     "data": {
      "text/html": "<div>\n<style scoped>\n    .dataframe tbody tr th:only-of-type {\n        vertical-align: middle;\n    }\n\n    .dataframe tbody tr th {\n        vertical-align: top;\n    }\n\n    .dataframe thead th {\n        text-align: right;\n    }\n</style>\n<table border=\"1\" class=\"dataframe\">\n  <thead>\n    <tr style=\"text-align: right;\">\n      <th></th>\n      <th>index</th>\n      <th>Unnamed: 0</th>\n      <th>fname</th>\n      <th>lname</th>\n      <th>age</th>\n    </tr>\n  </thead>\n  <tbody>\n    <tr>\n      <th>0</th>\n      <td>0</td>\n      <td>0</td>\n      <td>Corey</td>\n      <td>Schafer</td>\n      <td>23.0</td>\n    </tr>\n    <tr>\n      <th>1</th>\n      <td>1</td>\n      <td>1</td>\n      <td>Suminder</td>\n      <td>Singh</td>\n      <td>34.0</td>\n    </tr>\n    <tr>\n      <th>2</th>\n      <td>2</td>\n      <td>2</td>\n      <td>Ankit</td>\n      <td>Bhola</td>\n      <td>54.0</td>\n    </tr>\n    <tr>\n      <th>3</th>\n      <td>3</td>\n      <td>3</td>\n      <td>Ujjwal</td>\n      <td>NaN</td>\n      <td>12.0</td>\n    </tr>\n    <tr>\n      <th>4</th>\n      <td>4</td>\n      <td>4</td>\n      <td>NaN</td>\n      <td>NaN</td>\n      <td>NaN</td>\n    </tr>\n    <tr>\n      <th>5</th>\n      <td>5</td>\n      <td>5</td>\n      <td>NaN</td>\n      <td>NaN</td>\n      <td>NaN</td>\n    </tr>\n    <tr>\n      <th>6</th>\n      <td>6</td>\n      <td>6</td>\n      <td>NaN</td>\n      <td>NaN</td>\n      <td>NaN</td>\n    </tr>\n  </tbody>\n</table>\n</div>",
      "text/plain": "   index  Unnamed: 0     fname    lname   age\n0      0           0     Corey  Schafer  23.0\n1      1           1  Suminder    Singh  34.0\n2      2           2     Ankit    Bhola  54.0\n3      3           3    Ujjwal      NaN  12.0\n4      4           4       NaN      NaN   NaN\n5      5           5       NaN      NaN   NaN\n6      6           6       NaN      NaN   NaN"
     },
     "execution_count": 86,
     "metadata": {},
     "output_type": "execute_result"
    }
   ],
   "source": [
    "df2"
   ]
  },
  {
   "cell_type": "code",
   "execution_count": 88,
   "metadata": {},
   "outputs": [
    {
     "data": {
      "text/plain": "0      4\n1    NaN\n2      3\n3      3\n4     16\n5     13\n6      6\n7      8\n8     12\n9     12\nName: YearsCode, dtype: object"
     },
     "execution_count": 88,
     "metadata": {},
     "output_type": "execute_result"
    }
   ],
   "source": [
    "df['YearsCode'].head(10)"
   ]
  },
  {
   "cell_type": "code",
   "execution_count": 91,
   "metadata": {},
   "outputs": [
    {
     "ename": "ValueError",
     "evalue": "could not convert string to float: 'Less than 1 year'",
     "output_type": "error",
     "traceback": [
      "\u001b[0;31m---------------------------------------------------------------------------\u001b[0m",
      "\u001b[0;31mValueError\u001b[0m                                Traceback (most recent call last)",
      "\u001b[0;32m<ipython-input-91-379681b9fb29>\u001b[0m in \u001b[0;36m<module>\u001b[0;34m\u001b[0m\n\u001b[0;32m----> 1\u001b[0;31m \u001b[0mdf\u001b[0m\u001b[0;34m.\u001b[0m\u001b[0mYearsCode\u001b[0m\u001b[0;34m.\u001b[0m\u001b[0mastype\u001b[0m\u001b[0;34m(\u001b[0m\u001b[0mfloat\u001b[0m\u001b[0;34m)\u001b[0m\u001b[0;34m.\u001b[0m\u001b[0mmean\u001b[0m\u001b[0;34m(\u001b[0m\u001b[0;34m)\u001b[0m\u001b[0;34m\u001b[0m\u001b[0;34m\u001b[0m\u001b[0m\n\u001b[0m",
      "\u001b[0;32m~/anaconda3/lib/python3.8/site-packages/pandas/core/generic.py\u001b[0m in \u001b[0;36mastype\u001b[0;34m(self, dtype, copy, errors)\u001b[0m\n\u001b[1;32m   5875\u001b[0m         \u001b[0;32melse\u001b[0m\u001b[0;34m:\u001b[0m\u001b[0;34m\u001b[0m\u001b[0;34m\u001b[0m\u001b[0m\n\u001b[1;32m   5876\u001b[0m             \u001b[0;31m# else, only a single dtype is given\u001b[0m\u001b[0;34m\u001b[0m\u001b[0;34m\u001b[0m\u001b[0;34m\u001b[0m\u001b[0m\n\u001b[0;32m-> 5877\u001b[0;31m             \u001b[0mnew_data\u001b[0m \u001b[0;34m=\u001b[0m \u001b[0mself\u001b[0m\u001b[0;34m.\u001b[0m\u001b[0m_mgr\u001b[0m\u001b[0;34m.\u001b[0m\u001b[0mastype\u001b[0m\u001b[0;34m(\u001b[0m\u001b[0mdtype\u001b[0m\u001b[0;34m=\u001b[0m\u001b[0mdtype\u001b[0m\u001b[0;34m,\u001b[0m \u001b[0mcopy\u001b[0m\u001b[0;34m=\u001b[0m\u001b[0mcopy\u001b[0m\u001b[0;34m,\u001b[0m \u001b[0merrors\u001b[0m\u001b[0;34m=\u001b[0m\u001b[0merrors\u001b[0m\u001b[0;34m)\u001b[0m\u001b[0;34m\u001b[0m\u001b[0;34m\u001b[0m\u001b[0m\n\u001b[0m\u001b[1;32m   5878\u001b[0m             \u001b[0;32mreturn\u001b[0m \u001b[0mself\u001b[0m\u001b[0;34m.\u001b[0m\u001b[0m_constructor\u001b[0m\u001b[0;34m(\u001b[0m\u001b[0mnew_data\u001b[0m\u001b[0;34m)\u001b[0m\u001b[0;34m.\u001b[0m\u001b[0m__finalize__\u001b[0m\u001b[0;34m(\u001b[0m\u001b[0mself\u001b[0m\u001b[0;34m,\u001b[0m \u001b[0mmethod\u001b[0m\u001b[0;34m=\u001b[0m\u001b[0;34m\"astype\"\u001b[0m\u001b[0;34m)\u001b[0m\u001b[0;34m\u001b[0m\u001b[0;34m\u001b[0m\u001b[0m\n\u001b[1;32m   5879\u001b[0m \u001b[0;34m\u001b[0m\u001b[0m\n",
      "\u001b[0;32m~/anaconda3/lib/python3.8/site-packages/pandas/core/internals/managers.py\u001b[0m in \u001b[0;36mastype\u001b[0;34m(self, dtype, copy, errors)\u001b[0m\n\u001b[1;32m    629\u001b[0m         \u001b[0mself\u001b[0m\u001b[0;34m,\u001b[0m \u001b[0mdtype\u001b[0m\u001b[0;34m,\u001b[0m \u001b[0mcopy\u001b[0m\u001b[0;34m:\u001b[0m \u001b[0mbool\u001b[0m \u001b[0;34m=\u001b[0m \u001b[0;32mFalse\u001b[0m\u001b[0;34m,\u001b[0m \u001b[0merrors\u001b[0m\u001b[0;34m:\u001b[0m \u001b[0mstr\u001b[0m \u001b[0;34m=\u001b[0m \u001b[0;34m\"raise\"\u001b[0m\u001b[0;34m\u001b[0m\u001b[0;34m\u001b[0m\u001b[0m\n\u001b[1;32m    630\u001b[0m     ) -> \"BlockManager\":\n\u001b[0;32m--> 631\u001b[0;31m         \u001b[0;32mreturn\u001b[0m \u001b[0mself\u001b[0m\u001b[0;34m.\u001b[0m\u001b[0mapply\u001b[0m\u001b[0;34m(\u001b[0m\u001b[0;34m\"astype\"\u001b[0m\u001b[0;34m,\u001b[0m \u001b[0mdtype\u001b[0m\u001b[0;34m=\u001b[0m\u001b[0mdtype\u001b[0m\u001b[0;34m,\u001b[0m \u001b[0mcopy\u001b[0m\u001b[0;34m=\u001b[0m\u001b[0mcopy\u001b[0m\u001b[0;34m,\u001b[0m \u001b[0merrors\u001b[0m\u001b[0;34m=\u001b[0m\u001b[0merrors\u001b[0m\u001b[0;34m)\u001b[0m\u001b[0;34m\u001b[0m\u001b[0;34m\u001b[0m\u001b[0m\n\u001b[0m\u001b[1;32m    632\u001b[0m \u001b[0;34m\u001b[0m\u001b[0m\n\u001b[1;32m    633\u001b[0m     def convert(\n",
      "\u001b[0;32m~/anaconda3/lib/python3.8/site-packages/pandas/core/internals/managers.py\u001b[0m in \u001b[0;36mapply\u001b[0;34m(self, f, align_keys, ignore_failures, **kwargs)\u001b[0m\n\u001b[1;32m    425\u001b[0m                     \u001b[0mapplied\u001b[0m \u001b[0;34m=\u001b[0m \u001b[0mb\u001b[0m\u001b[0;34m.\u001b[0m\u001b[0mapply\u001b[0m\u001b[0;34m(\u001b[0m\u001b[0mf\u001b[0m\u001b[0;34m,\u001b[0m \u001b[0;34m**\u001b[0m\u001b[0mkwargs\u001b[0m\u001b[0;34m)\u001b[0m\u001b[0;34m\u001b[0m\u001b[0;34m\u001b[0m\u001b[0m\n\u001b[1;32m    426\u001b[0m                 \u001b[0;32melse\u001b[0m\u001b[0;34m:\u001b[0m\u001b[0;34m\u001b[0m\u001b[0;34m\u001b[0m\u001b[0m\n\u001b[0;32m--> 427\u001b[0;31m                     \u001b[0mapplied\u001b[0m \u001b[0;34m=\u001b[0m \u001b[0mgetattr\u001b[0m\u001b[0;34m(\u001b[0m\u001b[0mb\u001b[0m\u001b[0;34m,\u001b[0m \u001b[0mf\u001b[0m\u001b[0;34m)\u001b[0m\u001b[0;34m(\u001b[0m\u001b[0;34m**\u001b[0m\u001b[0mkwargs\u001b[0m\u001b[0;34m)\u001b[0m\u001b[0;34m\u001b[0m\u001b[0;34m\u001b[0m\u001b[0m\n\u001b[0m\u001b[1;32m    428\u001b[0m             \u001b[0;32mexcept\u001b[0m \u001b[0;34m(\u001b[0m\u001b[0mTypeError\u001b[0m\u001b[0;34m,\u001b[0m \u001b[0mNotImplementedError\u001b[0m\u001b[0;34m)\u001b[0m\u001b[0;34m:\u001b[0m\u001b[0;34m\u001b[0m\u001b[0;34m\u001b[0m\u001b[0m\n\u001b[1;32m    429\u001b[0m                 \u001b[0;32mif\u001b[0m \u001b[0;32mnot\u001b[0m \u001b[0mignore_failures\u001b[0m\u001b[0;34m:\u001b[0m\u001b[0;34m\u001b[0m\u001b[0;34m\u001b[0m\u001b[0m\n",
      "\u001b[0;32m~/anaconda3/lib/python3.8/site-packages/pandas/core/internals/blocks.py\u001b[0m in \u001b[0;36mastype\u001b[0;34m(self, dtype, copy, errors)\u001b[0m\n\u001b[1;32m    671\u001b[0m             \u001b[0mvals1d\u001b[0m \u001b[0;34m=\u001b[0m \u001b[0mvalues\u001b[0m\u001b[0;34m.\u001b[0m\u001b[0mravel\u001b[0m\u001b[0;34m(\u001b[0m\u001b[0;34m)\u001b[0m\u001b[0;34m\u001b[0m\u001b[0;34m\u001b[0m\u001b[0m\n\u001b[1;32m    672\u001b[0m             \u001b[0;32mtry\u001b[0m\u001b[0;34m:\u001b[0m\u001b[0;34m\u001b[0m\u001b[0;34m\u001b[0m\u001b[0m\n\u001b[0;32m--> 673\u001b[0;31m                 \u001b[0mvalues\u001b[0m \u001b[0;34m=\u001b[0m \u001b[0mastype_nansafe\u001b[0m\u001b[0;34m(\u001b[0m\u001b[0mvals1d\u001b[0m\u001b[0;34m,\u001b[0m \u001b[0mdtype\u001b[0m\u001b[0;34m,\u001b[0m \u001b[0mcopy\u001b[0m\u001b[0;34m=\u001b[0m\u001b[0;32mTrue\u001b[0m\u001b[0;34m)\u001b[0m\u001b[0;34m\u001b[0m\u001b[0;34m\u001b[0m\u001b[0m\n\u001b[0m\u001b[1;32m    674\u001b[0m             \u001b[0;32mexcept\u001b[0m \u001b[0;34m(\u001b[0m\u001b[0mValueError\u001b[0m\u001b[0;34m,\u001b[0m \u001b[0mTypeError\u001b[0m\u001b[0;34m)\u001b[0m\u001b[0;34m:\u001b[0m\u001b[0;34m\u001b[0m\u001b[0;34m\u001b[0m\u001b[0m\n\u001b[1;32m    675\u001b[0m                 \u001b[0;31m# e.g. astype_nansafe can fail on object-dtype of strings\u001b[0m\u001b[0;34m\u001b[0m\u001b[0;34m\u001b[0m\u001b[0;34m\u001b[0m\u001b[0m\n",
      "\u001b[0;32m~/anaconda3/lib/python3.8/site-packages/pandas/core/dtypes/cast.py\u001b[0m in \u001b[0;36mastype_nansafe\u001b[0;34m(arr, dtype, copy, skipna)\u001b[0m\n\u001b[1;32m   1095\u001b[0m     \u001b[0;32mif\u001b[0m \u001b[0mcopy\u001b[0m \u001b[0;32mor\u001b[0m \u001b[0mis_object_dtype\u001b[0m\u001b[0;34m(\u001b[0m\u001b[0marr\u001b[0m\u001b[0;34m)\u001b[0m \u001b[0;32mor\u001b[0m \u001b[0mis_object_dtype\u001b[0m\u001b[0;34m(\u001b[0m\u001b[0mdtype\u001b[0m\u001b[0;34m)\u001b[0m\u001b[0;34m:\u001b[0m\u001b[0;34m\u001b[0m\u001b[0;34m\u001b[0m\u001b[0m\n\u001b[1;32m   1096\u001b[0m         \u001b[0;31m# Explicit copy, or required since NumPy can't view from / to object.\u001b[0m\u001b[0;34m\u001b[0m\u001b[0;34m\u001b[0m\u001b[0;34m\u001b[0m\u001b[0m\n\u001b[0;32m-> 1097\u001b[0;31m         \u001b[0;32mreturn\u001b[0m \u001b[0marr\u001b[0m\u001b[0;34m.\u001b[0m\u001b[0mastype\u001b[0m\u001b[0;34m(\u001b[0m\u001b[0mdtype\u001b[0m\u001b[0;34m,\u001b[0m \u001b[0mcopy\u001b[0m\u001b[0;34m=\u001b[0m\u001b[0;32mTrue\u001b[0m\u001b[0;34m)\u001b[0m\u001b[0;34m\u001b[0m\u001b[0;34m\u001b[0m\u001b[0m\n\u001b[0m\u001b[1;32m   1098\u001b[0m \u001b[0;34m\u001b[0m\u001b[0m\n\u001b[1;32m   1099\u001b[0m     \u001b[0;32mreturn\u001b[0m \u001b[0marr\u001b[0m\u001b[0;34m.\u001b[0m\u001b[0mview\u001b[0m\u001b[0;34m(\u001b[0m\u001b[0mdtype\u001b[0m\u001b[0;34m)\u001b[0m\u001b[0;34m\u001b[0m\u001b[0;34m\u001b[0m\u001b[0m\n",
      "\u001b[0;31mValueError\u001b[0m: could not convert string to float: 'Less than 1 year'"
     ]
    }
   ],
   "source": [
    "df.YearsCode.astype(float).mean()"
   ]
  },
  {
   "cell_type": "code",
   "execution_count": 93,
   "metadata": {},
   "outputs": [
    {
     "data": {
      "text/plain": "array(['4', nan, '3', '16', '13', '6', '8', '12', '2', '5', '17', '10',\n       '14', '35', '7', 'Less than 1 year', '30', '9', '26', '40', '19',\n       '15', '20', '28', '25', '1', '22', '11', '33', '50', '41', '18',\n       '34', '24', '23', '42', '27', '21', '36', '32', '39', '38', '31',\n       '37', 'More than 50 years', '29', '44', '45', '48', '46', '43',\n       '47', '49'], dtype=object)"
     },
     "execution_count": 93,
     "metadata": {},
     "output_type": "execute_result"
    }
   ],
   "source": [
    "df.YearsCode.unique()"
   ]
  },
  {
   "cell_type": "code",
   "execution_count": 94,
   "metadata": {},
   "outputs": [
    {
     "data": {
      "text/plain": "52"
     },
     "execution_count": 94,
     "metadata": {},
     "output_type": "execute_result"
    }
   ],
   "source": [
    "df.YearsCode.nunique()"
   ]
  },
  {
   "cell_type": "code",
   "execution_count": 102,
   "metadata": {},
   "outputs": [
    {
     "data": {
      "text/plain": "YearsCode    object\ndtype: object"
     },
     "execution_count": 102,
     "metadata": {},
     "output_type": "execute_result"
    }
   ],
   "source": [
    "df[['YearsCode']].dtypes"
   ]
  },
  {
   "cell_type": "code",
   "execution_count": 106,
   "metadata": {},
   "outputs": [
    {
     "data": {
      "text/html": "<div>\n<style scoped>\n    .dataframe tbody tr th:only-of-type {\n        vertical-align: middle;\n    }\n\n    .dataframe tbody tr th {\n        vertical-align: top;\n    }\n\n    .dataframe thead th {\n        text-align: right;\n    }\n</style>\n<table border=\"1\" class=\"dataframe\">\n  <thead>\n    <tr style=\"text-align: right;\">\n      <th></th>\n      <th>Respondent</th>\n      <th>MainBranch</th>\n      <th>Hobbyist</th>\n      <th>OpenSourcer</th>\n      <th>OpenSource</th>\n      <th>Employment</th>\n      <th>Country</th>\n      <th>Student</th>\n      <th>EdLevel</th>\n      <th>UndergradMajor</th>\n      <th>...</th>\n      <th>WelcomeChange</th>\n      <th>SONewContent</th>\n      <th>Age</th>\n      <th>Gender</th>\n      <th>Trans</th>\n      <th>Sexuality</th>\n      <th>Ethnicity</th>\n      <th>Dependents</th>\n      <th>SurveyLength</th>\n      <th>SurveyEase</th>\n    </tr>\n  </thead>\n  <tbody>\n    <tr>\n      <th>0</th>\n      <td>1</td>\n      <td>I am a student who is learning to code</td>\n      <td>Yes</td>\n      <td>Never</td>\n      <td>The quality of OSS and closed source software ...</td>\n      <td>Not employed, and not looking for work</td>\n      <td>United Kingdom</td>\n      <td>No</td>\n      <td>Primary/elementary school</td>\n      <td>NaN</td>\n      <td>...</td>\n      <td>Just as welcome now as I felt last year</td>\n      <td>Tech articles written by other developers;Indu...</td>\n      <td>14.0</td>\n      <td>Man</td>\n      <td>No</td>\n      <td>Straight / Heterosexual</td>\n      <td>NaN</td>\n      <td>No</td>\n      <td>Appropriate in length</td>\n      <td>Neither easy nor difficult</td>\n    </tr>\n    <tr>\n      <th>2</th>\n      <td>3</td>\n      <td>I am not primarily a developer, but I write co...</td>\n      <td>Yes</td>\n      <td>Never</td>\n      <td>The quality of OSS and closed source software ...</td>\n      <td>Employed full-time</td>\n      <td>Thailand</td>\n      <td>No</td>\n      <td>Bachelor’s degree (BA, BS, B.Eng., etc.)</td>\n      <td>Web development or web design</td>\n      <td>...</td>\n      <td>Just as welcome now as I felt last year</td>\n      <td>Tech meetups or events in your area;Courses on...</td>\n      <td>28.0</td>\n      <td>Man</td>\n      <td>No</td>\n      <td>Straight / Heterosexual</td>\n      <td>NaN</td>\n      <td>Yes</td>\n      <td>Appropriate in length</td>\n      <td>Neither easy nor difficult</td>\n    </tr>\n    <tr>\n      <th>3</th>\n      <td>4</td>\n      <td>I am a developer by profession</td>\n      <td>No</td>\n      <td>Never</td>\n      <td>The quality of OSS and closed source software ...</td>\n      <td>Employed full-time</td>\n      <td>United States</td>\n      <td>No</td>\n      <td>Bachelor’s degree (BA, BS, B.Eng., etc.)</td>\n      <td>Computer science, computer engineering, or sof...</td>\n      <td>...</td>\n      <td>Just as welcome now as I felt last year</td>\n      <td>Tech articles written by other developers;Indu...</td>\n      <td>22.0</td>\n      <td>Man</td>\n      <td>No</td>\n      <td>Straight / Heterosexual</td>\n      <td>White or of European descent</td>\n      <td>No</td>\n      <td>Appropriate in length</td>\n      <td>Easy</td>\n    </tr>\n    <tr>\n      <th>4</th>\n      <td>5</td>\n      <td>I am a developer by profession</td>\n      <td>Yes</td>\n      <td>Once a month or more often</td>\n      <td>OSS is, on average, of HIGHER quality than pro...</td>\n      <td>Employed full-time</td>\n      <td>Ukraine</td>\n      <td>No</td>\n      <td>Bachelor’s degree (BA, BS, B.Eng., etc.)</td>\n      <td>Computer science, computer engineering, or sof...</td>\n      <td>...</td>\n      <td>Just as welcome now as I felt last year</td>\n      <td>Tech meetups or events in your area;Courses on...</td>\n      <td>30.0</td>\n      <td>Man</td>\n      <td>No</td>\n      <td>Straight / Heterosexual</td>\n      <td>White or of European descent;Multiracial</td>\n      <td>No</td>\n      <td>Appropriate in length</td>\n      <td>Easy</td>\n    </tr>\n    <tr>\n      <th>5</th>\n      <td>6</td>\n      <td>I am not primarily a developer, but I write co...</td>\n      <td>Yes</td>\n      <td>Never</td>\n      <td>The quality of OSS and closed source software ...</td>\n      <td>Employed full-time</td>\n      <td>Canada</td>\n      <td>No</td>\n      <td>Bachelor’s degree (BA, BS, B.Eng., etc.)</td>\n      <td>Mathematics or statistics</td>\n      <td>...</td>\n      <td>Just as welcome now as I felt last year</td>\n      <td>Tech articles written by other developers;Indu...</td>\n      <td>28.0</td>\n      <td>Man</td>\n      <td>No</td>\n      <td>Straight / Heterosexual</td>\n      <td>East Asian</td>\n      <td>No</td>\n      <td>Too long</td>\n      <td>Neither easy nor difficult</td>\n    </tr>\n    <tr>\n      <th>...</th>\n      <td>...</td>\n      <td>...</td>\n      <td>...</td>\n      <td>...</td>\n      <td>...</td>\n      <td>...</td>\n      <td>...</td>\n      <td>...</td>\n      <td>...</td>\n      <td>...</td>\n      <td>...</td>\n      <td>...</td>\n      <td>...</td>\n      <td>...</td>\n      <td>...</td>\n      <td>...</td>\n      <td>...</td>\n      <td>...</td>\n      <td>...</td>\n      <td>...</td>\n      <td>...</td>\n    </tr>\n    <tr>\n      <th>88872</th>\n      <td>87739</td>\n      <td>NaN</td>\n      <td>Yes</td>\n      <td>Less than once per year</td>\n      <td>OSS is, on average, of HIGHER quality than pro...</td>\n      <td>Employed part-time</td>\n      <td>Czech Republic</td>\n      <td>Yes, full-time</td>\n      <td>Master’s degree (MA, MS, M.Eng., MBA, etc.)</td>\n      <td>Computer science, computer engineering, or sof...</td>\n      <td>...</td>\n      <td>Just as welcome now as I felt last year</td>\n      <td>NaN</td>\n      <td>25.0</td>\n      <td>NaN</td>\n      <td>No</td>\n      <td>Straight / Heterosexual</td>\n      <td>White or of European descent</td>\n      <td>No</td>\n      <td>Appropriate in length</td>\n      <td>Easy</td>\n    </tr>\n    <tr>\n      <th>88875</th>\n      <td>88182</td>\n      <td>NaN</td>\n      <td>Yes</td>\n      <td>Once a month or more often</td>\n      <td>OSS is, on average, of HIGHER quality than pro...</td>\n      <td>Employed part-time</td>\n      <td>Pakistan</td>\n      <td>NaN</td>\n      <td>Secondary school (e.g. American high school, G...</td>\n      <td>NaN</td>\n      <td>...</td>\n      <td>Not applicable - I did not use Stack Overflow ...</td>\n      <td>Courses on technologies you're interested in</td>\n      <td>NaN</td>\n      <td>Man</td>\n      <td>No</td>\n      <td>Straight / Heterosexual</td>\n      <td>NaN</td>\n      <td>Yes</td>\n      <td>Too short</td>\n      <td>Neither easy nor difficult</td>\n    </tr>\n    <tr>\n      <th>88876</th>\n      <td>88212</td>\n      <td>NaN</td>\n      <td>No</td>\n      <td>Less than once per year</td>\n      <td>OSS is, on average, of HIGHER quality than pro...</td>\n      <td>Employed full-time</td>\n      <td>Spain</td>\n      <td>No</td>\n      <td>Secondary school (e.g. American high school, G...</td>\n      <td>NaN</td>\n      <td>...</td>\n      <td>NaN</td>\n      <td>Tech articles written by other developers;Indu...</td>\n      <td>40.0</td>\n      <td>Man</td>\n      <td>No</td>\n      <td>Straight / Heterosexual</td>\n      <td>White or of European descent</td>\n      <td>No</td>\n      <td>Appropriate in length</td>\n      <td>Easy</td>\n    </tr>\n    <tr>\n      <th>88877</th>\n      <td>88282</td>\n      <td>NaN</td>\n      <td>Yes</td>\n      <td>Once a month or more often</td>\n      <td>The quality of OSS and closed source software ...</td>\n      <td>Not employed, but looking for work</td>\n      <td>United States</td>\n      <td>No</td>\n      <td>Some college/university study without earning ...</td>\n      <td>Computer science, computer engineering, or sof...</td>\n      <td>...</td>\n      <td>Just as welcome now as I felt last year</td>\n      <td>NaN</td>\n      <td>NaN</td>\n      <td>Man</td>\n      <td>No</td>\n      <td>Straight / Heterosexual</td>\n      <td>NaN</td>\n      <td>No</td>\n      <td>Too short</td>\n      <td>Neither easy nor difficult</td>\n    </tr>\n    <tr>\n      <th>88882</th>\n      <td>88863</td>\n      <td>NaN</td>\n      <td>Yes</td>\n      <td>Less than once per year</td>\n      <td>OSS is, on average, of HIGHER quality than pro...</td>\n      <td>Not employed, and not looking for work</td>\n      <td>Spain</td>\n      <td>Yes, full-time</td>\n      <td>Professional degree (JD, MD, etc.)</td>\n      <td>Computer science, computer engineering, or sof...</td>\n      <td>...</td>\n      <td>Somewhat less welcome now than last year</td>\n      <td>Tech articles written by other developers;Indu...</td>\n      <td>18.0</td>\n      <td>Man</td>\n      <td>No</td>\n      <td>Straight / Heterosexual</td>\n      <td>Hispanic or Latino/Latina;White or of European...</td>\n      <td>No</td>\n      <td>Appropriate in length</td>\n      <td>Easy</td>\n    </tr>\n  </tbody>\n</table>\n<p>86445 rows × 85 columns</p>\n</div>",
      "text/plain": "       Respondent                                         MainBranch Hobbyist  \\\n0               1             I am a student who is learning to code      Yes   \n2               3  I am not primarily a developer, but I write co...      Yes   \n3               4                     I am a developer by profession       No   \n4               5                     I am a developer by profession      Yes   \n5               6  I am not primarily a developer, but I write co...      Yes   \n...           ...                                                ...      ...   \n88872       87739                                                NaN      Yes   \n88875       88182                                                NaN      Yes   \n88876       88212                                                NaN       No   \n88877       88282                                                NaN      Yes   \n88882       88863                                                NaN      Yes   \n\n                      OpenSourcer  \\\n0                           Never   \n2                           Never   \n3                           Never   \n4      Once a month or more often   \n5                           Never   \n...                           ...   \n88872     Less than once per year   \n88875  Once a month or more often   \n88876     Less than once per year   \n88877  Once a month or more often   \n88882     Less than once per year   \n\n                                              OpenSource  \\\n0      The quality of OSS and closed source software ...   \n2      The quality of OSS and closed source software ...   \n3      The quality of OSS and closed source software ...   \n4      OSS is, on average, of HIGHER quality than pro...   \n5      The quality of OSS and closed source software ...   \n...                                                  ...   \n88872  OSS is, on average, of HIGHER quality than pro...   \n88875  OSS is, on average, of HIGHER quality than pro...   \n88876  OSS is, on average, of HIGHER quality than pro...   \n88877  The quality of OSS and closed source software ...   \n88882  OSS is, on average, of HIGHER quality than pro...   \n\n                                   Employment         Country         Student  \\\n0      Not employed, and not looking for work  United Kingdom              No   \n2                          Employed full-time        Thailand              No   \n3                          Employed full-time   United States              No   \n4                          Employed full-time         Ukraine              No   \n5                          Employed full-time          Canada              No   \n...                                       ...             ...             ...   \n88872                      Employed part-time  Czech Republic  Yes, full-time   \n88875                      Employed part-time        Pakistan             NaN   \n88876                      Employed full-time           Spain              No   \n88877      Not employed, but looking for work   United States              No   \n88882  Not employed, and not looking for work           Spain  Yes, full-time   \n\n                                                 EdLevel  \\\n0                              Primary/elementary school   \n2               Bachelor’s degree (BA, BS, B.Eng., etc.)   \n3               Bachelor’s degree (BA, BS, B.Eng., etc.)   \n4               Bachelor’s degree (BA, BS, B.Eng., etc.)   \n5               Bachelor’s degree (BA, BS, B.Eng., etc.)   \n...                                                  ...   \n88872        Master’s degree (MA, MS, M.Eng., MBA, etc.)   \n88875  Secondary school (e.g. American high school, G...   \n88876  Secondary school (e.g. American high school, G...   \n88877  Some college/university study without earning ...   \n88882                 Professional degree (JD, MD, etc.)   \n\n                                          UndergradMajor  ...  \\\n0                                                    NaN  ...   \n2                          Web development or web design  ...   \n3      Computer science, computer engineering, or sof...  ...   \n4      Computer science, computer engineering, or sof...  ...   \n5                              Mathematics or statistics  ...   \n...                                                  ...  ...   \n88872  Computer science, computer engineering, or sof...  ...   \n88875                                                NaN  ...   \n88876                                                NaN  ...   \n88877  Computer science, computer engineering, or sof...  ...   \n88882  Computer science, computer engineering, or sof...  ...   \n\n                                           WelcomeChange  \\\n0                Just as welcome now as I felt last year   \n2                Just as welcome now as I felt last year   \n3                Just as welcome now as I felt last year   \n4                Just as welcome now as I felt last year   \n5                Just as welcome now as I felt last year   \n...                                                  ...   \n88872            Just as welcome now as I felt last year   \n88875  Not applicable - I did not use Stack Overflow ...   \n88876                                                NaN   \n88877            Just as welcome now as I felt last year   \n88882           Somewhat less welcome now than last year   \n\n                                            SONewContent   Age Gender Trans  \\\n0      Tech articles written by other developers;Indu...  14.0    Man    No   \n2      Tech meetups or events in your area;Courses on...  28.0    Man    No   \n3      Tech articles written by other developers;Indu...  22.0    Man    No   \n4      Tech meetups or events in your area;Courses on...  30.0    Man    No   \n5      Tech articles written by other developers;Indu...  28.0    Man    No   \n...                                                  ...   ...    ...   ...   \n88872                                                NaN  25.0    NaN    No   \n88875       Courses on technologies you're interested in   NaN    Man    No   \n88876  Tech articles written by other developers;Indu...  40.0    Man    No   \n88877                                                NaN   NaN    Man    No   \n88882  Tech articles written by other developers;Indu...  18.0    Man    No   \n\n                     Sexuality  \\\n0      Straight / Heterosexual   \n2      Straight / Heterosexual   \n3      Straight / Heterosexual   \n4      Straight / Heterosexual   \n5      Straight / Heterosexual   \n...                        ...   \n88872  Straight / Heterosexual   \n88875  Straight / Heterosexual   \n88876  Straight / Heterosexual   \n88877  Straight / Heterosexual   \n88882  Straight / Heterosexual   \n\n                                               Ethnicity Dependents  \\\n0                                                    NaN         No   \n2                                                    NaN        Yes   \n3                           White or of European descent         No   \n4               White or of European descent;Multiracial         No   \n5                                             East Asian         No   \n...                                                  ...        ...   \n88872                       White or of European descent         No   \n88875                                                NaN        Yes   \n88876                       White or of European descent         No   \n88877                                                NaN         No   \n88882  Hispanic or Latino/Latina;White or of European...         No   \n\n                SurveyLength                  SurveyEase  \n0      Appropriate in length  Neither easy nor difficult  \n2      Appropriate in length  Neither easy nor difficult  \n3      Appropriate in length                        Easy  \n4      Appropriate in length                        Easy  \n5                   Too long  Neither easy nor difficult  \n...                      ...                         ...  \n88872  Appropriate in length                        Easy  \n88875              Too short  Neither easy nor difficult  \n88876  Appropriate in length                        Easy  \n88877              Too short  Neither easy nor difficult  \n88882  Appropriate in length                        Easy  \n\n[86445 rows x 85 columns]"
     },
     "execution_count": 106,
     "metadata": {},
     "output_type": "execute_result"
    }
   ],
   "source": [
    "df[df.YearsCode.isin([str(x) for x in range(0,100)])]"
   ]
  },
  {
   "cell_type": "code",
   "execution_count": 107,
   "metadata": {},
   "outputs": [
    {
     "data": {
      "text/plain": "(88883, 85)"
     },
     "execution_count": 107,
     "metadata": {},
     "output_type": "execute_result"
    }
   ],
   "source": [
    "df.shape"
   ]
  },
  {
   "cell_type": "code",
   "execution_count": 108,
   "metadata": {},
   "outputs": [
    {
     "data": {
      "text/plain": "5                     7047\n10                    6777\n6                     6179\n4                     5729\n8                     5361\n7                     5320\n3                     5179\n2                     3974\n15                    3942\n20                    3636\n12                    3530\n9                     3360\n11                    2265\n14                    2126\n13                    2036\n18                    1900\n1                     1814\n25                    1657\n16                    1593\n30                    1532\nLess than 1 year      1367\n17                    1349\n19                    1018\n22                    1016\n35                     873\n23                     745\n21                     715\n24                     693\n40                     497\n28                     465\n32                     420\n26                     409\n27                     408\n33                     353\n38                     340\n34                     327\n37                     321\n36                     308\n29                     234\n31                     202\n39                     170\nMore than 50 years     126\n42                     115\n45                     113\n41                      92\n43                      83\n44                      52\n50                      51\n47                      36\n48                      31\n46                      27\n49                      25\nName: YearsCode, dtype: int64"
     },
     "execution_count": 108,
     "metadata": {},
     "output_type": "execute_result"
    }
   ],
   "source": [
    "df.YearsCode.value_counts()"
   ]
  },
  {
   "cell_type": "code",
   "execution_count": 109,
   "metadata": {},
   "outputs": [
    {
     "data": {
      "text/plain": "945"
     },
     "execution_count": 109,
     "metadata": {},
     "output_type": "execute_result"
    }
   ],
   "source": [
    "df.YearsCode.isnull().sum()"
   ]
  },
  {
   "cell_type": "code",
   "execution_count": 111,
   "metadata": {},
   "outputs": [
    {
     "data": {
      "text/plain": "11.789195442188674"
     },
     "execution_count": 111,
     "metadata": {},
     "output_type": "execute_result"
    }
   ],
   "source": [
    "df[df.YearsCode.isin([str(x) for x in range(0,100)])]['YearsCode'].astype(float).mean()"
   ]
  },
  {
   "cell_type": "code",
   "execution_count": 117,
   "metadata": {},
   "outputs": [
    {
     "data": {
      "text/plain": "11.662114216834588"
     },
     "execution_count": 117,
     "metadata": {},
     "output_type": "execute_result"
    }
   ],
   "source": [
    "df.YearsCode.replace({'Less than 1 year' : 0, 'More than 50 years' : 51}).astype(float).mean()"
   ]
  },
  {
   "cell_type": "code",
   "execution_count": 118,
   "metadata": {},
   "outputs": [
    {
     "data": {
      "text/plain": "9.0"
     },
     "execution_count": 118,
     "metadata": {},
     "output_type": "execute_result"
    }
   ],
   "source": [
    "df.YearsCode.replace({'Less than 1 year' : 0, 'More than 50 years' : 51}).astype(float).median()"
   ]
  },
  {
   "cell_type": "code",
   "execution_count": null,
   "metadata": {},
   "outputs": [],
   "source": []
  }
 ],
 "metadata": {
  "kernelspec": {
   "display_name": "Python 3.8.8 64-bit ('anaconda3': virtualenv)",
   "name": "python388jvsc74a57bd0ef25b5bd2495e792f4151b6c1a8e3930e92655275e53ec36ac79d5f55427d1db"
  },
  "language_info": {
   "codemirror_mode": {
    "name": "ipython",
    "version": 3
   },
   "file_extension": ".py",
   "mimetype": "text/x-python",
   "name": "python",
   "nbconvert_exporter": "python",
   "pygments_lexer": "ipython3",
   "version": "3.8.8"
  },
  "metadata": {
   "interpreter": {
    "hash": "ef25b5bd2495e792f4151b6c1a8e3930e92655275e53ec36ac79d5f55427d1db"
   }
  },
  "orig_nbformat": 2
 },
 "nbformat": 4,
 "nbformat_minor": 2
}