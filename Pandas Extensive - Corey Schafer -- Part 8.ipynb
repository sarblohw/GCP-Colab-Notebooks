{
 "cells": [
  {
   "cell_type": "markdown",
   "metadata": {},
   "source": [
    "### Working with date/time, timeseries with pandas"
   ]
  },
  {
   "cell_type": "code",
   "execution_count": 1,
   "metadata": {},
   "outputs": [],
   "source": [
    "import pandas as pd"
   ]
  },
  {
   "cell_type": "code",
   "execution_count": 2,
   "metadata": {},
   "outputs": [],
   "source": [
    "pd.options.display.max_columns = 100\n",
    "pd.set_option('display.max_rows', 85)\n",
    "\n",
    "df = pd.read_csv('survey_results_public.csv', index_col='Respondent')\n",
    "df_schema = pd.read_csv('survey_results_schema.csv', index_col='Column')"
   ]
  },
  {
   "cell_type": "code",
   "execution_count": 3,
   "metadata": {},
   "outputs": [
    {
     "data": {
      "text/plain": "57287.0"
     },
     "execution_count": 3,
     "metadata": {},
     "output_type": "execute_result"
    }
   ],
   "source": [
    "df.ConvertedComp.median()"
   ]
  },
  {
   "cell_type": "code",
   "execution_count": 4,
   "metadata": {},
   "outputs": [
    {
     "data": {
      "text/plain": "CompTotal        62000.0\nConvertedComp    57287.0\nWorkWeekHrs         40.0\nCodeRevHrs           4.0\nAge                 29.0\ndtype: float64"
     },
     "execution_count": 4,
     "metadata": {},
     "output_type": "execute_result"
    }
   ],
   "source": [
    "df.median()"
   ]
  },
  {
   "cell_type": "code",
   "execution_count": 5,
   "metadata": {},
   "outputs": [
    {
     "data": {
      "text/html": "<div>\n<style scoped>\n    .dataframe tbody tr th:only-of-type {\n        vertical-align: middle;\n    }\n\n    .dataframe tbody tr th {\n        vertical-align: top;\n    }\n\n    .dataframe thead th {\n        text-align: right;\n    }\n</style>\n<table border=\"1\" class=\"dataframe\">\n  <thead>\n    <tr style=\"text-align: right;\">\n      <th></th>\n      <th>CompTotal</th>\n      <th>ConvertedComp</th>\n      <th>WorkWeekHrs</th>\n      <th>CodeRevHrs</th>\n      <th>Age</th>\n    </tr>\n  </thead>\n  <tbody>\n    <tr>\n      <th>count</th>\n      <td>5.594500e+04</td>\n      <td>5.582300e+04</td>\n      <td>64503.000000</td>\n      <td>49790.000000</td>\n      <td>79210.000000</td>\n    </tr>\n    <tr>\n      <th>mean</th>\n      <td>5.519014e+11</td>\n      <td>1.271107e+05</td>\n      <td>42.127197</td>\n      <td>5.084308</td>\n      <td>30.336699</td>\n    </tr>\n    <tr>\n      <th>std</th>\n      <td>7.331926e+13</td>\n      <td>2.841523e+05</td>\n      <td>37.287610</td>\n      <td>5.513931</td>\n      <td>9.178390</td>\n    </tr>\n    <tr>\n      <th>min</th>\n      <td>0.000000e+00</td>\n      <td>0.000000e+00</td>\n      <td>1.000000</td>\n      <td>0.000000</td>\n      <td>1.000000</td>\n    </tr>\n    <tr>\n      <th>25%</th>\n      <td>2.000000e+04</td>\n      <td>2.577750e+04</td>\n      <td>40.000000</td>\n      <td>2.000000</td>\n      <td>24.000000</td>\n    </tr>\n    <tr>\n      <th>50%</th>\n      <td>6.200000e+04</td>\n      <td>5.728700e+04</td>\n      <td>40.000000</td>\n      <td>4.000000</td>\n      <td>29.000000</td>\n    </tr>\n    <tr>\n      <th>75%</th>\n      <td>1.200000e+05</td>\n      <td>1.000000e+05</td>\n      <td>44.750000</td>\n      <td>6.000000</td>\n      <td>35.000000</td>\n    </tr>\n    <tr>\n      <th>max</th>\n      <td>1.000000e+16</td>\n      <td>2.000000e+06</td>\n      <td>4850.000000</td>\n      <td>99.000000</td>\n      <td>99.000000</td>\n    </tr>\n  </tbody>\n</table>\n</div>",
      "text/plain": "          CompTotal  ConvertedComp   WorkWeekHrs    CodeRevHrs           Age\ncount  5.594500e+04   5.582300e+04  64503.000000  49790.000000  79210.000000\nmean   5.519014e+11   1.271107e+05     42.127197      5.084308     30.336699\nstd    7.331926e+13   2.841523e+05     37.287610      5.513931      9.178390\nmin    0.000000e+00   0.000000e+00      1.000000      0.000000      1.000000\n25%    2.000000e+04   2.577750e+04     40.000000      2.000000     24.000000\n50%    6.200000e+04   5.728700e+04     40.000000      4.000000     29.000000\n75%    1.200000e+05   1.000000e+05     44.750000      6.000000     35.000000\nmax    1.000000e+16   2.000000e+06   4850.000000     99.000000     99.000000"
     },
     "execution_count": 5,
     "metadata": {},
     "output_type": "execute_result"
    }
   ],
   "source": [
    "df.describe()"
   ]
  },
  {
   "cell_type": "code",
   "execution_count": 6,
   "metadata": {},
   "outputs": [
    {
     "data": {
      "text/html": "<div>\n<style scoped>\n    .dataframe tbody tr th:only-of-type {\n        vertical-align: middle;\n    }\n\n    .dataframe tbody tr th {\n        vertical-align: top;\n    }\n\n    .dataframe thead th {\n        text-align: right;\n    }\n</style>\n<table border=\"1\" class=\"dataframe\">\n  <thead>\n    <tr style=\"text-align: right;\">\n      <th></th>\n      <th>MainBranch</th>\n      <th>Hobbyist</th>\n      <th>OpenSourcer</th>\n      <th>OpenSource</th>\n      <th>Employment</th>\n      <th>Country</th>\n      <th>Student</th>\n      <th>EdLevel</th>\n      <th>UndergradMajor</th>\n      <th>EduOther</th>\n      <th>OrgSize</th>\n      <th>DevType</th>\n      <th>YearsCode</th>\n      <th>Age1stCode</th>\n      <th>YearsCodePro</th>\n      <th>CareerSat</th>\n      <th>JobSat</th>\n      <th>MgrIdiot</th>\n      <th>MgrMoney</th>\n      <th>MgrWant</th>\n      <th>JobSeek</th>\n      <th>LastHireDate</th>\n      <th>LastInt</th>\n      <th>FizzBuzz</th>\n      <th>JobFactors</th>\n      <th>ResumeUpdate</th>\n      <th>CurrencySymbol</th>\n      <th>CurrencyDesc</th>\n      <th>CompFreq</th>\n      <th>WorkPlan</th>\n      <th>WorkChallenge</th>\n      <th>WorkRemote</th>\n      <th>WorkLoc</th>\n      <th>ImpSyn</th>\n      <th>CodeRev</th>\n      <th>UnitTests</th>\n      <th>PurchaseHow</th>\n      <th>PurchaseWhat</th>\n      <th>LanguageWorkedWith</th>\n      <th>LanguageDesireNextYear</th>\n      <th>DatabaseWorkedWith</th>\n      <th>DatabaseDesireNextYear</th>\n      <th>PlatformWorkedWith</th>\n      <th>PlatformDesireNextYear</th>\n      <th>WebFrameWorkedWith</th>\n      <th>WebFrameDesireNextYear</th>\n      <th>MiscTechWorkedWith</th>\n      <th>MiscTechDesireNextYear</th>\n      <th>DevEnviron</th>\n      <th>OpSys</th>\n      <th>Containers</th>\n      <th>BlockchainOrg</th>\n      <th>BlockchainIs</th>\n      <th>BetterLife</th>\n      <th>ITperson</th>\n      <th>OffOn</th>\n      <th>SocialMedia</th>\n      <th>Extraversion</th>\n      <th>ScreenName</th>\n      <th>SOVisit1st</th>\n      <th>SOVisitFreq</th>\n      <th>SOVisitTo</th>\n      <th>SOFindAnswer</th>\n      <th>SOTimeSaved</th>\n      <th>SOHowMuchTime</th>\n      <th>SOAccount</th>\n      <th>SOPartFreq</th>\n      <th>SOJobs</th>\n      <th>EntTeams</th>\n      <th>SOComm</th>\n      <th>WelcomeChange</th>\n      <th>SONewContent</th>\n      <th>Gender</th>\n      <th>Trans</th>\n      <th>Sexuality</th>\n      <th>Ethnicity</th>\n      <th>Dependents</th>\n      <th>SurveyLength</th>\n      <th>SurveyEase</th>\n    </tr>\n  </thead>\n  <tbody>\n    <tr>\n      <th>count</th>\n      <td>88331</td>\n      <td>88883</td>\n      <td>88883</td>\n      <td>86842</td>\n      <td>87181</td>\n      <td>88751</td>\n      <td>87014</td>\n      <td>86390</td>\n      <td>75614</td>\n      <td>84260</td>\n      <td>71791</td>\n      <td>81335</td>\n      <td>87938</td>\n      <td>87634</td>\n      <td>74331</td>\n      <td>72847</td>\n      <td>70988</td>\n      <td>61159</td>\n      <td>61157</td>\n      <td>61232</td>\n      <td>80555</td>\n      <td>79854</td>\n      <td>67155</td>\n      <td>71344</td>\n      <td>79371</td>\n      <td>77877</td>\n      <td>71392</td>\n      <td>71392</td>\n      <td>63268</td>\n      <td>68914</td>\n      <td>68141</td>\n      <td>70284</td>\n      <td>70055</td>\n      <td>71779</td>\n      <td>70390</td>\n      <td>62668</td>\n      <td>61108</td>\n      <td>62029</td>\n      <td>87569</td>\n      <td>84088</td>\n      <td>76026</td>\n      <td>69147</td>\n      <td>80714</td>\n      <td>77443</td>\n      <td>65022</td>\n      <td>62944</td>\n      <td>59586</td>\n      <td>64511</td>\n      <td>87317</td>\n      <td>87851</td>\n      <td>85366</td>\n      <td>48175</td>\n      <td>60165</td>\n      <td>86269</td>\n      <td>87141</td>\n      <td>86663</td>\n      <td>84437</td>\n      <td>87305</td>\n      <td>80486</td>\n      <td>83877</td>\n      <td>88263</td>\n      <td>88086</td>\n      <td>87816</td>\n      <td>86344</td>\n      <td>68378</td>\n      <td>87828</td>\n      <td>74692</td>\n      <td>88066</td>\n      <td>87841</td>\n      <td>88131</td>\n      <td>85855</td>\n      <td>69560</td>\n      <td>85406</td>\n      <td>83607</td>\n      <td>76147</td>\n      <td>76668</td>\n      <td>83059</td>\n      <td>86984</td>\n      <td>87081</td>\n    </tr>\n    <tr>\n      <th>unique</th>\n      <td>5</td>\n      <td>2</td>\n      <td>4</td>\n      <td>3</td>\n      <td>6</td>\n      <td>179</td>\n      <td>3</td>\n      <td>9</td>\n      <td>12</td>\n      <td>492</td>\n      <td>9</td>\n      <td>13141</td>\n      <td>52</td>\n      <td>69</td>\n      <td>52</td>\n      <td>5</td>\n      <td>5</td>\n      <td>4</td>\n      <td>3</td>\n      <td>4</td>\n      <td>3</td>\n      <td>6</td>\n      <td>63</td>\n      <td>2</td>\n      <td>175</td>\n      <td>6</td>\n      <td>143</td>\n      <td>144</td>\n      <td>3</td>\n      <td>3</td>\n      <td>129</td>\n      <td>7</td>\n      <td>3</td>\n      <td>5</td>\n      <td>3</td>\n      <td>4</td>\n      <td>4</td>\n      <td>3</td>\n      <td>20098</td>\n      <td>27259</td>\n      <td>3478</td>\n      <td>3923</td>\n      <td>8731</td>\n      <td>10795</td>\n      <td>2142</td>\n      <td>2312</td>\n      <td>2783</td>\n      <td>5565</td>\n      <td>7716</td>\n      <td>4</td>\n      <td>21</td>\n      <td>5</td>\n      <td>5</td>\n      <td>2</td>\n      <td>4</td>\n      <td>3</td>\n      <td>14</td>\n      <td>3</td>\n      <td>5</td>\n      <td>13</td>\n      <td>6</td>\n      <td>63</td>\n      <td>5</td>\n      <td>5</td>\n      <td>4</td>\n      <td>3</td>\n      <td>6</td>\n      <td>3</td>\n      <td>3</td>\n      <td>6</td>\n      <td>6</td>\n      <td>15</td>\n      <td>7</td>\n      <td>2</td>\n      <td>7</td>\n      <td>196</td>\n      <td>2</td>\n      <td>3</td>\n      <td>3</td>\n    </tr>\n    <tr>\n      <th>top</th>\n      <td>I am a developer by profession</td>\n      <td>Yes</td>\n      <td>Never</td>\n      <td>The quality of OSS and closed source software ...</td>\n      <td>Employed full-time</td>\n      <td>United States</td>\n      <td>No</td>\n      <td>Bachelor’s degree (BA, BS, B.Eng., etc.)</td>\n      <td>Computer science, computer engineering, or sof...</td>\n      <td>Taught yourself a new language, framework, or ...</td>\n      <td>20 to 99 employees</td>\n      <td>Developer, full-stack</td>\n      <td>5</td>\n      <td>15</td>\n      <td>2</td>\n      <td>Very satisfied</td>\n      <td>Slightly satisfied</td>\n      <td>Somewhat confident</td>\n      <td>No</td>\n      <td>Not sure</td>\n      <td>I’m not actively looking, but I am open to new...</td>\n      <td>Less than a year ago</td>\n      <td>Interview with people in peer roles;Interview ...</td>\n      <td>No</td>\n      <td>Languages, frameworks, and other technologies ...</td>\n      <td>I was preparing for a job search</td>\n      <td>USD</td>\n      <td>United States dollar</td>\n      <td>Yearly</td>\n      <td>There is a schedule and/or spec (made by me or...</td>\n      <td>Being tasked with non-development work;Distrac...</td>\n      <td>Less than once per month / Never</td>\n      <td>Office</td>\n      <td>A little above average</td>\n      <td>Yes, because I see value in code review</td>\n      <td>Yes, it's part of our process</td>\n      <td>Developers and management have nearly equal in...</td>\n      <td>I have little or no influence</td>\n      <td>HTML/CSS;JavaScript;PHP;SQL</td>\n      <td>Python</td>\n      <td>MySQL</td>\n      <td>PostgreSQL</td>\n      <td>Windows</td>\n      <td>Linux</td>\n      <td>jQuery</td>\n      <td>React.js</td>\n      <td>Node.js</td>\n      <td>Node.js</td>\n      <td>Visual Studio Code</td>\n      <td>Windows</td>\n      <td>I do not use containers</td>\n      <td>Not at all</td>\n      <td>Useful across many domains and could change ma...</td>\n      <td>Yes</td>\n      <td>Yes</td>\n      <td>Yes</td>\n      <td>Reddit</td>\n      <td>In real life (in person)</td>\n      <td>Username</td>\n      <td>I don't remember</td>\n      <td>Daily or almost daily</td>\n      <td>Find answers to specific questions</td>\n      <td>1-2 times per week</td>\n      <td>Stack Overflow was much faster</td>\n      <td>11-30 minutes</td>\n      <td>Yes</td>\n      <td>Less than once per month or monthly</td>\n      <td>Yes</td>\n      <td>No, and I don't know what those are</td>\n      <td>Yes, somewhat</td>\n      <td>Just as welcome now as I felt last year</td>\n      <td>Tech articles written by other developers;Indu...</td>\n      <td>Man</td>\n      <td>No</td>\n      <td>Straight / Heterosexual</td>\n      <td>White or of European descent</td>\n      <td>No</td>\n      <td>Appropriate in length</td>\n      <td>Easy</td>\n    </tr>\n    <tr>\n      <th>freq</th>\n      <td>65679</td>\n      <td>71257</td>\n      <td>32295</td>\n      <td>41527</td>\n      <td>64440</td>\n      <td>20949</td>\n      <td>65816</td>\n      <td>39134</td>\n      <td>47214</td>\n      <td>6699</td>\n      <td>15199</td>\n      <td>8433</td>\n      <td>7047</td>\n      <td>8681</td>\n      <td>7959</td>\n      <td>29173</td>\n      <td>24207</td>\n      <td>25207</td>\n      <td>31346</td>\n      <td>22276</td>\n      <td>47260</td>\n      <td>25844</td>\n      <td>12383</td>\n      <td>60873</td>\n      <td>4992</td>\n      <td>33309</td>\n      <td>19490</td>\n      <td>19490</td>\n      <td>31505</td>\n      <td>34476</td>\n      <td>2318</td>\n      <td>30220</td>\n      <td>40592</td>\n      <td>32374</td>\n      <td>48424</td>\n      <td>26221</td>\n      <td>20424</td>\n      <td>26676</td>\n      <td>1483</td>\n      <td>1236</td>\n      <td>5556</td>\n      <td>3539</td>\n      <td>7031</td>\n      <td>3280</td>\n      <td>4171</td>\n      <td>3744</td>\n      <td>10571</td>\n      <td>6913</td>\n      <td>5036</td>\n      <td>41714</td>\n      <td>39327</td>\n      <td>38546</td>\n      <td>17596</td>\n      <td>54938</td>\n      <td>46370</td>\n      <td>67740</td>\n      <td>14374</td>\n      <td>52860</td>\n      <td>58969</td>\n      <td>10383</td>\n      <td>26827</td>\n      <td>33842</td>\n      <td>24231</td>\n      <td>45330</td>\n      <td>27872</td>\n      <td>75192</td>\n      <td>30440</td>\n      <td>41257</td>\n      <td>48129</td>\n      <td>27452</td>\n      <td>62661</td>\n      <td>16026</td>\n      <td>77919</td>\n      <td>82576</td>\n      <td>70155</td>\n      <td>50929</td>\n      <td>50727</td>\n      <td>57858</td>\n      <td>58613</td>\n    </tr>\n  </tbody>\n</table>\n</div>",
      "text/plain": "                            MainBranch Hobbyist OpenSourcer  \\\ncount                            88331    88883       88883   \nunique                               5        2           4   \ntop     I am a developer by profession      Yes       Never   \nfreq                             65679    71257       32295   \n\n                                               OpenSource          Employment  \\\ncount                                               86842               87181   \nunique                                                  3                   6   \ntop     The quality of OSS and closed source software ...  Employed full-time   \nfreq                                                41527               64440   \n\n              Country Student                                   EdLevel  \\\ncount           88751   87014                                     86390   \nunique            179       3                                         9   \ntop     United States      No  Bachelor’s degree (BA, BS, B.Eng., etc.)   \nfreq            20949   65816                                     39134   \n\n                                           UndergradMajor  \\\ncount                                               75614   \nunique                                                 12   \ntop     Computer science, computer engineering, or sof...   \nfreq                                                47214   \n\n                                                 EduOther             OrgSize  \\\ncount                                               84260               71791   \nunique                                                492                   9   \ntop     Taught yourself a new language, framework, or ...  20 to 99 employees   \nfreq                                                 6699               15199   \n\n                      DevType YearsCode Age1stCode YearsCodePro  \\\ncount                   81335     87938      87634        74331   \nunique                  13141        52         69           52   \ntop     Developer, full-stack         5         15            2   \nfreq                     8433      7047       8681         7959   \n\n             CareerSat              JobSat            MgrIdiot MgrMoney  \\\ncount            72847               70988               61159    61157   \nunique               5                   5                   4        3   \ntop     Very satisfied  Slightly satisfied  Somewhat confident       No   \nfreq             29173               24207               25207    31346   \n\n         MgrWant                                            JobSeek  \\\ncount      61232                                              80555   \nunique         4                                                  3   \ntop     Not sure  I’m not actively looking, but I am open to new...   \nfreq       22276                                              47260   \n\n                LastHireDate  \\\ncount                  79854   \nunique                     6   \ntop     Less than a year ago   \nfreq                   25844   \n\n                                                  LastInt FizzBuzz  \\\ncount                                               67155    71344   \nunique                                                 63        2   \ntop     Interview with people in peer roles;Interview ...       No   \nfreq                                                12383    60873   \n\n                                               JobFactors  \\\ncount                                               79371   \nunique                                                175   \ntop     Languages, frameworks, and other technologies ...   \nfreq                                                 4992   \n\n                            ResumeUpdate CurrencySymbol          CurrencyDesc  \\\ncount                              77877          71392                 71392   \nunique                                 6            143                   144   \ntop     I was preparing for a job search            USD  United States dollar   \nfreq                               33309          19490                 19490   \n\n       CompFreq                                           WorkPlan  \\\ncount     63268                                              68914   \nunique        3                                                  3   \ntop      Yearly  There is a schedule and/or spec (made by me or...   \nfreq      31505                                              34476   \n\n                                            WorkChallenge  \\\ncount                                               68141   \nunique                                                129   \ntop     Being tasked with non-development work;Distrac...   \nfreq                                                 2318   \n\n                              WorkRemote WorkLoc                  ImpSyn  \\\ncount                              70284   70055                   71779   \nunique                                 7       3                       5   \ntop     Less than once per month / Never  Office  A little above average   \nfreq                               30220   40592                   32374   \n\n                                        CodeRev  \\\ncount                                     70390   \nunique                                        3   \ntop     Yes, because I see value in code review   \nfreq                                      48424   \n\n                            UnitTests  \\\ncount                           62668   \nunique                              4   \ntop     Yes, it's part of our process   \nfreq                            26221   \n\n                                              PurchaseHow  \\\ncount                                               61108   \nunique                                                  4   \ntop     Developers and management have nearly equal in...   \nfreq                                                20424   \n\n                         PurchaseWhat           LanguageWorkedWith  \\\ncount                           62029                        87569   \nunique                              3                        20098   \ntop     I have little or no influence  HTML/CSS;JavaScript;PHP;SQL   \nfreq                            26676                         1483   \n\n       LanguageDesireNextYear DatabaseWorkedWith DatabaseDesireNextYear  \\\ncount                   84088              76026                  69147   \nunique                  27259               3478                   3923   \ntop                    Python              MySQL             PostgreSQL   \nfreq                     1236               5556                   3539   \n\n       PlatformWorkedWith PlatformDesireNextYear WebFrameWorkedWith  \\\ncount               80714                  77443              65022   \nunique               8731                  10795               2142   \ntop               Windows                  Linux             jQuery   \nfreq                 7031                   3280               4171   \n\n       WebFrameDesireNextYear MiscTechWorkedWith MiscTechDesireNextYear  \\\ncount                   62944              59586                  64511   \nunique                   2312               2783                   5565   \ntop                  React.js            Node.js                Node.js   \nfreq                     3744              10571                   6913   \n\n                DevEnviron    OpSys               Containers BlockchainOrg  \\\ncount                87317    87851                    85366         48175   \nunique                7716        4                       21             5   \ntop     Visual Studio Code  Windows  I do not use containers    Not at all   \nfreq                  5036    41714                    39327         38546   \n\n                                             BlockchainIs BetterLife ITperson  \\\ncount                                               60165      86269    87141   \nunique                                                  5          2        4   \ntop     Useful across many domains and could change ma...        Yes      Yes   \nfreq                                                17596      54938    46370   \n\n        OffOn SocialMedia              Extraversion ScreenName  \\\ncount   86663       84437                     87305      80486   \nunique      3          14                         3          5   \ntop       Yes      Reddit  In real life (in person)   Username   \nfreq    67740       14374                     52860      58969   \n\n              SOVisit1st            SOVisitFreq  \\\ncount              83877                  88263   \nunique                13                      6   \ntop     I don't remember  Daily or almost daily   \nfreq               10383                  26827   \n\n                                 SOVisitTo        SOFindAnswer  \\\ncount                                88086               87816   \nunique                                  63                   5   \ntop     Find answers to specific questions  1-2 times per week   \nfreq                                 33842               24231   \n\n                           SOTimeSaved  SOHowMuchTime SOAccount  \\\ncount                            86344          68378     87828   \nunique                               5              4         3   \ntop     Stack Overflow was much faster  11-30 minutes       Yes   \nfreq                             45330          27872     75192   \n\n                                 SOPartFreq SOJobs  \\\ncount                                 74692  88066   \nunique                                    6      3   \ntop     Less than once per month or monthly    Yes   \nfreq                                  30440  41257   \n\n                                   EntTeams         SOComm  \\\ncount                                 87841          88131   \nunique                                    3              6   \ntop     No, and I don't know what those are  Yes, somewhat   \nfreq                                  48129          27452   \n\n                                  WelcomeChange  \\\ncount                                     85855   \nunique                                        6   \ntop     Just as welcome now as I felt last year   \nfreq                                      62661   \n\n                                             SONewContent Gender  Trans  \\\ncount                                               69560  85406  83607   \nunique                                                 15      7      2   \ntop     Tech articles written by other developers;Indu...    Man     No   \nfreq                                                16026  77919  82576   \n\n                      Sexuality                     Ethnicity Dependents  \\\ncount                     76147                         76668      83059   \nunique                        7                           196          2   \ntop     Straight / Heterosexual  White or of European descent         No   \nfreq                      70155                         50929      50727   \n\n                 SurveyLength SurveyEase  \ncount                   86984      87081  \nunique                      3          3  \ntop     Appropriate in length       Easy  \nfreq                    57858      58613  "
     },
     "execution_count": 6,
     "metadata": {},
     "output_type": "execute_result"
    }
   ],
   "source": [
    "df.describe(include = 'object')"
   ]
  },
  {
   "cell_type": "code",
   "execution_count": 7,
   "metadata": {},
   "outputs": [
    {
     "data": {
      "text/plain": "55823"
     },
     "execution_count": 7,
     "metadata": {},
     "output_type": "execute_result"
    }
   ],
   "source": [
    "df.ConvertedComp.count()"
   ]
  },
  {
   "cell_type": "code",
   "execution_count": 9,
   "metadata": {},
   "outputs": [
    {
     "data": {
      "text/plain": "Yes    71257\nNo     17626\nName: Hobbyist, dtype: int64"
     },
     "execution_count": 9,
     "metadata": {},
     "output_type": "execute_result"
    }
   ],
   "source": [
    "df.Hobbyist.value_counts()"
   ]
  },
  {
   "cell_type": "code",
   "execution_count": 11,
   "metadata": {},
   "outputs": [
    {
     "data": {
      "text/plain": "Country      Hobbyist\nAfghanistan  Yes         29\n             No          15\nAlbania      Yes         70\n             No          16\nAlgeria      Yes         98\n                         ..\nYemen        No           3\nZambia       Yes         11\n             No           1\nZimbabwe     Yes         32\n             No           7\nName: Hobbyist, Length: 329, dtype: int64"
     },
     "execution_count": 11,
     "metadata": {},
     "output_type": "execute_result"
    }
   ],
   "source": [
    "df.groupby(by = 'Country')['Hobbyist'].value_counts()"
   ]
  },
  {
   "cell_type": "code",
   "execution_count": 15,
   "metadata": {},
   "outputs": [
    {
     "data": {
      "text/plain": "Respondent\n1      Twitter\n2    Instagram\n3       Reddit\n4       Reddit\n5     Facebook\nName: SocialMedia, dtype: object"
     },
     "execution_count": 15,
     "metadata": {},
     "output_type": "execute_result"
    }
   ],
   "source": [
    "df['SocialMedia'].head(5)"
   ]
  },
  {
   "cell_type": "code",
   "execution_count": 16,
   "metadata": {},
   "outputs": [
    {
     "data": {
      "text/plain": "QuestionText    What social media site do you use the most?\nName: SocialMedia, dtype: object"
     },
     "execution_count": 16,
     "metadata": {},
     "output_type": "execute_result"
    }
   ],
   "source": [
    "df_schema.loc['SocialMedia']"
   ]
  },
  {
   "cell_type": "code",
   "execution_count": 17,
   "metadata": {},
   "outputs": [
    {
     "data": {
      "text/plain": "Reddit                      14374\nYouTube                     13830\nWhatsApp                    13347\nFacebook                    13178\nTwitter                     11398\nInstagram                    6261\nI don't use social media     5554\nLinkedIn                     4501\nWeChat 微信                     667\nSnapchat                      628\nVK ВКонта́кте                 603\nWeibo 新浪微博                     56\nYouku Tudou 优酷                 21\nHello                          19\nName: SocialMedia, dtype: int64"
     },
     "execution_count": 17,
     "metadata": {},
     "output_type": "execute_result"
    }
   ],
   "source": [
    "df['SocialMedia'].value_counts()"
   ]
  },
  {
   "cell_type": "code",
   "execution_count": 18,
   "metadata": {},
   "outputs": [
    {
     "data": {
      "text/plain": "Reddit                      0.170233\nYouTube                     0.163791\nWhatsApp                    0.158071\nFacebook                    0.156069\nTwitter                     0.134988\nInstagram                   0.074150\nI don't use social media    0.065777\nLinkedIn                    0.053306\nWeChat 微信                   0.007899\nSnapchat                    0.007437\nVK ВКонта́кте               0.007141\nWeibo 新浪微博                  0.000663\nYouku Tudou 优酷              0.000249\nHello                       0.000225\nName: SocialMedia, dtype: float64"
     },
     "execution_count": 18,
     "metadata": {},
     "output_type": "execute_result"
    }
   ],
   "source": [
    "df['SocialMedia'].value_counts(normalize = True)"
   ]
  },
  {
   "cell_type": "code",
   "execution_count": 19,
   "metadata": {},
   "outputs": [
    {
     "data": {
      "text/plain": "Country      SocialMedia             \nAfghanistan  Facebook                    15\n             YouTube                      9\n             I don't use social media     6\n             WhatsApp                     4\n             Instagram                    1\n                                         ..\nZimbabwe     Facebook                     3\n             YouTube                      3\n             Instagram                    2\n             LinkedIn                     2\n             Reddit                       1\nName: SocialMedia, Length: 1220, dtype: int64"
     },
     "execution_count": 19,
     "metadata": {},
     "output_type": "execute_result"
    }
   ],
   "source": [
    "df.groupby(by = 'Country')['SocialMedia'].value_counts()"
   ]
  },
  {
   "cell_type": "code",
   "execution_count": 20,
   "metadata": {},
   "outputs": [
    {
     "data": {
      "text/plain": "United States            20949\nIndia                     9061\nGermany                   5866\nUnited Kingdom            5737\nCanada                    3395\n                         ...  \nSao Tome and Principe        1\nPapua New Guinea             1\nBrunei Darussalam            1\nSaint Kitts and Nevis        1\nTimor-Leste                  1\nName: Country, Length: 179, dtype: int64"
     },
     "execution_count": 20,
     "metadata": {},
     "output_type": "execute_result"
    }
   ],
   "source": [
    "df.Country.value_counts()"
   ]
  },
  {
   "cell_type": "code",
   "execution_count": 22,
   "metadata": {},
   "outputs": [],
   "source": [
    "country_group = df.groupby(by = ['Country'])"
   ]
  },
  {
   "cell_type": "code",
   "execution_count": 27,
   "metadata": {},
   "outputs": [
    {
     "data": {
      "text/html": "<div>\n<style scoped>\n    .dataframe tbody tr th:only-of-type {\n        vertical-align: middle;\n    }\n\n    .dataframe tbody tr th {\n        vertical-align: top;\n    }\n\n    .dataframe thead th {\n        text-align: right;\n    }\n</style>\n<table border=\"1\" class=\"dataframe\">\n  <thead>\n    <tr style=\"text-align: right;\">\n      <th></th>\n      <th>MainBranch</th>\n      <th>Hobbyist</th>\n      <th>OpenSourcer</th>\n      <th>OpenSource</th>\n      <th>Employment</th>\n      <th>Country</th>\n      <th>Student</th>\n      <th>EdLevel</th>\n      <th>UndergradMajor</th>\n      <th>EduOther</th>\n      <th>OrgSize</th>\n      <th>DevType</th>\n      <th>YearsCode</th>\n      <th>Age1stCode</th>\n      <th>YearsCodePro</th>\n      <th>CareerSat</th>\n      <th>JobSat</th>\n      <th>MgrIdiot</th>\n      <th>MgrMoney</th>\n      <th>MgrWant</th>\n      <th>JobSeek</th>\n      <th>LastHireDate</th>\n      <th>LastInt</th>\n      <th>FizzBuzz</th>\n      <th>JobFactors</th>\n      <th>ResumeUpdate</th>\n      <th>CurrencySymbol</th>\n      <th>CurrencyDesc</th>\n      <th>CompTotal</th>\n      <th>CompFreq</th>\n      <th>ConvertedComp</th>\n      <th>WorkWeekHrs</th>\n      <th>WorkPlan</th>\n      <th>WorkChallenge</th>\n      <th>WorkRemote</th>\n      <th>WorkLoc</th>\n      <th>ImpSyn</th>\n      <th>CodeRev</th>\n      <th>CodeRevHrs</th>\n      <th>UnitTests</th>\n      <th>PurchaseHow</th>\n      <th>PurchaseWhat</th>\n      <th>LanguageWorkedWith</th>\n      <th>LanguageDesireNextYear</th>\n      <th>DatabaseWorkedWith</th>\n      <th>DatabaseDesireNextYear</th>\n      <th>PlatformWorkedWith</th>\n      <th>PlatformDesireNextYear</th>\n      <th>WebFrameWorkedWith</th>\n      <th>WebFrameDesireNextYear</th>\n      <th>MiscTechWorkedWith</th>\n      <th>MiscTechDesireNextYear</th>\n      <th>DevEnviron</th>\n      <th>OpSys</th>\n      <th>Containers</th>\n      <th>BlockchainOrg</th>\n      <th>BlockchainIs</th>\n      <th>BetterLife</th>\n      <th>ITperson</th>\n      <th>OffOn</th>\n      <th>SocialMedia</th>\n      <th>Extraversion</th>\n      <th>ScreenName</th>\n      <th>SOVisit1st</th>\n      <th>SOVisitFreq</th>\n      <th>SOVisitTo</th>\n      <th>SOFindAnswer</th>\n      <th>SOTimeSaved</th>\n      <th>SOHowMuchTime</th>\n      <th>SOAccount</th>\n      <th>SOPartFreq</th>\n      <th>SOJobs</th>\n      <th>EntTeams</th>\n      <th>SOComm</th>\n      <th>WelcomeChange</th>\n      <th>SONewContent</th>\n      <th>Age</th>\n      <th>Gender</th>\n      <th>Trans</th>\n      <th>Sexuality</th>\n      <th>Ethnicity</th>\n      <th>Dependents</th>\n      <th>SurveyLength</th>\n      <th>SurveyEase</th>\n    </tr>\n    <tr>\n      <th>Respondent</th>\n      <th></th>\n      <th></th>\n      <th></th>\n      <th></th>\n      <th></th>\n      <th></th>\n      <th></th>\n      <th></th>\n      <th></th>\n      <th></th>\n      <th></th>\n      <th></th>\n      <th></th>\n      <th></th>\n      <th></th>\n      <th></th>\n      <th></th>\n      <th></th>\n      <th></th>\n      <th></th>\n      <th></th>\n      <th></th>\n      <th></th>\n      <th></th>\n      <th></th>\n      <th></th>\n      <th></th>\n      <th></th>\n      <th></th>\n      <th></th>\n      <th></th>\n      <th></th>\n      <th></th>\n      <th></th>\n      <th></th>\n      <th></th>\n      <th></th>\n      <th></th>\n      <th></th>\n      <th></th>\n      <th></th>\n      <th></th>\n      <th></th>\n      <th></th>\n      <th></th>\n      <th></th>\n      <th></th>\n      <th></th>\n      <th></th>\n      <th></th>\n      <th></th>\n      <th></th>\n      <th></th>\n      <th></th>\n      <th></th>\n      <th></th>\n      <th></th>\n      <th></th>\n      <th></th>\n      <th></th>\n      <th></th>\n      <th></th>\n      <th></th>\n      <th></th>\n      <th></th>\n      <th></th>\n      <th></th>\n      <th></th>\n      <th></th>\n      <th></th>\n      <th></th>\n      <th></th>\n      <th></th>\n      <th></th>\n      <th></th>\n      <th></th>\n      <th></th>\n      <th></th>\n      <th></th>\n      <th></th>\n      <th></th>\n      <th></th>\n      <th></th>\n      <th></th>\n    </tr>\n  </thead>\n  <tbody>\n    <tr>\n      <th>8</th>\n      <td>I code primarily as a hobby</td>\n      <td>Yes</td>\n      <td>Less than once per year</td>\n      <td>OSS is, on average, of HIGHER quality than pro...</td>\n      <td>Not employed, but looking for work</td>\n      <td>India</td>\n      <td>NaN</td>\n      <td>Bachelor’s degree (BA, BS, B.Eng., etc.)</td>\n      <td>Computer science, computer engineering, or sof...</td>\n      <td>Taught yourself a new language, framework, or ...</td>\n      <td>NaN</td>\n      <td>Developer, back-end;Engineer, site reliability</td>\n      <td>8</td>\n      <td>16</td>\n      <td>NaN</td>\n      <td>NaN</td>\n      <td>NaN</td>\n      <td>NaN</td>\n      <td>NaN</td>\n      <td>NaN</td>\n      <td>NaN</td>\n      <td>NaN</td>\n      <td>NaN</td>\n      <td>NaN</td>\n      <td>NaN</td>\n      <td>NaN</td>\n      <td>NaN</td>\n      <td>NaN</td>\n      <td>NaN</td>\n      <td>NaN</td>\n      <td>NaN</td>\n      <td>NaN</td>\n      <td>NaN</td>\n      <td>NaN</td>\n      <td>NaN</td>\n      <td>NaN</td>\n      <td>NaN</td>\n      <td>NaN</td>\n      <td>NaN</td>\n      <td>NaN</td>\n      <td>NaN</td>\n      <td>NaN</td>\n      <td>Bash/Shell/PowerShell;C;C++;HTML/CSS;Java;Java...</td>\n      <td>Bash/Shell/PowerShell;C;C++;Elixir;Erlang;Go;P...</td>\n      <td>Cassandra;Elasticsearch;MongoDB;MySQL;Oracle;R...</td>\n      <td>Cassandra;DynamoDB;Elasticsearch;Firebase;Mong...</td>\n      <td>AWS;Docker;Heroku;Linux;MacOS;Slack</td>\n      <td>Android;Arduino;AWS;Docker;Google Cloud Platfo...</td>\n      <td>Express;Flask;React.js;Spring</td>\n      <td>Django;Express;Flask;React.js;Vue.js</td>\n      <td>Hadoop;Node.js;Pandas</td>\n      <td>Ansible;Apache Spark;Chef;Hadoop;Node.js;Panda...</td>\n      <td>Atom;IntelliJ;IPython / Jupyter;PyCharm;Visual...</td>\n      <td>Linux-based</td>\n      <td>Development;Testing;Production;Outside of work...</td>\n      <td>NaN</td>\n      <td>Useful across many domains and could change ma...</td>\n      <td>Yes</td>\n      <td>SIGH</td>\n      <td>Yes</td>\n      <td>YouTube</td>\n      <td>In real life (in person)</td>\n      <td>Handle</td>\n      <td>2012</td>\n      <td>A few times per week</td>\n      <td>Find answers to specific questions;Learn how t...</td>\n      <td>Less than once per week</td>\n      <td>Stack Overflow was slightly faster</td>\n      <td>11-30 minutes</td>\n      <td>Yes</td>\n      <td>Less than once per month or monthly</td>\n      <td>Yes</td>\n      <td>No, and I don't know what those are</td>\n      <td>Yes, definitely</td>\n      <td>A lot more welcome now than last year</td>\n      <td>Tech articles written by other developers;Indu...</td>\n      <td>24.0</td>\n      <td>Man</td>\n      <td>No</td>\n      <td>Straight / Heterosexual</td>\n      <td>NaN</td>\n      <td>NaN</td>\n      <td>Appropriate in length</td>\n      <td>Neither easy nor difficult</td>\n    </tr>\n    <tr>\n      <th>10</th>\n      <td>I am a developer by profession</td>\n      <td>Yes</td>\n      <td>Once a month or more often</td>\n      <td>OSS is, on average, of HIGHER quality than pro...</td>\n      <td>Employed full-time</td>\n      <td>India</td>\n      <td>No</td>\n      <td>Master’s degree (MA, MS, M.Eng., MBA, etc.)</td>\n      <td>NaN</td>\n      <td>NaN</td>\n      <td>10,000 or more employees</td>\n      <td>Data or business analyst;Data scientist or mac...</td>\n      <td>12</td>\n      <td>20</td>\n      <td>10</td>\n      <td>Slightly dissatisfied</td>\n      <td>Slightly dissatisfied</td>\n      <td>Somewhat confident</td>\n      <td>Yes</td>\n      <td>Yes</td>\n      <td>I’m not actively looking, but I am open to new...</td>\n      <td>3-4 years ago</td>\n      <td>NaN</td>\n      <td>No</td>\n      <td>Languages, frameworks, and other technologies ...</td>\n      <td>NaN</td>\n      <td>INR</td>\n      <td>Indian rupee</td>\n      <td>950000.0</td>\n      <td>Yearly</td>\n      <td>13293.0</td>\n      <td>70.0</td>\n      <td>There's no schedule or spec; I work on what se...</td>\n      <td>NaN</td>\n      <td>A few days each month</td>\n      <td>Home</td>\n      <td>Far above average</td>\n      <td>Yes, because I see value in code review</td>\n      <td>4.0</td>\n      <td>Yes, it's part of our process</td>\n      <td>NaN</td>\n      <td>NaN</td>\n      <td>C#;Go;JavaScript;Python;R;SQL</td>\n      <td>C#;Go;JavaScript;Kotlin;Python;R;SQL</td>\n      <td>Elasticsearch;MongoDB;Microsoft SQL Server;MyS...</td>\n      <td>Elasticsearch;MongoDB;Microsoft SQL Server</td>\n      <td>Linux;Windows</td>\n      <td>Android;Linux;Raspberry Pi;Windows</td>\n      <td>Angular/Angular.js;ASP.NET;Django;Express;Flas...</td>\n      <td>Angular/Angular.js;ASP.NET;Django;Express;Flas...</td>\n      <td>.NET;Node.js;Pandas;Torch/PyTorch</td>\n      <td>.NET;Node.js;TensorFlow;Torch/PyTorch</td>\n      <td>Android Studio;Eclipse;IPython / Jupyter;Notep...</td>\n      <td>Windows</td>\n      <td>NaN</td>\n      <td>Not at all</td>\n      <td>Useful for immutable record keeping outside of...</td>\n      <td>No</td>\n      <td>Yes</td>\n      <td>Yes</td>\n      <td>YouTube</td>\n      <td>Neither</td>\n      <td>Screen Name</td>\n      <td>NaN</td>\n      <td>Multiple times per day</td>\n      <td>Find answers to specific questions;Get a sense...</td>\n      <td>3-5 times per week</td>\n      <td>They were about the same</td>\n      <td>NaN</td>\n      <td>Yes</td>\n      <td>A few times per month or weekly</td>\n      <td>Yes</td>\n      <td>No, and I don't know what those are</td>\n      <td>Yes, somewhat</td>\n      <td>Somewhat less welcome now than last year</td>\n      <td>Tech articles written by other developers;Tech...</td>\n      <td>NaN</td>\n      <td>NaN</td>\n      <td>NaN</td>\n      <td>NaN</td>\n      <td>NaN</td>\n      <td>Yes</td>\n      <td>Too long</td>\n      <td>Difficult</td>\n    </tr>\n    <tr>\n      <th>15</th>\n      <td>I am a student who is learning to code</td>\n      <td>Yes</td>\n      <td>Never</td>\n      <td>OSS is, on average, of HIGHER quality than pro...</td>\n      <td>Not employed, but looking for work</td>\n      <td>India</td>\n      <td>Yes, full-time</td>\n      <td>Secondary school (e.g. American high school, G...</td>\n      <td>NaN</td>\n      <td>Taken an online course in programming or softw...</td>\n      <td>NaN</td>\n      <td>Student</td>\n      <td>3</td>\n      <td>13</td>\n      <td>NaN</td>\n      <td>NaN</td>\n      <td>NaN</td>\n      <td>NaN</td>\n      <td>NaN</td>\n      <td>NaN</td>\n      <td>I’m not actively looking, but I am open to new...</td>\n      <td>I've never had a job</td>\n      <td>NaN</td>\n      <td>NaN</td>\n      <td>Industry that I'd be working in;Languages, fra...</td>\n      <td>Something else changed (education, award, medi...</td>\n      <td>NaN</td>\n      <td>NaN</td>\n      <td>NaN</td>\n      <td>NaN</td>\n      <td>NaN</td>\n      <td>NaN</td>\n      <td>NaN</td>\n      <td>NaN</td>\n      <td>NaN</td>\n      <td>NaN</td>\n      <td>NaN</td>\n      <td>NaN</td>\n      <td>NaN</td>\n      <td>NaN</td>\n      <td>NaN</td>\n      <td>NaN</td>\n      <td>Assembly;Bash/Shell/PowerShell;C;C++;HTML/CSS;...</td>\n      <td>Assembly;Bash/Shell/PowerShell;C;C++;C#;Go;HTM...</td>\n      <td>MariaDB;MySQL;Oracle;SQLite</td>\n      <td>MariaDB;MongoDB;Microsoft SQL Server;MySQL;Ora...</td>\n      <td>Linux;Windows</td>\n      <td>Android;Google Cloud Platform;iOS;Linux;MacOS;...</td>\n      <td>NaN</td>\n      <td>Angular/Angular.js;ASP.NET;Django;Drupal;jQuer...</td>\n      <td>NaN</td>\n      <td>.NET;.NET Core;Node.js;TensorFlow;Unity 3D;Unr...</td>\n      <td>Atom;NetBeans;Notepad++;Sublime Text;Vim</td>\n      <td>Linux-based</td>\n      <td>Development</td>\n      <td>NaN</td>\n      <td>NaN</td>\n      <td>Yes</td>\n      <td>Yes</td>\n      <td>What?</td>\n      <td>YouTube</td>\n      <td>In real life (in person)</td>\n      <td>NaN</td>\n      <td>2018</td>\n      <td>Daily or almost daily</td>\n      <td>Find answers to specific questions;Learn how t...</td>\n      <td>More than 10 times per week</td>\n      <td>They were about the same</td>\n      <td>NaN</td>\n      <td>Yes</td>\n      <td>Less than once per month or monthly</td>\n      <td>Yes</td>\n      <td>No, I've heard of them, but I am not part of a...</td>\n      <td>Yes, somewhat</td>\n      <td>Just as welcome now as I felt last year</td>\n      <td>Tech articles written by other developers;Indu...</td>\n      <td>20.0</td>\n      <td>Man</td>\n      <td>No</td>\n      <td>NaN</td>\n      <td>NaN</td>\n      <td>Yes</td>\n      <td>Too long</td>\n      <td>Neither easy nor difficult</td>\n    </tr>\n  </tbody>\n</table>\n</div>",
      "text/plain": "                                        MainBranch Hobbyist  \\\nRespondent                                                    \n8                      I code primarily as a hobby      Yes   \n10                  I am a developer by profession      Yes   \n15          I am a student who is learning to code      Yes   \n\n                           OpenSourcer  \\\nRespondent                               \n8              Less than once per year   \n10          Once a month or more often   \n15                               Never   \n\n                                                   OpenSource  \\\nRespondent                                                      \n8           OSS is, on average, of HIGHER quality than pro...   \n10          OSS is, on average, of HIGHER quality than pro...   \n15          OSS is, on average, of HIGHER quality than pro...   \n\n                                    Employment Country         Student  \\\nRespondent                                                               \n8           Not employed, but looking for work   India             NaN   \n10                          Employed full-time   India              No   \n15          Not employed, but looking for work   India  Yes, full-time   \n\n                                                      EdLevel  \\\nRespondent                                                      \n8                    Bachelor’s degree (BA, BS, B.Eng., etc.)   \n10                Master’s degree (MA, MS, M.Eng., MBA, etc.)   \n15          Secondary school (e.g. American high school, G...   \n\n                                               UndergradMajor  \\\nRespondent                                                      \n8           Computer science, computer engineering, or sof...   \n10                                                        NaN   \n15                                                        NaN   \n\n                                                     EduOther  \\\nRespondent                                                      \n8           Taught yourself a new language, framework, or ...   \n10                                                        NaN   \n15          Taken an online course in programming or softw...   \n\n                             OrgSize  \\\nRespondent                             \n8                                NaN   \n10          10,000 or more employees   \n15                               NaN   \n\n                                                      DevType YearsCode  \\\nRespondent                                                                \n8              Developer, back-end;Engineer, site reliability         8   \n10          Data or business analyst;Data scientist or mac...        12   \n15                                                    Student         3   \n\n           Age1stCode YearsCodePro              CareerSat  \\\nRespondent                                                  \n8                  16          NaN                    NaN   \n10                 20           10  Slightly dissatisfied   \n15                 13          NaN                    NaN   \n\n                           JobSat            MgrIdiot MgrMoney MgrWant  \\\nRespondent                                                               \n8                             NaN                 NaN      NaN     NaN   \n10          Slightly dissatisfied  Somewhat confident      Yes     Yes   \n15                            NaN                 NaN      NaN     NaN   \n\n                                                      JobSeek  \\\nRespondent                                                      \n8                                                         NaN   \n10          I’m not actively looking, but I am open to new...   \n15          I’m not actively looking, but I am open to new...   \n\n                    LastHireDate LastInt FizzBuzz  \\\nRespondent                                          \n8                            NaN     NaN      NaN   \n10                 3-4 years ago     NaN       No   \n15          I've never had a job     NaN      NaN   \n\n                                                   JobFactors  \\\nRespondent                                                      \n8                                                         NaN   \n10          Languages, frameworks, and other technologies ...   \n15          Industry that I'd be working in;Languages, fra...   \n\n                                                 ResumeUpdate CurrencySymbol  \\\nRespondent                                                                     \n8                                                         NaN            NaN   \n10                                                        NaN            INR   \n15          Something else changed (education, award, medi...            NaN   \n\n            CurrencyDesc  CompTotal CompFreq  ConvertedComp  WorkWeekHrs  \\\nRespondent                                                                 \n8                    NaN        NaN      NaN            NaN          NaN   \n10          Indian rupee   950000.0   Yearly        13293.0         70.0   \n15                   NaN        NaN      NaN            NaN          NaN   \n\n                                                     WorkPlan WorkChallenge  \\\nRespondent                                                                    \n8                                                         NaN           NaN   \n10          There's no schedule or spec; I work on what se...           NaN   \n15                                                        NaN           NaN   \n\n                       WorkRemote WorkLoc             ImpSyn  \\\nRespondent                                                     \n8                             NaN     NaN                NaN   \n10          A few days each month    Home  Far above average   \n15                            NaN     NaN                NaN   \n\n                                            CodeRev  CodeRevHrs  \\\nRespondent                                                        \n8                                               NaN         NaN   \n10          Yes, because I see value in code review         4.0   \n15                                              NaN         NaN   \n\n                                UnitTests PurchaseHow PurchaseWhat  \\\nRespondent                                                           \n8                                     NaN         NaN          NaN   \n10          Yes, it's part of our process         NaN          NaN   \n15                                    NaN         NaN          NaN   \n\n                                           LanguageWorkedWith  \\\nRespondent                                                      \n8           Bash/Shell/PowerShell;C;C++;HTML/CSS;Java;Java...   \n10                              C#;Go;JavaScript;Python;R;SQL   \n15          Assembly;Bash/Shell/PowerShell;C;C++;HTML/CSS;...   \n\n                                       LanguageDesireNextYear  \\\nRespondent                                                      \n8           Bash/Shell/PowerShell;C;C++;Elixir;Erlang;Go;P...   \n10                       C#;Go;JavaScript;Kotlin;Python;R;SQL   \n15          Assembly;Bash/Shell/PowerShell;C;C++;C#;Go;HTM...   \n\n                                           DatabaseWorkedWith  \\\nRespondent                                                      \n8           Cassandra;Elasticsearch;MongoDB;MySQL;Oracle;R...   \n10          Elasticsearch;MongoDB;Microsoft SQL Server;MyS...   \n15                                MariaDB;MySQL;Oracle;SQLite   \n\n                                       DatabaseDesireNextYear  \\\nRespondent                                                      \n8           Cassandra;DynamoDB;Elasticsearch;Firebase;Mong...   \n10                 Elasticsearch;MongoDB;Microsoft SQL Server   \n15          MariaDB;MongoDB;Microsoft SQL Server;MySQL;Ora...   \n\n                             PlatformWorkedWith  \\\nRespondent                                        \n8           AWS;Docker;Heroku;Linux;MacOS;Slack   \n10                                Linux;Windows   \n15                                Linux;Windows   \n\n                                       PlatformDesireNextYear  \\\nRespondent                                                      \n8           Android;Arduino;AWS;Docker;Google Cloud Platfo...   \n10                         Android;Linux;Raspberry Pi;Windows   \n15          Android;Google Cloud Platform;iOS;Linux;MacOS;...   \n\n                                           WebFrameWorkedWith  \\\nRespondent                                                      \n8                               Express;Flask;React.js;Spring   \n10          Angular/Angular.js;ASP.NET;Django;Express;Flas...   \n15                                                        NaN   \n\n                                       WebFrameDesireNextYear  \\\nRespondent                                                      \n8                        Django;Express;Flask;React.js;Vue.js   \n10          Angular/Angular.js;ASP.NET;Django;Express;Flas...   \n15          Angular/Angular.js;ASP.NET;Django;Drupal;jQuer...   \n\n                           MiscTechWorkedWith  \\\nRespondent                                      \n8                       Hadoop;Node.js;Pandas   \n10          .NET;Node.js;Pandas;Torch/PyTorch   \n15                                        NaN   \n\n                                       MiscTechDesireNextYear  \\\nRespondent                                                      \n8           Ansible;Apache Spark;Chef;Hadoop;Node.js;Panda...   \n10                      .NET;Node.js;TensorFlow;Torch/PyTorch   \n15          .NET;.NET Core;Node.js;TensorFlow;Unity 3D;Unr...   \n\n                                                   DevEnviron        OpSys  \\\nRespondent                                                                   \n8           Atom;IntelliJ;IPython / Jupyter;PyCharm;Visual...  Linux-based   \n10          Android Studio;Eclipse;IPython / Jupyter;Notep...      Windows   \n15                   Atom;NetBeans;Notepad++;Sublime Text;Vim  Linux-based   \n\n                                                   Containers BlockchainOrg  \\\nRespondent                                                                    \n8           Development;Testing;Production;Outside of work...           NaN   \n10                                                        NaN    Not at all   \n15                                                Development           NaN   \n\n                                                 BlockchainIs BetterLife  \\\nRespondent                                                                 \n8           Useful across many domains and could change ma...        Yes   \n10          Useful for immutable record keeping outside of...         No   \n15                                                        NaN        Yes   \n\n           ITperson  OffOn SocialMedia              Extraversion   ScreenName  \\\nRespondent                                                                      \n8              SIGH    Yes     YouTube  In real life (in person)       Handle   \n10              Yes    Yes     YouTube                   Neither  Screen Name   \n15              Yes  What?     YouTube  In real life (in person)          NaN   \n\n           SOVisit1st             SOVisitFreq  \\\nRespondent                                      \n8                2012    A few times per week   \n10                NaN  Multiple times per day   \n15               2018   Daily or almost daily   \n\n                                                    SOVisitTo  \\\nRespondent                                                      \n8           Find answers to specific questions;Learn how t...   \n10          Find answers to specific questions;Get a sense...   \n15          Find answers to specific questions;Learn how t...   \n\n                           SOFindAnswer                         SOTimeSaved  \\\nRespondent                                                                    \n8               Less than once per week  Stack Overflow was slightly faster   \n10                   3-5 times per week            They were about the same   \n15          More than 10 times per week            They were about the same   \n\n            SOHowMuchTime SOAccount                           SOPartFreq  \\\nRespondent                                                                 \n8           11-30 minutes       Yes  Less than once per month or monthly   \n10                    NaN       Yes      A few times per month or weekly   \n15                    NaN       Yes  Less than once per month or monthly   \n\n           SOJobs                                           EntTeams  \\\nRespondent                                                             \n8             Yes                No, and I don't know what those are   \n10            Yes                No, and I don't know what those are   \n15            Yes  No, I've heard of them, but I am not part of a...   \n\n                     SOComm                             WelcomeChange  \\\nRespondent                                                              \n8           Yes, definitely     A lot more welcome now than last year   \n10            Yes, somewhat  Somewhat less welcome now than last year   \n15            Yes, somewhat   Just as welcome now as I felt last year   \n\n                                                 SONewContent   Age Gender  \\\nRespondent                                                                   \n8           Tech articles written by other developers;Indu...  24.0    Man   \n10          Tech articles written by other developers;Tech...   NaN    NaN   \n15          Tech articles written by other developers;Indu...  20.0    Man   \n\n           Trans                Sexuality Ethnicity Dependents  \\\nRespondent                                                       \n8             No  Straight / Heterosexual       NaN        NaN   \n10           NaN                      NaN       NaN        Yes   \n15            No                      NaN       NaN        Yes   \n\n                     SurveyLength                  SurveyEase  \nRespondent                                                     \n8           Appropriate in length  Neither easy nor difficult  \n10                       Too long                   Difficult  \n15                       Too long  Neither easy nor difficult  "
     },
     "execution_count": 27,
     "metadata": {},
     "output_type": "execute_result"
    }
   ],
   "source": [
    "country_group.get_group('India').head(3)"
   ]
  },
  {
   "cell_type": "code",
   "execution_count": 26,
   "metadata": {},
   "outputs": [
    {
     "data": {
      "text/html": "<div>\n<style scoped>\n    .dataframe tbody tr th:only-of-type {\n        vertical-align: middle;\n    }\n\n    .dataframe tbody tr th {\n        vertical-align: top;\n    }\n\n    .dataframe thead th {\n        text-align: right;\n    }\n</style>\n<table border=\"1\" class=\"dataframe\">\n  <thead>\n    <tr style=\"text-align: right;\">\n      <th></th>\n      <th>MainBranch</th>\n      <th>Hobbyist</th>\n      <th>OpenSourcer</th>\n      <th>OpenSource</th>\n      <th>Employment</th>\n      <th>Country</th>\n      <th>Student</th>\n      <th>EdLevel</th>\n      <th>UndergradMajor</th>\n      <th>EduOther</th>\n      <th>OrgSize</th>\n      <th>DevType</th>\n      <th>YearsCode</th>\n      <th>Age1stCode</th>\n      <th>YearsCodePro</th>\n      <th>CareerSat</th>\n      <th>JobSat</th>\n      <th>MgrIdiot</th>\n      <th>MgrMoney</th>\n      <th>MgrWant</th>\n      <th>JobSeek</th>\n      <th>LastHireDate</th>\n      <th>LastInt</th>\n      <th>FizzBuzz</th>\n      <th>JobFactors</th>\n      <th>ResumeUpdate</th>\n      <th>CurrencySymbol</th>\n      <th>CurrencyDesc</th>\n      <th>CompTotal</th>\n      <th>CompFreq</th>\n      <th>ConvertedComp</th>\n      <th>WorkWeekHrs</th>\n      <th>WorkPlan</th>\n      <th>WorkChallenge</th>\n      <th>WorkRemote</th>\n      <th>WorkLoc</th>\n      <th>ImpSyn</th>\n      <th>CodeRev</th>\n      <th>CodeRevHrs</th>\n      <th>UnitTests</th>\n      <th>PurchaseHow</th>\n      <th>PurchaseWhat</th>\n      <th>LanguageWorkedWith</th>\n      <th>LanguageDesireNextYear</th>\n      <th>DatabaseWorkedWith</th>\n      <th>DatabaseDesireNextYear</th>\n      <th>PlatformWorkedWith</th>\n      <th>PlatformDesireNextYear</th>\n      <th>WebFrameWorkedWith</th>\n      <th>WebFrameDesireNextYear</th>\n      <th>MiscTechWorkedWith</th>\n      <th>MiscTechDesireNextYear</th>\n      <th>DevEnviron</th>\n      <th>OpSys</th>\n      <th>Containers</th>\n      <th>BlockchainOrg</th>\n      <th>BlockchainIs</th>\n      <th>BetterLife</th>\n      <th>ITperson</th>\n      <th>OffOn</th>\n      <th>SocialMedia</th>\n      <th>Extraversion</th>\n      <th>ScreenName</th>\n      <th>SOVisit1st</th>\n      <th>SOVisitFreq</th>\n      <th>SOVisitTo</th>\n      <th>SOFindAnswer</th>\n      <th>SOTimeSaved</th>\n      <th>SOHowMuchTime</th>\n      <th>SOAccount</th>\n      <th>SOPartFreq</th>\n      <th>SOJobs</th>\n      <th>EntTeams</th>\n      <th>SOComm</th>\n      <th>WelcomeChange</th>\n      <th>SONewContent</th>\n      <th>Age</th>\n      <th>Gender</th>\n      <th>Trans</th>\n      <th>Sexuality</th>\n      <th>Ethnicity</th>\n      <th>Dependents</th>\n      <th>SurveyLength</th>\n      <th>SurveyEase</th>\n    </tr>\n    <tr>\n      <th>Respondent</th>\n      <th></th>\n      <th></th>\n      <th></th>\n      <th></th>\n      <th></th>\n      <th></th>\n      <th></th>\n      <th></th>\n      <th></th>\n      <th></th>\n      <th></th>\n      <th></th>\n      <th></th>\n      <th></th>\n      <th></th>\n      <th></th>\n      <th></th>\n      <th></th>\n      <th></th>\n      <th></th>\n      <th></th>\n      <th></th>\n      <th></th>\n      <th></th>\n      <th></th>\n      <th></th>\n      <th></th>\n      <th></th>\n      <th></th>\n      <th></th>\n      <th></th>\n      <th></th>\n      <th></th>\n      <th></th>\n      <th></th>\n      <th></th>\n      <th></th>\n      <th></th>\n      <th></th>\n      <th></th>\n      <th></th>\n      <th></th>\n      <th></th>\n      <th></th>\n      <th></th>\n      <th></th>\n      <th></th>\n      <th></th>\n      <th></th>\n      <th></th>\n      <th></th>\n      <th></th>\n      <th></th>\n      <th></th>\n      <th></th>\n      <th></th>\n      <th></th>\n      <th></th>\n      <th></th>\n      <th></th>\n      <th></th>\n      <th></th>\n      <th></th>\n      <th></th>\n      <th></th>\n      <th></th>\n      <th></th>\n      <th></th>\n      <th></th>\n      <th></th>\n      <th></th>\n      <th></th>\n      <th></th>\n      <th></th>\n      <th></th>\n      <th></th>\n      <th></th>\n      <th></th>\n      <th></th>\n      <th></th>\n      <th></th>\n      <th></th>\n      <th></th>\n      <th></th>\n    </tr>\n  </thead>\n  <tbody>\n    <tr>\n      <th>8</th>\n      <td>I code primarily as a hobby</td>\n      <td>Yes</td>\n      <td>Less than once per year</td>\n      <td>OSS is, on average, of HIGHER quality than pro...</td>\n      <td>Not employed, but looking for work</td>\n      <td>India</td>\n      <td>NaN</td>\n      <td>Bachelor’s degree (BA, BS, B.Eng., etc.)</td>\n      <td>Computer science, computer engineering, or sof...</td>\n      <td>Taught yourself a new language, framework, or ...</td>\n      <td>NaN</td>\n      <td>Developer, back-end;Engineer, site reliability</td>\n      <td>8</td>\n      <td>16</td>\n      <td>NaN</td>\n      <td>NaN</td>\n      <td>NaN</td>\n      <td>NaN</td>\n      <td>NaN</td>\n      <td>NaN</td>\n      <td>NaN</td>\n      <td>NaN</td>\n      <td>NaN</td>\n      <td>NaN</td>\n      <td>NaN</td>\n      <td>NaN</td>\n      <td>NaN</td>\n      <td>NaN</td>\n      <td>NaN</td>\n      <td>NaN</td>\n      <td>NaN</td>\n      <td>NaN</td>\n      <td>NaN</td>\n      <td>NaN</td>\n      <td>NaN</td>\n      <td>NaN</td>\n      <td>NaN</td>\n      <td>NaN</td>\n      <td>NaN</td>\n      <td>NaN</td>\n      <td>NaN</td>\n      <td>NaN</td>\n      <td>Bash/Shell/PowerShell;C;C++;HTML/CSS;Java;Java...</td>\n      <td>Bash/Shell/PowerShell;C;C++;Elixir;Erlang;Go;P...</td>\n      <td>Cassandra;Elasticsearch;MongoDB;MySQL;Oracle;R...</td>\n      <td>Cassandra;DynamoDB;Elasticsearch;Firebase;Mong...</td>\n      <td>AWS;Docker;Heroku;Linux;MacOS;Slack</td>\n      <td>Android;Arduino;AWS;Docker;Google Cloud Platfo...</td>\n      <td>Express;Flask;React.js;Spring</td>\n      <td>Django;Express;Flask;React.js;Vue.js</td>\n      <td>Hadoop;Node.js;Pandas</td>\n      <td>Ansible;Apache Spark;Chef;Hadoop;Node.js;Panda...</td>\n      <td>Atom;IntelliJ;IPython / Jupyter;PyCharm;Visual...</td>\n      <td>Linux-based</td>\n      <td>Development;Testing;Production;Outside of work...</td>\n      <td>NaN</td>\n      <td>Useful across many domains and could change ma...</td>\n      <td>Yes</td>\n      <td>SIGH</td>\n      <td>Yes</td>\n      <td>YouTube</td>\n      <td>In real life (in person)</td>\n      <td>Handle</td>\n      <td>2012</td>\n      <td>A few times per week</td>\n      <td>Find answers to specific questions;Learn how t...</td>\n      <td>Less than once per week</td>\n      <td>Stack Overflow was slightly faster</td>\n      <td>11-30 minutes</td>\n      <td>Yes</td>\n      <td>Less than once per month or monthly</td>\n      <td>Yes</td>\n      <td>No, and I don't know what those are</td>\n      <td>Yes, definitely</td>\n      <td>A lot more welcome now than last year</td>\n      <td>Tech articles written by other developers;Indu...</td>\n      <td>24.0</td>\n      <td>Man</td>\n      <td>No</td>\n      <td>Straight / Heterosexual</td>\n      <td>NaN</td>\n      <td>NaN</td>\n      <td>Appropriate in length</td>\n      <td>Neither easy nor difficult</td>\n    </tr>\n    <tr>\n      <th>10</th>\n      <td>I am a developer by profession</td>\n      <td>Yes</td>\n      <td>Once a month or more often</td>\n      <td>OSS is, on average, of HIGHER quality than pro...</td>\n      <td>Employed full-time</td>\n      <td>India</td>\n      <td>No</td>\n      <td>Master’s degree (MA, MS, M.Eng., MBA, etc.)</td>\n      <td>NaN</td>\n      <td>NaN</td>\n      <td>10,000 or more employees</td>\n      <td>Data or business analyst;Data scientist or mac...</td>\n      <td>12</td>\n      <td>20</td>\n      <td>10</td>\n      <td>Slightly dissatisfied</td>\n      <td>Slightly dissatisfied</td>\n      <td>Somewhat confident</td>\n      <td>Yes</td>\n      <td>Yes</td>\n      <td>I’m not actively looking, but I am open to new...</td>\n      <td>3-4 years ago</td>\n      <td>NaN</td>\n      <td>No</td>\n      <td>Languages, frameworks, and other technologies ...</td>\n      <td>NaN</td>\n      <td>INR</td>\n      <td>Indian rupee</td>\n      <td>950000.0</td>\n      <td>Yearly</td>\n      <td>13293.0</td>\n      <td>70.0</td>\n      <td>There's no schedule or spec; I work on what se...</td>\n      <td>NaN</td>\n      <td>A few days each month</td>\n      <td>Home</td>\n      <td>Far above average</td>\n      <td>Yes, because I see value in code review</td>\n      <td>4.0</td>\n      <td>Yes, it's part of our process</td>\n      <td>NaN</td>\n      <td>NaN</td>\n      <td>C#;Go;JavaScript;Python;R;SQL</td>\n      <td>C#;Go;JavaScript;Kotlin;Python;R;SQL</td>\n      <td>Elasticsearch;MongoDB;Microsoft SQL Server;MyS...</td>\n      <td>Elasticsearch;MongoDB;Microsoft SQL Server</td>\n      <td>Linux;Windows</td>\n      <td>Android;Linux;Raspberry Pi;Windows</td>\n      <td>Angular/Angular.js;ASP.NET;Django;Express;Flas...</td>\n      <td>Angular/Angular.js;ASP.NET;Django;Express;Flas...</td>\n      <td>.NET;Node.js;Pandas;Torch/PyTorch</td>\n      <td>.NET;Node.js;TensorFlow;Torch/PyTorch</td>\n      <td>Android Studio;Eclipse;IPython / Jupyter;Notep...</td>\n      <td>Windows</td>\n      <td>NaN</td>\n      <td>Not at all</td>\n      <td>Useful for immutable record keeping outside of...</td>\n      <td>No</td>\n      <td>Yes</td>\n      <td>Yes</td>\n      <td>YouTube</td>\n      <td>Neither</td>\n      <td>Screen Name</td>\n      <td>NaN</td>\n      <td>Multiple times per day</td>\n      <td>Find answers to specific questions;Get a sense...</td>\n      <td>3-5 times per week</td>\n      <td>They were about the same</td>\n      <td>NaN</td>\n      <td>Yes</td>\n      <td>A few times per month or weekly</td>\n      <td>Yes</td>\n      <td>No, and I don't know what those are</td>\n      <td>Yes, somewhat</td>\n      <td>Somewhat less welcome now than last year</td>\n      <td>Tech articles written by other developers;Tech...</td>\n      <td>NaN</td>\n      <td>NaN</td>\n      <td>NaN</td>\n      <td>NaN</td>\n      <td>NaN</td>\n      <td>Yes</td>\n      <td>Too long</td>\n      <td>Difficult</td>\n    </tr>\n    <tr>\n      <th>15</th>\n      <td>I am a student who is learning to code</td>\n      <td>Yes</td>\n      <td>Never</td>\n      <td>OSS is, on average, of HIGHER quality than pro...</td>\n      <td>Not employed, but looking for work</td>\n      <td>India</td>\n      <td>Yes, full-time</td>\n      <td>Secondary school (e.g. American high school, G...</td>\n      <td>NaN</td>\n      <td>Taken an online course in programming or softw...</td>\n      <td>NaN</td>\n      <td>Student</td>\n      <td>3</td>\n      <td>13</td>\n      <td>NaN</td>\n      <td>NaN</td>\n      <td>NaN</td>\n      <td>NaN</td>\n      <td>NaN</td>\n      <td>NaN</td>\n      <td>I’m not actively looking, but I am open to new...</td>\n      <td>I've never had a job</td>\n      <td>NaN</td>\n      <td>NaN</td>\n      <td>Industry that I'd be working in;Languages, fra...</td>\n      <td>Something else changed (education, award, medi...</td>\n      <td>NaN</td>\n      <td>NaN</td>\n      <td>NaN</td>\n      <td>NaN</td>\n      <td>NaN</td>\n      <td>NaN</td>\n      <td>NaN</td>\n      <td>NaN</td>\n      <td>NaN</td>\n      <td>NaN</td>\n      <td>NaN</td>\n      <td>NaN</td>\n      <td>NaN</td>\n      <td>NaN</td>\n      <td>NaN</td>\n      <td>NaN</td>\n      <td>Assembly;Bash/Shell/PowerShell;C;C++;HTML/CSS;...</td>\n      <td>Assembly;Bash/Shell/PowerShell;C;C++;C#;Go;HTM...</td>\n      <td>MariaDB;MySQL;Oracle;SQLite</td>\n      <td>MariaDB;MongoDB;Microsoft SQL Server;MySQL;Ora...</td>\n      <td>Linux;Windows</td>\n      <td>Android;Google Cloud Platform;iOS;Linux;MacOS;...</td>\n      <td>NaN</td>\n      <td>Angular/Angular.js;ASP.NET;Django;Drupal;jQuer...</td>\n      <td>NaN</td>\n      <td>.NET;.NET Core;Node.js;TensorFlow;Unity 3D;Unr...</td>\n      <td>Atom;NetBeans;Notepad++;Sublime Text;Vim</td>\n      <td>Linux-based</td>\n      <td>Development</td>\n      <td>NaN</td>\n      <td>NaN</td>\n      <td>Yes</td>\n      <td>Yes</td>\n      <td>What?</td>\n      <td>YouTube</td>\n      <td>In real life (in person)</td>\n      <td>NaN</td>\n      <td>2018</td>\n      <td>Daily or almost daily</td>\n      <td>Find answers to specific questions;Learn how t...</td>\n      <td>More than 10 times per week</td>\n      <td>They were about the same</td>\n      <td>NaN</td>\n      <td>Yes</td>\n      <td>Less than once per month or monthly</td>\n      <td>Yes</td>\n      <td>No, I've heard of them, but I am not part of a...</td>\n      <td>Yes, somewhat</td>\n      <td>Just as welcome now as I felt last year</td>\n      <td>Tech articles written by other developers;Indu...</td>\n      <td>20.0</td>\n      <td>Man</td>\n      <td>No</td>\n      <td>NaN</td>\n      <td>NaN</td>\n      <td>Yes</td>\n      <td>Too long</td>\n      <td>Neither easy nor difficult</td>\n    </tr>\n  </tbody>\n</table>\n</div>",
      "text/plain": "                                        MainBranch Hobbyist  \\\nRespondent                                                    \n8                      I code primarily as a hobby      Yes   \n10                  I am a developer by profession      Yes   \n15          I am a student who is learning to code      Yes   \n\n                           OpenSourcer  \\\nRespondent                               \n8              Less than once per year   \n10          Once a month or more often   \n15                               Never   \n\n                                                   OpenSource  \\\nRespondent                                                      \n8           OSS is, on average, of HIGHER quality than pro...   \n10          OSS is, on average, of HIGHER quality than pro...   \n15          OSS is, on average, of HIGHER quality than pro...   \n\n                                    Employment Country         Student  \\\nRespondent                                                               \n8           Not employed, but looking for work   India             NaN   \n10                          Employed full-time   India              No   \n15          Not employed, but looking for work   India  Yes, full-time   \n\n                                                      EdLevel  \\\nRespondent                                                      \n8                    Bachelor’s degree (BA, BS, B.Eng., etc.)   \n10                Master’s degree (MA, MS, M.Eng., MBA, etc.)   \n15          Secondary school (e.g. American high school, G...   \n\n                                               UndergradMajor  \\\nRespondent                                                      \n8           Computer science, computer engineering, or sof...   \n10                                                        NaN   \n15                                                        NaN   \n\n                                                     EduOther  \\\nRespondent                                                      \n8           Taught yourself a new language, framework, or ...   \n10                                                        NaN   \n15          Taken an online course in programming or softw...   \n\n                             OrgSize  \\\nRespondent                             \n8                                NaN   \n10          10,000 or more employees   \n15                               NaN   \n\n                                                      DevType YearsCode  \\\nRespondent                                                                \n8              Developer, back-end;Engineer, site reliability         8   \n10          Data or business analyst;Data scientist or mac...        12   \n15                                                    Student         3   \n\n           Age1stCode YearsCodePro              CareerSat  \\\nRespondent                                                  \n8                  16          NaN                    NaN   \n10                 20           10  Slightly dissatisfied   \n15                 13          NaN                    NaN   \n\n                           JobSat            MgrIdiot MgrMoney MgrWant  \\\nRespondent                                                               \n8                             NaN                 NaN      NaN     NaN   \n10          Slightly dissatisfied  Somewhat confident      Yes     Yes   \n15                            NaN                 NaN      NaN     NaN   \n\n                                                      JobSeek  \\\nRespondent                                                      \n8                                                         NaN   \n10          I’m not actively looking, but I am open to new...   \n15          I’m not actively looking, but I am open to new...   \n\n                    LastHireDate LastInt FizzBuzz  \\\nRespondent                                          \n8                            NaN     NaN      NaN   \n10                 3-4 years ago     NaN       No   \n15          I've never had a job     NaN      NaN   \n\n                                                   JobFactors  \\\nRespondent                                                      \n8                                                         NaN   \n10          Languages, frameworks, and other technologies ...   \n15          Industry that I'd be working in;Languages, fra...   \n\n                                                 ResumeUpdate CurrencySymbol  \\\nRespondent                                                                     \n8                                                         NaN            NaN   \n10                                                        NaN            INR   \n15          Something else changed (education, award, medi...            NaN   \n\n            CurrencyDesc  CompTotal CompFreq  ConvertedComp  WorkWeekHrs  \\\nRespondent                                                                 \n8                    NaN        NaN      NaN            NaN          NaN   \n10          Indian rupee   950000.0   Yearly        13293.0         70.0   \n15                   NaN        NaN      NaN            NaN          NaN   \n\n                                                     WorkPlan WorkChallenge  \\\nRespondent                                                                    \n8                                                         NaN           NaN   \n10          There's no schedule or spec; I work on what se...           NaN   \n15                                                        NaN           NaN   \n\n                       WorkRemote WorkLoc             ImpSyn  \\\nRespondent                                                     \n8                             NaN     NaN                NaN   \n10          A few days each month    Home  Far above average   \n15                            NaN     NaN                NaN   \n\n                                            CodeRev  CodeRevHrs  \\\nRespondent                                                        \n8                                               NaN         NaN   \n10          Yes, because I see value in code review         4.0   \n15                                              NaN         NaN   \n\n                                UnitTests PurchaseHow PurchaseWhat  \\\nRespondent                                                           \n8                                     NaN         NaN          NaN   \n10          Yes, it's part of our process         NaN          NaN   \n15                                    NaN         NaN          NaN   \n\n                                           LanguageWorkedWith  \\\nRespondent                                                      \n8           Bash/Shell/PowerShell;C;C++;HTML/CSS;Java;Java...   \n10                              C#;Go;JavaScript;Python;R;SQL   \n15          Assembly;Bash/Shell/PowerShell;C;C++;HTML/CSS;...   \n\n                                       LanguageDesireNextYear  \\\nRespondent                                                      \n8           Bash/Shell/PowerShell;C;C++;Elixir;Erlang;Go;P...   \n10                       C#;Go;JavaScript;Kotlin;Python;R;SQL   \n15          Assembly;Bash/Shell/PowerShell;C;C++;C#;Go;HTM...   \n\n                                           DatabaseWorkedWith  \\\nRespondent                                                      \n8           Cassandra;Elasticsearch;MongoDB;MySQL;Oracle;R...   \n10          Elasticsearch;MongoDB;Microsoft SQL Server;MyS...   \n15                                MariaDB;MySQL;Oracle;SQLite   \n\n                                       DatabaseDesireNextYear  \\\nRespondent                                                      \n8           Cassandra;DynamoDB;Elasticsearch;Firebase;Mong...   \n10                 Elasticsearch;MongoDB;Microsoft SQL Server   \n15          MariaDB;MongoDB;Microsoft SQL Server;MySQL;Ora...   \n\n                             PlatformWorkedWith  \\\nRespondent                                        \n8           AWS;Docker;Heroku;Linux;MacOS;Slack   \n10                                Linux;Windows   \n15                                Linux;Windows   \n\n                                       PlatformDesireNextYear  \\\nRespondent                                                      \n8           Android;Arduino;AWS;Docker;Google Cloud Platfo...   \n10                         Android;Linux;Raspberry Pi;Windows   \n15          Android;Google Cloud Platform;iOS;Linux;MacOS;...   \n\n                                           WebFrameWorkedWith  \\\nRespondent                                                      \n8                               Express;Flask;React.js;Spring   \n10          Angular/Angular.js;ASP.NET;Django;Express;Flas...   \n15                                                        NaN   \n\n                                       WebFrameDesireNextYear  \\\nRespondent                                                      \n8                        Django;Express;Flask;React.js;Vue.js   \n10          Angular/Angular.js;ASP.NET;Django;Express;Flas...   \n15          Angular/Angular.js;ASP.NET;Django;Drupal;jQuer...   \n\n                           MiscTechWorkedWith  \\\nRespondent                                      \n8                       Hadoop;Node.js;Pandas   \n10          .NET;Node.js;Pandas;Torch/PyTorch   \n15                                        NaN   \n\n                                       MiscTechDesireNextYear  \\\nRespondent                                                      \n8           Ansible;Apache Spark;Chef;Hadoop;Node.js;Panda...   \n10                      .NET;Node.js;TensorFlow;Torch/PyTorch   \n15          .NET;.NET Core;Node.js;TensorFlow;Unity 3D;Unr...   \n\n                                                   DevEnviron        OpSys  \\\nRespondent                                                                   \n8           Atom;IntelliJ;IPython / Jupyter;PyCharm;Visual...  Linux-based   \n10          Android Studio;Eclipse;IPython / Jupyter;Notep...      Windows   \n15                   Atom;NetBeans;Notepad++;Sublime Text;Vim  Linux-based   \n\n                                                   Containers BlockchainOrg  \\\nRespondent                                                                    \n8           Development;Testing;Production;Outside of work...           NaN   \n10                                                        NaN    Not at all   \n15                                                Development           NaN   \n\n                                                 BlockchainIs BetterLife  \\\nRespondent                                                                 \n8           Useful across many domains and could change ma...        Yes   \n10          Useful for immutable record keeping outside of...         No   \n15                                                        NaN        Yes   \n\n           ITperson  OffOn SocialMedia              Extraversion   ScreenName  \\\nRespondent                                                                      \n8              SIGH    Yes     YouTube  In real life (in person)       Handle   \n10              Yes    Yes     YouTube                   Neither  Screen Name   \n15              Yes  What?     YouTube  In real life (in person)          NaN   \n\n           SOVisit1st             SOVisitFreq  \\\nRespondent                                      \n8                2012    A few times per week   \n10                NaN  Multiple times per day   \n15               2018   Daily or almost daily   \n\n                                                    SOVisitTo  \\\nRespondent                                                      \n8           Find answers to specific questions;Learn how t...   \n10          Find answers to specific questions;Get a sense...   \n15          Find answers to specific questions;Learn how t...   \n\n                           SOFindAnswer                         SOTimeSaved  \\\nRespondent                                                                    \n8               Less than once per week  Stack Overflow was slightly faster   \n10                   3-5 times per week            They were about the same   \n15          More than 10 times per week            They were about the same   \n\n            SOHowMuchTime SOAccount                           SOPartFreq  \\\nRespondent                                                                 \n8           11-30 minutes       Yes  Less than once per month or monthly   \n10                    NaN       Yes      A few times per month or weekly   \n15                    NaN       Yes  Less than once per month or monthly   \n\n           SOJobs                                           EntTeams  \\\nRespondent                                                             \n8             Yes                No, and I don't know what those are   \n10            Yes                No, and I don't know what those are   \n15            Yes  No, I've heard of them, but I am not part of a...   \n\n                     SOComm                             WelcomeChange  \\\nRespondent                                                              \n8           Yes, definitely     A lot more welcome now than last year   \n10            Yes, somewhat  Somewhat less welcome now than last year   \n15            Yes, somewhat   Just as welcome now as I felt last year   \n\n                                                 SONewContent   Age Gender  \\\nRespondent                                                                   \n8           Tech articles written by other developers;Indu...  24.0    Man   \n10          Tech articles written by other developers;Tech...   NaN    NaN   \n15          Tech articles written by other developers;Indu...  20.0    Man   \n\n           Trans                Sexuality Ethnicity Dependents  \\\nRespondent                                                       \n8             No  Straight / Heterosexual       NaN        NaN   \n10           NaN                      NaN       NaN        Yes   \n15            No                      NaN       NaN        Yes   \n\n                     SurveyLength                  SurveyEase  \nRespondent                                                     \n8           Appropriate in length  Neither easy nor difficult  \n10                       Too long                   Difficult  \n15                       Too long  Neither easy nor difficult  "
     },
     "execution_count": 26,
     "metadata": {},
     "output_type": "execute_result"
    }
   ],
   "source": [
    "filt = df.Country == 'India'\n",
    "df.loc[filt].head(3)"
   ]
  },
  {
   "cell_type": "code",
   "execution_count": 29,
   "metadata": {},
   "outputs": [
    {
     "data": {
      "text/plain": "WhatsApp                    2990\nYouTube                     1820\nLinkedIn                     955\nFacebook                     841\nInstagram                    822\nTwitter                      542\nReddit                       473\nI don't use social media     250\nSnapchat                      23\nWeChat 微信                      5\nHello                          5\nVK ВКонта́кте                  4\nYouku Tudou 优酷                 2\nWeibo 新浪微博                     1\nName: SocialMedia, dtype: int64"
     },
     "execution_count": 29,
     "metadata": {},
     "output_type": "execute_result"
    }
   ],
   "source": [
    "df.loc[df.Country == 'India']['SocialMedia'].value_counts()"
   ]
  },
  {
   "cell_type": "code",
   "execution_count": 31,
   "metadata": {},
   "outputs": [
    {
     "data": {
      "text/plain": "Country      SocialMedia             \nAfghanistan  Facebook                    15\n             YouTube                      9\n             I don't use social media     6\n             WhatsApp                     4\n             Instagram                    1\n             LinkedIn                     1\n             Twitter                      1\nAlbania      WhatsApp                    18\n             Facebook                    16\n             Instagram                   13\nName: SocialMedia, dtype: int64"
     },
     "execution_count": 31,
     "metadata": {},
     "output_type": "execute_result"
    }
   ],
   "source": [
    "df.groupby(by='Country')['SocialMedia'].value_counts().head(10)"
   ]
  },
  {
   "cell_type": "code",
   "execution_count": 32,
   "metadata": {},
   "outputs": [
    {
     "data": {
      "text/plain": "SocialMedia\nWhatsApp                    2990\nYouTube                     1820\nLinkedIn                     955\nFacebook                     841\nInstagram                    822\nTwitter                      542\nReddit                       473\nI don't use social media     250\nSnapchat                      23\nHello                          5\nWeChat 微信                      5\nVK ВКонта́кте                  4\nYouku Tudou 优酷                 2\nWeibo 新浪微博                     1\nName: SocialMedia, dtype: int64"
     },
     "execution_count": 32,
     "metadata": {},
     "output_type": "execute_result"
    }
   ],
   "source": [
    "df.groupby(by='Country')['SocialMedia'].value_counts().loc['India']"
   ]
  },
  {
   "cell_type": "code",
   "execution_count": 34,
   "metadata": {},
   "outputs": [
    {
     "data": {
      "text/plain": "2990"
     },
     "execution_count": 34,
     "metadata": {},
     "output_type": "execute_result"
    }
   ],
   "source": [
    "df.groupby(by='Country')['SocialMedia'].value_counts().loc['India'].loc['WhatsApp']"
   ]
  },
  {
   "cell_type": "code",
   "execution_count": 42,
   "metadata": {},
   "outputs": [
    {
     "data": {
      "text/plain": "SocialMedia\nWeChat 微信                   0.670549\nYouTube                     0.088186\nWeibo 新浪微博                  0.069884\nTwitter                     0.044925\nI don't use social media    0.044925\nReddit                      0.019967\nLinkedIn                    0.018303\nFacebook                    0.013311\nYouku Tudou 优酷              0.011647\nInstagram                   0.011647\nWhatsApp                    0.004992\nVK ВКонта́кте               0.001664\nName: SocialMedia, dtype: float64"
     },
     "execution_count": 42,
     "metadata": {},
     "output_type": "execute_result"
    }
   ],
   "source": [
    "df.groupby(by = 'Country')['SocialMedia'].value_counts(normalize = True).sort_values(ascending = False).loc['China']"
   ]
  },
  {
   "cell_type": "code",
   "execution_count": 43,
   "metadata": {},
   "outputs": [
    {
     "data": {
      "text/plain": "Country\nAfghanistan                             101953.333333\nAlbania                                  21833.700000\nAlgeria                                  34924.047619\nAndorra                                 160931.000000\nAngola                                    7764.000000\n                                            ...      \nVenezuela, Bolivarian Republic of...     14581.627907\nViet Nam                                 17233.436782\nYemen                                    16909.166667\nZambia                                   10075.375000\nZimbabwe                                 34046.666667\nName: ConvertedComp, Length: 179, dtype: float64"
     },
     "execution_count": 43,
     "metadata": {},
     "output_type": "execute_result"
    }
   ],
   "source": [
    "df.groupby(by = 'Country')['ConvertedComp'].mean()"
   ]
  },
  {
   "cell_type": "code",
   "execution_count": 49,
   "metadata": {},
   "outputs": [
    {
     "data": {
      "text/plain": "(88883, 84)"
     },
     "execution_count": 49,
     "metadata": {},
     "output_type": "execute_result"
    }
   ],
   "source": [
    "df.shape"
   ]
  },
  {
   "cell_type": "code",
   "execution_count": 51,
   "metadata": {},
   "outputs": [
    {
     "data": {
      "text/html": "<div>\n<style scoped>\n    .dataframe tbody tr th:only-of-type {\n        vertical-align: middle;\n    }\n\n    .dataframe tbody tr th {\n        vertical-align: top;\n    }\n\n    .dataframe thead th {\n        text-align: right;\n    }\n</style>\n<table border=\"1\" class=\"dataframe\">\n  <thead>\n    <tr style=\"text-align: right;\">\n      <th></th>\n      <th>median</th>\n      <th>mean</th>\n    </tr>\n    <tr>\n      <th>Country</th>\n      <th></th>\n      <th></th>\n    </tr>\n  </thead>\n  <tbody>\n    <tr>\n      <th>Afghanistan</th>\n      <td>6222.0</td>\n      <td>101953.333333</td>\n    </tr>\n    <tr>\n      <th>Albania</th>\n      <td>10818.0</td>\n      <td>21833.700000</td>\n    </tr>\n    <tr>\n      <th>Algeria</th>\n      <td>7878.0</td>\n      <td>34924.047619</td>\n    </tr>\n    <tr>\n      <th>Andorra</th>\n      <td>160931.0</td>\n      <td>160931.000000</td>\n    </tr>\n    <tr>\n      <th>Angola</th>\n      <td>7764.0</td>\n      <td>7764.000000</td>\n    </tr>\n    <tr>\n      <th>...</th>\n      <td>...</td>\n      <td>...</td>\n    </tr>\n    <tr>\n      <th>Venezuela, Bolivarian Republic of...</th>\n      <td>6384.0</td>\n      <td>14581.627907</td>\n    </tr>\n    <tr>\n      <th>Viet Nam</th>\n      <td>11892.0</td>\n      <td>17233.436782</td>\n    </tr>\n    <tr>\n      <th>Yemen</th>\n      <td>11940.0</td>\n      <td>16909.166667</td>\n    </tr>\n    <tr>\n      <th>Zambia</th>\n      <td>5040.0</td>\n      <td>10075.375000</td>\n    </tr>\n    <tr>\n      <th>Zimbabwe</th>\n      <td>19200.0</td>\n      <td>34046.666667</td>\n    </tr>\n  </tbody>\n</table>\n<p>179 rows × 2 columns</p>\n</div>",
      "text/plain": "                                        median           mean\nCountry                                                      \nAfghanistan                             6222.0  101953.333333\nAlbania                                10818.0   21833.700000\nAlgeria                                 7878.0   34924.047619\nAndorra                               160931.0  160931.000000\nAngola                                  7764.0    7764.000000\n...                                        ...            ...\nVenezuela, Bolivarian Republic of...    6384.0   14581.627907\nViet Nam                               11892.0   17233.436782\nYemen                                  11940.0   16909.166667\nZambia                                  5040.0   10075.375000\nZimbabwe                               19200.0   34046.666667\n\n[179 rows x 2 columns]"
     },
     "execution_count": 51,
     "metadata": {},
     "output_type": "execute_result"
    }
   ],
   "source": [
    "df.groupby(by = 'Country')['ConvertedComp'].agg(['median', 'mean'])"
   ]
  },
  {
   "cell_type": "code",
   "execution_count": 56,
   "metadata": {},
   "outputs": [
    {
     "data": {
      "text/html": "<div>\n<style scoped>\n    .dataframe tbody tr th:only-of-type {\n        vertical-align: middle;\n    }\n\n    .dataframe tbody tr th {\n        vertical-align: top;\n    }\n\n    .dataframe thead tr th {\n        text-align: left;\n    }\n\n    .dataframe thead tr:last-of-type th {\n        text-align: right;\n    }\n</style>\n<table border=\"1\" class=\"dataframe\">\n  <thead>\n    <tr>\n      <th></th>\n      <th></th>\n      <th colspan=\"2\" halign=\"left\">ConvertedComp</th>\n      <th colspan=\"2\" halign=\"left\">CompTotal</th>\n    </tr>\n    <tr>\n      <th></th>\n      <th></th>\n      <th>mean</th>\n      <th>median</th>\n      <th>mean</th>\n      <th>median</th>\n    </tr>\n    <tr>\n      <th>Country</th>\n      <th>Gender</th>\n      <th></th>\n      <th></th>\n      <th></th>\n      <th></th>\n    </tr>\n  </thead>\n  <tbody>\n    <tr>\n      <th rowspan=\"4\" valign=\"top\">Afghanistan</th>\n      <th>Man</th>\n      <td>8778.000000</td>\n      <td>6222.0</td>\n      <td>55000.000000</td>\n      <td>39000.0</td>\n    </tr>\n    <tr>\n      <th>Non-binary, genderqueer, or gender non-conforming</th>\n      <td>NaN</td>\n      <td>NaN</td>\n      <td>NaN</td>\n      <td>NaN</td>\n    </tr>\n    <tr>\n      <th>Woman</th>\n      <td>NaN</td>\n      <td>NaN</td>\n      <td>NaN</td>\n      <td>NaN</td>\n    </tr>\n    <tr>\n      <th>Woman;Man;Non-binary, genderqueer, or gender non-conforming</th>\n      <td>NaN</td>\n      <td>NaN</td>\n      <td>NaN</td>\n      <td>NaN</td>\n    </tr>\n    <tr>\n      <th>Albania</th>\n      <th>Man</th>\n      <td>24126.214286</td>\n      <td>11922.0</td>\n      <td>186360.000000</td>\n      <td>62500.0</td>\n    </tr>\n    <tr>\n      <th>...</th>\n      <th>...</th>\n      <td>...</td>\n      <td>...</td>\n      <td>...</td>\n      <td>...</td>\n    </tr>\n    <tr>\n      <th>Yemen</th>\n      <th>Woman;Man</th>\n      <td>NaN</td>\n      <td>NaN</td>\n      <td>NaN</td>\n      <td>NaN</td>\n    </tr>\n    <tr>\n      <th rowspan=\"2\" valign=\"top\">Zambia</th>\n      <th>Man</th>\n      <td>11190.714286</td>\n      <td>5040.0</td>\n      <td>31385.714286</td>\n      <td>5000.0</td>\n    </tr>\n    <tr>\n      <th>Woman</th>\n      <td>2268.000000</td>\n      <td>2268.0</td>\n      <td>2250.000000</td>\n      <td>2250.0</td>\n    </tr>\n    <tr>\n      <th rowspan=\"2\" valign=\"top\">Zimbabwe</th>\n      <th>Man</th>\n      <td>34046.666667</td>\n      <td>19200.0</td>\n      <td>7841.666667</td>\n      <td>1600.0</td>\n    </tr>\n    <tr>\n      <th>Woman</th>\n      <td>NaN</td>\n      <td>NaN</td>\n      <td>NaN</td>\n      <td>NaN</td>\n    </tr>\n  </tbody>\n</table>\n<p>539 rows × 4 columns</p>\n</div>",
      "text/plain": "                                                               ConvertedComp  \\\n                                                                        mean   \nCountry     Gender                                                             \nAfghanistan Man                                                  8778.000000   \n            Non-binary, genderqueer, or gender non-conforming            NaN   \n            Woman                                                        NaN   \n            Woman;Man;Non-binary, genderqueer, or gender no...           NaN   \nAlbania     Man                                                 24126.214286   \n...                                                                      ...   \nYemen       Woman;Man                                                    NaN   \nZambia      Man                                                 11190.714286   \n            Woman                                                2268.000000   \nZimbabwe    Man                                                 34046.666667   \n            Woman                                                        NaN   \n\n                                                                         \\\n                                                                 median   \nCountry     Gender                                                        \nAfghanistan Man                                                  6222.0   \n            Non-binary, genderqueer, or gender non-conforming       NaN   \n            Woman                                                   NaN   \n            Woman;Man;Non-binary, genderqueer, or gender no...      NaN   \nAlbania     Man                                                 11922.0   \n...                                                                 ...   \nYemen       Woman;Man                                               NaN   \nZambia      Man                                                  5040.0   \n            Woman                                                2268.0   \nZimbabwe    Man                                                 19200.0   \n            Woman                                                   NaN   \n\n                                                                    CompTotal  \\\n                                                                         mean   \nCountry     Gender                                                              \nAfghanistan Man                                                  55000.000000   \n            Non-binary, genderqueer, or gender non-conforming             NaN   \n            Woman                                                         NaN   \n            Woman;Man;Non-binary, genderqueer, or gender no...            NaN   \nAlbania     Man                                                 186360.000000   \n...                                                                       ...   \nYemen       Woman;Man                                                     NaN   \nZambia      Man                                                  31385.714286   \n            Woman                                                 2250.000000   \nZimbabwe    Man                                                   7841.666667   \n            Woman                                                         NaN   \n\n                                                                         \n                                                                 median  \nCountry     Gender                                                       \nAfghanistan Man                                                 39000.0  \n            Non-binary, genderqueer, or gender non-conforming       NaN  \n            Woman                                                   NaN  \n            Woman;Man;Non-binary, genderqueer, or gender no...      NaN  \nAlbania     Man                                                 62500.0  \n...                                                                 ...  \nYemen       Woman;Man                                               NaN  \nZambia      Man                                                  5000.0  \n            Woman                                                2250.0  \nZimbabwe    Man                                                  1600.0  \n            Woman                                                   NaN  \n\n[539 rows x 4 columns]"
     },
     "execution_count": 56,
     "metadata": {},
     "output_type": "execute_result"
    }
   ],
   "source": [
    "df.groupby(by = ['Country', 'Gender'])[['ConvertedComp', 'CompTotal']].agg(['mean', 'median'])"
   ]
  },
  {
   "cell_type": "code",
   "execution_count": 66,
   "metadata": {},
   "outputs": [
    {
     "data": {
      "text/plain": "36443"
     },
     "execution_count": 66,
     "metadata": {},
     "output_type": "execute_result"
    }
   ],
   "source": [
    "df.groupby(by = 'Country')['LanguageWorkedWith'].apply(lambda x: x.str.contains('Python')).sum()"
   ]
  },
  {
   "cell_type": "code",
   "execution_count": 68,
   "metadata": {},
   "outputs": [
    {
     "data": {
      "text/plain": "Country\nUnited States     10083\nIndia              3105\nGermany            2451\nUnited Kingdom     2384\nCanada             1558\n                  ...  \nMalawi                0\nTonga                 0\nDjibouti              0\nLiberia               0\nCape Verde            0\nName: LanguageWorkedWith, Length: 179, dtype: int64"
     },
     "execution_count": 68,
     "metadata": {},
     "output_type": "execute_result"
    }
   ],
   "source": [
    "df.groupby(by = 'Country')['LanguageWorkedWith'].apply(lambda x: x.str.contains('Python').sum()).sort_values(ascending = False)\n",
    "# notice the difference in the cell above, result changes basis position of the sum function"
   ]
  },
  {
   "cell_type": "code",
   "execution_count": 64,
   "metadata": {},
   "outputs": [
    {
     "data": {
      "text/plain": "3105"
     },
     "execution_count": 64,
     "metadata": {},
     "output_type": "execute_result"
    }
   ],
   "source": [
    "df.loc[df.Country == 'India']['LanguageWorkedWith'].str.contains('Python').sum()"
   ]
  },
  {
   "cell_type": "code",
   "execution_count": 70,
   "metadata": {},
   "outputs": [
    {
     "data": {
      "text/plain": "Country           \nAfghanistan  False    0.794872\n             True     0.205128\nAlbania      False    0.722892\n             True     0.277108\nAlgeria      False    0.682540\n                        ...   \nYemen        True     0.176471\nZambia       False    0.666667\n             True     0.333333\nZimbabwe     False    0.641026\n             True     0.358974\nName: LanguageWorkedWith, Length: 335, dtype: float64"
     },
     "execution_count": 70,
     "metadata": {},
     "output_type": "execute_result"
    }
   ],
   "source": [
    "df.groupby(by = 'Country')['LanguageWorkedWith'].apply(lambda x: x.str.contains('Python').value_counts(normalize = True))"
   ]
  },
  {
   "cell_type": "code",
   "execution_count": 80,
   "metadata": {},
   "outputs": [
    {
     "data": {
      "text/plain": "0.20512820512820512"
     },
     "execution_count": 80,
     "metadata": {},
     "output_type": "execute_result"
    }
   ],
   "source": [
    "df.groupby(by = 'Country')['LanguageWorkedWith'].apply(lambda x: x.str.contains('Python').value_counts(normalize = True)).loc['Afghanistan'].loc[True]"
   ]
  },
  {
   "cell_type": "markdown",
   "metadata": {},
   "source": [
    "## Video Part 9"
   ]
  },
  {
   "cell_type": "code",
   "execution_count": 81,
   "metadata": {},
   "outputs": [],
   "source": [
    "import numpy as np\n",
    "import pandas as pd\n",
    "\n",
    "people = {\n",
    "    'fname' : ['Corey', 'Suminder', 'Ankit', 'Ujjwal', np.nan, None, 'NA'],\n",
    "    'lname' : ['Schafer', 'Singh', 'Bhola', np.nan, None, 'Missing', np.nan],\n",
    "    'age' : [23, 34, 54, 12, np.nan, None, None]\n",
    "}\n",
    "\n",
    "df = pd.DataFrame(people)"
   ]
  },
  {
   "cell_type": "code",
   "execution_count": 82,
   "metadata": {},
   "outputs": [
    {
     "data": {
      "text/html": "<div>\n<style scoped>\n    .dataframe tbody tr th:only-of-type {\n        vertical-align: middle;\n    }\n\n    .dataframe tbody tr th {\n        vertical-align: top;\n    }\n\n    .dataframe thead th {\n        text-align: right;\n    }\n</style>\n<table border=\"1\" class=\"dataframe\">\n  <thead>\n    <tr style=\"text-align: right;\">\n      <th></th>\n      <th>fname</th>\n      <th>lname</th>\n      <th>age</th>\n    </tr>\n  </thead>\n  <tbody>\n    <tr>\n      <th>0</th>\n      <td>Corey</td>\n      <td>Schafer</td>\n      <td>23.0</td>\n    </tr>\n    <tr>\n      <th>1</th>\n      <td>Suminder</td>\n      <td>Singh</td>\n      <td>34.0</td>\n    </tr>\n    <tr>\n      <th>2</th>\n      <td>Ankit</td>\n      <td>Bhola</td>\n      <td>54.0</td>\n    </tr>\n    <tr>\n      <th>3</th>\n      <td>Ujjwal</td>\n      <td>NaN</td>\n      <td>12.0</td>\n    </tr>\n    <tr>\n      <th>4</th>\n      <td>NaN</td>\n      <td>None</td>\n      <td>NaN</td>\n    </tr>\n    <tr>\n      <th>5</th>\n      <td>None</td>\n      <td>Missing</td>\n      <td>NaN</td>\n    </tr>\n    <tr>\n      <th>6</th>\n      <td>NA</td>\n      <td>NaN</td>\n      <td>NaN</td>\n    </tr>\n  </tbody>\n</table>\n</div>",
      "text/plain": "      fname    lname   age\n0     Corey  Schafer  23.0\n1  Suminder    Singh  34.0\n2     Ankit    Bhola  54.0\n3    Ujjwal      NaN  12.0\n4       NaN     None   NaN\n5      None  Missing   NaN\n6        NA      NaN   NaN"
     },
     "execution_count": 82,
     "metadata": {},
     "output_type": "execute_result"
    }
   ],
   "source": [
    "df"
   ]
  },
  {
   "cell_type": "code",
   "execution_count": 83,
   "metadata": {},
   "outputs": [
    {
     "data": {
      "text/html": "<div>\n<style scoped>\n    .dataframe tbody tr th:only-of-type {\n        vertical-align: middle;\n    }\n\n    .dataframe tbody tr th {\n        vertical-align: top;\n    }\n\n    .dataframe thead th {\n        text-align: right;\n    }\n</style>\n<table border=\"1\" class=\"dataframe\">\n  <thead>\n    <tr style=\"text-align: right;\">\n      <th></th>\n      <th>fname</th>\n      <th>lname</th>\n      <th>age</th>\n    </tr>\n  </thead>\n  <tbody>\n    <tr>\n      <th>0</th>\n      <td>Corey</td>\n      <td>Schafer</td>\n      <td>23.0</td>\n    </tr>\n    <tr>\n      <th>1</th>\n      <td>Suminder</td>\n      <td>Singh</td>\n      <td>34.0</td>\n    </tr>\n    <tr>\n      <th>2</th>\n      <td>Ankit</td>\n      <td>Bhola</td>\n      <td>54.0</td>\n    </tr>\n  </tbody>\n</table>\n</div>",
      "text/plain": "      fname    lname   age\n0     Corey  Schafer  23.0\n1  Suminder    Singh  34.0\n2     Ankit    Bhola  54.0"
     },
     "execution_count": 83,
     "metadata": {},
     "output_type": "execute_result"
    }
   ],
   "source": [
    "df.dropna()"
   ]
  },
  {
   "cell_type": "code",
   "execution_count": 84,
   "metadata": {},
   "outputs": [
    {
     "data": {
      "text/html": "<div>\n<style scoped>\n    .dataframe tbody tr th:only-of-type {\n        vertical-align: middle;\n    }\n\n    .dataframe tbody tr th {\n        vertical-align: top;\n    }\n\n    .dataframe thead th {\n        text-align: right;\n    }\n</style>\n<table border=\"1\" class=\"dataframe\">\n  <thead>\n    <tr style=\"text-align: right;\">\n      <th></th>\n      <th>fname</th>\n      <th>lname</th>\n      <th>age</th>\n    </tr>\n  </thead>\n  <tbody>\n    <tr>\n      <th>0</th>\n      <td>Corey</td>\n      <td>Schafer</td>\n      <td>23.0</td>\n    </tr>\n    <tr>\n      <th>1</th>\n      <td>Suminder</td>\n      <td>Singh</td>\n      <td>34.0</td>\n    </tr>\n    <tr>\n      <th>2</th>\n      <td>Ankit</td>\n      <td>Bhola</td>\n      <td>54.0</td>\n    </tr>\n  </tbody>\n</table>\n</div>",
      "text/plain": "      fname    lname   age\n0     Corey  Schafer  23.0\n1  Suminder    Singh  34.0\n2     Ankit    Bhola  54.0"
     },
     "execution_count": 84,
     "metadata": {},
     "output_type": "execute_result"
    }
   ],
   "source": [
    "df.dropna(axis = 'index', how = 'any')"
   ]
  },
  {
   "cell_type": "code",
   "execution_count": 85,
   "metadata": {},
   "outputs": [
    {
     "data": {
      "text/html": "<div>\n<style scoped>\n    .dataframe tbody tr th:only-of-type {\n        vertical-align: middle;\n    }\n\n    .dataframe tbody tr th {\n        vertical-align: top;\n    }\n\n    .dataframe thead th {\n        text-align: right;\n    }\n</style>\n<table border=\"1\" class=\"dataframe\">\n  <thead>\n    <tr style=\"text-align: right;\">\n      <th></th>\n      <th>fname</th>\n      <th>lname</th>\n      <th>age</th>\n    </tr>\n  </thead>\n  <tbody>\n    <tr>\n      <th>0</th>\n      <td>Corey</td>\n      <td>Schafer</td>\n      <td>23.0</td>\n    </tr>\n    <tr>\n      <th>1</th>\n      <td>Suminder</td>\n      <td>Singh</td>\n      <td>34.0</td>\n    </tr>\n    <tr>\n      <th>2</th>\n      <td>Ankit</td>\n      <td>Bhola</td>\n      <td>54.0</td>\n    </tr>\n    <tr>\n      <th>3</th>\n      <td>Ujjwal</td>\n      <td>NaN</td>\n      <td>12.0</td>\n    </tr>\n    <tr>\n      <th>5</th>\n      <td>None</td>\n      <td>Missing</td>\n      <td>NaN</td>\n    </tr>\n    <tr>\n      <th>6</th>\n      <td>NA</td>\n      <td>NaN</td>\n      <td>NaN</td>\n    </tr>\n  </tbody>\n</table>\n</div>",
      "text/plain": "      fname    lname   age\n0     Corey  Schafer  23.0\n1  Suminder    Singh  34.0\n2     Ankit    Bhola  54.0\n3    Ujjwal      NaN  12.0\n5      None  Missing   NaN\n6        NA      NaN   NaN"
     },
     "execution_count": 85,
     "metadata": {},
     "output_type": "execute_result"
    }
   ],
   "source": [
    "df.dropna(axis = 'index', how ='all')"
   ]
  },
  {
   "cell_type": "code",
   "execution_count": 86,
   "metadata": {},
   "outputs": [
    {
     "data": {
      "text/html": "<div>\n<style scoped>\n    .dataframe tbody tr th:only-of-type {\n        vertical-align: middle;\n    }\n\n    .dataframe tbody tr th {\n        vertical-align: top;\n    }\n\n    .dataframe thead th {\n        text-align: right;\n    }\n</style>\n<table border=\"1\" class=\"dataframe\">\n  <thead>\n    <tr style=\"text-align: right;\">\n      <th></th>\n    </tr>\n  </thead>\n  <tbody>\n    <tr>\n      <th>0</th>\n    </tr>\n    <tr>\n      <th>1</th>\n    </tr>\n    <tr>\n      <th>2</th>\n    </tr>\n    <tr>\n      <th>3</th>\n    </tr>\n    <tr>\n      <th>4</th>\n    </tr>\n    <tr>\n      <th>5</th>\n    </tr>\n    <tr>\n      <th>6</th>\n    </tr>\n  </tbody>\n</table>\n</div>",
      "text/plain": "Empty DataFrame\nColumns: []\nIndex: [0, 1, 2, 3, 4, 5, 6]"
     },
     "execution_count": 86,
     "metadata": {},
     "output_type": "execute_result"
    }
   ],
   "source": [
    "df.dropna(axis = 'columns', how = 'any')"
   ]
  },
  {
   "cell_type": "code",
   "execution_count": 90,
   "metadata": {},
   "outputs": [
    {
     "data": {
      "text/html": "<div>\n<style scoped>\n    .dataframe tbody tr th:only-of-type {\n        vertical-align: middle;\n    }\n\n    .dataframe tbody tr th {\n        vertical-align: top;\n    }\n\n    .dataframe thead th {\n        text-align: right;\n    }\n</style>\n<table border=\"1\" class=\"dataframe\">\n  <thead>\n    <tr style=\"text-align: right;\">\n      <th></th>\n      <th>fname</th>\n      <th>lname</th>\n      <th>age</th>\n    </tr>\n  </thead>\n  <tbody>\n    <tr>\n      <th>0</th>\n      <td>Corey</td>\n      <td>Schafer</td>\n      <td>23.0</td>\n    </tr>\n    <tr>\n      <th>1</th>\n      <td>Suminder</td>\n      <td>Singh</td>\n      <td>34.0</td>\n    </tr>\n    <tr>\n      <th>2</th>\n      <td>Ankit</td>\n      <td>Bhola</td>\n      <td>54.0</td>\n    </tr>\n    <tr>\n      <th>3</th>\n      <td>Ujjwal</td>\n      <td>NaN</td>\n      <td>12.0</td>\n    </tr>\n  </tbody>\n</table>\n</div>",
      "text/plain": "      fname    lname   age\n0     Corey  Schafer  23.0\n1  Suminder    Singh  34.0\n2     Ankit    Bhola  54.0\n3    Ujjwal      NaN  12.0"
     },
     "execution_count": 90,
     "metadata": {},
     "output_type": "execute_result"
    }
   ],
   "source": [
    "df.dropna(axis = 'index', how = 'any', subset = ['age'])"
   ]
  },
  {
   "cell_type": "code",
   "execution_count": 91,
   "metadata": {},
   "outputs": [
    {
     "data": {
      "text/html": "<div>\n<style scoped>\n    .dataframe tbody tr th:only-of-type {\n        vertical-align: middle;\n    }\n\n    .dataframe tbody tr th {\n        vertical-align: top;\n    }\n\n    .dataframe thead th {\n        text-align: right;\n    }\n</style>\n<table border=\"1\" class=\"dataframe\">\n  <thead>\n    <tr style=\"text-align: right;\">\n      <th></th>\n      <th>fname</th>\n      <th>lname</th>\n      <th>age</th>\n    </tr>\n  </thead>\n  <tbody>\n    <tr>\n      <th>0</th>\n      <td>Corey</td>\n      <td>Schafer</td>\n      <td>23.0</td>\n    </tr>\n    <tr>\n      <th>1</th>\n      <td>Suminder</td>\n      <td>Singh</td>\n      <td>34.0</td>\n    </tr>\n    <tr>\n      <th>2</th>\n      <td>Ankit</td>\n      <td>Bhola</td>\n      <td>54.0</td>\n    </tr>\n  </tbody>\n</table>\n</div>",
      "text/plain": "      fname    lname   age\n0     Corey  Schafer  23.0\n1  Suminder    Singh  34.0\n2     Ankit    Bhola  54.0"
     },
     "execution_count": 91,
     "metadata": {},
     "output_type": "execute_result"
    }
   ],
   "source": [
    "df.dropna(axis = 'index', how = 'any', subset = ['age', 'lname'])"
   ]
  }
 ],
 "metadata": {
  "kernelspec": {
   "display_name": "Python 3.9.5 64-bit ('py39': conda)",
   "name": "python395jvsc74a57bd0ce669b1ba2047c160fc1d3d4af30333e47dfbab10acf13e5d92699a559b99d3c"
  },
  "language_info": {
   "codemirror_mode": {
    "name": "ipython",
    "version": 3
   },
   "file_extension": ".py",
   "mimetype": "text/x-python",
   "name": "python",
   "nbconvert_exporter": "python",
   "pygments_lexer": "ipython3",
   "version": "3.9.5"
  },
  "metadata": {
   "interpreter": {
    "hash": "ce669b1ba2047c160fc1d3d4af30333e47dfbab10acf13e5d92699a559b99d3c"
   }
  },
  "orig_nbformat": 2
 },
 "nbformat": 4,
 "nbformat_minor": 2
}