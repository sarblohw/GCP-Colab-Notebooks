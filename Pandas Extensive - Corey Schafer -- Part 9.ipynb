{
 "cells": [
  {
   "cell_type": "code",
   "execution_count": 2,
   "metadata": {},
   "outputs": [],
   "source": [
    "import pandas as pd\n",
    "import numpy as np"
   ]
  },
  {
   "cell_type": "code",
   "execution_count": 3,
   "metadata": {},
   "outputs": [],
   "source": [
    "df = pd.read_csv('/home/noor/Dropbox/Python Sessions/code_snippets-master/Python/Pandas/10-Datetime-Timeseries/ETH_1h.csv')"
   ]
  },
  {
   "cell_type": "code",
   "execution_count": 4,
   "metadata": {},
   "outputs": [
    {
     "data": {
      "text/html": "<div>\n<style scoped>\n    .dataframe tbody tr th:only-of-type {\n        vertical-align: middle;\n    }\n\n    .dataframe tbody tr th {\n        vertical-align: top;\n    }\n\n    .dataframe thead th {\n        text-align: right;\n    }\n</style>\n<table border=\"1\" class=\"dataframe\">\n  <thead>\n    <tr style=\"text-align: right;\">\n      <th></th>\n      <th>Date</th>\n      <th>Symbol</th>\n      <th>Open</th>\n      <th>High</th>\n      <th>Low</th>\n      <th>Close</th>\n      <th>Volume</th>\n    </tr>\n  </thead>\n  <tbody>\n    <tr>\n      <th>0</th>\n      <td>2020-03-13 08-PM</td>\n      <td>ETHUSD</td>\n      <td>129.94</td>\n      <td>131.82</td>\n      <td>126.87</td>\n      <td>128.71</td>\n      <td>1940673.93</td>\n    </tr>\n    <tr>\n      <th>1</th>\n      <td>2020-03-13 07-PM</td>\n      <td>ETHUSD</td>\n      <td>119.51</td>\n      <td>132.02</td>\n      <td>117.10</td>\n      <td>129.94</td>\n      <td>7579741.09</td>\n    </tr>\n    <tr>\n      <th>2</th>\n      <td>2020-03-13 06-PM</td>\n      <td>ETHUSD</td>\n      <td>124.47</td>\n      <td>124.85</td>\n      <td>115.50</td>\n      <td>119.51</td>\n      <td>4898735.81</td>\n    </tr>\n    <tr>\n      <th>3</th>\n      <td>2020-03-13 05-PM</td>\n      <td>ETHUSD</td>\n      <td>124.08</td>\n      <td>127.42</td>\n      <td>121.63</td>\n      <td>124.47</td>\n      <td>2753450.92</td>\n    </tr>\n    <tr>\n      <th>4</th>\n      <td>2020-03-13 04-PM</td>\n      <td>ETHUSD</td>\n      <td>124.85</td>\n      <td>129.51</td>\n      <td>120.17</td>\n      <td>124.08</td>\n      <td>4461424.71</td>\n    </tr>\n  </tbody>\n</table>\n</div>",
      "text/plain": "               Date  Symbol    Open    High     Low   Close      Volume\n0  2020-03-13 08-PM  ETHUSD  129.94  131.82  126.87  128.71  1940673.93\n1  2020-03-13 07-PM  ETHUSD  119.51  132.02  117.10  129.94  7579741.09\n2  2020-03-13 06-PM  ETHUSD  124.47  124.85  115.50  119.51  4898735.81\n3  2020-03-13 05-PM  ETHUSD  124.08  127.42  121.63  124.47  2753450.92\n4  2020-03-13 04-PM  ETHUSD  124.85  129.51  120.17  124.08  4461424.71"
     },
     "execution_count": 4,
     "metadata": {},
     "output_type": "execute_result"
    }
   ],
   "source": [
    "df.head()"
   ]
  },
  {
   "cell_type": "code",
   "execution_count": 5,
   "metadata": {},
   "outputs": [
    {
     "data": {
      "text/plain": "Date       object\nSymbol     object\nOpen      float64\nHigh      float64\nLow       float64\nClose     float64\nVolume    float64\ndtype: object"
     },
     "execution_count": 5,
     "metadata": {},
     "output_type": "execute_result"
    }
   ],
   "source": [
    "df.dtypes"
   ]
  },
  {
   "cell_type": "code",
   "execution_count": 6,
   "metadata": {},
   "outputs": [
    {
     "data": {
      "text/plain": "'2020-03-13 08-PM'"
     },
     "execution_count": 6,
     "metadata": {},
     "output_type": "execute_result"
    }
   ],
   "source": [
    "df.loc[0, 'Date']"
   ]
  },
  {
   "cell_type": "code",
   "execution_count": 7,
   "metadata": {},
   "outputs": [
    {
     "ename": "AttributeError",
     "evalue": "'str' object has no attribute 'day_name'",
     "output_type": "error",
     "traceback": [
      "\u001b[0;31m---------------------------------------------------------------------------\u001b[0m",
      "\u001b[0;31mAttributeError\u001b[0m                            Traceback (most recent call last)",
      "\u001b[0;32m<ipython-input-7-55e7fa569c9a>\u001b[0m in \u001b[0;36m<module>\u001b[0;34m\u001b[0m\n\u001b[0;32m----> 1\u001b[0;31m \u001b[0mdf\u001b[0m\u001b[0;34m.\u001b[0m\u001b[0mloc\u001b[0m\u001b[0;34m[\u001b[0m\u001b[0;36m0\u001b[0m\u001b[0;34m,\u001b[0m \u001b[0;34m'Date'\u001b[0m\u001b[0;34m]\u001b[0m\u001b[0;34m.\u001b[0m\u001b[0mday_name\u001b[0m\u001b[0;34m(\u001b[0m\u001b[0;34m)\u001b[0m\u001b[0;34m\u001b[0m\u001b[0;34m\u001b[0m\u001b[0m\n\u001b[0m",
      "\u001b[0;31mAttributeError\u001b[0m: 'str' object has no attribute 'day_name'"
     ]
    }
   ],
   "source": [
    "df.loc[0, 'Date'].day_name()"
   ]
  },
  {
   "cell_type": "code",
   "execution_count": null,
   "metadata": {},
   "outputs": [],
   "source": [
    "df['Date'] = pd.to_datetime(df['Date'], format = '%Y-%m-%d %I-%p')"
   ]
  },
  {
   "cell_type": "code",
   "execution_count": null,
   "metadata": {},
   "outputs": [
    {
     "data": {
      "text/html": "<div>\n<style scoped>\n    .dataframe tbody tr th:only-of-type {\n        vertical-align: middle;\n    }\n\n    .dataframe tbody tr th {\n        vertical-align: top;\n    }\n\n    .dataframe thead th {\n        text-align: right;\n    }\n</style>\n<table border=\"1\" class=\"dataframe\">\n  <thead>\n    <tr style=\"text-align: right;\">\n      <th></th>\n      <th>Date</th>\n      <th>Symbol</th>\n      <th>Open</th>\n      <th>High</th>\n      <th>Low</th>\n      <th>Close</th>\n      <th>Volume</th>\n    </tr>\n  </thead>\n  <tbody>\n    <tr>\n      <th>0</th>\n      <td>2020-03-13 20:00:00</td>\n      <td>ETHUSD</td>\n      <td>129.94</td>\n      <td>131.82</td>\n      <td>126.87</td>\n      <td>128.71</td>\n      <td>1940673.93</td>\n    </tr>\n    <tr>\n      <th>1</th>\n      <td>2020-03-13 19:00:00</td>\n      <td>ETHUSD</td>\n      <td>119.51</td>\n      <td>132.02</td>\n      <td>117.10</td>\n      <td>129.94</td>\n      <td>7579741.09</td>\n    </tr>\n    <tr>\n      <th>2</th>\n      <td>2020-03-13 18:00:00</td>\n      <td>ETHUSD</td>\n      <td>124.47</td>\n      <td>124.85</td>\n      <td>115.50</td>\n      <td>119.51</td>\n      <td>4898735.81</td>\n    </tr>\n  </tbody>\n</table>\n</div>",
      "text/plain": "                 Date  Symbol    Open    High     Low   Close      Volume\n0 2020-03-13 20:00:00  ETHUSD  129.94  131.82  126.87  128.71  1940673.93\n1 2020-03-13 19:00:00  ETHUSD  119.51  132.02  117.10  129.94  7579741.09\n2 2020-03-13 18:00:00  ETHUSD  124.47  124.85  115.50  119.51  4898735.81"
     },
     "execution_count": 12,
     "metadata": {},
     "output_type": "execute_result"
    }
   ],
   "source": [
    "df.head(3)"
   ]
  },
  {
   "cell_type": "code",
   "execution_count": null,
   "metadata": {},
   "outputs": [
    {
     "data": {
      "text/plain": "'Friday'"
     },
     "execution_count": 17,
     "metadata": {},
     "output_type": "execute_result"
    }
   ],
   "source": [
    "df.loc[0, 'Date'].day_name()"
   ]
  },
  {
   "cell_type": "code",
   "execution_count": null,
   "metadata": {},
   "outputs": [
    {
     "name": "stderr",
     "output_type": "stream",
     "text": [
      "<ipython-input-19-c515a87889a5>:1: FutureWarning: The pandas.datetime class is deprecated and will be removed from pandas in a future version. Import from datetime module instead.\n",
      "  df = pd.read_csv('/home/noor/Dropbox/Python Sessions/code_snippets-master/Python/Pandas/10-Datetime-Timeseries/ETH_1h.csv', parse_dates = ['Date'], date_parser = lambda x: pd.datetime.strptime(x, '%Y-%m-%d %I-%p'))\n"
     ]
    }
   ],
   "source": [
    "df = pd.read_csv('/home/noor/Dropbox/Python Sessions/code_snippets-master/Python/Pandas/10-Datetime-Timeseries/ETH_1h.csv', parse_dates = ['Date'], date_parser = lambda x: pd.datetime.strptime(x, '%Y-%m-%d %I-%p'))"
   ]
  },
  {
   "cell_type": "code",
   "execution_count": null,
   "metadata": {},
   "outputs": [
    {
     "data": {
      "text/html": "<div>\n<style scoped>\n    .dataframe tbody tr th:only-of-type {\n        vertical-align: middle;\n    }\n\n    .dataframe tbody tr th {\n        vertical-align: top;\n    }\n\n    .dataframe thead th {\n        text-align: right;\n    }\n</style>\n<table border=\"1\" class=\"dataframe\">\n  <thead>\n    <tr style=\"text-align: right;\">\n      <th></th>\n      <th>Date</th>\n      <th>Symbol</th>\n      <th>Open</th>\n      <th>High</th>\n      <th>Low</th>\n      <th>Close</th>\n      <th>Volume</th>\n    </tr>\n  </thead>\n  <tbody>\n    <tr>\n      <th>0</th>\n      <td>2020-03-13 20:00:00</td>\n      <td>ETHUSD</td>\n      <td>129.94</td>\n      <td>131.82</td>\n      <td>126.87</td>\n      <td>128.71</td>\n      <td>1940673.93</td>\n    </tr>\n    <tr>\n      <th>1</th>\n      <td>2020-03-13 19:00:00</td>\n      <td>ETHUSD</td>\n      <td>119.51</td>\n      <td>132.02</td>\n      <td>117.10</td>\n      <td>129.94</td>\n      <td>7579741.09</td>\n    </tr>\n    <tr>\n      <th>2</th>\n      <td>2020-03-13 18:00:00</td>\n      <td>ETHUSD</td>\n      <td>124.47</td>\n      <td>124.85</td>\n      <td>115.50</td>\n      <td>119.51</td>\n      <td>4898735.81</td>\n    </tr>\n  </tbody>\n</table>\n</div>",
      "text/plain": "                 Date  Symbol    Open    High     Low   Close      Volume\n0 2020-03-13 20:00:00  ETHUSD  129.94  131.82  126.87  128.71  1940673.93\n1 2020-03-13 19:00:00  ETHUSD  119.51  132.02  117.10  129.94  7579741.09\n2 2020-03-13 18:00:00  ETHUSD  124.47  124.85  115.50  119.51  4898735.81"
     },
     "execution_count": 20,
     "metadata": {},
     "output_type": "execute_result"
    }
   ],
   "source": [
    "df.head(3)"
   ]
  },
  {
   "cell_type": "code",
   "execution_count": null,
   "metadata": {},
   "outputs": [],
   "source": [
    "import datetime"
   ]
  },
  {
   "cell_type": "code",
   "execution_count": null,
   "metadata": {},
   "outputs": [
    {
     "data": {
      "text/plain": "0          Friday\n1          Friday\n2          Friday\n3          Friday\n4          Friday\n           ...   \n23669    Saturday\n23670    Saturday\n23671    Saturday\n23672    Saturday\n23673    Saturday\nName: Date, Length: 23674, dtype: object"
     },
     "execution_count": 24,
     "metadata": {},
     "output_type": "execute_result"
    }
   ],
   "source": [
    "df.Date.dt.day_name() \n",
    "#using the dt class is much like using the str class when using str methods"
   ]
  },
  {
   "cell_type": "code",
   "execution_count": null,
   "metadata": {},
   "outputs": [],
   "source": [
    "df['Dayofweek'] = df.Date.dt.day_name() "
   ]
  },
  {
   "cell_type": "code",
   "execution_count": null,
   "metadata": {},
   "outputs": [
    {
     "data": {
      "text/html": "<div>\n<style scoped>\n    .dataframe tbody tr th:only-of-type {\n        vertical-align: middle;\n    }\n\n    .dataframe tbody tr th {\n        vertical-align: top;\n    }\n\n    .dataframe thead th {\n        text-align: right;\n    }\n</style>\n<table border=\"1\" class=\"dataframe\">\n  <thead>\n    <tr style=\"text-align: right;\">\n      <th></th>\n      <th>Date</th>\n      <th>Symbol</th>\n      <th>Open</th>\n      <th>High</th>\n      <th>Low</th>\n      <th>Close</th>\n      <th>Volume</th>\n      <th>Dayofweek</th>\n    </tr>\n  </thead>\n  <tbody>\n    <tr>\n      <th>0</th>\n      <td>2020-03-13 20:00:00</td>\n      <td>ETHUSD</td>\n      <td>129.94</td>\n      <td>131.82</td>\n      <td>126.87</td>\n      <td>128.71</td>\n      <td>1940673.93</td>\n      <td>Friday</td>\n    </tr>\n    <tr>\n      <th>1</th>\n      <td>2020-03-13 19:00:00</td>\n      <td>ETHUSD</td>\n      <td>119.51</td>\n      <td>132.02</td>\n      <td>117.10</td>\n      <td>129.94</td>\n      <td>7579741.09</td>\n      <td>Friday</td>\n    </tr>\n    <tr>\n      <th>2</th>\n      <td>2020-03-13 18:00:00</td>\n      <td>ETHUSD</td>\n      <td>124.47</td>\n      <td>124.85</td>\n      <td>115.50</td>\n      <td>119.51</td>\n      <td>4898735.81</td>\n      <td>Friday</td>\n    </tr>\n  </tbody>\n</table>\n</div>",
      "text/plain": "                 Date  Symbol    Open    High     Low   Close      Volume  \\\n0 2020-03-13 20:00:00  ETHUSD  129.94  131.82  126.87  128.71  1940673.93   \n1 2020-03-13 19:00:00  ETHUSD  119.51  132.02  117.10  129.94  7579741.09   \n2 2020-03-13 18:00:00  ETHUSD  124.47  124.85  115.50  119.51  4898735.81   \n\n  Dayofweek  \n0    Friday  \n1    Friday  \n2    Friday  "
     },
     "execution_count": 27,
     "metadata": {},
     "output_type": "execute_result"
    }
   ],
   "source": [
    "df.head(3)"
   ]
  },
  {
   "cell_type": "code",
   "execution_count": null,
   "metadata": {},
   "outputs": [
    {
     "data": {
      "text/plain": "Timestamp('2017-07-01 11:00:00')"
     },
     "execution_count": 28,
     "metadata": {},
     "output_type": "execute_result"
    }
   ],
   "source": [
    "df['Date'].min()"
   ]
  },
  {
   "cell_type": "code",
   "execution_count": null,
   "metadata": {},
   "outputs": [
    {
     "data": {
      "text/plain": "Timestamp('2020-03-13 20:00:00')"
     },
     "execution_count": 29,
     "metadata": {},
     "output_type": "execute_result"
    }
   ],
   "source": [
    "df.Date.max()"
   ]
  },
  {
   "cell_type": "code",
   "execution_count": null,
   "metadata": {},
   "outputs": [
    {
     "data": {
      "text/plain": "Timestamp('2018-11-06 15:30:00')"
     },
     "execution_count": 30,
     "metadata": {},
     "output_type": "execute_result"
    }
   ],
   "source": [
    "df.Date.median()"
   ]
  },
  {
   "cell_type": "code",
   "execution_count": null,
   "metadata": {},
   "outputs": [
    {
     "data": {
      "text/plain": "Timedelta('986 days 09:00:00')"
     },
     "execution_count": 31,
     "metadata": {},
     "output_type": "execute_result"
    }
   ],
   "source": [
    "df.Date.max() - df.Date.min()"
   ]
  },
  {
   "cell_type": "code",
   "execution_count": null,
   "metadata": {},
   "outputs": [
    {
     "data": {
      "text/html": "<div>\n<style scoped>\n    .dataframe tbody tr th:only-of-type {\n        vertical-align: middle;\n    }\n\n    .dataframe tbody tr th {\n        vertical-align: top;\n    }\n\n    .dataframe thead th {\n        text-align: right;\n    }\n</style>\n<table border=\"1\" class=\"dataframe\">\n  <thead>\n    <tr style=\"text-align: right;\">\n      <th></th>\n      <th>Date</th>\n      <th>Symbol</th>\n      <th>Open</th>\n      <th>High</th>\n      <th>Low</th>\n      <th>Close</th>\n      <th>Volume</th>\n      <th>Dayofweek</th>\n    </tr>\n  </thead>\n  <tbody>\n    <tr>\n      <th>0</th>\n      <td>2020-03-13 20:00:00</td>\n      <td>ETHUSD</td>\n      <td>129.94</td>\n      <td>131.82</td>\n      <td>126.87</td>\n      <td>128.71</td>\n      <td>1940673.93</td>\n      <td>Friday</td>\n    </tr>\n    <tr>\n      <th>1</th>\n      <td>2020-03-13 19:00:00</td>\n      <td>ETHUSD</td>\n      <td>119.51</td>\n      <td>132.02</td>\n      <td>117.10</td>\n      <td>129.94</td>\n      <td>7579741.09</td>\n      <td>Friday</td>\n    </tr>\n    <tr>\n      <th>2</th>\n      <td>2020-03-13 18:00:00</td>\n      <td>ETHUSD</td>\n      <td>124.47</td>\n      <td>124.85</td>\n      <td>115.50</td>\n      <td>119.51</td>\n      <td>4898735.81</td>\n      <td>Friday</td>\n    </tr>\n  </tbody>\n</table>\n</div>",
      "text/plain": "                 Date  Symbol    Open    High     Low   Close      Volume  \\\n0 2020-03-13 20:00:00  ETHUSD  129.94  131.82  126.87  128.71  1940673.93   \n1 2020-03-13 19:00:00  ETHUSD  119.51  132.02  117.10  129.94  7579741.09   \n2 2020-03-13 18:00:00  ETHUSD  124.47  124.85  115.50  119.51  4898735.81   \n\n  Dayofweek  \n0    Friday  \n1    Friday  \n2    Friday  "
     },
     "execution_count": 33,
     "metadata": {},
     "output_type": "execute_result"
    }
   ],
   "source": [
    "df.loc[df.Date >= '2020'].head(3)"
   ]
  },
  {
   "cell_type": "code",
   "execution_count": null,
   "metadata": {},
   "outputs": [
    {
     "data": {
      "text/html": "<div>\n<style scoped>\n    .dataframe tbody tr th:only-of-type {\n        vertical-align: middle;\n    }\n\n    .dataframe tbody tr th {\n        vertical-align: top;\n    }\n\n    .dataframe thead th {\n        text-align: right;\n    }\n</style>\n<table border=\"1\" class=\"dataframe\">\n  <thead>\n    <tr style=\"text-align: right;\">\n      <th></th>\n      <th>Date</th>\n      <th>Symbol</th>\n      <th>Open</th>\n      <th>High</th>\n      <th>Low</th>\n      <th>Close</th>\n      <th>Volume</th>\n      <th>Dayofweek</th>\n    </tr>\n  </thead>\n  <tbody>\n    <tr>\n      <th>1749</th>\n      <td>2019-12-31 23:00:00</td>\n      <td>ETHUSD</td>\n      <td>128.33</td>\n      <td>128.69</td>\n      <td>128.14</td>\n      <td>128.54</td>\n      <td>440678.91</td>\n      <td>Tuesday</td>\n    </tr>\n    <tr>\n      <th>1750</th>\n      <td>2019-12-31 22:00:00</td>\n      <td>ETHUSD</td>\n      <td>128.38</td>\n      <td>128.69</td>\n      <td>127.95</td>\n      <td>128.33</td>\n      <td>554646.02</td>\n      <td>Tuesday</td>\n    </tr>\n    <tr>\n      <th>1751</th>\n      <td>2019-12-31 21:00:00</td>\n      <td>ETHUSD</td>\n      <td>127.86</td>\n      <td>128.43</td>\n      <td>127.72</td>\n      <td>128.38</td>\n      <td>350155.69</td>\n      <td>Tuesday</td>\n    </tr>\n  </tbody>\n</table>\n</div>",
      "text/plain": "                    Date  Symbol    Open    High     Low   Close     Volume  \\\n1749 2019-12-31 23:00:00  ETHUSD  128.33  128.69  128.14  128.54  440678.91   \n1750 2019-12-31 22:00:00  ETHUSD  128.38  128.69  127.95  128.33  554646.02   \n1751 2019-12-31 21:00:00  ETHUSD  127.86  128.43  127.72  128.38  350155.69   \n\n     Dayofweek  \n1749   Tuesday  \n1750   Tuesday  \n1751   Tuesday  "
     },
     "execution_count": 34,
     "metadata": {},
     "output_type": "execute_result"
    }
   ],
   "source": [
    "df.loc[(df.Date < '2020') & (df.Date >= '2019')].head(3)"
   ]
  },
  {
   "cell_type": "code",
   "execution_count": null,
   "metadata": {},
   "outputs": [
    {
     "data": {
      "text/html": "<div>\n<style scoped>\n    .dataframe tbody tr th:only-of-type {\n        vertical-align: middle;\n    }\n\n    .dataframe tbody tr th {\n        vertical-align: top;\n    }\n\n    .dataframe thead th {\n        text-align: right;\n    }\n</style>\n<table border=\"1\" class=\"dataframe\">\n  <thead>\n    <tr style=\"text-align: right;\">\n      <th></th>\n      <th>Date</th>\n      <th>Symbol</th>\n      <th>Open</th>\n      <th>High</th>\n      <th>Low</th>\n      <th>Close</th>\n      <th>Volume</th>\n      <th>Dayofweek</th>\n    </tr>\n  </thead>\n  <tbody>\n    <tr>\n      <th>0</th>\n      <td>2020-03-13 20:00:00</td>\n      <td>ETHUSD</td>\n      <td>129.94</td>\n      <td>131.82</td>\n      <td>126.87</td>\n      <td>128.71</td>\n      <td>1940673.93</td>\n      <td>Friday</td>\n    </tr>\n    <tr>\n      <th>1</th>\n      <td>2020-03-13 19:00:00</td>\n      <td>ETHUSD</td>\n      <td>119.51</td>\n      <td>132.02</td>\n      <td>117.10</td>\n      <td>129.94</td>\n      <td>7579741.09</td>\n      <td>Friday</td>\n    </tr>\n    <tr>\n      <th>2</th>\n      <td>2020-03-13 18:00:00</td>\n      <td>ETHUSD</td>\n      <td>124.47</td>\n      <td>124.85</td>\n      <td>115.50</td>\n      <td>119.51</td>\n      <td>4898735.81</td>\n      <td>Friday</td>\n    </tr>\n    <tr>\n      <th>3</th>\n      <td>2020-03-13 17:00:00</td>\n      <td>ETHUSD</td>\n      <td>124.08</td>\n      <td>127.42</td>\n      <td>121.63</td>\n      <td>124.47</td>\n      <td>2753450.92</td>\n      <td>Friday</td>\n    </tr>\n    <tr>\n      <th>4</th>\n      <td>2020-03-13 16:00:00</td>\n      <td>ETHUSD</td>\n      <td>124.85</td>\n      <td>129.51</td>\n      <td>120.17</td>\n      <td>124.08</td>\n      <td>4461424.71</td>\n      <td>Friday</td>\n    </tr>\n  </tbody>\n</table>\n</div>",
      "text/plain": "                 Date  Symbol    Open    High     Low   Close      Volume  \\\n0 2020-03-13 20:00:00  ETHUSD  129.94  131.82  126.87  128.71  1940673.93   \n1 2020-03-13 19:00:00  ETHUSD  119.51  132.02  117.10  129.94  7579741.09   \n2 2020-03-13 18:00:00  ETHUSD  124.47  124.85  115.50  119.51  4898735.81   \n3 2020-03-13 17:00:00  ETHUSD  124.08  127.42  121.63  124.47  2753450.92   \n4 2020-03-13 16:00:00  ETHUSD  124.85  129.51  120.17  124.08  4461424.71   \n\n  Dayofweek  \n0    Friday  \n1    Friday  \n2    Friday  \n3    Friday  \n4    Friday  "
     },
     "execution_count": 37,
     "metadata": {},
     "output_type": "execute_result"
    }
   ],
   "source": [
    "df.loc[(df.Date >= pd.to_datetime('2019-01-01')) & (df.Date >= pd.to_datetime('2019-06-01'))].head()"
   ]
  },
  {
   "cell_type": "code",
   "execution_count": null,
   "metadata": {},
   "outputs": [],
   "source": [
    "df.set_index('Date', inplace = True)"
   ]
  },
  {
   "cell_type": "code",
   "execution_count": null,
   "metadata": {},
   "outputs": [
    {
     "data": {
      "text/html": "<div>\n<style scoped>\n    .dataframe tbody tr th:only-of-type {\n        vertical-align: middle;\n    }\n\n    .dataframe tbody tr th {\n        vertical-align: top;\n    }\n\n    .dataframe thead th {\n        text-align: right;\n    }\n</style>\n<table border=\"1\" class=\"dataframe\">\n  <thead>\n    <tr style=\"text-align: right;\">\n      <th></th>\n      <th>Symbol</th>\n      <th>Open</th>\n      <th>High</th>\n      <th>Low</th>\n      <th>Close</th>\n      <th>Volume</th>\n      <th>Dayofweek</th>\n    </tr>\n    <tr>\n      <th>Date</th>\n      <th></th>\n      <th></th>\n      <th></th>\n      <th></th>\n      <th></th>\n      <th></th>\n      <th></th>\n    </tr>\n  </thead>\n  <tbody>\n    <tr>\n      <th>2020-03-13 20:00:00</th>\n      <td>ETHUSD</td>\n      <td>129.94</td>\n      <td>131.82</td>\n      <td>126.87</td>\n      <td>128.71</td>\n      <td>1940673.93</td>\n      <td>Friday</td>\n    </tr>\n    <tr>\n      <th>2020-03-13 19:00:00</th>\n      <td>ETHUSD</td>\n      <td>119.51</td>\n      <td>132.02</td>\n      <td>117.10</td>\n      <td>129.94</td>\n      <td>7579741.09</td>\n      <td>Friday</td>\n    </tr>\n    <tr>\n      <th>2020-03-13 18:00:00</th>\n      <td>ETHUSD</td>\n      <td>124.47</td>\n      <td>124.85</td>\n      <td>115.50</td>\n      <td>119.51</td>\n      <td>4898735.81</td>\n      <td>Friday</td>\n    </tr>\n  </tbody>\n</table>\n</div>",
      "text/plain": "                     Symbol    Open    High     Low   Close      Volume  \\\nDate                                                                      \n2020-03-13 20:00:00  ETHUSD  129.94  131.82  126.87  128.71  1940673.93   \n2020-03-13 19:00:00  ETHUSD  119.51  132.02  117.10  129.94  7579741.09   \n2020-03-13 18:00:00  ETHUSD  124.47  124.85  115.50  119.51  4898735.81   \n\n                    Dayofweek  \nDate                           \n2020-03-13 20:00:00    Friday  \n2020-03-13 19:00:00    Friday  \n2020-03-13 18:00:00    Friday  "
     },
     "execution_count": 39,
     "metadata": {},
     "output_type": "execute_result"
    }
   ],
   "source": [
    "df.head(3)"
   ]
  },
  {
   "cell_type": "code",
   "execution_count": null,
   "metadata": {},
   "outputs": [
    {
     "data": {
      "text/html": "<div>\n<style scoped>\n    .dataframe tbody tr th:only-of-type {\n        vertical-align: middle;\n    }\n\n    .dataframe tbody tr th {\n        vertical-align: top;\n    }\n\n    .dataframe thead th {\n        text-align: right;\n    }\n</style>\n<table border=\"1\" class=\"dataframe\">\n  <thead>\n    <tr style=\"text-align: right;\">\n      <th></th>\n      <th>Symbol</th>\n      <th>Open</th>\n      <th>High</th>\n      <th>Low</th>\n      <th>Close</th>\n      <th>Volume</th>\n      <th>Dayofweek</th>\n    </tr>\n    <tr>\n      <th>Date</th>\n      <th></th>\n      <th></th>\n      <th></th>\n      <th></th>\n      <th></th>\n      <th></th>\n      <th></th>\n    </tr>\n  </thead>\n  <tbody>\n    <tr>\n      <th>2019-12-31 23:00:00</th>\n      <td>ETHUSD</td>\n      <td>128.33</td>\n      <td>128.69</td>\n      <td>128.14</td>\n      <td>128.54</td>\n      <td>440678.91</td>\n      <td>Tuesday</td>\n    </tr>\n    <tr>\n      <th>2019-12-31 22:00:00</th>\n      <td>ETHUSD</td>\n      <td>128.38</td>\n      <td>128.69</td>\n      <td>127.95</td>\n      <td>128.33</td>\n      <td>554646.02</td>\n      <td>Tuesday</td>\n    </tr>\n    <tr>\n      <th>2019-12-31 21:00:00</th>\n      <td>ETHUSD</td>\n      <td>127.86</td>\n      <td>128.43</td>\n      <td>127.72</td>\n      <td>128.38</td>\n      <td>350155.69</td>\n      <td>Tuesday</td>\n    </tr>\n  </tbody>\n</table>\n</div>",
      "text/plain": "                     Symbol    Open    High     Low   Close     Volume  \\\nDate                                                                     \n2019-12-31 23:00:00  ETHUSD  128.33  128.69  128.14  128.54  440678.91   \n2019-12-31 22:00:00  ETHUSD  128.38  128.69  127.95  128.33  554646.02   \n2019-12-31 21:00:00  ETHUSD  127.86  128.43  127.72  128.38  350155.69   \n\n                    Dayofweek  \nDate                           \n2019-12-31 23:00:00   Tuesday  \n2019-12-31 22:00:00   Tuesday  \n2019-12-31 21:00:00   Tuesday  "
     },
     "execution_count": 41,
     "metadata": {},
     "output_type": "execute_result"
    }
   ],
   "source": [
    "df.loc['2019'].head(3)"
   ]
  },
  {
   "cell_type": "code",
   "execution_count": null,
   "metadata": {},
   "outputs": [
    {
     "name": "stderr",
     "output_type": "stream",
     "text": [
      "<ipython-input-42-96fbac88f688>:1: FutureWarning: Indexing a DataFrame with a datetimelike index using a single string to slice the rows, like `frame[string]`, is deprecated and will be removed in a future version. Use `frame.loc[string]` instead.\n",
      "  df['2019'].head(3)\n"
     ]
    },
    {
     "data": {
      "text/html": "<div>\n<style scoped>\n    .dataframe tbody tr th:only-of-type {\n        vertical-align: middle;\n    }\n\n    .dataframe tbody tr th {\n        vertical-align: top;\n    }\n\n    .dataframe thead th {\n        text-align: right;\n    }\n</style>\n<table border=\"1\" class=\"dataframe\">\n  <thead>\n    <tr style=\"text-align: right;\">\n      <th></th>\n      <th>Symbol</th>\n      <th>Open</th>\n      <th>High</th>\n      <th>Low</th>\n      <th>Close</th>\n      <th>Volume</th>\n      <th>Dayofweek</th>\n    </tr>\n    <tr>\n      <th>Date</th>\n      <th></th>\n      <th></th>\n      <th></th>\n      <th></th>\n      <th></th>\n      <th></th>\n      <th></th>\n    </tr>\n  </thead>\n  <tbody>\n    <tr>\n      <th>2019-12-31 23:00:00</th>\n      <td>ETHUSD</td>\n      <td>128.33</td>\n      <td>128.69</td>\n      <td>128.14</td>\n      <td>128.54</td>\n      <td>440678.91</td>\n      <td>Tuesday</td>\n    </tr>\n    <tr>\n      <th>2019-12-31 22:00:00</th>\n      <td>ETHUSD</td>\n      <td>128.38</td>\n      <td>128.69</td>\n      <td>127.95</td>\n      <td>128.33</td>\n      <td>554646.02</td>\n      <td>Tuesday</td>\n    </tr>\n    <tr>\n      <th>2019-12-31 21:00:00</th>\n      <td>ETHUSD</td>\n      <td>127.86</td>\n      <td>128.43</td>\n      <td>127.72</td>\n      <td>128.38</td>\n      <td>350155.69</td>\n      <td>Tuesday</td>\n    </tr>\n  </tbody>\n</table>\n</div>",
      "text/plain": "                     Symbol    Open    High     Low   Close     Volume  \\\nDate                                                                     \n2019-12-31 23:00:00  ETHUSD  128.33  128.69  128.14  128.54  440678.91   \n2019-12-31 22:00:00  ETHUSD  128.38  128.69  127.95  128.33  554646.02   \n2019-12-31 21:00:00  ETHUSD  127.86  128.43  127.72  128.38  350155.69   \n\n                    Dayofweek  \nDate                           \n2019-12-31 23:00:00   Tuesday  \n2019-12-31 22:00:00   Tuesday  \n2019-12-31 21:00:00   Tuesday  "
     },
     "execution_count": 42,
     "metadata": {},
     "output_type": "execute_result"
    }
   ],
   "source": [
    "df['2019'].head(3)"
   ]
  },
  {
   "cell_type": "code",
   "execution_count": null,
   "metadata": {},
   "outputs": [
    {
     "data": {
      "text/html": "<div>\n<style scoped>\n    .dataframe tbody tr th:only-of-type {\n        vertical-align: middle;\n    }\n\n    .dataframe tbody tr th {\n        vertical-align: top;\n    }\n\n    .dataframe thead th {\n        text-align: right;\n    }\n</style>\n<table border=\"1\" class=\"dataframe\">\n  <thead>\n    <tr style=\"text-align: right;\">\n      <th></th>\n      <th>Symbol</th>\n      <th>Open</th>\n      <th>High</th>\n      <th>Low</th>\n      <th>Close</th>\n      <th>Volume</th>\n      <th>Dayofweek</th>\n    </tr>\n    <tr>\n      <th>Date</th>\n      <th></th>\n      <th></th>\n      <th></th>\n      <th></th>\n      <th></th>\n      <th></th>\n      <th></th>\n    </tr>\n  </thead>\n  <tbody>\n    <tr>\n      <th>2020-02-29 23:00:00</th>\n      <td>ETHUSD</td>\n      <td>223.35</td>\n      <td>223.58</td>\n      <td>216.83</td>\n      <td>217.31</td>\n      <td>1927939.88</td>\n      <td>Saturday</td>\n    </tr>\n    <tr>\n      <th>2020-02-29 22:00:00</th>\n      <td>ETHUSD</td>\n      <td>223.48</td>\n      <td>223.59</td>\n      <td>222.14</td>\n      <td>223.35</td>\n      <td>535998.57</td>\n      <td>Saturday</td>\n    </tr>\n    <tr>\n      <th>2020-02-29 21:00:00</th>\n      <td>ETHUSD</td>\n      <td>224.63</td>\n      <td>225.14</td>\n      <td>222.74</td>\n      <td>223.48</td>\n      <td>561158.03</td>\n      <td>Saturday</td>\n    </tr>\n  </tbody>\n</table>\n</div>",
      "text/plain": "                     Symbol    Open    High     Low   Close      Volume  \\\nDate                                                                      \n2020-02-29 23:00:00  ETHUSD  223.35  223.58  216.83  217.31  1927939.88   \n2020-02-29 22:00:00  ETHUSD  223.48  223.59  222.14  223.35   535998.57   \n2020-02-29 21:00:00  ETHUSD  224.63  225.14  222.74  223.48   561158.03   \n\n                    Dayofweek  \nDate                           \n2020-02-29 23:00:00  Saturday  \n2020-02-29 22:00:00  Saturday  \n2020-02-29 21:00:00  Saturday  "
     },
     "execution_count": 45,
     "metadata": {},
     "output_type": "execute_result"
    }
   ],
   "source": [
    "df.loc['2020-02':'2020-02',:].head(3)\n",
    "# using indexing to filter dates... end value is inclusive in loc and i loc"
   ]
  },
  {
   "cell_type": "code",
   "execution_count": null,
   "metadata": {},
   "outputs": [
    {
     "data": {
      "text/plain": "195.1655902777778"
     },
     "execution_count": 47,
     "metadata": {},
     "output_type": "execute_result"
    }
   ],
   "source": [
    "df.loc['2020-01':'2020-02', 'Close'].mean()"
   ]
  },
  {
   "cell_type": "code",
   "execution_count": null,
   "metadata": {},
   "outputs": [],
   "source": [
    "df['Month'] = df.index.strftime('%m')\n",
    "df['date'] = df.index.strftime('%D')\n",
    "df['dd'] = df.index.strftime('%d')\n",
    "df['weekday'] = df.index.strftime('%w')\n",
    "df['monthname'] = df.index.strftime('%B')\n",
    "df['mnth'] = df.index.strftime('%b')"
   ]
  },
  {
   "cell_type": "code",
   "execution_count": null,
   "metadata": {},
   "outputs": [
    {
     "data": {
      "text/html": "<div>\n<style scoped>\n    .dataframe tbody tr th:only-of-type {\n        vertical-align: middle;\n    }\n\n    .dataframe tbody tr th {\n        vertical-align: top;\n    }\n\n    .dataframe thead th {\n        text-align: right;\n    }\n</style>\n<table border=\"1\" class=\"dataframe\">\n  <thead>\n    <tr style=\"text-align: right;\">\n      <th></th>\n      <th>Symbol</th>\n      <th>Open</th>\n      <th>High</th>\n      <th>Low</th>\n      <th>Close</th>\n      <th>Volume</th>\n      <th>Dayofweek</th>\n      <th>Month</th>\n      <th>date</th>\n      <th>dd</th>\n      <th>weekday</th>\n      <th>monthname</th>\n      <th>month</th>\n      <th>mnth</th>\n    </tr>\n    <tr>\n      <th>Date</th>\n      <th></th>\n      <th></th>\n      <th></th>\n      <th></th>\n      <th></th>\n      <th></th>\n      <th></th>\n      <th></th>\n      <th></th>\n      <th></th>\n      <th></th>\n      <th></th>\n      <th></th>\n      <th></th>\n    </tr>\n  </thead>\n  <tbody>\n    <tr>\n      <th>2020-03-13 20:00:00</th>\n      <td>ETHUSD</td>\n      <td>129.94</td>\n      <td>131.82</td>\n      <td>126.87</td>\n      <td>128.71</td>\n      <td>1940673.93</td>\n      <td>Friday</td>\n      <td>03</td>\n      <td>03/13/20</td>\n      <td>13</td>\n      <td>5</td>\n      <td>March</td>\n      <td>Mar</td>\n      <td>Mar</td>\n    </tr>\n    <tr>\n      <th>2020-03-13 19:00:00</th>\n      <td>ETHUSD</td>\n      <td>119.51</td>\n      <td>132.02</td>\n      <td>117.10</td>\n      <td>129.94</td>\n      <td>7579741.09</td>\n      <td>Friday</td>\n      <td>03</td>\n      <td>03/13/20</td>\n      <td>13</td>\n      <td>5</td>\n      <td>March</td>\n      <td>Mar</td>\n      <td>Mar</td>\n    </tr>\n    <tr>\n      <th>2020-03-13 18:00:00</th>\n      <td>ETHUSD</td>\n      <td>124.47</td>\n      <td>124.85</td>\n      <td>115.50</td>\n      <td>119.51</td>\n      <td>4898735.81</td>\n      <td>Friday</td>\n      <td>03</td>\n      <td>03/13/20</td>\n      <td>13</td>\n      <td>5</td>\n      <td>March</td>\n      <td>Mar</td>\n      <td>Mar</td>\n    </tr>\n  </tbody>\n</table>\n</div>",
      "text/plain": "                     Symbol    Open    High     Low   Close      Volume  \\\nDate                                                                      \n2020-03-13 20:00:00  ETHUSD  129.94  131.82  126.87  128.71  1940673.93   \n2020-03-13 19:00:00  ETHUSD  119.51  132.02  117.10  129.94  7579741.09   \n2020-03-13 18:00:00  ETHUSD  124.47  124.85  115.50  119.51  4898735.81   \n\n                    Dayofweek Month      date  dd weekday monthname month mnth  \nDate                                                                            \n2020-03-13 20:00:00    Friday    03  03/13/20  13       5     March   Mar  Mar  \n2020-03-13 19:00:00    Friday    03  03/13/20  13       5     March   Mar  Mar  \n2020-03-13 18:00:00    Friday    03  03/13/20  13       5     March   Mar  Mar  "
     },
     "execution_count": 88,
     "metadata": {},
     "output_type": "execute_result"
    }
   ],
   "source": [
    "df.head(3)"
   ]
  },
  {
   "cell_type": "code",
   "execution_count": null,
   "metadata": {},
   "outputs": [
    {
     "data": {
      "text/plain": "(Close, mean)  (Close, median)  (Volume, mean)  (Volume, median)\n230.543831     202.015          7.723966e+05    467418.345          0.083333\n232.357204     189.660          1.421273e+06    670651.145          0.083333\n236.831750     219.625          1.491084e+06    899550.905          0.083333\n273.748548     280.490          1.337391e+06    818612.005          0.083333\n291.515273     141.620          2.776320e+06    763048.775          0.083333\n310.580099     269.270          1.652707e+06    1020226.140         0.083333\n340.507514     273.665          1.769246e+06    1121540.770         0.083333\n352.678219     221.800          1.737622e+06    984964.160          0.083333\n396.785771     381.220          1.860001e+06    1224748.475         0.083333\n409.606907     237.945          2.838420e+06    1319579.830         0.083333\n447.119173     399.205          2.641050e+06    1914591.490         0.083333\n455.397236     160.645          3.885852e+06    753079.715          0.083333\ndtype: float64"
     },
     "execution_count": 99,
     "metadata": {},
     "output_type": "execute_result"
    }
   ],
   "source": [
    "df.groupby(by='mnth')[['Close', 'Volume']].agg(['mean', 'median']).value_counts(normalize=True)"
   ]
  },
  {
   "cell_type": "code",
   "execution_count": null,
   "metadata": {},
   "outputs": [
    {
     "data": {
      "text/html": "<div>\n<style scoped>\n    .dataframe tbody tr th:only-of-type {\n        vertical-align: middle;\n    }\n\n    .dataframe tbody tr th {\n        vertical-align: top;\n    }\n\n    .dataframe thead tr th {\n        text-align: left;\n    }\n\n    .dataframe thead tr:last-of-type th {\n        text-align: right;\n    }\n</style>\n<table border=\"1\" class=\"dataframe\">\n  <thead>\n    <tr>\n      <th></th>\n      <th colspan=\"2\" halign=\"left\">Close</th>\n      <th colspan=\"2\" halign=\"left\">Volume</th>\n    </tr>\n    <tr>\n      <th></th>\n      <th>mean</th>\n      <th>median</th>\n      <th>mean</th>\n      <th>median</th>\n    </tr>\n    <tr>\n      <th>mnth</th>\n      <th></th>\n      <th></th>\n      <th></th>\n      <th></th>\n    </tr>\n  </thead>\n  <tbody>\n    <tr>\n      <th>Jan</th>\n      <td>455.397236</td>\n      <td>160.645</td>\n      <td>3.885852e+06</td>\n      <td>753079.715</td>\n    </tr>\n    <tr>\n      <th>May</th>\n      <td>447.119173</td>\n      <td>399.205</td>\n      <td>2.641050e+06</td>\n      <td>1914591.490</td>\n    </tr>\n    <tr>\n      <th>Feb</th>\n      <td>409.606907</td>\n      <td>237.945</td>\n      <td>2.838420e+06</td>\n      <td>1319579.830</td>\n    </tr>\n    <tr>\n      <th>Jun</th>\n      <td>396.785771</td>\n      <td>381.220</td>\n      <td>1.860001e+06</td>\n      <td>1224748.475</td>\n    </tr>\n    <tr>\n      <th>Mar</th>\n      <td>352.678219</td>\n      <td>221.800</td>\n      <td>1.737622e+06</td>\n      <td>984964.160</td>\n    </tr>\n    <tr>\n      <th>Apr</th>\n      <td>340.507514</td>\n      <td>273.665</td>\n      <td>1.769246e+06</td>\n      <td>1121540.770</td>\n    </tr>\n    <tr>\n      <th>Jul</th>\n      <td>310.580099</td>\n      <td>269.270</td>\n      <td>1.652707e+06</td>\n      <td>1020226.140</td>\n    </tr>\n    <tr>\n      <th>Dec</th>\n      <td>291.515273</td>\n      <td>141.620</td>\n      <td>2.776320e+06</td>\n      <td>763048.775</td>\n    </tr>\n    <tr>\n      <th>Aug</th>\n      <td>273.748548</td>\n      <td>280.490</td>\n      <td>1.337391e+06</td>\n      <td>818612.005</td>\n    </tr>\n    <tr>\n      <th>Sep</th>\n      <td>236.831750</td>\n      <td>219.625</td>\n      <td>1.491084e+06</td>\n      <td>899550.905</td>\n    </tr>\n    <tr>\n      <th>Nov</th>\n      <td>232.357204</td>\n      <td>189.660</td>\n      <td>1.421273e+06</td>\n      <td>670651.145</td>\n    </tr>\n    <tr>\n      <th>Oct</th>\n      <td>230.543831</td>\n      <td>202.015</td>\n      <td>7.723966e+05</td>\n      <td>467418.345</td>\n    </tr>\n  </tbody>\n</table>\n</div>",
      "text/plain": "           Close                 Volume             \n            mean   median          mean       median\nmnth                                                \nJan   455.397236  160.645  3.885852e+06   753079.715\nMay   447.119173  399.205  2.641050e+06  1914591.490\nFeb   409.606907  237.945  2.838420e+06  1319579.830\nJun   396.785771  381.220  1.860001e+06  1224748.475\nMar   352.678219  221.800  1.737622e+06   984964.160\nApr   340.507514  273.665  1.769246e+06  1121540.770\nJul   310.580099  269.270  1.652707e+06  1020226.140\nDec   291.515273  141.620  2.776320e+06   763048.775\nAug   273.748548  280.490  1.337391e+06   818612.005\nSep   236.831750  219.625  1.491084e+06   899550.905\nNov   232.357204  189.660  1.421273e+06   670651.145\nOct   230.543831  202.015  7.723966e+05   467418.345"
     },
     "execution_count": 102,
     "metadata": {},
     "output_type": "execute_result"
    }
   ],
   "source": [
    "df.groupby(by='mnth')[['Close', 'Volume']].agg(['mean', 'median']).sort_values(by = [('Close', 'mean'), ('Volume', 'median')], ascending = [False, True])"
   ]
  },
  {
   "cell_type": "code",
   "execution_count": null,
   "metadata": {},
   "outputs": [
    {
     "name": "stderr",
     "output_type": "stream",
     "text": [
      "<ipython-input-106-093ecea5982e>:1: FutureWarning: Indexing a DataFrame with a datetimelike index using a single string to slice the rows, like `frame[string]`, is deprecated and will be removed in a future version. Use `frame.loc[string]` instead.\n",
      "  df['2020-01-01']['High'].head(3)\n"
     ]
    },
    {
     "data": {
      "text/plain": "Date\n2020-01-01 23:00:00    130.27\n2020-01-01 22:00:00    131.41\n2020-01-01 21:00:00    131.99\nName: High, dtype: float64"
     },
     "execution_count": 106,
     "metadata": {},
     "output_type": "execute_result"
    }
   ],
   "source": [
    "df['2020-01-01']['High'].head(3)"
   ]
  },
  {
   "cell_type": "code",
   "execution_count": null,
   "metadata": {},
   "outputs": [
    {
     "name": "stderr",
     "output_type": "stream",
     "text": [
      "<ipython-input-107-9aa11c9125b5>:1: FutureWarning: Indexing a DataFrame with a datetimelike index using a single string to slice the rows, like `frame[string]`, is deprecated and will be removed in a future version. Use `frame.loc[string]` instead.\n",
      "  df['2020-01-01']['High'].max()\n"
     ]
    },
    {
     "data": {
      "text/plain": "132.68"
     },
     "execution_count": 107,
     "metadata": {},
     "output_type": "execute_result"
    }
   ],
   "source": [
    "df['2020-01-01']['High'].max()"
   ]
  },
  {
   "cell_type": "code",
   "execution_count": null,
   "metadata": {},
   "outputs": [
    {
     "data": {
      "text/plain": "Date\n2017-07-01    279.99\n2017-07-02    293.73\n2017-07-03    285.00\n2017-07-04    282.83\n2017-07-05    274.97\n               ...  \n2020-03-09    208.65\n2020-03-10    206.28\n2020-03-11    202.98\n2020-03-12    195.64\n2020-03-13    148.00\nFreq: D, Name: High, Length: 987, dtype: float64"
     },
     "execution_count": 108,
     "metadata": {},
     "output_type": "execute_result"
    }
   ],
   "source": [
    "df.High.resample('D').max()\n",
    "# resample will help create period out of a datetime column"
   ]
  },
  {
   "cell_type": "code",
   "execution_count": null,
   "metadata": {},
   "outputs": [
    {
     "data": {
      "text/plain": "132.68"
     },
     "execution_count": 109,
     "metadata": {},
     "output_type": "execute_result"
    }
   ],
   "source": [
    "highs = df.High.resample('D').max()\n",
    "highs['2020-01-01']"
   ]
  },
  {
   "cell_type": "code",
   "execution_count": null,
   "metadata": {},
   "outputs": [
    {
     "data": {
      "text/html": "<div>\n<style scoped>\n    .dataframe tbody tr th:only-of-type {\n        vertical-align: middle;\n    }\n\n    .dataframe tbody tr th {\n        vertical-align: top;\n    }\n\n    .dataframe thead th {\n        text-align: right;\n    }\n</style>\n<table border=\"1\" class=\"dataframe\">\n  <thead>\n    <tr style=\"text-align: right;\">\n      <th></th>\n      <th>Open</th>\n      <th>High</th>\n      <th>Low</th>\n      <th>Close</th>\n      <th>Volume</th>\n    </tr>\n    <tr>\n      <th>Date</th>\n      <th></th>\n      <th></th>\n      <th></th>\n      <th></th>\n      <th></th>\n    </tr>\n  </thead>\n  <tbody>\n    <tr>\n      <th>2017-07-02</th>\n      <td>268.066486</td>\n      <td>271.124595</td>\n      <td>264.819730</td>\n      <td>268.202162</td>\n      <td>2.185035e+06</td>\n    </tr>\n    <tr>\n      <th>2017-07-09</th>\n      <td>261.337024</td>\n      <td>262.872917</td>\n      <td>259.186190</td>\n      <td>261.062083</td>\n      <td>1.337349e+06</td>\n    </tr>\n    <tr>\n      <th>2017-07-16</th>\n      <td>196.193214</td>\n      <td>199.204405</td>\n      <td>192.722321</td>\n      <td>195.698393</td>\n      <td>2.986756e+06</td>\n    </tr>\n  </tbody>\n</table>\n</div>",
      "text/plain": "                  Open        High         Low       Close        Volume\nDate                                                                    \n2017-07-02  268.066486  271.124595  264.819730  268.202162  2.185035e+06\n2017-07-09  261.337024  262.872917  259.186190  261.062083  1.337349e+06\n2017-07-16  196.193214  199.204405  192.722321  195.698393  2.986756e+06"
     },
     "execution_count": 115,
     "metadata": {},
     "output_type": "execute_result"
    }
   ],
   "source": [
    "df.resample('W').mean().head(3)"
   ]
  },
  {
   "cell_type": "code",
   "execution_count": null,
   "metadata": {},
   "outputs": [
    {
     "ename": "NameError",
     "evalue": "name 'df' is not defined",
     "output_type": "error",
     "traceback": [
      "\u001b[0;31m---------------------------------------------------------------------------\u001b[0m",
      "\u001b[0;31mNameError\u001b[0m                                 Traceback (most recent call last)",
      "\u001b[0;32m<ipython-input-1-b77b768446e5>\u001b[0m in \u001b[0;36m<module>\u001b[0;34m\u001b[0m\n\u001b[0;32m----> 1\u001b[0;31m \u001b[0mdf\u001b[0m\u001b[0;34m.\u001b[0m\u001b[0mresample\u001b[0m\u001b[0;34m(\u001b[0m\u001b[0;34m'W'\u001b[0m\u001b[0;34m)\u001b[0m\u001b[0;34m.\u001b[0m\u001b[0magg\u001b[0m\u001b[0;34m(\u001b[0m\u001b[0;34m{\u001b[0m\u001b[0;34m'Close'\u001b[0m\u001b[0;34m:\u001b[0m \u001b[0;34m'mean'\u001b[0m\u001b[0;34m,\u001b[0m \u001b[0;34m'High'\u001b[0m\u001b[0;34m:\u001b[0m \u001b[0;34m'median'\u001b[0m\u001b[0;34m,\u001b[0m \u001b[0;34m'Volume'\u001b[0m\u001b[0;34m:\u001b[0m \u001b[0;34m'sum'\u001b[0m\u001b[0;34m,\u001b[0m \u001b[0;34m'Low'\u001b[0m\u001b[0;34m:\u001b[0m \u001b[0;34m'min'\u001b[0m\u001b[0;34m}\u001b[0m\u001b[0;34m)\u001b[0m\u001b[0;34m\u001b[0m\u001b[0;34m\u001b[0m\u001b[0m\n\u001b[0m\u001b[1;32m      2\u001b[0m \u001b[0;31m#using agg on df can take dictionary as arguement with col name and the aggregate function as key value pairs\u001b[0m\u001b[0;34m\u001b[0m\u001b[0;34m\u001b[0m\u001b[0;34m\u001b[0m\u001b[0m\n",
      "\u001b[0;31mNameError\u001b[0m: name 'df' is not defined"
     ]
    }
   ],
   "source": [
    "df.resample('W').agg({'Close': 'mean', 'High': 'median', 'Volume': 'sum', 'Low': 'min'})\n",
    "#using agg on df can take dictionary as arguement with col name and the aggregate function as key value pairs"
   ]
  },
  {
   "cell_type": "code",
   "execution_count": null,
   "metadata": {},
   "outputs": [],
   "source": []
  }
 ],
 "metadata": {
  "kernelspec": {
   "display_name": "Python 3.9.5 64-bit ('py39': conda)",
   "name": "python395jvsc74a57bd0ce669b1ba2047c160fc1d3d4af30333e47dfbab10acf13e5d92699a559b99d3c"
  },
  "language_info": {
   "codemirror_mode": {
    "name": "ipython",
    "version": 3
   },
   "file_extension": ".py",
   "mimetype": "text/x-python",
   "name": "python",
   "nbconvert_exporter": "python",
   "pygments_lexer": "ipython3",
   "version": "3.9.5"
  },
  "metadata": {
   "interpreter": {
    "hash": "ce669b1ba2047c160fc1d3d4af30333e47dfbab10acf13e5d92699a559b99d3c"
   }
  },
  "orig_nbformat": 2
 },
 "nbformat": 4,
 "nbformat_minor": 2
}